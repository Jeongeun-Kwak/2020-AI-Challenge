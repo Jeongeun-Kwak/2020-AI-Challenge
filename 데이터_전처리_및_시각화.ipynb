{
  "nbformat": 4,
  "nbformat_minor": 0,
  "metadata": {
    "colab": {
      "name": "데이터 전처리 및 시각화",
      "provenance": [],
      "collapsed_sections": [],
      "toc_visible": true,
      "include_colab_link": true
    },
    "kernelspec": {
      "display_name": "Python 3",
      "name": "python3"
    }
  },
  "cells": [
    {
      "cell_type": "markdown",
      "metadata": {
        "id": "view-in-github",
        "colab_type": "text"
      },
      "source": [
        "<a href=\"https://colab.research.google.com/github/Jeongeun-Kwak/2020-AI-Challenge/blob/master/%EB%8D%B0%EC%9D%B4%ED%84%B0_%EC%A0%84%EC%B2%98%EB%A6%AC_%EB%B0%8F_%EC%8B%9C%EA%B0%81%ED%99%94.ipynb\" target=\"_parent\"><img src=\"https://colab.research.google.com/assets/colab-badge.svg\" alt=\"Open In Colab\"/></a>"
      ]
    },
    {
      "cell_type": "markdown",
      "metadata": {
        "id": "kqYuWNHIbLlf"
      },
      "source": [
        "# 데이터 분석 기본 세팅"
      ]
    },
    {
      "cell_type": "code",
      "metadata": {
        "id": "Pn24raksbGas"
      },
      "source": [
        "import xlrd\n",
        "import pandas as pd\n",
        "import numpy as np \n",
        "import matplotlib.pyplot as plt\n",
        "# matplotlib 패키지 한글 깨짐 처리 시작\n",
        "plt.rc('font', family = 'Malgun Gothic') # 윈도우, 구글콜랩\n",
        "plt.rcParams['axes.unicode_minus'] = False # 한글 폰트 사용 시 마이너스 폰트 깨짐 해결\n",
        "import seaborn as sns\n",
        "sns.set(style='white') \n",
        "\n",
        "# google colab에는 한글 폰트가 기본으로 깔려있지 않기 떄문에 한글 폰트를 추가로 설치해주어야 함.(최초 1회만)\n",
        "!apt-get update -qq\n",
        "!apt-get install fonts-nanum* -qq"
      ],
      "execution_count": null,
      "outputs": []
    },
    {
      "cell_type": "markdown",
      "metadata": {
        "id": "5PJdnYhOGYto"
      },
      "source": [
        "#지역별 전처리\n",
        "\n"
      ]
    },
    {
      "cell_type": "code",
      "metadata": {
        "colab": {
          "base_uri": "https://localhost:8080/"
        },
        "id": "zuJzWF2vWyzc",
        "outputId": "6f834a47-3c15-444c-eafe-2c424f25d979"
      },
      "source": [
        "df = pd.read_excel(r'/content/전기차 충전소 설치현황_20201201.xls')\n",
        "print(df)"
      ],
      "execution_count": null,
      "outputs": [
        {
          "output_type": "stream",
          "text": [
            "          전기차 충전소 설치현황 ( 20201201 현재 )  ...                                         Unnamed: 5\n",
            "0     시도 : 전체(시도), 시군구 : 전체(시 / 군 / 구)  ...                                                NaN\n",
            "1                                   시구  ...                                               지원차종\n",
            "2                                   전체  ...  SM3 Z.E,레이EV,소울EV,닛산리프,아이오닉EV,BMW i3,스파크EV,볼트E...\n",
            "3                                   전체  ...  SM3 Z.E,레이EV,소울EV,닛산리프,아이오닉EV,BMW i3,스파크EV,볼트E...\n",
            "4                                   전체  ...  SM3 Z.E,레이EV,소울EV,닛산리프,아이오닉EV,BMW i3,스파크EV,볼트E...\n",
            "...                                ...  ...                                                ...\n",
            "3570                                전체  ...  SM3 Z.E,레이EV,소울EV,닛산리프,아이오닉EV,BMW i3,스파크EV,볼트E...\n",
            "3571                                전체  ...  SM3 Z.E,레이EV,소울EV,닛산리프,아이오닉EV,BMW i3,스파크EV,볼트E...\n",
            "3572                                전체  ...  SM3 Z.E,레이EV,소울EV,닛산리프,아이오닉EV,BMW i3,스파크EV,볼트E...\n",
            "3573                                전체  ...  SM3 Z.E,레이EV,소울EV,닛산리프,아이오닉EV,BMW i3,스파크EV,볼트E...\n",
            "3574                                전체  ...  SM3 Z.E,레이EV,소울EV,닛산리프,아이오닉EV,BMW i3,스파크EV,볼트E...\n",
            "\n",
            "[3575 rows x 6 columns]\n"
          ],
          "name": "stdout"
        }
      ]
    },
    {
      "cell_type": "code",
      "metadata": {
        "colab": {
          "base_uri": "https://localhost:8080/",
          "height": 493
        },
        "id": "-xaSlP2ir0Yy",
        "outputId": "044efe5c-1dfa-4a43-8ae1-6b80e7a5d7cf"
      },
      "source": [
        "df.head()"
      ],
      "execution_count": null,
      "outputs": [
        {
          "output_type": "execute_result",
          "data": {
            "text/html": [
              "<div>\n",
              "<style scoped>\n",
              "    .dataframe tbody tr th:only-of-type {\n",
              "        vertical-align: middle;\n",
              "    }\n",
              "\n",
              "    .dataframe tbody tr th {\n",
              "        vertical-align: top;\n",
              "    }\n",
              "\n",
              "    .dataframe thead th {\n",
              "        text-align: right;\n",
              "    }\n",
              "</style>\n",
              "<table border=\"1\" class=\"dataframe\">\n",
              "  <thead>\n",
              "    <tr style=\"text-align: right;\">\n",
              "      <th></th>\n",
              "      <th>전기차 충전소 설치현황 ( 20201201 현재 )</th>\n",
              "      <th>Unnamed: 1</th>\n",
              "      <th>Unnamed: 2</th>\n",
              "      <th>Unnamed: 3</th>\n",
              "      <th>Unnamed: 4</th>\n",
              "      <th>Unnamed: 5</th>\n",
              "    </tr>\n",
              "  </thead>\n",
              "  <tbody>\n",
              "    <tr>\n",
              "      <th>0</th>\n",
              "      <td>시도 : 전체(시도), 시군구 : 전체(시 / 군 / 구)</td>\n",
              "      <td>NaN</td>\n",
              "      <td>NaN</td>\n",
              "      <td>NaN</td>\n",
              "      <td>NaN</td>\n",
              "      <td>NaN</td>\n",
              "    </tr>\n",
              "    <tr>\n",
              "      <th>1</th>\n",
              "      <td>시구</td>\n",
              "      <td>설치장소</td>\n",
              "      <td>주소</td>\n",
              "      <td>급속충전기(대)</td>\n",
              "      <td>완속충전기(대)</td>\n",
              "      <td>지원차종</td>\n",
              "    </tr>\n",
              "    <tr>\n",
              "      <th>2</th>\n",
              "      <td>전체</td>\n",
              "      <td>가평지사</td>\n",
              "      <td>경기도 가평군 가평읍 가화로 169-11</td>\n",
              "      <td>1</td>\n",
              "      <td>1</td>\n",
              "      <td>SM3 Z.E,레이EV,소울EV,닛산리프,아이오닉EV,BMW i3,스파크EV,볼트E...</td>\n",
              "    </tr>\n",
              "    <tr>\n",
              "      <th>3</th>\n",
              "      <td>전체</td>\n",
              "      <td>상면사무소</td>\n",
              "      <td>경기도 가평군 상면 연하리 171-1</td>\n",
              "      <td>1</td>\n",
              "      <td>0</td>\n",
              "      <td>SM3 Z.E,레이EV,소울EV,닛산리프,아이오닉EV,BMW i3,스파크EV,볼트E...</td>\n",
              "    </tr>\n",
              "    <tr>\n",
              "      <th>4</th>\n",
              "      <td>전체</td>\n",
              "      <td>설악면사무소</td>\n",
              "      <td>경기도 가평군 설악면 신천리 156-1</td>\n",
              "      <td>1</td>\n",
              "      <td>0</td>\n",
              "      <td>SM3 Z.E,레이EV,소울EV,닛산리프,아이오닉EV,BMW i3,스파크EV,볼트E...</td>\n",
              "    </tr>\n",
              "  </tbody>\n",
              "</table>\n",
              "</div>"
            ],
            "text/plain": [
              "       전기차 충전소 설치현황 ( 20201201 현재 )  ...                                         Unnamed: 5\n",
              "0  시도 : 전체(시도), 시군구 : 전체(시 / 군 / 구)  ...                                                NaN\n",
              "1                                시구  ...                                               지원차종\n",
              "2                                전체  ...  SM3 Z.E,레이EV,소울EV,닛산리프,아이오닉EV,BMW i3,스파크EV,볼트E...\n",
              "3                                전체  ...  SM3 Z.E,레이EV,소울EV,닛산리프,아이오닉EV,BMW i3,스파크EV,볼트E...\n",
              "4                                전체  ...  SM3 Z.E,레이EV,소울EV,닛산리프,아이오닉EV,BMW i3,스파크EV,볼트E...\n",
              "\n",
              "[5 rows x 6 columns]"
            ]
          },
          "metadata": {
            "tags": []
          },
          "execution_count": 3
        }
      ]
    },
    {
      "cell_type": "code",
      "metadata": {
        "id": "cTzytWwaXAHh",
        "colab": {
          "base_uri": "https://localhost:8080/",
          "height": 861
        },
        "outputId": "03b5681a-853f-4bc1-e548-489c4fb13b53"
      },
      "source": [
        "# 원 소스의 열제목이 이상함으로 처리가 편하게 수정. \n",
        "df.rename({'전기차 충전소 설치현황 ( 20201201 현재 )':'시구'}, axis = 1, inplace = True)\n",
        "df.rename({'Unnamed: 1':'설치장소'}, axis = 1, inplace = True)\n",
        "df.rename({'Unnamed: 2':'주소'}, axis = 1, inplace = True)\n",
        "df.rename({'Unnamed: 3':'급속충전기(대)'}, axis = 1, inplace = True)\n",
        "df.rename({'Unnamed: 4':'완속충전기(대)'}, axis = 1, inplace = True)\n",
        "df.rename({'Unnamed: 5':'지원차종'}, axis = 1, inplace = True)\n",
        "df"
      ],
      "execution_count": null,
      "outputs": [
        {
          "output_type": "execute_result",
          "data": {
            "text/html": [
              "<div>\n",
              "<style scoped>\n",
              "    .dataframe tbody tr th:only-of-type {\n",
              "        vertical-align: middle;\n",
              "    }\n",
              "\n",
              "    .dataframe tbody tr th {\n",
              "        vertical-align: top;\n",
              "    }\n",
              "\n",
              "    .dataframe thead th {\n",
              "        text-align: right;\n",
              "    }\n",
              "</style>\n",
              "<table border=\"1\" class=\"dataframe\">\n",
              "  <thead>\n",
              "    <tr style=\"text-align: right;\">\n",
              "      <th></th>\n",
              "      <th>시구</th>\n",
              "      <th>설치장소</th>\n",
              "      <th>주소</th>\n",
              "      <th>급속충전기(대)</th>\n",
              "      <th>완속충전기(대)</th>\n",
              "      <th>지원차종</th>\n",
              "    </tr>\n",
              "  </thead>\n",
              "  <tbody>\n",
              "    <tr>\n",
              "      <th>0</th>\n",
              "      <td>시도 : 전체(시도), 시군구 : 전체(시 / 군 / 구)</td>\n",
              "      <td>NaN</td>\n",
              "      <td>NaN</td>\n",
              "      <td>NaN</td>\n",
              "      <td>NaN</td>\n",
              "      <td>NaN</td>\n",
              "    </tr>\n",
              "    <tr>\n",
              "      <th>1</th>\n",
              "      <td>시구</td>\n",
              "      <td>설치장소</td>\n",
              "      <td>주소</td>\n",
              "      <td>급속충전기(대)</td>\n",
              "      <td>완속충전기(대)</td>\n",
              "      <td>지원차종</td>\n",
              "    </tr>\n",
              "    <tr>\n",
              "      <th>2</th>\n",
              "      <td>전체</td>\n",
              "      <td>가평지사</td>\n",
              "      <td>경기도 가평군 가평읍 가화로 169-11</td>\n",
              "      <td>1</td>\n",
              "      <td>1</td>\n",
              "      <td>SM3 Z.E,레이EV,소울EV,닛산리프,아이오닉EV,BMW i3,스파크EV,볼트E...</td>\n",
              "    </tr>\n",
              "    <tr>\n",
              "      <th>3</th>\n",
              "      <td>전체</td>\n",
              "      <td>상면사무소</td>\n",
              "      <td>경기도 가평군 상면 연하리 171-1</td>\n",
              "      <td>1</td>\n",
              "      <td>0</td>\n",
              "      <td>SM3 Z.E,레이EV,소울EV,닛산리프,아이오닉EV,BMW i3,스파크EV,볼트E...</td>\n",
              "    </tr>\n",
              "    <tr>\n",
              "      <th>4</th>\n",
              "      <td>전체</td>\n",
              "      <td>설악면사무소</td>\n",
              "      <td>경기도 가평군 설악면 신천리 156-1</td>\n",
              "      <td>1</td>\n",
              "      <td>0</td>\n",
              "      <td>SM3 Z.E,레이EV,소울EV,닛산리프,아이오닉EV,BMW i3,스파크EV,볼트E...</td>\n",
              "    </tr>\n",
              "    <tr>\n",
              "      <th>...</th>\n",
              "      <td>...</td>\n",
              "      <td>...</td>\n",
              "      <td>...</td>\n",
              "      <td>...</td>\n",
              "      <td>...</td>\n",
              "      <td>...</td>\n",
              "    </tr>\n",
              "    <tr>\n",
              "      <th>3570</th>\n",
              "      <td>전체</td>\n",
              "      <td>첫마을6단지</td>\n",
              "      <td>세종특별자치시 한솔동 974</td>\n",
              "      <td>1</td>\n",
              "      <td>0</td>\n",
              "      <td>SM3 Z.E,레이EV,소울EV,닛산리프,아이오닉EV,BMW i3,스파크EV,볼트E...</td>\n",
              "    </tr>\n",
              "    <tr>\n",
              "      <th>3571</th>\n",
              "      <td>전체</td>\n",
              "      <td>첫마을7단지</td>\n",
              "      <td>세종특별자치시 한솔동 978</td>\n",
              "      <td>1</td>\n",
              "      <td>4</td>\n",
              "      <td>SM3 Z.E,레이EV,소울EV,닛산리프,아이오닉EV,BMW i3,스파크EV,볼트E...</td>\n",
              "    </tr>\n",
              "    <tr>\n",
              "      <th>3572</th>\n",
              "      <td>전체</td>\n",
              "      <td>한뜰마을1단지</td>\n",
              "      <td>세종특별자치시 어진동 554</td>\n",
              "      <td>1</td>\n",
              "      <td>3</td>\n",
              "      <td>SM3 Z.E,레이EV,소울EV,닛산리프,아이오닉EV,BMW i3,스파크EV,볼트E...</td>\n",
              "    </tr>\n",
              "    <tr>\n",
              "      <th>3573</th>\n",
              "      <td>전체</td>\n",
              "      <td>호려울마을8</td>\n",
              "      <td>세종특별자치시 보람동 보람동로 14</td>\n",
              "      <td>1</td>\n",
              "      <td>0</td>\n",
              "      <td>SM3 Z.E,레이EV,소울EV,닛산리프,아이오닉EV,BMW i3,스파크EV,볼트E...</td>\n",
              "    </tr>\n",
              "    <tr>\n",
              "      <th>3574</th>\n",
              "      <td>전체</td>\n",
              "      <td>홈플러스 세종점</td>\n",
              "      <td>세종특별자치시 절재로 154 (어진동, 홈플러스 세종점)</td>\n",
              "      <td>1</td>\n",
              "      <td>0</td>\n",
              "      <td>SM3 Z.E,레이EV,소울EV,닛산리프,아이오닉EV,BMW i3,스파크EV,볼트E...</td>\n",
              "    </tr>\n",
              "  </tbody>\n",
              "</table>\n",
              "<p>3575 rows × 6 columns</p>\n",
              "</div>"
            ],
            "text/plain": [
              "                                    시구  ...                                               지원차종\n",
              "0     시도 : 전체(시도), 시군구 : 전체(시 / 군 / 구)  ...                                                NaN\n",
              "1                                   시구  ...                                               지원차종\n",
              "2                                   전체  ...  SM3 Z.E,레이EV,소울EV,닛산리프,아이오닉EV,BMW i3,스파크EV,볼트E...\n",
              "3                                   전체  ...  SM3 Z.E,레이EV,소울EV,닛산리프,아이오닉EV,BMW i3,스파크EV,볼트E...\n",
              "4                                   전체  ...  SM3 Z.E,레이EV,소울EV,닛산리프,아이오닉EV,BMW i3,스파크EV,볼트E...\n",
              "...                                ...  ...                                                ...\n",
              "3570                                전체  ...  SM3 Z.E,레이EV,소울EV,닛산리프,아이오닉EV,BMW i3,스파크EV,볼트E...\n",
              "3571                                전체  ...  SM3 Z.E,레이EV,소울EV,닛산리프,아이오닉EV,BMW i3,스파크EV,볼트E...\n",
              "3572                                전체  ...  SM3 Z.E,레이EV,소울EV,닛산리프,아이오닉EV,BMW i3,스파크EV,볼트E...\n",
              "3573                                전체  ...  SM3 Z.E,레이EV,소울EV,닛산리프,아이오닉EV,BMW i3,스파크EV,볼트E...\n",
              "3574                                전체  ...  SM3 Z.E,레이EV,소울EV,닛산리프,아이오닉EV,BMW i3,스파크EV,볼트E...\n",
              "\n",
              "[3575 rows x 6 columns]"
            ]
          },
          "metadata": {
            "tags": []
          },
          "execution_count": 4
        }
      ]
    },
    {
      "cell_type": "code",
      "metadata": {
        "id": "FKhgCVvSXbm9"
      },
      "source": [
        "# 불필요한 행 제거.\n",
        "df = df.drop([0,])\n",
        "df = df.drop([1,])"
      ],
      "execution_count": null,
      "outputs": []
    },
    {
      "cell_type": "code",
      "metadata": {
        "id": "z43zIkWmXgbc"
      },
      "source": [
        "# 인덱스 초기화.\n",
        "df.reset_index(drop = True, inplace = True)"
      ],
      "execution_count": null,
      "outputs": []
    },
    {
      "cell_type": "code",
      "metadata": {
        "id": "Fh7WuCRQq8d9"
      },
      "source": [
        "# 충전기 대수가 텍스트라서 형변환.\n",
        "df['급속충전기(대)'] = df['급속충전기(대)'].astype(int)\n",
        "df['완속충전기(대)'] = df['완속충전기(대)'].astype(int) "
      ],
      "execution_count": null,
      "outputs": []
    },
    {
      "cell_type": "code",
      "metadata": {
        "id": "Pr9huOw7q88a",
        "colab": {
          "base_uri": "https://localhost:8080/",
          "height": 1000
        },
        "outputId": "0c8f1122-bfc9-4f1b-8ecf-6e2f71022acf"
      },
      "source": [
        "# df['주소']만 가지고 나눌 경우, 동구와 같이 타 지역에도 있는 명칭이 같이 검색됨.\n",
        "# 중복을 최소화하기 위해 지역 콜론을 새로 지정.\n",
        "df['지역'] = df['주소'].str.slice(start=0, stop=5)\n",
        "df"
      ],
      "execution_count": null,
      "outputs": [
        {
          "output_type": "execute_result",
          "data": {
            "text/html": [
              "<div>\n",
              "<style scoped>\n",
              "    .dataframe tbody tr th:only-of-type {\n",
              "        vertical-align: middle;\n",
              "    }\n",
              "\n",
              "    .dataframe tbody tr th {\n",
              "        vertical-align: top;\n",
              "    }\n",
              "\n",
              "    .dataframe thead th {\n",
              "        text-align: right;\n",
              "    }\n",
              "</style>\n",
              "<table border=\"1\" class=\"dataframe\">\n",
              "  <thead>\n",
              "    <tr style=\"text-align: right;\">\n",
              "      <th></th>\n",
              "      <th>시구</th>\n",
              "      <th>설치장소</th>\n",
              "      <th>주소</th>\n",
              "      <th>급속충전기(대)</th>\n",
              "      <th>완속충전기(대)</th>\n",
              "      <th>지원차종</th>\n",
              "      <th>지역</th>\n",
              "    </tr>\n",
              "  </thead>\n",
              "  <tbody>\n",
              "    <tr>\n",
              "      <th>0</th>\n",
              "      <td>전체</td>\n",
              "      <td>가평지사</td>\n",
              "      <td>경기도 가평군 가평읍 가화로 169-11</td>\n",
              "      <td>1</td>\n",
              "      <td>1</td>\n",
              "      <td>SM3 Z.E,레이EV,소울EV,닛산리프,아이오닉EV,BMW i3,스파크EV,볼트E...</td>\n",
              "      <td>경기도 가</td>\n",
              "    </tr>\n",
              "    <tr>\n",
              "      <th>1</th>\n",
              "      <td>전체</td>\n",
              "      <td>상면사무소</td>\n",
              "      <td>경기도 가평군 상면 연하리 171-1</td>\n",
              "      <td>1</td>\n",
              "      <td>0</td>\n",
              "      <td>SM3 Z.E,레이EV,소울EV,닛산리프,아이오닉EV,BMW i3,스파크EV,볼트E...</td>\n",
              "      <td>경기도 가</td>\n",
              "    </tr>\n",
              "    <tr>\n",
              "      <th>2</th>\n",
              "      <td>전체</td>\n",
              "      <td>설악면사무소</td>\n",
              "      <td>경기도 가평군 설악면 신천리 156-1</td>\n",
              "      <td>1</td>\n",
              "      <td>0</td>\n",
              "      <td>SM3 Z.E,레이EV,소울EV,닛산리프,아이오닉EV,BMW i3,스파크EV,볼트E...</td>\n",
              "      <td>경기도 가</td>\n",
              "    </tr>\n",
              "    <tr>\n",
              "      <th>3</th>\n",
              "      <td>전체</td>\n",
              "      <td>조종면사무소</td>\n",
              "      <td>경기도 가평군 조종면 현리 567-7</td>\n",
              "      <td>1</td>\n",
              "      <td>0</td>\n",
              "      <td>SM3 Z.E,레이EV,소울EV,닛산리프,아이오닉EV,BMW i3,스파크EV,볼트E...</td>\n",
              "      <td>경기도 가</td>\n",
              "    </tr>\n",
              "    <tr>\n",
              "      <th>4</th>\n",
              "      <td>전체</td>\n",
              "      <td>LH강남힐스테이트</td>\n",
              "      <td>서울특별시 강남구 자곡동 자곡로3길 21</td>\n",
              "      <td>1</td>\n",
              "      <td>4</td>\n",
              "      <td>SM3 Z.E,레이EV,소울EV,닛산리프,아이오닉EV,BMW i3,스파크EV,볼트E...</td>\n",
              "      <td>서울특별시</td>\n",
              "    </tr>\n",
              "    <tr>\n",
              "      <th>...</th>\n",
              "      <td>...</td>\n",
              "      <td>...</td>\n",
              "      <td>...</td>\n",
              "      <td>...</td>\n",
              "      <td>...</td>\n",
              "      <td>...</td>\n",
              "      <td>...</td>\n",
              "    </tr>\n",
              "    <tr>\n",
              "      <th>3568</th>\n",
              "      <td>전체</td>\n",
              "      <td>첫마을6단지</td>\n",
              "      <td>세종특별자치시 한솔동 974</td>\n",
              "      <td>1</td>\n",
              "      <td>0</td>\n",
              "      <td>SM3 Z.E,레이EV,소울EV,닛산리프,아이오닉EV,BMW i3,스파크EV,볼트E...</td>\n",
              "      <td>세종특별자</td>\n",
              "    </tr>\n",
              "    <tr>\n",
              "      <th>3569</th>\n",
              "      <td>전체</td>\n",
              "      <td>첫마을7단지</td>\n",
              "      <td>세종특별자치시 한솔동 978</td>\n",
              "      <td>1</td>\n",
              "      <td>4</td>\n",
              "      <td>SM3 Z.E,레이EV,소울EV,닛산리프,아이오닉EV,BMW i3,스파크EV,볼트E...</td>\n",
              "      <td>세종특별자</td>\n",
              "    </tr>\n",
              "    <tr>\n",
              "      <th>3570</th>\n",
              "      <td>전체</td>\n",
              "      <td>한뜰마을1단지</td>\n",
              "      <td>세종특별자치시 어진동 554</td>\n",
              "      <td>1</td>\n",
              "      <td>3</td>\n",
              "      <td>SM3 Z.E,레이EV,소울EV,닛산리프,아이오닉EV,BMW i3,스파크EV,볼트E...</td>\n",
              "      <td>세종특별자</td>\n",
              "    </tr>\n",
              "    <tr>\n",
              "      <th>3571</th>\n",
              "      <td>전체</td>\n",
              "      <td>호려울마을8</td>\n",
              "      <td>세종특별자치시 보람동 보람동로 14</td>\n",
              "      <td>1</td>\n",
              "      <td>0</td>\n",
              "      <td>SM3 Z.E,레이EV,소울EV,닛산리프,아이오닉EV,BMW i3,스파크EV,볼트E...</td>\n",
              "      <td>세종특별자</td>\n",
              "    </tr>\n",
              "    <tr>\n",
              "      <th>3572</th>\n",
              "      <td>전체</td>\n",
              "      <td>홈플러스 세종점</td>\n",
              "      <td>세종특별자치시 절재로 154 (어진동, 홈플러스 세종점)</td>\n",
              "      <td>1</td>\n",
              "      <td>0</td>\n",
              "      <td>SM3 Z.E,레이EV,소울EV,닛산리프,아이오닉EV,BMW i3,스파크EV,볼트E...</td>\n",
              "      <td>세종특별자</td>\n",
              "    </tr>\n",
              "  </tbody>\n",
              "</table>\n",
              "<p>3573 rows × 7 columns</p>\n",
              "</div>"
            ],
            "text/plain": [
              "      시구       설치장소  ...                                               지원차종     지역\n",
              "0     전체       가평지사  ...  SM3 Z.E,레이EV,소울EV,닛산리프,아이오닉EV,BMW i3,스파크EV,볼트E...  경기도 가\n",
              "1     전체      상면사무소  ...  SM3 Z.E,레이EV,소울EV,닛산리프,아이오닉EV,BMW i3,스파크EV,볼트E...  경기도 가\n",
              "2     전체     설악면사무소  ...  SM3 Z.E,레이EV,소울EV,닛산리프,아이오닉EV,BMW i3,스파크EV,볼트E...  경기도 가\n",
              "3     전체     조종면사무소  ...  SM3 Z.E,레이EV,소울EV,닛산리프,아이오닉EV,BMW i3,스파크EV,볼트E...  경기도 가\n",
              "4     전체  LH강남힐스테이트  ...  SM3 Z.E,레이EV,소울EV,닛산리프,아이오닉EV,BMW i3,스파크EV,볼트E...  서울특별시\n",
              "...   ..        ...  ...                                                ...    ...\n",
              "3568  전체     첫마을6단지  ...  SM3 Z.E,레이EV,소울EV,닛산리프,아이오닉EV,BMW i3,스파크EV,볼트E...  세종특별자\n",
              "3569  전체     첫마을7단지  ...  SM3 Z.E,레이EV,소울EV,닛산리프,아이오닉EV,BMW i3,스파크EV,볼트E...  세종특별자\n",
              "3570  전체    한뜰마을1단지  ...  SM3 Z.E,레이EV,소울EV,닛산리프,아이오닉EV,BMW i3,스파크EV,볼트E...  세종특별자\n",
              "3571  전체     호려울마을8  ...  SM3 Z.E,레이EV,소울EV,닛산리프,아이오닉EV,BMW i3,스파크EV,볼트E...  세종특별자\n",
              "3572  전체   홈플러스 세종점  ...  SM3 Z.E,레이EV,소울EV,닛산리프,아이오닉EV,BMW i3,스파크EV,볼트E...  세종특별자\n",
              "\n",
              "[3573 rows x 7 columns]"
            ]
          },
          "metadata": {
            "tags": []
          },
          "execution_count": 8
        }
      ]
    },
    {
      "cell_type": "code",
      "metadata": {
        "id": "UBRCzGynq_Re",
        "colab": {
          "base_uri": "https://localhost:8080/",
          "height": 450
        },
        "outputId": "5235b275-4afd-4f54-ca10-18e9daeefa4a"
      },
      "source": [
        "# 지역 이름 확인용.\n",
        "pd.pivot_table(df, index = '지역', values = '급속충전기(대)', aggfunc = 'sum')"
      ],
      "execution_count": null,
      "outputs": [
        {
          "output_type": "execute_result",
          "data": {
            "text/html": [
              "<div>\n",
              "<style scoped>\n",
              "    .dataframe tbody tr th:only-of-type {\n",
              "        vertical-align: middle;\n",
              "    }\n",
              "\n",
              "    .dataframe tbody tr th {\n",
              "        vertical-align: top;\n",
              "    }\n",
              "\n",
              "    .dataframe thead th {\n",
              "        text-align: right;\n",
              "    }\n",
              "</style>\n",
              "<table border=\"1\" class=\"dataframe\">\n",
              "  <thead>\n",
              "    <tr style=\"text-align: right;\">\n",
              "      <th></th>\n",
              "      <th>급속충전기(대)</th>\n",
              "    </tr>\n",
              "    <tr>\n",
              "      <th>지역</th>\n",
              "      <th></th>\n",
              "    </tr>\n",
              "  </thead>\n",
              "  <tbody>\n",
              "    <tr>\n",
              "      <th>-</th>\n",
              "      <td>30</td>\n",
              "    </tr>\n",
              "    <tr>\n",
              "      <th>강원 강릉</th>\n",
              "      <td>0</td>\n",
              "    </tr>\n",
              "    <tr>\n",
              "      <th>강원 동해</th>\n",
              "      <td>3</td>\n",
              "    </tr>\n",
              "    <tr>\n",
              "      <th>강원 양양</th>\n",
              "      <td>2</td>\n",
              "    </tr>\n",
              "    <tr>\n",
              "      <th>강원 원주</th>\n",
              "      <td>1</td>\n",
              "    </tr>\n",
              "    <tr>\n",
              "      <th>...</th>\n",
              "      <td>...</td>\n",
              "    </tr>\n",
              "    <tr>\n",
              "      <th>충북 괴산</th>\n",
              "      <td>1</td>\n",
              "    </tr>\n",
              "    <tr>\n",
              "      <th>충북 제천</th>\n",
              "      <td>1</td>\n",
              "    </tr>\n",
              "    <tr>\n",
              "      <th>충북 청주</th>\n",
              "      <td>1</td>\n",
              "    </tr>\n",
              "    <tr>\n",
              "      <th>충청남도</th>\n",
              "      <td>116</td>\n",
              "    </tr>\n",
              "    <tr>\n",
              "      <th>충청북도</th>\n",
              "      <td>143</td>\n",
              "    </tr>\n",
              "  </tbody>\n",
              "</table>\n",
              "<p>151 rows × 1 columns</p>\n",
              "</div>"
            ],
            "text/plain": [
              "       급속충전기(대)\n",
              "지역             \n",
              "-            30\n",
              "강원 강릉         0\n",
              "강원 동해         3\n",
              "강원 양양         2\n",
              "강원 원주         1\n",
              "...         ...\n",
              "충북 괴산         1\n",
              "충북 제천         1\n",
              "충북 청주         1\n",
              "충청남도        116\n",
              "충청북도        143\n",
              "\n",
              "[151 rows x 1 columns]"
            ]
          },
          "metadata": {
            "tags": []
          },
          "execution_count": 9
        }
      ]
    },
    {
      "cell_type": "code",
      "metadata": {
        "id": "WPtipZQwpIeZ"
      },
      "source": [
        " # 새로은 df를 만들어 여기에 정보를 저장하는 방식으로 진행.\n",
        "col = ['행정도시', '시도', '위치수', '급속', '완속']\n",
        "ind = [1,2,3,4,5]\n",
        "\n",
        "con = [[0, 0, 0, 0, 0], [0, 0, 0, 0, 0],[0, 0, 0, 0, 0], [0, 0, 0, 0, 0], [0, 0, 0, 0, 0]]\n",
        "new = pd.DataFrame(con, columns = col, index = ind)"
      ],
      "execution_count": null,
      "outputs": []
    },
    {
      "cell_type": "markdown",
      "metadata": {
        "id": "IscM5KD37yxK"
      },
      "source": [
        "# 서울특별시"
      ]
    },
    {
      "cell_type": "code",
      "metadata": {
        "colab": {
          "base_uri": "https://localhost:8080/",
          "height": 450
        },
        "id": "Jl8QDI5CruQz",
        "outputId": "e80ec3a0-210a-4c84-d548-63cc7da26789"
      },
      "source": [
        "# 지역 이름 확인용.\n",
        "df_서울 = df['주소'].str.contains('서울')\n",
        "set_서울 =  df[df_서울]\n",
        "\n",
        "df['지역'] = set_서울['주소'].str.slice(start=0, stop=9)\n",
        "\n",
        "pd.pivot_table(df, index = '지역', values = '급속충전기(대)', aggfunc = 'sum')"
      ],
      "execution_count": null,
      "outputs": [
        {
          "output_type": "execute_result",
          "data": {
            "text/html": [
              "<div>\n",
              "<style scoped>\n",
              "    .dataframe tbody tr th:only-of-type {\n",
              "        vertical-align: middle;\n",
              "    }\n",
              "\n",
              "    .dataframe tbody tr th {\n",
              "        vertical-align: top;\n",
              "    }\n",
              "\n",
              "    .dataframe thead th {\n",
              "        text-align: right;\n",
              "    }\n",
              "</style>\n",
              "<table border=\"1\" class=\"dataframe\">\n",
              "  <thead>\n",
              "    <tr style=\"text-align: right;\">\n",
              "      <th></th>\n",
              "      <th>급속충전기(대)</th>\n",
              "    </tr>\n",
              "    <tr>\n",
              "      <th>지역</th>\n",
              "      <th></th>\n",
              "    </tr>\n",
              "  </thead>\n",
              "  <tbody>\n",
              "    <tr>\n",
              "      <th>서울 강남구 논현</th>\n",
              "      <td>1</td>\n",
              "    </tr>\n",
              "    <tr>\n",
              "      <th>서울 강남구 대치</th>\n",
              "      <td>1</td>\n",
              "    </tr>\n",
              "    <tr>\n",
              "      <th>서울 강남구 삼성</th>\n",
              "      <td>1</td>\n",
              "    </tr>\n",
              "    <tr>\n",
              "      <th>서울 강남구 세곡</th>\n",
              "      <td>1</td>\n",
              "    </tr>\n",
              "    <tr>\n",
              "      <th>서울 강남구 역삼</th>\n",
              "      <td>2</td>\n",
              "    </tr>\n",
              "    <tr>\n",
              "      <th>...</th>\n",
              "      <td>...</td>\n",
              "    </tr>\n",
              "    <tr>\n",
              "      <th>서울특별시 은평구</th>\n",
              "      <td>6</td>\n",
              "    </tr>\n",
              "    <tr>\n",
              "      <th>서울특별시 종로구</th>\n",
              "      <td>9</td>\n",
              "    </tr>\n",
              "    <tr>\n",
              "      <th>서울특별시 중구</th>\n",
              "      <td>20</td>\n",
              "    </tr>\n",
              "    <tr>\n",
              "      <th>서울특별시 중랑구</th>\n",
              "      <td>14</td>\n",
              "    </tr>\n",
              "    <tr>\n",
              "      <th>서울특별시 한강대</th>\n",
              "      <td>10</td>\n",
              "    </tr>\n",
              "  </tbody>\n",
              "</table>\n",
              "<p>76 rows × 1 columns</p>\n",
              "</div>"
            ],
            "text/plain": [
              "           급속충전기(대)\n",
              "지역                 \n",
              "서울 강남구 논현         1\n",
              "서울 강남구 대치         1\n",
              "서울 강남구 삼성         1\n",
              "서울 강남구 세곡         1\n",
              "서울 강남구 역삼         2\n",
              "...             ...\n",
              "서울특별시 은평구         6\n",
              "서울특별시 종로구         9\n",
              "서울특별시 중구         20\n",
              "서울특별시 중랑구        14\n",
              "서울특별시 한강대        10\n",
              "\n",
              "[76 rows x 1 columns]"
            ]
          },
          "metadata": {
            "tags": []
          },
          "execution_count": 11
        }
      ]
    },
    {
      "cell_type": "code",
      "metadata": {
        "id": "6IdIMCB6uW6o",
        "colab": {
          "base_uri": "https://localhost:8080/",
          "height": 824
        },
        "outputId": "b19eafd7-59cf-4858-b66f-6eaa35ff4ac1"
      },
      "source": [
        "# 서울 구 = [관악구, 강남구, 강동구, 강북구, 광진구, 송파구, 서초구, 금천구, 동작구, 용산구, 중구, 성동구, 동대문구, 중랑구, 성북구, 노원구, 도봉구, 종로구, 은평구, 서대문구, 마포구, 영등포구, 양천구, 구로구, 강서구] \n",
        "\n",
        "관악구 = df['주소'].str.contains('관악구', na = False)\n",
        "subset_관악구 = df[관악구]\n",
        "\n",
        "fast1 = subset_관악구['급속충전기(대)'].astype(int)\n",
        "slow1 = subset_관악구['완속충전기(대)'].astype(int)\n",
        "\n",
        "new.loc[1] = ['서울특별시', '관악구',len(df[관악구]), fast1.sum(), slow1.sum()]\n",
        "\n",
        "강남구 =df['주소'].str.contains('강남구', na = False)\n",
        "subset_강남구 = df[강남구]\n",
        "\n",
        "fast2 = subset_강남구['급속충전기(대)'].astype(int)\n",
        "slow2 = subset_강남구['완속충전기(대)'].astype(int)\n",
        "\n",
        "new.loc[2] = ['서울특별시', '강남구',len(df[강남구]), fast2.sum(), slow2.sum()]\n",
        "\n",
        "강동구 = df['주소'].str.contains('강동구', na = False)\n",
        "subset_강동구 = df[강동구]\n",
        "\n",
        "fast3 = subset_강동구['급속충전기(대)'].astype(int)\n",
        "slow3 = subset_강동구['완속충전기(대)'].astype(int)\n",
        "\n",
        "new.loc[3] = ['서울특별시', '강동구',len(df[강동구]), fast3.sum(), slow3.sum()]\n",
        "\n",
        "강북구 = df['주소'].str.contains('강북구', na = False)\n",
        "subset_강북구 = df[강북구]\n",
        "\n",
        "fast4 = subset_강북구['급속충전기(대)'].astype(int)\n",
        "slow4 = subset_강북구['완속충전기(대)'].astype(int)\n",
        "\n",
        "new.loc[4] = ['서울특별시', '강북구',len(df[강북구]), fast4.sum(), slow4.sum()]\n",
        "\n",
        "광진구 = df['주소'].str.contains('광진구', na = False)\n",
        "subset_광진구 = df[광진구]\n",
        "\n",
        "fast5 = subset_강북구['급속충전기(대)'].astype(int)\n",
        "slow5 = subset_강북구['완속충전기(대)'].astype(int)\n",
        "\n",
        "new.loc[5] = ['서울특별시', '광진구',len(df[광진구]), fast5.sum(), slow5.sum()]\n",
        "\n",
        "송파구 = df['주소'].str.contains('송파구', na = False)\n",
        "subset_송파구 = df[송파구]\n",
        "\n",
        "fast6 = subset_송파구['급속충전기(대)'].astype(int)\n",
        "slow6 = subset_송파구['완속충전기(대)'].astype(int)\n",
        "\n",
        "new.loc[6] = ['서울특별시', '송파구',len(df[송파구]), fast6.sum(), slow6.sum()]\n",
        "\n",
        "서초구 = df['주소'].str.contains('서초구', na = False)\n",
        "subset_서초구 = df[서초구]\n",
        "\n",
        "fast7 = subset_서초구['급속충전기(대)'].astype(int)\n",
        "slow7 = subset_서초구['완속충전기(대)'].astype(int)\n",
        "\n",
        "new.loc[7] = ['서울특별시', '서초구',len(df[서초구]), fast7.sum(), slow7.sum()]\n",
        "\n",
        "금천구 = df['주소'].str.contains('금천구', na = False)\n",
        "subset_금천구 = df[금천구]\n",
        "\n",
        "fast8 = subset_금천구['급속충전기(대)'].astype(int)\n",
        "slow8 = subset_금천구['완속충전기(대)'].astype(int)\n",
        "\n",
        "new.loc[8] = ['서울특별시', '금천구',len(df[금천구]), fast8.sum(), slow8.sum()]\n",
        "\n",
        "동작구 = df['주소'].str.contains('동작구', na = False)\n",
        "subset_동작구 = df[동작구]\n",
        "\n",
        "fast9 = subset_동작구['급속충전기(대)'].astype(int)\n",
        "slow9 = subset_동작구['완속충전기(대)'].astype(int)\n",
        "\n",
        "new.loc[9] = ['서울특별시', '동작구',len(df[동작구]), fast9.sum(), slow9.sum()]\n",
        "\n",
        "용산구 = df['주소'].str.contains('용산구', na = False)\n",
        "subset_용산구 = df[용산구]\n",
        "\n",
        "fast10 = subset_용산구['급속충전기(대)'].astype(int)\n",
        "slow10 = subset_용산구['완속충전기(대)'].astype(int)\n",
        "\n",
        "new.loc[10] = ['서울특별시', '용산구',len(df[용산구]), fast10.sum(), slow10.sum()]\n",
        "\n",
        "중구 = df['지역'].str.contains('중구', na = False)\n",
        "subset_중구 = df[중구]\n",
        "\n",
        "fast11 = subset_중구['급속충전기(대)'].astype(int)\n",
        "slow11 = subset_중구['완속충전기(대)'].astype(int)\n",
        "\n",
        "new.loc[11] = ['서울특별시', '중구',len(df[중구]), fast11.sum(), slow11.sum()]\n",
        "\n",
        "성동구 = df['주소'].str.contains('성동구', na = False)\n",
        "subset_성동구 = df[금천구]\n",
        "\n",
        "fast12 = subset_성동구['급속충전기(대)'].astype(int)\n",
        "slow12 = subset_성동구['완속충전기(대)'].astype(int)\n",
        "\n",
        "new.loc[12] = ['서울특별시', '성동구',len(df[성동구]), fast12.sum(), slow12.sum()]\n",
        "\n",
        "동대문구 = df['주소'].str.contains('동대문구', na = False)\n",
        "subset_동대문구 = df[동대문구]\n",
        "\n",
        "fast13 = subset_동대문구['급속충전기(대)'].astype(int)\n",
        "slow13 = subset_동대문구['완속충전기(대)'].astype(int)\n",
        "\n",
        "new.loc[13] = ['서울특별시', '동대문구',len(df[동대문구]), fast13.sum(), slow13.sum()]\n",
        "\n",
        "중랑구 = df['주소'].str.contains('중랑구', na = False)\n",
        "subset_중랑구 = df[중랑구]\n",
        "\n",
        "fast14 = subset_중랑구['급속충전기(대)'].astype(int)\n",
        "slow14 = subset_중랑구['완속충전기(대)'].astype(int)\n",
        "\n",
        "new.loc[14] = ['서울특별시', '중랑구',len(df[중랑구]), fast14.sum(), slow14.sum()]\n",
        "\n",
        "성북구 = df['주소'].str.contains('성북구', na = False)\n",
        "subset_성북구 = df[성북구]\n",
        "\n",
        "fast15 = subset_성북구['급속충전기(대)'].astype(int)\n",
        "slow15 = subset_성북구['완속충전기(대)'].astype(int)\n",
        "\n",
        "new.loc[15] = ['서울특별시', '성북구',len(df[성북구]), fast15.sum(), slow15.sum()]\n",
        "\n",
        "노원구 = df['주소'].str.contains('노원구', na = False)\n",
        "subset_노원구 = df[노원구]\n",
        "\n",
        "fast16 = subset_노원구['급속충전기(대)'].astype(int)\n",
        "slow16 = subset_노원구['완속충전기(대)'].astype(int)\n",
        "\n",
        "new.loc[16] = ['서울특별시', '노원구',len(df[노원구]), fast16.sum(), slow16.sum()]\n",
        "\n",
        "도봉구 = df['주소'].str.contains('도봉구', na = False)\n",
        "subset_도봉구 = df[도봉구]\n",
        "\n",
        "fast17 = subset_도봉구['급속충전기(대)'].astype(int)\n",
        "slow17 = subset_도봉구['완속충전기(대)'].astype(int)\n",
        "\n",
        "new.loc[17] = ['서울특별시', '도봉구',len(df[도봉구]), fast17.sum(), slow17.sum()]\n",
        "\n",
        "종로구 = df['주소'].str.contains('종로구', na = False)\n",
        "subset_종로구 = df[종로구]\n",
        "\n",
        "fast18 = subset_종로구['급속충전기(대)'].astype(int)\n",
        "slow18 = subset_종로구['완속충전기(대)'].astype(int)\n",
        "\n",
        "new.loc[18] = ['서울특별시', '종로구',len(df[종로구]), fast18.sum(), slow18.sum()]\n",
        "\n",
        "은평구 = df['주소'].str.contains('은평구', na = False)\n",
        "subset_은평구 = df[은평구]\n",
        "\n",
        "fast19 = subset_은평구['급속충전기(대)'].astype(int)\n",
        "slow19 = subset_은평구['완속충전기(대)'].astype(int)\n",
        "\n",
        "new.loc[19] = ['서울특별시', '은평구',len(df[은평구]), fast19.sum(), slow19.sum()]\n",
        "\n",
        "서대문구 = df['주소'].str.contains('서대문구', na = False)\n",
        "subset_서대문구 = df[서대문구]\n",
        "\n",
        "fast20 = subset_서대문구['급속충전기(대)'].astype(int)\n",
        "slow20 = subset_서대문구['완속충전기(대)'].astype(int)\n",
        "\n",
        "new.loc[20] = ['서울특별시', '서대문구',len(df[서대문구]), fast20.sum(), slow20.sum()]\n",
        "\n",
        "마포구 = df['주소'].str.contains('마포구', na = False)\n",
        "subset_마포구 = df[마포구]\n",
        "\n",
        "fast21 = subset_마포구['급속충전기(대)'].astype(int)\n",
        "slow21 = subset_마포구['완속충전기(대)'].astype(int)\n",
        "\n",
        "new.loc[21] = ['서울특별시', '마포구',len(df[마포구]), fast21.sum(), slow21.sum()]\n",
        "\n",
        "영등포구 = df['주소'].str.contains('영등포구', na = False)\n",
        "subset_영등포구 = df[영등포구]\n",
        "\n",
        "fast22 = subset_영등포구['급속충전기(대)'].astype(int)\n",
        "slow22 = subset_영등포구['완속충전기(대)'].astype(int)\n",
        "\n",
        "new.loc[22] = ['서울특별시', '영등포구',len(df[영등포구]), fast22.sum(), slow22.sum()]\n",
        "\n",
        "양천구 = df['주소'].str.contains('양천구', na = False)\n",
        "subset_양천구 = df[양천구]\n",
        "\n",
        "fast23 = subset_양천구['급속충전기(대)'].astype(int)\n",
        "slow23 = subset_양천구['완속충전기(대)'].astype(int)\n",
        "\n",
        "new.loc[23] = ['서울특별시', '양천구',len(df[양천구]), fast23.sum(), slow23.sum()]\n",
        "\n",
        "구로구 = df['주소'].str.contains('구로구', na = False)\n",
        "subset_구로구 = df[구로구]\n",
        "\n",
        "fast24 = subset_구로구['급속충전기(대)'].astype(int)\n",
        "slow24 = subset_구로구['완속충전기(대)'].astype(int)\n",
        "\n",
        "new.loc[24] = ['서울특별시', '구로구',len(df[구로구]), fast24.sum(), slow24.sum()]\n",
        "\n",
        "# 강서구는 부산에도 있기에 중복되는 이름들은 전국 지도 단위가 아닌 서울 지역 주소 내에서 검색.\n",
        "강서구 = df['지역'].str.contains('강서구', na = False)\n",
        "subset_강서구 = df[강서구]\n",
        "\n",
        "fast25 = subset_강서구['급속충전기(대)'].astype(int)\n",
        "slow25 = subset_강서구['완속충전기(대)'].astype(int)\n",
        "\n",
        "new.loc[25] = ['서울특별시', '강서구',len(df[강서구]), fast25.sum(), slow25.sum()]\n",
        "\n",
        "new"
      ],
      "execution_count": null,
      "outputs": [
        {
          "output_type": "execute_result",
          "data": {
            "text/html": [
              "<div>\n",
              "<style scoped>\n",
              "    .dataframe tbody tr th:only-of-type {\n",
              "        vertical-align: middle;\n",
              "    }\n",
              "\n",
              "    .dataframe tbody tr th {\n",
              "        vertical-align: top;\n",
              "    }\n",
              "\n",
              "    .dataframe thead th {\n",
              "        text-align: right;\n",
              "    }\n",
              "</style>\n",
              "<table border=\"1\" class=\"dataframe\">\n",
              "  <thead>\n",
              "    <tr style=\"text-align: right;\">\n",
              "      <th></th>\n",
              "      <th>행정도시</th>\n",
              "      <th>시도</th>\n",
              "      <th>위치수</th>\n",
              "      <th>급속</th>\n",
              "      <th>완속</th>\n",
              "    </tr>\n",
              "  </thead>\n",
              "  <tbody>\n",
              "    <tr>\n",
              "      <th>1</th>\n",
              "      <td>서울특별시</td>\n",
              "      <td>관악구</td>\n",
              "      <td>13</td>\n",
              "      <td>9</td>\n",
              "      <td>14</td>\n",
              "    </tr>\n",
              "    <tr>\n",
              "      <th>2</th>\n",
              "      <td>서울특별시</td>\n",
              "      <td>강남구</td>\n",
              "      <td>53</td>\n",
              "      <td>37</td>\n",
              "      <td>81</td>\n",
              "    </tr>\n",
              "    <tr>\n",
              "      <th>3</th>\n",
              "      <td>서울특별시</td>\n",
              "      <td>강동구</td>\n",
              "      <td>32</td>\n",
              "      <td>26</td>\n",
              "      <td>56</td>\n",
              "    </tr>\n",
              "    <tr>\n",
              "      <th>4</th>\n",
              "      <td>서울특별시</td>\n",
              "      <td>강북구</td>\n",
              "      <td>8</td>\n",
              "      <td>8</td>\n",
              "      <td>16</td>\n",
              "    </tr>\n",
              "    <tr>\n",
              "      <th>5</th>\n",
              "      <td>서울특별시</td>\n",
              "      <td>광진구</td>\n",
              "      <td>12</td>\n",
              "      <td>8</td>\n",
              "      <td>16</td>\n",
              "    </tr>\n",
              "    <tr>\n",
              "      <th>6</th>\n",
              "      <td>서울특별시</td>\n",
              "      <td>송파구</td>\n",
              "      <td>46</td>\n",
              "      <td>44</td>\n",
              "      <td>89</td>\n",
              "    </tr>\n",
              "    <tr>\n",
              "      <th>7</th>\n",
              "      <td>서울특별시</td>\n",
              "      <td>서초구</td>\n",
              "      <td>44</td>\n",
              "      <td>22</td>\n",
              "      <td>83</td>\n",
              "    </tr>\n",
              "    <tr>\n",
              "      <th>8</th>\n",
              "      <td>서울특별시</td>\n",
              "      <td>금천구</td>\n",
              "      <td>5</td>\n",
              "      <td>7</td>\n",
              "      <td>2</td>\n",
              "    </tr>\n",
              "    <tr>\n",
              "      <th>9</th>\n",
              "      <td>서울특별시</td>\n",
              "      <td>동작구</td>\n",
              "      <td>16</td>\n",
              "      <td>12</td>\n",
              "      <td>26</td>\n",
              "    </tr>\n",
              "    <tr>\n",
              "      <th>10</th>\n",
              "      <td>서울특별시</td>\n",
              "      <td>용산구</td>\n",
              "      <td>21</td>\n",
              "      <td>18</td>\n",
              "      <td>33</td>\n",
              "    </tr>\n",
              "    <tr>\n",
              "      <th>11</th>\n",
              "      <td>서울특별시</td>\n",
              "      <td>중구</td>\n",
              "      <td>14</td>\n",
              "      <td>20</td>\n",
              "      <td>22</td>\n",
              "    </tr>\n",
              "    <tr>\n",
              "      <th>12</th>\n",
              "      <td>서울특별시</td>\n",
              "      <td>성동구</td>\n",
              "      <td>15</td>\n",
              "      <td>7</td>\n",
              "      <td>2</td>\n",
              "    </tr>\n",
              "    <tr>\n",
              "      <th>13</th>\n",
              "      <td>서울특별시</td>\n",
              "      <td>동대문구</td>\n",
              "      <td>14</td>\n",
              "      <td>17</td>\n",
              "      <td>16</td>\n",
              "    </tr>\n",
              "    <tr>\n",
              "      <th>14</th>\n",
              "      <td>서울특별시</td>\n",
              "      <td>중랑구</td>\n",
              "      <td>17</td>\n",
              "      <td>14</td>\n",
              "      <td>27</td>\n",
              "    </tr>\n",
              "    <tr>\n",
              "      <th>15</th>\n",
              "      <td>서울특별시</td>\n",
              "      <td>성북구</td>\n",
              "      <td>24</td>\n",
              "      <td>23</td>\n",
              "      <td>42</td>\n",
              "    </tr>\n",
              "    <tr>\n",
              "      <th>16</th>\n",
              "      <td>서울특별시</td>\n",
              "      <td>노원구</td>\n",
              "      <td>41</td>\n",
              "      <td>33</td>\n",
              "      <td>65</td>\n",
              "    </tr>\n",
              "    <tr>\n",
              "      <th>17</th>\n",
              "      <td>서울특별시</td>\n",
              "      <td>도봉구</td>\n",
              "      <td>32</td>\n",
              "      <td>24</td>\n",
              "      <td>44</td>\n",
              "    </tr>\n",
              "    <tr>\n",
              "      <th>18</th>\n",
              "      <td>서울특별시</td>\n",
              "      <td>종로구</td>\n",
              "      <td>14</td>\n",
              "      <td>9</td>\n",
              "      <td>22</td>\n",
              "    </tr>\n",
              "    <tr>\n",
              "      <th>19</th>\n",
              "      <td>서울특별시</td>\n",
              "      <td>은평구</td>\n",
              "      <td>9</td>\n",
              "      <td>6</td>\n",
              "      <td>11</td>\n",
              "    </tr>\n",
              "    <tr>\n",
              "      <th>20</th>\n",
              "      <td>서울특별시</td>\n",
              "      <td>서대문구</td>\n",
              "      <td>12</td>\n",
              "      <td>12</td>\n",
              "      <td>18</td>\n",
              "    </tr>\n",
              "    <tr>\n",
              "      <th>21</th>\n",
              "      <td>서울특별시</td>\n",
              "      <td>마포구</td>\n",
              "      <td>31</td>\n",
              "      <td>27</td>\n",
              "      <td>66</td>\n",
              "    </tr>\n",
              "    <tr>\n",
              "      <th>22</th>\n",
              "      <td>서울특별시</td>\n",
              "      <td>영등포구</td>\n",
              "      <td>19</td>\n",
              "      <td>15</td>\n",
              "      <td>48</td>\n",
              "    </tr>\n",
              "    <tr>\n",
              "      <th>23</th>\n",
              "      <td>서울특별시</td>\n",
              "      <td>양천구</td>\n",
              "      <td>19</td>\n",
              "      <td>15</td>\n",
              "      <td>32</td>\n",
              "    </tr>\n",
              "    <tr>\n",
              "      <th>24</th>\n",
              "      <td>서울특별시</td>\n",
              "      <td>구로구</td>\n",
              "      <td>26</td>\n",
              "      <td>20</td>\n",
              "      <td>50</td>\n",
              "    </tr>\n",
              "    <tr>\n",
              "      <th>25</th>\n",
              "      <td>서울특별시</td>\n",
              "      <td>강서구</td>\n",
              "      <td>22</td>\n",
              "      <td>20</td>\n",
              "      <td>41</td>\n",
              "    </tr>\n",
              "  </tbody>\n",
              "</table>\n",
              "</div>"
            ],
            "text/plain": [
              "     행정도시    시도  위치수  급속  완속\n",
              "1   서울특별시   관악구   13   9  14\n",
              "2   서울특별시   강남구   53  37  81\n",
              "3   서울특별시   강동구   32  26  56\n",
              "4   서울특별시   강북구    8   8  16\n",
              "5   서울특별시   광진구   12   8  16\n",
              "6   서울특별시   송파구   46  44  89\n",
              "7   서울특별시   서초구   44  22  83\n",
              "8   서울특별시   금천구    5   7   2\n",
              "9   서울특별시   동작구   16  12  26\n",
              "10  서울특별시   용산구   21  18  33\n",
              "11  서울특별시    중구   14  20  22\n",
              "12  서울특별시   성동구   15   7   2\n",
              "13  서울특별시  동대문구   14  17  16\n",
              "14  서울특별시   중랑구   17  14  27\n",
              "15  서울특별시   성북구   24  23  42\n",
              "16  서울특별시   노원구   41  33  65\n",
              "17  서울특별시   도봉구   32  24  44\n",
              "18  서울특별시   종로구   14   9  22\n",
              "19  서울특별시   은평구    9   6  11\n",
              "20  서울특별시  서대문구   12  12  18\n",
              "21  서울특별시   마포구   31  27  66\n",
              "22  서울특별시  영등포구   19  15  48\n",
              "23  서울특별시   양천구   19  15  32\n",
              "24  서울특별시   구로구   26  20  50\n",
              "25  서울특별시   강서구   22  20  41"
            ]
          },
          "metadata": {
            "tags": []
          },
          "execution_count": 12
        }
      ]
    },
    {
      "cell_type": "code",
      "metadata": {
        "id": "oAFjqyFRf_vF",
        "colab": {
          "base_uri": "https://localhost:8080/"
        },
        "outputId": "b44c0b38-8edb-41a1-f1ad-62d32e832e8d"
      },
      "source": [
        "new['위치수'].sum()"
      ],
      "execution_count": null,
      "outputs": [
        {
          "output_type": "execute_result",
          "data": {
            "text/plain": [
              "559"
            ]
          },
          "metadata": {
            "tags": []
          },
          "execution_count": 13
        }
      ]
    },
    {
      "cell_type": "code",
      "metadata": {
        "colab": {
          "base_uri": "https://localhost:8080/"
        },
        "id": "42cj2_GeHiV8",
        "outputId": "82862cb8-78d2-4eea-e6dd-1b2aa889af1a"
      },
      "source": [
        "new['급속'].sum()"
      ],
      "execution_count": null,
      "outputs": [
        {
          "output_type": "execute_result",
          "data": {
            "text/plain": [
              "453"
            ]
          },
          "metadata": {
            "tags": []
          },
          "execution_count": 14
        }
      ]
    },
    {
      "cell_type": "code",
      "metadata": {
        "id": "vp-4jsTPcNQW",
        "colab": {
          "base_uri": "https://localhost:8080/"
        },
        "outputId": "35e846fb-3819-43ae-b9c7-bfaad8150118"
      },
      "source": [
        "new['완속'].sum()"
      ],
      "execution_count": null,
      "outputs": [
        {
          "output_type": "execute_result",
          "data": {
            "text/plain": [
              "922"
            ]
          },
          "metadata": {
            "tags": []
          },
          "execution_count": 15
        }
      ]
    },
    {
      "cell_type": "code",
      "metadata": {
        "id": "GuC0b9jBdwLB",
        "colab": {
          "base_uri": "https://localhost:8080/"
        },
        "outputId": "84ab3889-0405-4201-b669-251aafa81f19"
      },
      "source": [
        "new['급속'].sum() + new['완속'].sum()"
      ],
      "execution_count": null,
      "outputs": [
        {
          "output_type": "execute_result",
          "data": {
            "text/plain": [
              "1375"
            ]
          },
          "metadata": {
            "tags": []
          },
          "execution_count": 16
        }
      ]
    },
    {
      "cell_type": "markdown",
      "metadata": {
        "id": "-GArV0-D8Mv5"
      },
      "source": [
        "# 인천광역시"
      ]
    },
    {
      "cell_type": "code",
      "metadata": {
        "id": "8tSE6aWKnugk"
      },
      "source": [
        "col = ['행정도시', '시도', '위치수', '급속', '완속']\n",
        "ind = [1,2,3,4,5]\n",
        "\n",
        "con = [[0, 0, 0, 0, 0], [0, 0, 0, 0, 0],[0, 0, 0, 0, 0], [0, 0, 0, 0, 0], [0, 0, 0, 0, 0]]\n",
        "new1 = pd.DataFrame(con, columns = col, index = ind)"
      ],
      "execution_count": null,
      "outputs": []
    },
    {
      "cell_type": "code",
      "metadata": {
        "id": "x-tXJDWAs8bm",
        "colab": {
          "base_uri": "https://localhost:8080/",
          "height": 855
        },
        "outputId": "f4b451e9-0afd-4c6c-b5e9-fceec9aa036a"
      },
      "source": [
        "df_인천 = df['주소'].str.contains('인천')\n",
        "set_인천 =  df[df_인천]\n",
        "\n",
        "df['지역'] = set_인천['주소'].str.slice(start=0, stop=10)\n",
        "\n",
        "pd.pivot_table(df, index = '지역', values = '급속충전기(대)', aggfunc = 'sum')"
      ],
      "execution_count": null,
      "outputs": [
        {
          "output_type": "execute_result",
          "data": {
            "text/html": [
              "<div>\n",
              "<style scoped>\n",
              "    .dataframe tbody tr th:only-of-type {\n",
              "        vertical-align: middle;\n",
              "    }\n",
              "\n",
              "    .dataframe tbody tr th {\n",
              "        vertical-align: top;\n",
              "    }\n",
              "\n",
              "    .dataframe thead th {\n",
              "        text-align: right;\n",
              "    }\n",
              "</style>\n",
              "<table border=\"1\" class=\"dataframe\">\n",
              "  <thead>\n",
              "    <tr style=\"text-align: right;\">\n",
              "      <th></th>\n",
              "      <th>급속충전기(대)</th>\n",
              "    </tr>\n",
              "    <tr>\n",
              "      <th>지역</th>\n",
              "      <th></th>\n",
              "    </tr>\n",
              "  </thead>\n",
              "  <tbody>\n",
              "    <tr>\n",
              "      <th>인천 계양구 계산동</th>\n",
              "      <td>1</td>\n",
              "    </tr>\n",
              "    <tr>\n",
              "      <th>인천 부평구 부개동</th>\n",
              "      <td>1</td>\n",
              "    </tr>\n",
              "    <tr>\n",
              "      <th>인천 서구 검암동</th>\n",
              "      <td>1</td>\n",
              "    </tr>\n",
              "    <tr>\n",
              "      <th>인천 중구 신흥동1</th>\n",
              "      <td>0</td>\n",
              "    </tr>\n",
              "    <tr>\n",
              "      <th>인천 중구 항동7가</th>\n",
              "      <td>2</td>\n",
              "    </tr>\n",
              "    <tr>\n",
              "      <th>인천광역시 강화군</th>\n",
              "      <td>5</td>\n",
              "    </tr>\n",
              "    <tr>\n",
              "      <th>인천광역시 계양구</th>\n",
              "      <td>9</td>\n",
              "    </tr>\n",
              "    <tr>\n",
              "      <th>인천광역시 남동구</th>\n",
              "      <td>24</td>\n",
              "    </tr>\n",
              "    <tr>\n",
              "      <th>인천광역시 동구 금</th>\n",
              "      <td>1</td>\n",
              "    </tr>\n",
              "    <tr>\n",
              "      <th>인천광역시 동구 송</th>\n",
              "      <td>3</td>\n",
              "    </tr>\n",
              "    <tr>\n",
              "      <th>인천광역시 미추홀구</th>\n",
              "      <td>10</td>\n",
              "    </tr>\n",
              "    <tr>\n",
              "      <th>인천광역시 부평구</th>\n",
              "      <td>12</td>\n",
              "    </tr>\n",
              "    <tr>\n",
              "      <th>인천광역시 서구 가</th>\n",
              "      <td>3</td>\n",
              "    </tr>\n",
              "    <tr>\n",
              "      <th>인천광역시 서구 경</th>\n",
              "      <td>8</td>\n",
              "    </tr>\n",
              "    <tr>\n",
              "      <th>인천광역시 서구 마</th>\n",
              "      <td>1</td>\n",
              "    </tr>\n",
              "    <tr>\n",
              "      <th>인천광역시 서구 불</th>\n",
              "      <td>1</td>\n",
              "    </tr>\n",
              "    <tr>\n",
              "      <th>인천광역시 서구 연</th>\n",
              "      <td>8</td>\n",
              "    </tr>\n",
              "    <tr>\n",
              "      <th>인천광역시 서구 왕</th>\n",
              "      <td>1</td>\n",
              "    </tr>\n",
              "    <tr>\n",
              "      <th>인천광역시 서구 청</th>\n",
              "      <td>0</td>\n",
              "    </tr>\n",
              "    <tr>\n",
              "      <th>인천광역시 연수구</th>\n",
              "      <td>33</td>\n",
              "    </tr>\n",
              "    <tr>\n",
              "      <th>인천광역시 중구 남</th>\n",
              "      <td>1</td>\n",
              "    </tr>\n",
              "    <tr>\n",
              "      <th>인천광역시 중구 북</th>\n",
              "      <td>1</td>\n",
              "    </tr>\n",
              "    <tr>\n",
              "      <th>인천광역시 중구 신</th>\n",
              "      <td>1</td>\n",
              "    </tr>\n",
              "    <tr>\n",
              "      <th>인천광역시 중구 운</th>\n",
              "      <td>2</td>\n",
              "    </tr>\n",
              "    <tr>\n",
              "      <th>인천광역시 중구 중</th>\n",
              "      <td>7</td>\n",
              "    </tr>\n",
              "  </tbody>\n",
              "</table>\n",
              "</div>"
            ],
            "text/plain": [
              "            급속충전기(대)\n",
              "지역                  \n",
              "인천 계양구 계산동         1\n",
              "인천 부평구 부개동         1\n",
              "인천 서구 검암동          1\n",
              "인천 중구 신흥동1         0\n",
              "인천 중구 항동7가         2\n",
              "인천광역시 강화군          5\n",
              "인천광역시 계양구          9\n",
              "인천광역시 남동구         24\n",
              "인천광역시 동구 금         1\n",
              "인천광역시 동구 송         3\n",
              "인천광역시 미추홀구        10\n",
              "인천광역시 부평구         12\n",
              "인천광역시 서구 가         3\n",
              "인천광역시 서구 경         8\n",
              "인천광역시 서구 마         1\n",
              "인천광역시 서구 불         1\n",
              "인천광역시 서구 연         8\n",
              "인천광역시 서구 왕         1\n",
              "인천광역시 서구 청         0\n",
              "인천광역시 연수구         33\n",
              "인천광역시 중구 남         1\n",
              "인천광역시 중구 북         1\n",
              "인천광역시 중구 신         1\n",
              "인천광역시 중구 운         2\n",
              "인천광역시 중구 중         7"
            ]
          },
          "metadata": {
            "tags": []
          },
          "execution_count": 18
        }
      ]
    },
    {
      "cell_type": "code",
      "metadata": {
        "id": "Xifl1ERshUTu",
        "colab": {
          "base_uri": "https://localhost:8080/",
          "height": 328
        },
        "outputId": "b1aefac4-f976-4ae4-afc7-6ff90b40fa9a"
      },
      "source": [
        "# 인천 구 = ['계양구', '부평구', '서구', '중구', '강화군', '남동구', '동구' , '미추홀구', '연수구'] \n",
        "#웅진군은 피벗테이블에 없어서 제외. 피벗 테이블에 없다는 것은 엑셀 파일 내에서도 없다는 것임.\n",
        "# 서울에서 전국 주소 단위로 봤을 때, 부산과의 중복이 있었기에 이후에는 단위 지역별 주소로 검색.\n",
        "\n",
        "계양구 = df['지역'].str.contains('계양구', na = False)\n",
        "subset_계양구 = df[계양구]\n",
        "\n",
        "인천_fast1 = subset_계양구['급속충전기(대)'].astype(int).sum()\n",
        "인천_slow1 = subset_계양구['완속충전기(대)'].astype(int).sum()\n",
        "\n",
        "new1.loc[1] = ['인천광역시', '계양구',len(df[계양구]), 인천_fast1, 인천_slow1]\n",
        "\n",
        "부평구 = df['지역'].str.contains('부평구', na = False)\n",
        "subset_부평구 = df[부평구]\n",
        "\n",
        "인천_fast2 = subset_부평구['급속충전기(대)'].astype(int).sum()\n",
        "인천_slow2 = subset_부평구['완속충전기(대)'].astype(int).sum()\n",
        "\n",
        "new1.loc[2] = ['인천광역시', '부평구',len(df[부평구]), 인천_fast2, 인천_slow2]\n",
        "\n",
        "서구 = df['지역'].str.contains('서구', na = False)\n",
        "subset_서구 = df[서구]\n",
        "\n",
        "인천_fast3 = subset_서구['급속충전기(대)'].astype(int).sum()\n",
        "인천_slow3 = subset_서구['완속충전기(대)'].astype(int).sum()\n",
        "\n",
        "new1.loc[3] = ['인천광역시', '서구',len(df[서구]), 인천_fast3, 인천_slow3]\n",
        "\n",
        "중구 = df['지역'].str.contains('중구', na = False)\n",
        "subset_중구 = df[중구]\n",
        "\n",
        "인천_fast4 = subset_중구['급속충전기(대)'].astype(int).sum()\n",
        "인천_slow4 = subset_중구['완속충전기(대)'].astype(int).sum()\n",
        "\n",
        "new1.loc[4] = ['인천광역시', '중구',len(df[중구]), 인천_fast4, 인천_slow4]\n",
        "\n",
        "강화군 = df['지역'].str.contains('강화군', na = False)\n",
        "subset_강화군 = df[강화군]\n",
        "\n",
        "인천_fast5 = subset_강화군['급속충전기(대)'].astype(int).sum()\n",
        "인천_slow5 = subset_강화군['완속충전기(대)'].astype(int).sum()\n",
        "\n",
        "new1.loc[5] = ['인천광역시', '강화군',len(df[강화군]), 인천_fast5, 인천_slow5]\n",
        "\n",
        "남동구 = df['지역'].str.contains('남동구', na = False)\n",
        "subset_남동구 = df[남동구]\n",
        "\n",
        "인천_fast6 = subset_남동구['급속충전기(대)'].astype(int).sum()\n",
        "인천_slow6 = subset_남동구['완속충전기(대)'].astype(int).sum()\n",
        "\n",
        "new1.loc[6] = ['인천광역시', '남동구',len(df[남동구]), 인천_fast6, 인천_slow6]\n",
        "\n",
        "# 동구를 검색하니 남동구 결과까지 같이 나와 따로 빼줌.\n",
        "동구 = df['지역'].str.contains('동구', na = False)\n",
        "subset_동구 = df[동구]\n",
        "\n",
        "인천_fast7 = subset_동구['급속충전기(대)'].astype(int).sum()\n",
        "인천_slow7 = subset_동구['완속충전기(대)'].astype(int).sum()\n",
        "\n",
        "new1.loc[7] = ['인천광역시', '동구',len(df[동구])-len(df[남동구]), 인천_fast7-인천_fast6, 인천_slow7-인천_slow6]\n",
        "\n",
        "미추홀구 = df['지역'].str.contains('미추홀구', na = False)\n",
        "subset_미추홀구 = df[미추홀구]\n",
        "\n",
        "인천_fast8 = subset_미추홀구['급속충전기(대)'].astype(int).sum()\n",
        "인천_slow8 = subset_미추홀구['완속충전기(대)'].astype(int).sum()\n",
        "\n",
        "new1.loc[8] = ['인천광역시', '미추홀구',len(df[미추홀구]), 인천_fast8, 인천_slow8]\n",
        "\n",
        "연수구 = df['지역'].str.contains('연수구', na = False)\n",
        "subset_연수구 = df[연수구]\n",
        "\n",
        "인천_fast9 = subset_연수구['급속충전기(대)'].astype(int).sum()\n",
        "인천_slow9 = subset_연수구['완속충전기(대)'].astype(int).sum()\n",
        "\n",
        "new1.loc[9] = ['인천광역시', '연수구',len(df[연수구]), 인천_fast9, 인천_slow9]\n",
        "\n",
        "new1"
      ],
      "execution_count": null,
      "outputs": [
        {
          "output_type": "execute_result",
          "data": {
            "text/html": [
              "<div>\n",
              "<style scoped>\n",
              "    .dataframe tbody tr th:only-of-type {\n",
              "        vertical-align: middle;\n",
              "    }\n",
              "\n",
              "    .dataframe tbody tr th {\n",
              "        vertical-align: top;\n",
              "    }\n",
              "\n",
              "    .dataframe thead th {\n",
              "        text-align: right;\n",
              "    }\n",
              "</style>\n",
              "<table border=\"1\" class=\"dataframe\">\n",
              "  <thead>\n",
              "    <tr style=\"text-align: right;\">\n",
              "      <th></th>\n",
              "      <th>행정도시</th>\n",
              "      <th>시도</th>\n",
              "      <th>위치수</th>\n",
              "      <th>급속</th>\n",
              "      <th>완속</th>\n",
              "    </tr>\n",
              "  </thead>\n",
              "  <tbody>\n",
              "    <tr>\n",
              "      <th>1</th>\n",
              "      <td>인천광역시</td>\n",
              "      <td>계양구</td>\n",
              "      <td>8</td>\n",
              "      <td>10</td>\n",
              "      <td>4</td>\n",
              "    </tr>\n",
              "    <tr>\n",
              "      <th>2</th>\n",
              "      <td>인천광역시</td>\n",
              "      <td>부평구</td>\n",
              "      <td>13</td>\n",
              "      <td>13</td>\n",
              "      <td>24</td>\n",
              "    </tr>\n",
              "    <tr>\n",
              "      <th>3</th>\n",
              "      <td>인천광역시</td>\n",
              "      <td>서구</td>\n",
              "      <td>31</td>\n",
              "      <td>23</td>\n",
              "      <td>73</td>\n",
              "    </tr>\n",
              "    <tr>\n",
              "      <th>4</th>\n",
              "      <td>인천광역시</td>\n",
              "      <td>중구</td>\n",
              "      <td>14</td>\n",
              "      <td>14</td>\n",
              "      <td>37</td>\n",
              "    </tr>\n",
              "    <tr>\n",
              "      <th>5</th>\n",
              "      <td>인천광역시</td>\n",
              "      <td>강화군</td>\n",
              "      <td>5</td>\n",
              "      <td>5</td>\n",
              "      <td>0</td>\n",
              "    </tr>\n",
              "    <tr>\n",
              "      <th>6</th>\n",
              "      <td>인천광역시</td>\n",
              "      <td>남동구</td>\n",
              "      <td>24</td>\n",
              "      <td>24</td>\n",
              "      <td>54</td>\n",
              "    </tr>\n",
              "    <tr>\n",
              "      <th>7</th>\n",
              "      <td>인천광역시</td>\n",
              "      <td>동구</td>\n",
              "      <td>6</td>\n",
              "      <td>4</td>\n",
              "      <td>9</td>\n",
              "    </tr>\n",
              "    <tr>\n",
              "      <th>8</th>\n",
              "      <td>인천광역시</td>\n",
              "      <td>미추홀구</td>\n",
              "      <td>12</td>\n",
              "      <td>10</td>\n",
              "      <td>29</td>\n",
              "    </tr>\n",
              "    <tr>\n",
              "      <th>9</th>\n",
              "      <td>인천광역시</td>\n",
              "      <td>연수구</td>\n",
              "      <td>34</td>\n",
              "      <td>33</td>\n",
              "      <td>80</td>\n",
              "    </tr>\n",
              "  </tbody>\n",
              "</table>\n",
              "</div>"
            ],
            "text/plain": [
              "    행정도시    시도  위치수  급속  완속\n",
              "1  인천광역시   계양구    8  10   4\n",
              "2  인천광역시   부평구   13  13  24\n",
              "3  인천광역시    서구   31  23  73\n",
              "4  인천광역시    중구   14  14  37\n",
              "5  인천광역시   강화군    5   5   0\n",
              "6  인천광역시   남동구   24  24  54\n",
              "7  인천광역시    동구    6   4   9\n",
              "8  인천광역시  미추홀구   12  10  29\n",
              "9  인천광역시   연수구   34  33  80"
            ]
          },
          "metadata": {
            "tags": []
          },
          "execution_count": 19
        }
      ]
    },
    {
      "cell_type": "code",
      "metadata": {
        "colab": {
          "base_uri": "https://localhost:8080/"
        },
        "id": "WoGBAxaDoOeu",
        "outputId": "cdd21ff7-2272-4783-a837-164e1505b6e4"
      },
      "source": [
        "new1['위치수'].sum()"
      ],
      "execution_count": null,
      "outputs": [
        {
          "output_type": "execute_result",
          "data": {
            "text/plain": [
              "147"
            ]
          },
          "metadata": {
            "tags": []
          },
          "execution_count": 20
        }
      ]
    },
    {
      "cell_type": "code",
      "metadata": {
        "id": "ldT-fVfHqNRf",
        "colab": {
          "base_uri": "https://localhost:8080/"
        },
        "outputId": "a3fa097d-1394-4800-f73a-0fd225849394"
      },
      "source": [
        "new1['급속'].sum()"
      ],
      "execution_count": null,
      "outputs": [
        {
          "output_type": "execute_result",
          "data": {
            "text/plain": [
              "136"
            ]
          },
          "metadata": {
            "tags": []
          },
          "execution_count": 21
        }
      ]
    },
    {
      "cell_type": "code",
      "metadata": {
        "id": "i59uQx01qRlb",
        "colab": {
          "base_uri": "https://localhost:8080/"
        },
        "outputId": "1c4dbef2-14e6-4f28-fd51-2c8695217aeb"
      },
      "source": [
        "new1['완속'].sum()"
      ],
      "execution_count": null,
      "outputs": [
        {
          "output_type": "execute_result",
          "data": {
            "text/plain": [
              "310"
            ]
          },
          "metadata": {
            "tags": []
          },
          "execution_count": 22
        }
      ]
    },
    {
      "cell_type": "code",
      "metadata": {
        "id": "k3JDMSvhqYXp",
        "colab": {
          "base_uri": "https://localhost:8080/"
        },
        "outputId": "448dbe48-c6cd-4f8a-d009-558f2ca8bca8"
      },
      "source": [
        "new1['급속'].sum() + new1['완속'].sum()"
      ],
      "execution_count": null,
      "outputs": [
        {
          "output_type": "execute_result",
          "data": {
            "text/plain": [
              "446"
            ]
          },
          "metadata": {
            "tags": []
          },
          "execution_count": 23
        }
      ]
    },
    {
      "cell_type": "markdown",
      "metadata": {
        "id": "9IG5UYoF8Sdp"
      },
      "source": [
        "# 경기도"
      ]
    },
    {
      "cell_type": "code",
      "metadata": {
        "id": "hH_6jOPJqcJt"
      },
      "source": [
        "col = ['행정도시', '시도', '위치수', '급속', '완속']\n",
        "ind = [1,2,3,4,5]\n",
        "\n",
        "con = [[0, 0, 0, 0, 0], [0, 0, 0, 0, 0],[0, 0, 0, 0, 0], [0, 0, 0, 0, 0], [0, 0, 0, 0, 0]]\n",
        "new2 = pd.DataFrame(con, columns = col, index = ind)"
      ],
      "execution_count": null,
      "outputs": []
    },
    {
      "cell_type": "code",
      "metadata": {
        "id": "S9rg1ano8YSs",
        "colab": {
          "base_uri": "https://localhost:8080/",
          "height": 1000
        },
        "outputId": "684687f2-a00a-48c8-9cfa-e9c29887a3ac"
      },
      "source": [
        "df_경기도 = df['주소'].str.contains('경기')\n",
        "set_경기 =  df[df_경기도]\n",
        "\n",
        "df['지역'] = set_경기['주소'].str.slice(start=0, stop=8)\n",
        "\n",
        "pd.pivot_table(df, index = '지역', values = '급속충전기(대)', aggfunc = 'sum')"
      ],
      "execution_count": null,
      "outputs": [
        {
          "output_type": "execute_result",
          "data": {
            "text/html": [
              "<div>\n",
              "<style scoped>\n",
              "    .dataframe tbody tr th:only-of-type {\n",
              "        vertical-align: middle;\n",
              "    }\n",
              "\n",
              "    .dataframe tbody tr th {\n",
              "        vertical-align: top;\n",
              "    }\n",
              "\n",
              "    .dataframe thead th {\n",
              "        text-align: right;\n",
              "    }\n",
              "</style>\n",
              "<table border=\"1\" class=\"dataframe\">\n",
              "  <thead>\n",
              "    <tr style=\"text-align: right;\">\n",
              "      <th></th>\n",
              "      <th>급속충전기(대)</th>\n",
              "    </tr>\n",
              "    <tr>\n",
              "      <th>지역</th>\n",
              "      <th></th>\n",
              "    </tr>\n",
              "  </thead>\n",
              "  <tbody>\n",
              "    <tr>\n",
              "      <th>경기 고양시 일</th>\n",
              "      <td>1</td>\n",
              "    </tr>\n",
              "    <tr>\n",
              "      <th>경기 광주시 경</th>\n",
              "      <td>1</td>\n",
              "    </tr>\n",
              "    <tr>\n",
              "      <th>경기 광주시 송</th>\n",
              "      <td>0</td>\n",
              "    </tr>\n",
              "    <tr>\n",
              "      <th>경기 광주시 쌍</th>\n",
              "      <td>1</td>\n",
              "    </tr>\n",
              "    <tr>\n",
              "      <th>경기 광주시 역</th>\n",
              "      <td>1</td>\n",
              "    </tr>\n",
              "    <tr>\n",
              "      <th>경기 광주시 오</th>\n",
              "      <td>1</td>\n",
              "    </tr>\n",
              "    <tr>\n",
              "      <th>경기 광주시 장</th>\n",
              "      <td>2</td>\n",
              "    </tr>\n",
              "    <tr>\n",
              "      <th>경기 광주시 초</th>\n",
              "      <td>1</td>\n",
              "    </tr>\n",
              "    <tr>\n",
              "      <th>경기 구리시 교</th>\n",
              "      <td>0</td>\n",
              "    </tr>\n",
              "    <tr>\n",
              "      <th>경기 김포시 고</th>\n",
              "      <td>5</td>\n",
              "    </tr>\n",
              "    <tr>\n",
              "      <th>경기 김포시 장</th>\n",
              "      <td>1</td>\n",
              "    </tr>\n",
              "    <tr>\n",
              "      <th>경기 남양주시</th>\n",
              "      <td>2</td>\n",
              "    </tr>\n",
              "    <tr>\n",
              "      <th>경기 수원시 권</th>\n",
              "      <td>2</td>\n",
              "    </tr>\n",
              "    <tr>\n",
              "      <th>경기 수원시 영</th>\n",
              "      <td>1</td>\n",
              "    </tr>\n",
              "    <tr>\n",
              "      <th>경기 수원시 팔</th>\n",
              "      <td>2</td>\n",
              "    </tr>\n",
              "    <tr>\n",
              "      <th>경기 시흥시 은</th>\n",
              "      <td>1</td>\n",
              "    </tr>\n",
              "    <tr>\n",
              "      <th>경기 용인시 수</th>\n",
              "      <td>2</td>\n",
              "    </tr>\n",
              "    <tr>\n",
              "      <th>경기 용인시 처</th>\n",
              "      <td>2</td>\n",
              "    </tr>\n",
              "    <tr>\n",
              "      <th>경기 의정부시</th>\n",
              "      <td>4</td>\n",
              "    </tr>\n",
              "    <tr>\n",
              "      <th>경기 파주시 와</th>\n",
              "      <td>2</td>\n",
              "    </tr>\n",
              "    <tr>\n",
              "      <th>경기 평택시 고</th>\n",
              "      <td>1</td>\n",
              "    </tr>\n",
              "    <tr>\n",
              "      <th>경기 하남시 감</th>\n",
              "      <td>0</td>\n",
              "    </tr>\n",
              "    <tr>\n",
              "      <th>경기 화성시 반</th>\n",
              "      <td>2</td>\n",
              "    </tr>\n",
              "    <tr>\n",
              "      <th>경기도 가평군</th>\n",
              "      <td>4</td>\n",
              "    </tr>\n",
              "    <tr>\n",
              "      <th>경기도 고양시</th>\n",
              "      <td>51</td>\n",
              "    </tr>\n",
              "    <tr>\n",
              "      <th>경기도 광명시</th>\n",
              "      <td>5</td>\n",
              "    </tr>\n",
              "    <tr>\n",
              "      <th>경기도 광주시</th>\n",
              "      <td>3</td>\n",
              "    </tr>\n",
              "    <tr>\n",
              "      <th>경기도 구리시</th>\n",
              "      <td>6</td>\n",
              "    </tr>\n",
              "    <tr>\n",
              "      <th>경기도 군포시</th>\n",
              "      <td>4</td>\n",
              "    </tr>\n",
              "    <tr>\n",
              "      <th>경기도 김포시</th>\n",
              "      <td>39</td>\n",
              "    </tr>\n",
              "    <tr>\n",
              "      <th>경기도 남양주시</th>\n",
              "      <td>39</td>\n",
              "    </tr>\n",
              "    <tr>\n",
              "      <th>경기도 동두천시</th>\n",
              "      <td>6</td>\n",
              "    </tr>\n",
              "    <tr>\n",
              "      <th>경기도 부천시</th>\n",
              "      <td>14</td>\n",
              "    </tr>\n",
              "    <tr>\n",
              "      <th>경기도 성남시</th>\n",
              "      <td>23</td>\n",
              "    </tr>\n",
              "    <tr>\n",
              "      <th>경기도 송산면</th>\n",
              "      <td>1</td>\n",
              "    </tr>\n",
              "    <tr>\n",
              "      <th>경기도 수원시</th>\n",
              "      <td>72</td>\n",
              "    </tr>\n",
              "    <tr>\n",
              "      <th>경기도 시흥시</th>\n",
              "      <td>25</td>\n",
              "    </tr>\n",
              "    <tr>\n",
              "      <th>경기도 안산시</th>\n",
              "      <td>16</td>\n",
              "    </tr>\n",
              "    <tr>\n",
              "      <th>경기도 안성시</th>\n",
              "      <td>4</td>\n",
              "    </tr>\n",
              "    <tr>\n",
              "      <th>경기도 안양시</th>\n",
              "      <td>11</td>\n",
              "    </tr>\n",
              "    <tr>\n",
              "      <th>경기도 양주시</th>\n",
              "      <td>24</td>\n",
              "    </tr>\n",
              "    <tr>\n",
              "      <th>경기도 양평군</th>\n",
              "      <td>4</td>\n",
              "    </tr>\n",
              "    <tr>\n",
              "      <th>경기도 여주시</th>\n",
              "      <td>5</td>\n",
              "    </tr>\n",
              "    <tr>\n",
              "      <th>경기도 연천군</th>\n",
              "      <td>2</td>\n",
              "    </tr>\n",
              "    <tr>\n",
              "      <th>경기도 오산시</th>\n",
              "      <td>10</td>\n",
              "    </tr>\n",
              "    <tr>\n",
              "      <th>경기도 용인시</th>\n",
              "      <td>74</td>\n",
              "    </tr>\n",
              "    <tr>\n",
              "      <th>경기도 의왕시</th>\n",
              "      <td>4</td>\n",
              "    </tr>\n",
              "    <tr>\n",
              "      <th>경기도 의정부시</th>\n",
              "      <td>15</td>\n",
              "    </tr>\n",
              "    <tr>\n",
              "      <th>경기도 이천시</th>\n",
              "      <td>6</td>\n",
              "    </tr>\n",
              "    <tr>\n",
              "      <th>경기도 파주시</th>\n",
              "      <td>21</td>\n",
              "    </tr>\n",
              "    <tr>\n",
              "      <th>경기도 평택시</th>\n",
              "      <td>14</td>\n",
              "    </tr>\n",
              "    <tr>\n",
              "      <th>경기도 포천시</th>\n",
              "      <td>5</td>\n",
              "    </tr>\n",
              "    <tr>\n",
              "      <th>경기도 하남시</th>\n",
              "      <td>27</td>\n",
              "    </tr>\n",
              "    <tr>\n",
              "      <th>경기도 화성시</th>\n",
              "      <td>58</td>\n",
              "    </tr>\n",
              "  </tbody>\n",
              "</table>\n",
              "</div>"
            ],
            "text/plain": [
              "          급속충전기(대)\n",
              "지역                \n",
              "경기 고양시 일         1\n",
              "경기 광주시 경         1\n",
              "경기 광주시 송         0\n",
              "경기 광주시 쌍         1\n",
              "경기 광주시 역         1\n",
              "경기 광주시 오         1\n",
              "경기 광주시 장         2\n",
              "경기 광주시 초         1\n",
              "경기 구리시 교         0\n",
              "경기 김포시 고         5\n",
              "경기 김포시 장         1\n",
              "경기 남양주시          2\n",
              "경기 수원시 권         2\n",
              "경기 수원시 영         1\n",
              "경기 수원시 팔         2\n",
              "경기 시흥시 은         1\n",
              "경기 용인시 수         2\n",
              "경기 용인시 처         2\n",
              "경기 의정부시          4\n",
              "경기 파주시 와         2\n",
              "경기 평택시 고         1\n",
              "경기 하남시 감         0\n",
              "경기 화성시 반         2\n",
              "경기도 가평군          4\n",
              "경기도 고양시         51\n",
              "경기도 광명시          5\n",
              "경기도 광주시          3\n",
              "경기도 구리시          6\n",
              "경기도 군포시          4\n",
              "경기도 김포시         39\n",
              "경기도 남양주시        39\n",
              "경기도 동두천시         6\n",
              "경기도 부천시         14\n",
              "경기도 성남시         23\n",
              "경기도 송산면          1\n",
              "경기도 수원시         72\n",
              "경기도 시흥시         25\n",
              "경기도 안산시         16\n",
              "경기도 안성시          4\n",
              "경기도 안양시         11\n",
              "경기도 양주시         24\n",
              "경기도 양평군          4\n",
              "경기도 여주시          5\n",
              "경기도 연천군          2\n",
              "경기도 오산시         10\n",
              "경기도 용인시         74\n",
              "경기도 의왕시          4\n",
              "경기도 의정부시        15\n",
              "경기도 이천시          6\n",
              "경기도 파주시         21\n",
              "경기도 평택시         14\n",
              "경기도 포천시          5\n",
              "경기도 하남시         27\n",
              "경기도 화성시         58"
            ]
          },
          "metadata": {
            "tags": []
          },
          "execution_count": 25
        }
      ]
    },
    {
      "cell_type": "code",
      "metadata": {
        "id": "aSoLpoen8ppr",
        "colab": {
          "base_uri": "https://localhost:8080/",
          "height": 979
        },
        "outputId": "3639a1ce-aea7-4798-e1c2-08569e28450d"
      },
      "source": [
        "#경기도 구 = ['가평군', '고양시', '광명시', '광주시', '구리시', '군포시', '김포시', '남양주시', '동두천시', '부천시'] \n",
        "#경기도 구 = ['성남시', '수원시', '시흥시', '안산시', '안성시', '안양시', '양주시', '양평군', '여주시', '연천군']\n",
        "#경기도 구 = ['오산시', '용인시', '의왕시', '의정부시', '이천시', '파주시', '평택시', '포천시', '하남시', '화성시']\t\n",
        "#과천시는 피벗테이블에 없음.\n",
        "\n",
        "가평군 = df['지역'].str.contains('가평군', na = False)\n",
        "subset_가평군 = df[가평군]\n",
        "\n",
        "경기_fast1 = subset_가평군['급속충전기(대)'].astype(int).sum()\n",
        "경기_slow1 = subset_가평군['완속충전기(대)'].astype(int).sum()\n",
        "\n",
        "new2.loc[1] = ['경기도', '가평군',len(df[가평군]), 경기_fast1, 경기_slow1]\n",
        "\n",
        "고양시 = df['지역'].str.contains('고양시', na = False)\n",
        "subset_고양시 = df[고양시]\n",
        "\n",
        "경기_fast2 = subset_고양시['급속충전기(대)'].astype(int).sum()\n",
        "경기_slow2 = subset_고양시['완속충전기(대)'].astype(int).sum()\n",
        "\n",
        "new2.loc[2] = ['경기도', '고양시',len(df[고양시]), 경기_fast2, 경기_slow2]\n",
        "\n",
        "광명시 = df['지역'].str.contains('광명시', na = False)\n",
        "subset_광명시 = df[광명시]\n",
        "\n",
        "경기_fast3 = subset_광명시['급속충전기(대)'].astype(int).sum()\n",
        "경기_slow3 = subset_광명시['완속충전기(대)'].astype(int).sum()\n",
        "\n",
        "new2.loc[3] = ['경기도', '광명시',len(df[광명시]), 경기_fast3, 경기_slow3]\n",
        "\n",
        "광주시 = df['지역'].str.contains('광주시', na = False)\n",
        "subset_광주시 = df[광주시]\n",
        "\n",
        "경기_fast4 = subset_광주시['급속충전기(대)'].astype(int).sum()\n",
        "경기_slow4 = subset_광주시['완속충전기(대)'].astype(int).sum()\n",
        "\n",
        "new2.loc[4] = ['경기도', '광주시',len(df[광주시]), 경기_fast4, 경기_slow4]\n",
        "\n",
        "구리시 = df['지역'].str.contains('구리시', na = False)\n",
        "subset_구리시 = df[구리시]\n",
        "\n",
        "경기_fast5 = subset_구리시['급속충전기(대)'].astype(int).sum()\n",
        "경기_slow5 = subset_구리시['완속충전기(대)'].astype(int).sum()\n",
        "\n",
        "new2.loc[5] = ['경기도', '구리시',len(df[구리시]), 경기_fast5, 경기_slow5]\n",
        "\n",
        "군포시 = df['지역'].str.contains('군포시', na = False)\n",
        "subset_군포시 = df[군포시]\n",
        "\n",
        "경기_fast6 = subset_군포시['급속충전기(대)'].astype(int).sum()\n",
        "경기_slow6 = subset_군포시['완속충전기(대)'].astype(int).sum()\n",
        "\n",
        "new2.loc[6] = ['경기도', '군포시',len(df[군포시]), 경기_fast6, 경기_slow6]\n",
        "\n",
        "김포시 = df['지역'].str.contains('김포시', na = False)\n",
        "subset_김포시 = df[김포시]\n",
        "\n",
        "경기_fast7 = subset_김포시['급속충전기(대)'].astype(int).sum()\n",
        "경기_slow7 = subset_김포시['완속충전기(대)'].astype(int).sum()\n",
        "\n",
        "new2.loc[7] = ['경기도', '김포시',len(df[김포시]), 경기_fast7, 경기_slow7]\n",
        "\n",
        "남양주시 = df['지역'].str.contains('남양주시', na = False)\n",
        "subset_남양주시 = df[남양주시]\n",
        "\n",
        "경기_fast8 = subset_남양주시['급속충전기(대)'].astype(int).sum()\n",
        "경기_slow8 = subset_남양주시['완속충전기(대)'].astype(int).sum()\n",
        "\n",
        "new2.loc[8] = ['경기도', '남양주시',len(df[남양주시]), 경기_fast8, 경기_slow8]\n",
        "\n",
        "동두천시 = df['지역'].str.contains('동두천시', na = False)\n",
        "subset_동두천시 = df[동두천시]\n",
        "\n",
        "경기_fast9 = subset_동두천시['급속충전기(대)'].astype(int).sum()\n",
        "경기_slow9 = subset_동두천시['완속충전기(대)'].astype(int).sum()\n",
        "\n",
        "new2.loc[9] = ['경기도', '동두천시',len(df[동두천시]), 경기_fast9, 경기_slow9]\n",
        "\n",
        "부천시 = df['지역'].str.contains('부천시', na = False)\n",
        "subset_부천시 = df[부천시]\n",
        "\n",
        "경기_fast10 = subset_부천시['급속충전기(대)'].astype(int).sum()\n",
        "경기_slow10 = subset_부천시['완속충전기(대)'].astype(int).sum()\n",
        "\n",
        "new2.loc[10] = ['경기도', '부천시',len(df[부천시]), 경기_fast10, 경기_slow10]\n",
        "\n",
        "성남시 = df['지역'].str.contains('성남시', na = False)\n",
        "subset_성남시 = df[성남시]\n",
        "\n",
        "경기_fast11 = subset_성남시['급속충전기(대)'].astype(int).sum()\n",
        "경기_slow11 = subset_성남시['완속충전기(대)'].astype(int).sum()\n",
        "\n",
        "new2.loc[11] = ['경기도', '성남시',len(df[성남시]), 경기_fast11, 경기_slow11]\n",
        "\n",
        "수원시 = df['지역'].str.contains('수원시', na = False)\n",
        "subset_수원시 = df[수원시]\n",
        "\n",
        "경기_fast12 = subset_수원시['급속충전기(대)'].astype(int).sum()\n",
        "경기_slow12 = subset_수원시['완속충전기(대)'].astype(int).sum()\n",
        "\n",
        "new2.loc[12] = ['경기도', '수원시',len(df[수원시]), 경기_fast12, 경기_slow12]\n",
        "\n",
        "시흥시 = df['지역'].str.contains('시흥시', na = False)\n",
        "subset_시흥시 = df[시흥시]\n",
        "\n",
        "경기_fast13 = subset_시흥시['급속충전기(대)'].astype(int).sum()\n",
        "경기_slow13 = subset_시흥시['완속충전기(대)'].astype(int).sum()\n",
        "\n",
        "new2.loc[13] = ['경기도', '시흥시',len(df[시흥시]), 경기_fast13, 경기_slow13]\n",
        "\n",
        "안산시 = df['지역'].str.contains('안산시', na = False)\n",
        "subset_안산시 = df[안산시]\n",
        "\n",
        "경기_fast14 = subset_안산시['급속충전기(대)'].astype(int).sum()\n",
        "경기_slow14 = subset_안산시['완속충전기(대)'].astype(int).sum()\n",
        "\n",
        "new2.loc[14] = ['경기도', '안산시',len(df[안산시]), 경기_fast14, 경기_slow14]\n",
        "\n",
        "안성시 = df['지역'].str.contains('안성시', na = False)\n",
        "subset_안성시 = df[안성시]\n",
        "\n",
        "경기_fast15 = subset_안성시['급속충전기(대)'].astype(int).sum()\n",
        "경기_slow15 = subset_안성시['완속충전기(대)'].astype(int).sum()\n",
        "\n",
        "new2.loc[15] = ['경기도', '안성시',len(df[안성시]), 경기_fast15, 경기_slow15]\n",
        "\n",
        "안양시 = df['지역'].str.contains('안양시', na = False)\n",
        "subset_안양시 = df[안양시]\n",
        "\n",
        "경기_fast16 = subset_안양시['급속충전기(대)'].astype(int).sum()\n",
        "경기_slow16 = subset_안양시['완속충전기(대)'].astype(int).sum()\n",
        "\n",
        "new2.loc[16] = ['경기도', '안양시',len(df[안양시]), 경기_fast16, 경기_slow16]\n",
        "\n",
        "양주시 = df['지역'].str.contains('양주시', na = False)\n",
        "subset_양주시 = df[양주시]\n",
        "\n",
        "경기_fast17 = subset_양주시['급속충전기(대)'].astype(int).sum()\n",
        "경기_slow17 = subset_양주시['완속충전기(대)'].astype(int).sum()\n",
        "\n",
        "new2.loc[17] = ['경기도', '양주시',len(df[양주시]), 경기_fast17, 경기_slow17]\n",
        "\n",
        "양평군 = df['지역'].str.contains('양평군', na = False)\n",
        "subset_양평군 = df[양평군]\n",
        "\n",
        "경기_fast18 = subset_양평군['급속충전기(대)'].astype(int).sum()\n",
        "경기_slow18 = subset_양평군['완속충전기(대)'].astype(int).sum()\n",
        "\n",
        "new2.loc[18] = ['경기도', '양평군',len(df[양평군]), 경기_fast18, 경기_slow18]\n",
        "\n",
        "여주시 = df['지역'].str.contains('여주시', na = False)\n",
        "subset_여주시 = df[여주시]\n",
        "\n",
        "경기_fast19 = subset_여주시['급속충전기(대)'].astype(int).sum()\n",
        "경기_slow19 = subset_여주시['완속충전기(대)'].astype(int).sum()\n",
        "\n",
        "new2.loc[19] = ['경기도', '여주시',len(df[여주시]), 경기_fast19, 경기_slow19]\n",
        "\n",
        "연천군 = df['지역'].str.contains('연천군', na = False)\n",
        "subset_연천군 = df[연천군]\n",
        "\n",
        "경기_fast20 = subset_연천군['급속충전기(대)'].astype(int).sum()\n",
        "경기_slow20 = subset_연천군['완속충전기(대)'].astype(int).sum()\n",
        "\n",
        "new2.loc[20] = ['경기도', '연천군',len(df[연천군]), 경기_fast20, 경기_slow20]\n",
        "\n",
        "오산시 = df['지역'].str.contains('오산시', na = False)\n",
        "subset_오산시 = df[오산시]\n",
        "\n",
        "경기_fast21 = subset_오산시['급속충전기(대)'].astype(int).sum()\n",
        "경기_slow21 = subset_오산시['완속충전기(대)'].astype(int).sum()\n",
        "\n",
        "new2.loc[21] = ['경기도', '오산시',len(df[오산시]), 경기_fast21, 경기_slow21]\n",
        "\n",
        "용인시 = df['지역'].str.contains('용인시', na = False)\n",
        "subset_용인시 = df[용인시]\n",
        "\n",
        "경기_fast22 = subset_용인시['급속충전기(대)'].astype(int).sum()\n",
        "경기_slow22 = subset_용인시['완속충전기(대)'].astype(int).sum()\n",
        "\n",
        "new2.loc[22] = ['경기도', '용인시',len(df[용인시]), 경기_fast22, 경기_slow22]\n",
        "\n",
        "의왕시 = df['지역'].str.contains('의왕시', na = False)\n",
        "subset_의왕시 = df[의왕시]\n",
        "\n",
        "경기_fast23 = subset_의왕시['급속충전기(대)'].astype(int).sum()\n",
        "경기_slow23 = subset_의왕시['완속충전기(대)'].astype(int).sum()\n",
        "\n",
        "new2.loc[23] = ['경기도', '의왕시',len(df[의왕시]), 경기_fast23, 경기_slow23]\n",
        "\n",
        "의정부시 = df['지역'].str.contains('의정부시', na = False)\n",
        "subset_의정부시 = df[의정부시]\n",
        "\n",
        "경기_fast24 = subset_의정부시['급속충전기(대)'].astype(int).sum()\n",
        "경기_slow24 = subset_의정부시['완속충전기(대)'].astype(int).sum()\n",
        "\n",
        "new2.loc[24] = ['경기도', '의정부시',len(df[의정부시]), 경기_fast24, 경기_slow24]\n",
        "\n",
        "이천시 = df['지역'].str.contains('이천시', na = False)\n",
        "subset_이천시 = df[이천시]\n",
        "\n",
        "경기_fast25 = subset_이천시['급속충전기(대)'].astype(int).sum()\n",
        "경기_slow25 = subset_이천시['완속충전기(대)'].astype(int).sum()\n",
        "\n",
        "new2.loc[25] = ['경기도', '이천시',len(df[이천시]), 경기_fast25, 경기_slow25]\n",
        "\n",
        "파주시 = df['지역'].str.contains('파주시', na = False)\n",
        "subset_파주시 = df[파주시]\n",
        "\n",
        "경기_fast26 = subset_파주시['급속충전기(대)'].astype(int).sum()\n",
        "경기_slow26 = subset_파주시['완속충전기(대)'].astype(int).sum()\n",
        "\n",
        "new2.loc[26] = ['경기도', '파주시',len(df[파주시]), 경기_fast26, 경기_slow26]\n",
        "\n",
        "평택시 = df['지역'].str.contains('평택시', na = False)\n",
        "subset_평택시 = df[평택시]\n",
        "\n",
        "경기_fast27 = subset_평택시['급속충전기(대)'].astype(int).sum()\n",
        "경기_slow27 = subset_평택시['완속충전기(대)'].astype(int).sum()\n",
        "\n",
        "new2.loc[27] = ['경기도', '평택시',len(df[평택시]), 경기_fast27, 경기_slow27]\n",
        "\n",
        "포천시 = df['지역'].str.contains('포천시', na = False)\n",
        "subset_포천시 = df[포천시]\n",
        "\n",
        "경기_fast28 = subset_포천시['급속충전기(대)'].astype(int).sum()\n",
        "경기_slow28 = subset_포천시['완속충전기(대)'].astype(int).sum()\n",
        "\n",
        "new2.loc[28] = ['경기도', '포천시',len(df[포천시]), 경기_fast28, 경기_slow28]\n",
        "\n",
        "하남시 = df['지역'].str.contains('하남시', na = False)\n",
        "subset_하남시 = df[하남시]\n",
        "\n",
        "경기_fast29 = subset_하남시['급속충전기(대)'].astype(int).sum()\n",
        "경기_slow29 = subset_하남시['완속충전기(대)'].astype(int).sum()\n",
        "\n",
        "new2.loc[29] = ['경기도', '하남시',len(df[하남시]), 경기_fast29, 경기_slow29]\n",
        "\n",
        "화성시 = df['지역'].str.contains('화성시', na = False)\n",
        "subset_화성시 = df[화성시]\n",
        "\n",
        "경기_fast30 = subset_화성시['급속충전기(대)'].astype(int).sum()\n",
        "경기_slow30 = subset_화성시['완속충전기(대)'].astype(int).sum()\n",
        "\n",
        "new2.loc[30] = ['경기도', '화성시',len(df[화성시]), 경기_fast30, 경기_slow30]\n",
        "\n",
        "new2"
      ],
      "execution_count": null,
      "outputs": [
        {
          "output_type": "execute_result",
          "data": {
            "text/html": [
              "<div>\n",
              "<style scoped>\n",
              "    .dataframe tbody tr th:only-of-type {\n",
              "        vertical-align: middle;\n",
              "    }\n",
              "\n",
              "    .dataframe tbody tr th {\n",
              "        vertical-align: top;\n",
              "    }\n",
              "\n",
              "    .dataframe thead th {\n",
              "        text-align: right;\n",
              "    }\n",
              "</style>\n",
              "<table border=\"1\" class=\"dataframe\">\n",
              "  <thead>\n",
              "    <tr style=\"text-align: right;\">\n",
              "      <th></th>\n",
              "      <th>행정도시</th>\n",
              "      <th>시도</th>\n",
              "      <th>위치수</th>\n",
              "      <th>급속</th>\n",
              "      <th>완속</th>\n",
              "    </tr>\n",
              "  </thead>\n",
              "  <tbody>\n",
              "    <tr>\n",
              "      <th>1</th>\n",
              "      <td>경기도</td>\n",
              "      <td>가평군</td>\n",
              "      <td>4</td>\n",
              "      <td>4</td>\n",
              "      <td>1</td>\n",
              "    </tr>\n",
              "    <tr>\n",
              "      <th>2</th>\n",
              "      <td>경기도</td>\n",
              "      <td>고양시</td>\n",
              "      <td>65</td>\n",
              "      <td>52</td>\n",
              "      <td>140</td>\n",
              "    </tr>\n",
              "    <tr>\n",
              "      <th>3</th>\n",
              "      <td>경기도</td>\n",
              "      <td>광명시</td>\n",
              "      <td>5</td>\n",
              "      <td>5</td>\n",
              "      <td>14</td>\n",
              "    </tr>\n",
              "    <tr>\n",
              "      <th>4</th>\n",
              "      <td>경기도</td>\n",
              "      <td>광주시</td>\n",
              "      <td>18</td>\n",
              "      <td>10</td>\n",
              "      <td>24</td>\n",
              "    </tr>\n",
              "    <tr>\n",
              "      <th>5</th>\n",
              "      <td>경기도</td>\n",
              "      <td>구리시</td>\n",
              "      <td>7</td>\n",
              "      <td>6</td>\n",
              "      <td>13</td>\n",
              "    </tr>\n",
              "    <tr>\n",
              "      <th>6</th>\n",
              "      <td>경기도</td>\n",
              "      <td>군포시</td>\n",
              "      <td>6</td>\n",
              "      <td>4</td>\n",
              "      <td>14</td>\n",
              "    </tr>\n",
              "    <tr>\n",
              "      <th>7</th>\n",
              "      <td>경기도</td>\n",
              "      <td>김포시</td>\n",
              "      <td>46</td>\n",
              "      <td>45</td>\n",
              "      <td>78</td>\n",
              "    </tr>\n",
              "    <tr>\n",
              "      <th>8</th>\n",
              "      <td>경기도</td>\n",
              "      <td>남양주시</td>\n",
              "      <td>45</td>\n",
              "      <td>41</td>\n",
              "      <td>103</td>\n",
              "    </tr>\n",
              "    <tr>\n",
              "      <th>9</th>\n",
              "      <td>경기도</td>\n",
              "      <td>동두천시</td>\n",
              "      <td>6</td>\n",
              "      <td>6</td>\n",
              "      <td>8</td>\n",
              "    </tr>\n",
              "    <tr>\n",
              "      <th>10</th>\n",
              "      <td>경기도</td>\n",
              "      <td>부천시</td>\n",
              "      <td>23</td>\n",
              "      <td>14</td>\n",
              "      <td>43</td>\n",
              "    </tr>\n",
              "    <tr>\n",
              "      <th>11</th>\n",
              "      <td>경기도</td>\n",
              "      <td>성남시</td>\n",
              "      <td>32</td>\n",
              "      <td>23</td>\n",
              "      <td>72</td>\n",
              "    </tr>\n",
              "    <tr>\n",
              "      <th>12</th>\n",
              "      <td>경기도</td>\n",
              "      <td>수원시</td>\n",
              "      <td>68</td>\n",
              "      <td>77</td>\n",
              "      <td>155</td>\n",
              "    </tr>\n",
              "    <tr>\n",
              "      <th>13</th>\n",
              "      <td>경기도</td>\n",
              "      <td>시흥시</td>\n",
              "      <td>34</td>\n",
              "      <td>26</td>\n",
              "      <td>51</td>\n",
              "    </tr>\n",
              "    <tr>\n",
              "      <th>14</th>\n",
              "      <td>경기도</td>\n",
              "      <td>안산시</td>\n",
              "      <td>17</td>\n",
              "      <td>16</td>\n",
              "      <td>32</td>\n",
              "    </tr>\n",
              "    <tr>\n",
              "      <th>15</th>\n",
              "      <td>경기도</td>\n",
              "      <td>안성시</td>\n",
              "      <td>5</td>\n",
              "      <td>4</td>\n",
              "      <td>10</td>\n",
              "    </tr>\n",
              "    <tr>\n",
              "      <th>16</th>\n",
              "      <td>경기도</td>\n",
              "      <td>안양시</td>\n",
              "      <td>16</td>\n",
              "      <td>11</td>\n",
              "      <td>49</td>\n",
              "    </tr>\n",
              "    <tr>\n",
              "      <th>17</th>\n",
              "      <td>경기도</td>\n",
              "      <td>양주시</td>\n",
              "      <td>65</td>\n",
              "      <td>65</td>\n",
              "      <td>135</td>\n",
              "    </tr>\n",
              "    <tr>\n",
              "      <th>18</th>\n",
              "      <td>경기도</td>\n",
              "      <td>양평군</td>\n",
              "      <td>5</td>\n",
              "      <td>4</td>\n",
              "      <td>6</td>\n",
              "    </tr>\n",
              "    <tr>\n",
              "      <th>19</th>\n",
              "      <td>경기도</td>\n",
              "      <td>여주시</td>\n",
              "      <td>4</td>\n",
              "      <td>5</td>\n",
              "      <td>6</td>\n",
              "    </tr>\n",
              "    <tr>\n",
              "      <th>20</th>\n",
              "      <td>경기도</td>\n",
              "      <td>연천군</td>\n",
              "      <td>2</td>\n",
              "      <td>2</td>\n",
              "      <td>0</td>\n",
              "    </tr>\n",
              "    <tr>\n",
              "      <th>21</th>\n",
              "      <td>경기도</td>\n",
              "      <td>오산시</td>\n",
              "      <td>10</td>\n",
              "      <td>10</td>\n",
              "      <td>25</td>\n",
              "    </tr>\n",
              "    <tr>\n",
              "      <th>22</th>\n",
              "      <td>경기도</td>\n",
              "      <td>용인시</td>\n",
              "      <td>98</td>\n",
              "      <td>78</td>\n",
              "      <td>148</td>\n",
              "    </tr>\n",
              "    <tr>\n",
              "      <th>23</th>\n",
              "      <td>경기도</td>\n",
              "      <td>의왕시</td>\n",
              "      <td>8</td>\n",
              "      <td>4</td>\n",
              "      <td>14</td>\n",
              "    </tr>\n",
              "    <tr>\n",
              "      <th>24</th>\n",
              "      <td>경기도</td>\n",
              "      <td>의정부시</td>\n",
              "      <td>25</td>\n",
              "      <td>19</td>\n",
              "      <td>57</td>\n",
              "    </tr>\n",
              "    <tr>\n",
              "      <th>25</th>\n",
              "      <td>경기도</td>\n",
              "      <td>이천시</td>\n",
              "      <td>9</td>\n",
              "      <td>6</td>\n",
              "      <td>13</td>\n",
              "    </tr>\n",
              "    <tr>\n",
              "      <th>26</th>\n",
              "      <td>경기도</td>\n",
              "      <td>파주시</td>\n",
              "      <td>20</td>\n",
              "      <td>23</td>\n",
              "      <td>47</td>\n",
              "    </tr>\n",
              "    <tr>\n",
              "      <th>27</th>\n",
              "      <td>경기도</td>\n",
              "      <td>평택시</td>\n",
              "      <td>21</td>\n",
              "      <td>15</td>\n",
              "      <td>52</td>\n",
              "    </tr>\n",
              "    <tr>\n",
              "      <th>28</th>\n",
              "      <td>경기도</td>\n",
              "      <td>포천시</td>\n",
              "      <td>6</td>\n",
              "      <td>5</td>\n",
              "      <td>6</td>\n",
              "    </tr>\n",
              "    <tr>\n",
              "      <th>29</th>\n",
              "      <td>경기도</td>\n",
              "      <td>하남시</td>\n",
              "      <td>30</td>\n",
              "      <td>27</td>\n",
              "      <td>63</td>\n",
              "    </tr>\n",
              "    <tr>\n",
              "      <th>30</th>\n",
              "      <td>경기도</td>\n",
              "      <td>화성시</td>\n",
              "      <td>61</td>\n",
              "      <td>60</td>\n",
              "      <td>103</td>\n",
              "    </tr>\n",
              "  </tbody>\n",
              "</table>\n",
              "</div>"
            ],
            "text/plain": [
              "   행정도시    시도  위치수  급속   완속\n",
              "1   경기도   가평군    4   4    1\n",
              "2   경기도   고양시   65  52  140\n",
              "3   경기도   광명시    5   5   14\n",
              "4   경기도   광주시   18  10   24\n",
              "5   경기도   구리시    7   6   13\n",
              "6   경기도   군포시    6   4   14\n",
              "7   경기도   김포시   46  45   78\n",
              "8   경기도  남양주시   45  41  103\n",
              "9   경기도  동두천시    6   6    8\n",
              "10  경기도   부천시   23  14   43\n",
              "11  경기도   성남시   32  23   72\n",
              "12  경기도   수원시   68  77  155\n",
              "13  경기도   시흥시   34  26   51\n",
              "14  경기도   안산시   17  16   32\n",
              "15  경기도   안성시    5   4   10\n",
              "16  경기도   안양시   16  11   49\n",
              "17  경기도   양주시   65  65  135\n",
              "18  경기도   양평군    5   4    6\n",
              "19  경기도   여주시    4   5    6\n",
              "20  경기도   연천군    2   2    0\n",
              "21  경기도   오산시   10  10   25\n",
              "22  경기도   용인시   98  78  148\n",
              "23  경기도   의왕시    8   4   14\n",
              "24  경기도  의정부시   25  19   57\n",
              "25  경기도   이천시    9   6   13\n",
              "26  경기도   파주시   20  23   47\n",
              "27  경기도   평택시   21  15   52\n",
              "28  경기도   포천시    6   5    6\n",
              "29  경기도   하남시   30  27   63\n",
              "30  경기도   화성시   61  60  103"
            ]
          },
          "metadata": {
            "tags": []
          },
          "execution_count": 26
        }
      ]
    },
    {
      "cell_type": "code",
      "metadata": {
        "colab": {
          "base_uri": "https://localhost:8080/"
        },
        "id": "6CUXhPlYCAkC",
        "outputId": "9cc1b2ef-ea5c-47cf-9368-40a1a12cc585"
      },
      "source": [
        "new2['위치수'].sum()"
      ],
      "execution_count": null,
      "outputs": [
        {
          "output_type": "execute_result",
          "data": {
            "text/plain": [
              "761"
            ]
          },
          "metadata": {
            "tags": []
          },
          "execution_count": 27
        }
      ]
    },
    {
      "cell_type": "code",
      "metadata": {
        "id": "1HgIin0-JiAZ",
        "colab": {
          "base_uri": "https://localhost:8080/"
        },
        "outputId": "16acb2b5-4b36-44e3-a9f7-10613f2c3670"
      },
      "source": [
        "new2['급속'].sum()"
      ],
      "execution_count": null,
      "outputs": [
        {
          "output_type": "execute_result",
          "data": {
            "text/plain": [
              "667"
            ]
          },
          "metadata": {
            "tags": []
          },
          "execution_count": 28
        }
      ]
    },
    {
      "cell_type": "code",
      "metadata": {
        "id": "v3oiPRtjJkQz",
        "colab": {
          "base_uri": "https://localhost:8080/"
        },
        "outputId": "02104e2e-40b4-4aeb-abe3-da0cd188ea12"
      },
      "source": [
        "new2['완속'].sum()"
      ],
      "execution_count": null,
      "outputs": [
        {
          "output_type": "execute_result",
          "data": {
            "text/plain": [
              "1482"
            ]
          },
          "metadata": {
            "tags": []
          },
          "execution_count": 29
        }
      ]
    },
    {
      "cell_type": "code",
      "metadata": {
        "id": "RHFdnwlDJm7I",
        "colab": {
          "base_uri": "https://localhost:8080/"
        },
        "outputId": "eff710ea-8097-4bd9-877b-ccf48387d355"
      },
      "source": [
        "new2['급속'].sum() + new2['완속'].sum()"
      ],
      "execution_count": null,
      "outputs": [
        {
          "output_type": "execute_result",
          "data": {
            "text/plain": [
              "2149"
            ]
          },
          "metadata": {
            "tags": []
          },
          "execution_count": 30
        }
      ]
    },
    {
      "cell_type": "markdown",
      "metadata": {
        "id": "tq6-jOhsTEGf"
      },
      "source": [
        "# 강원도"
      ]
    },
    {
      "cell_type": "code",
      "metadata": {
        "id": "Z1a61FD8Jvhu"
      },
      "source": [
        "col = ['행정도시', '시도', '위치수', '급속', '완속']\n",
        "ind = [1,2,3,4,5]\n",
        "\n",
        "con = [[0, 0, 0, 0, 0], [0, 0, 0, 0, 0],[0, 0, 0, 0, 0], [0, 0, 0, 0, 0], [0, 0, 0, 0, 0]]\n",
        "new3 = pd.DataFrame(con, columns = col, index = ind)"
      ],
      "execution_count": null,
      "outputs": []
    },
    {
      "cell_type": "code",
      "metadata": {
        "colab": {
          "base_uri": "https://localhost:8080/",
          "height": 1000
        },
        "id": "mlS1Wwf1TIRY",
        "outputId": "80d2b588-c502-4d36-a86b-5bc1f9d481d4"
      },
      "source": [
        "df_강원도 = df['주소'].str.contains('강원')\n",
        "set_강원 =  df[df_강원도]\n",
        "\n",
        "df['지역'] = set_강원['주소'].str.slice(start=0, stop=8)\n",
        "\n",
        "pd.pivot_table(df, index = '지역', values = '급속충전기(대)', aggfunc = 'sum')"
      ],
      "execution_count": null,
      "outputs": [
        {
          "output_type": "execute_result",
          "data": {
            "text/html": [
              "<div>\n",
              "<style scoped>\n",
              "    .dataframe tbody tr th:only-of-type {\n",
              "        vertical-align: middle;\n",
              "    }\n",
              "\n",
              "    .dataframe tbody tr th {\n",
              "        vertical-align: top;\n",
              "    }\n",
              "\n",
              "    .dataframe thead th {\n",
              "        text-align: right;\n",
              "    }\n",
              "</style>\n",
              "<table border=\"1\" class=\"dataframe\">\n",
              "  <thead>\n",
              "    <tr style=\"text-align: right;\">\n",
              "      <th></th>\n",
              "      <th>급속충전기(대)</th>\n",
              "    </tr>\n",
              "    <tr>\n",
              "      <th>지역</th>\n",
              "      <th></th>\n",
              "    </tr>\n",
              "  </thead>\n",
              "  <tbody>\n",
              "    <tr>\n",
              "      <th>강원 강릉시 교</th>\n",
              "      <td>0</td>\n",
              "    </tr>\n",
              "    <tr>\n",
              "      <th>강원 강릉시 내</th>\n",
              "      <td>0</td>\n",
              "    </tr>\n",
              "    <tr>\n",
              "      <th>강원 강릉시 유</th>\n",
              "      <td>0</td>\n",
              "    </tr>\n",
              "    <tr>\n",
              "      <th>강원 강릉시 입</th>\n",
              "      <td>0</td>\n",
              "    </tr>\n",
              "    <tr>\n",
              "      <th>강원 강릉시 포</th>\n",
              "      <td>0</td>\n",
              "    </tr>\n",
              "    <tr>\n",
              "      <th>강원 동해시 용</th>\n",
              "      <td>0</td>\n",
              "    </tr>\n",
              "    <tr>\n",
              "      <th>강원 동해시 이</th>\n",
              "      <td>0</td>\n",
              "    </tr>\n",
              "    <tr>\n",
              "      <th>강원 동해시 천</th>\n",
              "      <td>2</td>\n",
              "    </tr>\n",
              "    <tr>\n",
              "      <th>강원 동해시 평</th>\n",
              "      <td>1</td>\n",
              "    </tr>\n",
              "    <tr>\n",
              "      <th>강원 양양군 강</th>\n",
              "      <td>0</td>\n",
              "    </tr>\n",
              "    <tr>\n",
              "      <th>강원 양양군 양</th>\n",
              "      <td>2</td>\n",
              "    </tr>\n",
              "    <tr>\n",
              "      <th>강원 원주시 태</th>\n",
              "      <td>1</td>\n",
              "    </tr>\n",
              "    <tr>\n",
              "      <th>강원 춘천시 동</th>\n",
              "      <td>0</td>\n",
              "    </tr>\n",
              "    <tr>\n",
              "      <th>강원 춘천시 석</th>\n",
              "      <td>2</td>\n",
              "    </tr>\n",
              "    <tr>\n",
              "      <th>강원 춘천시 칠</th>\n",
              "      <td>1</td>\n",
              "    </tr>\n",
              "    <tr>\n",
              "      <th>강원 태백시 화</th>\n",
              "      <td>1</td>\n",
              "    </tr>\n",
              "    <tr>\n",
              "      <th>강원 태백시 황</th>\n",
              "      <td>1</td>\n",
              "    </tr>\n",
              "    <tr>\n",
              "      <th>강원 평창군 대</th>\n",
              "      <td>0</td>\n",
              "    </tr>\n",
              "    <tr>\n",
              "      <th>강원 평창군 봉</th>\n",
              "      <td>1</td>\n",
              "    </tr>\n",
              "    <tr>\n",
              "      <th>강원 횡성군 횡</th>\n",
              "      <td>2</td>\n",
              "    </tr>\n",
              "    <tr>\n",
              "      <th>강원도 강릉시</th>\n",
              "      <td>31</td>\n",
              "    </tr>\n",
              "    <tr>\n",
              "      <th>강원도 고성군</th>\n",
              "      <td>2</td>\n",
              "    </tr>\n",
              "    <tr>\n",
              "      <th>강원도 동해시</th>\n",
              "      <td>3</td>\n",
              "    </tr>\n",
              "    <tr>\n",
              "      <th>강원도 삼척시</th>\n",
              "      <td>7</td>\n",
              "    </tr>\n",
              "    <tr>\n",
              "      <th>강원도 속초시</th>\n",
              "      <td>6</td>\n",
              "    </tr>\n",
              "    <tr>\n",
              "      <th>강원도 양구군</th>\n",
              "      <td>4</td>\n",
              "    </tr>\n",
              "    <tr>\n",
              "      <th>강원도 양양군</th>\n",
              "      <td>1</td>\n",
              "    </tr>\n",
              "    <tr>\n",
              "      <th>강원도 영월군</th>\n",
              "      <td>3</td>\n",
              "    </tr>\n",
              "    <tr>\n",
              "      <th>강원도 원주시</th>\n",
              "      <td>29</td>\n",
              "    </tr>\n",
              "    <tr>\n",
              "      <th>강원도 인제군</th>\n",
              "      <td>0</td>\n",
              "    </tr>\n",
              "    <tr>\n",
              "      <th>강원도 정선군</th>\n",
              "      <td>4</td>\n",
              "    </tr>\n",
              "    <tr>\n",
              "      <th>강원도 철원군</th>\n",
              "      <td>1</td>\n",
              "    </tr>\n",
              "    <tr>\n",
              "      <th>강원도 춘천시</th>\n",
              "      <td>19</td>\n",
              "    </tr>\n",
              "    <tr>\n",
              "      <th>강원도 평창군</th>\n",
              "      <td>8</td>\n",
              "    </tr>\n",
              "    <tr>\n",
              "      <th>강원도 홍천군</th>\n",
              "      <td>6</td>\n",
              "    </tr>\n",
              "    <tr>\n",
              "      <th>강원도 화천군</th>\n",
              "      <td>0</td>\n",
              "    </tr>\n",
              "    <tr>\n",
              "      <th>강원도 횡성군</th>\n",
              "      <td>0</td>\n",
              "    </tr>\n",
              "  </tbody>\n",
              "</table>\n",
              "</div>"
            ],
            "text/plain": [
              "          급속충전기(대)\n",
              "지역                \n",
              "강원 강릉시 교         0\n",
              "강원 강릉시 내         0\n",
              "강원 강릉시 유         0\n",
              "강원 강릉시 입         0\n",
              "강원 강릉시 포         0\n",
              "강원 동해시 용         0\n",
              "강원 동해시 이         0\n",
              "강원 동해시 천         2\n",
              "강원 동해시 평         1\n",
              "강원 양양군 강         0\n",
              "강원 양양군 양         2\n",
              "강원 원주시 태         1\n",
              "강원 춘천시 동         0\n",
              "강원 춘천시 석         2\n",
              "강원 춘천시 칠         1\n",
              "강원 태백시 화         1\n",
              "강원 태백시 황         1\n",
              "강원 평창군 대         0\n",
              "강원 평창군 봉         1\n",
              "강원 횡성군 횡         2\n",
              "강원도 강릉시         31\n",
              "강원도 고성군          2\n",
              "강원도 동해시          3\n",
              "강원도 삼척시          7\n",
              "강원도 속초시          6\n",
              "강원도 양구군          4\n",
              "강원도 양양군          1\n",
              "강원도 영월군          3\n",
              "강원도 원주시         29\n",
              "강원도 인제군          0\n",
              "강원도 정선군          4\n",
              "강원도 철원군          1\n",
              "강원도 춘천시         19\n",
              "강원도 평창군          8\n",
              "강원도 홍천군          6\n",
              "강원도 화천군          0\n",
              "강원도 횡성군          0"
            ]
          },
          "metadata": {
            "tags": []
          },
          "execution_count": 32
        }
      ]
    },
    {
      "cell_type": "code",
      "metadata": {
        "id": "RN82frSTTSRM"
      },
      "source": [
        "#강원도 구 = ['강릉시', '고성군', '동해시', '삼척시', '속초시', '양구군', '양양군', '영월군', '원주시', '인제군', '정선군', '철원군', '춘천시', '태백시','평창군', '홍천군', '화천군', '횡성군']"
      ],
      "execution_count": null,
      "outputs": []
    },
    {
      "cell_type": "code",
      "metadata": {
        "colab": {
          "base_uri": "https://localhost:8080/",
          "height": 607
        },
        "id": "nCgOeQDrUnA1",
        "outputId": "c6c3c405-f225-4e9b-fec8-530eece90a3f"
      },
      "source": [
        "강릉시 = df['지역'].str.contains('강릉시', na = False)\n",
        "subset_강릉시 = df[강릉시]\n",
        "\n",
        "강원_fast1 = subset_강릉시['급속충전기(대)'].astype(int).sum()\n",
        "강원_slow1 = subset_강릉시['완속충전기(대)'].astype(int).sum()\n",
        "\n",
        "new3.loc[1] = ['강원도', '강릉시',len(df[강릉시]), 강원_fast1, 강원_slow1]\n",
        "\n",
        "고성군 = df['지역'].str.contains('고성군', na = False)\n",
        "subset_고성군 = df[고성군]\n",
        "\n",
        "강원_fast2 = subset_고성군['급속충전기(대)'].astype(int).sum()\n",
        "강원_slow2 = subset_고성군['완속충전기(대)'].astype(int).sum()\n",
        "\n",
        "new3.loc[2] = ['강원도', '고성군',len(df[고성군]), 강원_fast2, 강원_slow2]\n",
        "\n",
        "동해시 = df['지역'].str.contains('동해시', na = False)\n",
        "subset_동해시 = df[동해시]\n",
        "\n",
        "강원_fast3 = subset_동해시['급속충전기(대)'].astype(int).sum()\n",
        "강원_slow3 = subset_동해시['완속충전기(대)'].astype(int).sum()\n",
        "\n",
        "new3.loc[3] = ['강원도', '동해시',len(df[동해시]), 강원_fast3, 강원_slow3]\n",
        "\n",
        "삼척시 = df['지역'].str.contains('삼척시', na = False)\n",
        "subset_삼척시 = df[삼척시]\n",
        "\n",
        "강원_fast4 = subset_삼척시['급속충전기(대)'].astype(int).sum()\n",
        "강원_slow4 = subset_삼척시['완속충전기(대)'].astype(int).sum()\n",
        "\n",
        "new3.loc[4] = ['강원도', '삼척시',len(df[삼척시]), 강원_fast4, 강원_slow4]\n",
        "\n",
        "속초시 = df['지역'].str.contains('속초시', na = False)\n",
        "subset_속초시 = df[속초시]\n",
        "\n",
        "강원_fast5 = subset_속초시['급속충전기(대)'].astype(int).sum()\n",
        "강원_slow5 = subset_속초시['완속충전기(대)'].astype(int).sum()\n",
        "\n",
        "new3.loc[5] = ['강원도', '속초시',len(df[속초시]), 강원_fast5, 강원_slow5]\n",
        "\n",
        "양구군 = df['지역'].str.contains('양구군', na = False)\n",
        "subset_양구군 = df[양구군]\n",
        "\n",
        "강원_fast6 = subset_양구군['급속충전기(대)'].astype(int).sum()\n",
        "강원_slow6 = subset_양구군['완속충전기(대)'].astype(int).sum()\n",
        "\n",
        "new3.loc[6] = ['강원도', '양구군',len(df[양구군]), 강원_fast6, 강원_slow6]\n",
        "\n",
        "양양군 = df['지역'].str.contains('양양군', na = False)\n",
        "subset_양양군 = df[양양군]\n",
        "\n",
        "강원_fast7 = subset_양양군['급속충전기(대)'].astype(int).sum()\n",
        "강원_slow7 = subset_양양군['완속충전기(대)'].astype(int).sum()\n",
        "\n",
        "new3.loc[7] = ['강원도', '양양군',len(df[양양군]), 강원_fast7, 강원_slow7]\n",
        "\n",
        "영월군 = df['지역'].str.contains('영월군', na = False)\n",
        "subset_영월군 = df[영월군]\n",
        "\n",
        "강원_fast8 = subset_영월군['급속충전기(대)'].astype(int).sum()\n",
        "강원_slow8 = subset_영월군['완속충전기(대)'].astype(int).sum()\n",
        "\n",
        "new3.loc[8] = ['강원도', '영월군',len(df[영월군]), 강원_fast8, 강원_slow8]\n",
        "\n",
        "원주시 = df['지역'].str.contains('원주시', na = False)\n",
        "subset_원주시 = df[원주시]\n",
        "\n",
        "강원_fast9 = subset_원주시['급속충전기(대)'].astype(int).sum()\n",
        "강원_slow9 = subset_원주시['완속충전기(대)'].astype(int).sum()\n",
        "\n",
        "new3.loc[9] = ['강원도', '원주시',len(df[원주시]), 강원_fast9, 강원_slow9]\n",
        "\n",
        "인제군 = df['지역'].str.contains('인제군', na = False)\n",
        "subset_인제군 = df[인제군]\n",
        "\n",
        "강원_fast10 = subset_인제군['급속충전기(대)'].astype(int).sum()\n",
        "강원_slow10 = subset_인제군['완속충전기(대)'].astype(int).sum()\n",
        "\n",
        "new3.loc[10] = ['강원도', '인제군',len(df[인제군]), 강원_fast10, 강원_slow10]\n",
        "\n",
        "정선군 = df['지역'].str.contains('정선군', na = False)\n",
        "subset_정선군 = df[정선군]\n",
        "\n",
        "강원_fast11 = subset_정선군['급속충전기(대)'].astype(int).sum()\n",
        "강원_slow11 = subset_정선군['완속충전기(대)'].astype(int).sum()\n",
        "\n",
        "new3.loc[11] = ['강원도', '정선군',len(df[정선군]), 강원_fast11, 강원_slow11]\n",
        "\n",
        "철원군 = df['지역'].str.contains('철원군', na = False)\n",
        "subset_철원군 = df[철원군]\n",
        "\n",
        "강원_fast12 = subset_철원군['급속충전기(대)'].astype(int).sum()\n",
        "강원_slow12 = subset_철원군['완속충전기(대)'].astype(int).sum()\n",
        "\n",
        "new3.loc[12] = ['강원도', '철원군',len(df[철원군]), 강원_fast12, 강원_slow12]\n",
        "\n",
        "춘천시 = df['지역'].str.contains('춘천시', na = False)\n",
        "subset_춘천시 = df[춘천시]\n",
        "\n",
        "강원_fast13 = subset_춘천시['급속충전기(대)'].astype(int).sum()\n",
        "강원_slow13 = subset_춘천시['완속충전기(대)'].astype(int).sum()\n",
        "\n",
        "new3.loc[13] = ['강원도', '춘천시',len(df[춘천시]), 강원_fast13, 강원_slow13]\n",
        "\n",
        "태백시 = df['지역'].str.contains('태백시', na = False)\n",
        "subset_태백시 = df[태백시]\n",
        "\n",
        "강원_fast14 = subset_태백시['급속충전기(대)'].astype(int).sum()\n",
        "강원_slow14 = subset_태백시['완속충전기(대)'].astype(int).sum()\n",
        "\n",
        "new3.loc[14] = ['강원도', '태백시',len(df[태백시]), 강원_fast14, 강원_slow14]\n",
        "\n",
        "평창군 = df['지역'].str.contains('평창군', na = False)\n",
        "subset_평창군 = df[평창군]\n",
        "\n",
        "강원_fast15 = subset_평창군['급속충전기(대)'].astype(int).sum()\n",
        "강원_slow15 = subset_평창군['완속충전기(대)'].astype(int).sum()\n",
        "\n",
        "new3.loc[15] = ['강원도', '평창군',len(df[평창군]), 강원_fast15, 강원_slow15]\n",
        "\n",
        "홍천군 = df['지역'].str.contains('홍천군', na = False)\n",
        "subset_홍천군 = df[홍천군]\n",
        "\n",
        "강원_fast16 = subset_홍천군['급속충전기(대)'].astype(int).sum()\n",
        "강원_slow16 = subset_홍천군['완속충전기(대)'].astype(int).sum()\n",
        "\n",
        "new3.loc[16] = ['강원도', '홍천군',len(df[홍천군]), 강원_fast16, 강원_slow16]\n",
        "\n",
        "화천군 = df['지역'].str.contains('화천군', na = False)\n",
        "subset_화천군 = df[화천군]\n",
        "\n",
        "강원_fast17 = subset_화천군['급속충전기(대)'].astype(int).sum()\n",
        "강원_slow17 = subset_화천군['완속충전기(대)'].astype(int).sum()\n",
        "\n",
        "new3.loc[17] = ['강원도', '화천군',len(df[화천군]), 강원_fast17, 강원_slow17]\n",
        "\n",
        "횡성군 = df['지역'].str.contains('횡성군', na = False)\n",
        "subset_횡성군 = df[횡성군]\n",
        "\n",
        "강원_fast18 = subset_횡성군['급속충전기(대)'].astype(int).sum()\n",
        "강원_slow18 = subset_횡성군['완속충전기(대)'].astype(int).sum()\n",
        "\n",
        "new3.loc[18] = ['강원도', '횡성군',len(df[횡성군]), 강원_fast18, 강원_slow18]\n",
        "\n",
        "new3"
      ],
      "execution_count": null,
      "outputs": [
        {
          "output_type": "execute_result",
          "data": {
            "text/html": [
              "<div>\n",
              "<style scoped>\n",
              "    .dataframe tbody tr th:only-of-type {\n",
              "        vertical-align: middle;\n",
              "    }\n",
              "\n",
              "    .dataframe tbody tr th {\n",
              "        vertical-align: top;\n",
              "    }\n",
              "\n",
              "    .dataframe thead th {\n",
              "        text-align: right;\n",
              "    }\n",
              "</style>\n",
              "<table border=\"1\" class=\"dataframe\">\n",
              "  <thead>\n",
              "    <tr style=\"text-align: right;\">\n",
              "      <th></th>\n",
              "      <th>행정도시</th>\n",
              "      <th>시도</th>\n",
              "      <th>위치수</th>\n",
              "      <th>급속</th>\n",
              "      <th>완속</th>\n",
              "    </tr>\n",
              "  </thead>\n",
              "  <tbody>\n",
              "    <tr>\n",
              "      <th>1</th>\n",
              "      <td>강원도</td>\n",
              "      <td>강릉시</td>\n",
              "      <td>34</td>\n",
              "      <td>31</td>\n",
              "      <td>31</td>\n",
              "    </tr>\n",
              "    <tr>\n",
              "      <th>2</th>\n",
              "      <td>강원도</td>\n",
              "      <td>고성군</td>\n",
              "      <td>4</td>\n",
              "      <td>2</td>\n",
              "      <td>2</td>\n",
              "    </tr>\n",
              "    <tr>\n",
              "      <th>3</th>\n",
              "      <td>강원도</td>\n",
              "      <td>동해시</td>\n",
              "      <td>13</td>\n",
              "      <td>6</td>\n",
              "      <td>23</td>\n",
              "    </tr>\n",
              "    <tr>\n",
              "      <th>4</th>\n",
              "      <td>강원도</td>\n",
              "      <td>삼척시</td>\n",
              "      <td>12</td>\n",
              "      <td>7</td>\n",
              "      <td>17</td>\n",
              "    </tr>\n",
              "    <tr>\n",
              "      <th>5</th>\n",
              "      <td>강원도</td>\n",
              "      <td>속초시</td>\n",
              "      <td>6</td>\n",
              "      <td>6</td>\n",
              "      <td>1</td>\n",
              "    </tr>\n",
              "    <tr>\n",
              "      <th>6</th>\n",
              "      <td>강원도</td>\n",
              "      <td>양구군</td>\n",
              "      <td>6</td>\n",
              "      <td>4</td>\n",
              "      <td>3</td>\n",
              "    </tr>\n",
              "    <tr>\n",
              "      <th>7</th>\n",
              "      <td>강원도</td>\n",
              "      <td>양양군</td>\n",
              "      <td>4</td>\n",
              "      <td>3</td>\n",
              "      <td>4</td>\n",
              "    </tr>\n",
              "    <tr>\n",
              "      <th>8</th>\n",
              "      <td>강원도</td>\n",
              "      <td>영월군</td>\n",
              "      <td>3</td>\n",
              "      <td>3</td>\n",
              "      <td>2</td>\n",
              "    </tr>\n",
              "    <tr>\n",
              "      <th>9</th>\n",
              "      <td>강원도</td>\n",
              "      <td>원주시</td>\n",
              "      <td>36</td>\n",
              "      <td>30</td>\n",
              "      <td>63</td>\n",
              "    </tr>\n",
              "    <tr>\n",
              "      <th>10</th>\n",
              "      <td>강원도</td>\n",
              "      <td>인제군</td>\n",
              "      <td>2</td>\n",
              "      <td>0</td>\n",
              "      <td>3</td>\n",
              "    </tr>\n",
              "    <tr>\n",
              "      <th>11</th>\n",
              "      <td>강원도</td>\n",
              "      <td>정선군</td>\n",
              "      <td>4</td>\n",
              "      <td>4</td>\n",
              "      <td>1</td>\n",
              "    </tr>\n",
              "    <tr>\n",
              "      <th>12</th>\n",
              "      <td>강원도</td>\n",
              "      <td>철원군</td>\n",
              "      <td>1</td>\n",
              "      <td>1</td>\n",
              "      <td>1</td>\n",
              "    </tr>\n",
              "    <tr>\n",
              "      <th>13</th>\n",
              "      <td>강원도</td>\n",
              "      <td>춘천시</td>\n",
              "      <td>23</td>\n",
              "      <td>22</td>\n",
              "      <td>23</td>\n",
              "    </tr>\n",
              "    <tr>\n",
              "      <th>14</th>\n",
              "      <td>강원도</td>\n",
              "      <td>태백시</td>\n",
              "      <td>2</td>\n",
              "      <td>2</td>\n",
              "      <td>0</td>\n",
              "    </tr>\n",
              "    <tr>\n",
              "      <th>15</th>\n",
              "      <td>강원도</td>\n",
              "      <td>평창군</td>\n",
              "      <td>8</td>\n",
              "      <td>9</td>\n",
              "      <td>4</td>\n",
              "    </tr>\n",
              "    <tr>\n",
              "      <th>16</th>\n",
              "      <td>강원도</td>\n",
              "      <td>홍천군</td>\n",
              "      <td>5</td>\n",
              "      <td>6</td>\n",
              "      <td>1</td>\n",
              "    </tr>\n",
              "    <tr>\n",
              "      <th>17</th>\n",
              "      <td>강원도</td>\n",
              "      <td>화천군</td>\n",
              "      <td>1</td>\n",
              "      <td>0</td>\n",
              "      <td>1</td>\n",
              "    </tr>\n",
              "    <tr>\n",
              "      <th>18</th>\n",
              "      <td>강원도</td>\n",
              "      <td>횡성군</td>\n",
              "      <td>5</td>\n",
              "      <td>2</td>\n",
              "      <td>4</td>\n",
              "    </tr>\n",
              "  </tbody>\n",
              "</table>\n",
              "</div>"
            ],
            "text/plain": [
              "   행정도시   시도  위치수  급속  완속\n",
              "1   강원도  강릉시   34  31  31\n",
              "2   강원도  고성군    4   2   2\n",
              "3   강원도  동해시   13   6  23\n",
              "4   강원도  삼척시   12   7  17\n",
              "5   강원도  속초시    6   6   1\n",
              "6   강원도  양구군    6   4   3\n",
              "7   강원도  양양군    4   3   4\n",
              "8   강원도  영월군    3   3   2\n",
              "9   강원도  원주시   36  30  63\n",
              "10  강원도  인제군    2   0   3\n",
              "11  강원도  정선군    4   4   1\n",
              "12  강원도  철원군    1   1   1\n",
              "13  강원도  춘천시   23  22  23\n",
              "14  강원도  태백시    2   2   0\n",
              "15  강원도  평창군    8   9   4\n",
              "16  강원도  홍천군    5   6   1\n",
              "17  강원도  화천군    1   0   1\n",
              "18  강원도  횡성군    5   2   4"
            ]
          },
          "metadata": {
            "tags": []
          },
          "execution_count": 34
        }
      ]
    },
    {
      "cell_type": "code",
      "metadata": {
        "colab": {
          "base_uri": "https://localhost:8080/"
        },
        "id": "ZcZ0xaqnYwjH",
        "outputId": "041d4c41-4972-4d8d-e335-d374b70bbb44"
      },
      "source": [
        "new3['위치수'].sum()"
      ],
      "execution_count": null,
      "outputs": [
        {
          "output_type": "execute_result",
          "data": {
            "text/plain": [
              "169"
            ]
          },
          "metadata": {
            "tags": []
          },
          "execution_count": 35
        }
      ]
    },
    {
      "cell_type": "code",
      "metadata": {
        "colab": {
          "base_uri": "https://localhost:8080/"
        },
        "id": "-hfNs_KjZsg2",
        "outputId": "9780a6a3-38cb-4204-d3bc-b848dc36c012"
      },
      "source": [
        "new3['급속'].sum()"
      ],
      "execution_count": null,
      "outputs": [
        {
          "output_type": "execute_result",
          "data": {
            "text/plain": [
              "138"
            ]
          },
          "metadata": {
            "tags": []
          },
          "execution_count": 36
        }
      ]
    },
    {
      "cell_type": "code",
      "metadata": {
        "colab": {
          "base_uri": "https://localhost:8080/"
        },
        "id": "SBCF2cJjZxa5",
        "outputId": "36078c9e-cf2f-42fe-fd9d-dc002a2b4bb0"
      },
      "source": [
        "new3['완속'].sum()"
      ],
      "execution_count": null,
      "outputs": [
        {
          "output_type": "execute_result",
          "data": {
            "text/plain": [
              "184"
            ]
          },
          "metadata": {
            "tags": []
          },
          "execution_count": 37
        }
      ]
    },
    {
      "cell_type": "code",
      "metadata": {
        "colab": {
          "base_uri": "https://localhost:8080/"
        },
        "id": "dSmNjZ1_Zy5x",
        "outputId": "b9246c45-161a-4ea0-d93e-ae376dbf5afb"
      },
      "source": [
        "new3['급속'].sum()+new3['완속'].sum()"
      ],
      "execution_count": null,
      "outputs": [
        {
          "output_type": "execute_result",
          "data": {
            "text/plain": [
              "322"
            ]
          },
          "metadata": {
            "tags": []
          },
          "execution_count": 38
        }
      ]
    },
    {
      "cell_type": "markdown",
      "metadata": {
        "id": "9Hfsj8YvZ3eb"
      },
      "source": [
        "# 충청남도"
      ]
    },
    {
      "cell_type": "code",
      "metadata": {
        "id": "dZO3jeNRZ2K7"
      },
      "source": [
        "col = ['행정도시', '시도', '위치수', '급속', '완속']\n",
        "ind = [1,2,3,4,5]\n",
        "\n",
        "con = [[0, 0, 0, 0, 0], [0, 0, 0, 0, 0],[0, 0, 0, 0, 0], [0, 0, 0, 0, 0], [0, 0, 0, 0, 0]]\n",
        "new4 = pd.DataFrame(con, columns = col, index = ind)"
      ],
      "execution_count": null,
      "outputs": []
    },
    {
      "cell_type": "code",
      "metadata": {
        "colab": {
          "base_uri": "https://localhost:8080/",
          "height": 545
        },
        "id": "Puv75zjBaExt",
        "outputId": "14f14601-12ef-4474-a7bc-c4c217c158b3"
      },
      "source": [
        "df_충남 = df['주소'].str.contains('충청남')\n",
        "set_충남 =  df[df_충남]\n",
        "\n",
        "df['지역'] = set_충남['주소'].str.slice(start=0, stop=8)\n",
        "\n",
        "pd.pivot_table(df, index = '지역', values = '급속충전기(대)', aggfunc = 'sum')"
      ],
      "execution_count": null,
      "outputs": [
        {
          "output_type": "execute_result",
          "data": {
            "text/html": [
              "<div>\n",
              "<style scoped>\n",
              "    .dataframe tbody tr th:only-of-type {\n",
              "        vertical-align: middle;\n",
              "    }\n",
              "\n",
              "    .dataframe tbody tr th {\n",
              "        vertical-align: top;\n",
              "    }\n",
              "\n",
              "    .dataframe thead th {\n",
              "        text-align: right;\n",
              "    }\n",
              "</style>\n",
              "<table border=\"1\" class=\"dataframe\">\n",
              "  <thead>\n",
              "    <tr style=\"text-align: right;\">\n",
              "      <th></th>\n",
              "      <th>급속충전기(대)</th>\n",
              "    </tr>\n",
              "    <tr>\n",
              "      <th>지역</th>\n",
              "      <th></th>\n",
              "    </tr>\n",
              "  </thead>\n",
              "  <tbody>\n",
              "    <tr>\n",
              "      <th>충청남도 계룡시</th>\n",
              "      <td>2</td>\n",
              "    </tr>\n",
              "    <tr>\n",
              "      <th>충청남도 공주시</th>\n",
              "      <td>3</td>\n",
              "    </tr>\n",
              "    <tr>\n",
              "      <th>충청남도 금산군</th>\n",
              "      <td>2</td>\n",
              "    </tr>\n",
              "    <tr>\n",
              "      <th>충청남도 논산시</th>\n",
              "      <td>10</td>\n",
              "    </tr>\n",
              "    <tr>\n",
              "      <th>충청남도 당진시</th>\n",
              "      <td>21</td>\n",
              "    </tr>\n",
              "    <tr>\n",
              "      <th>충청남도 보령시</th>\n",
              "      <td>4</td>\n",
              "    </tr>\n",
              "    <tr>\n",
              "      <th>충청남도 부여군</th>\n",
              "      <td>5</td>\n",
              "    </tr>\n",
              "    <tr>\n",
              "      <th>충청남도 서산시</th>\n",
              "      <td>10</td>\n",
              "    </tr>\n",
              "    <tr>\n",
              "      <th>충청남도 서천군</th>\n",
              "      <td>3</td>\n",
              "    </tr>\n",
              "    <tr>\n",
              "      <th>충청남도 아산시</th>\n",
              "      <td>20</td>\n",
              "    </tr>\n",
              "    <tr>\n",
              "      <th>충청남도 예산군</th>\n",
              "      <td>2</td>\n",
              "    </tr>\n",
              "    <tr>\n",
              "      <th>충청남도 천안시</th>\n",
              "      <td>11</td>\n",
              "    </tr>\n",
              "    <tr>\n",
              "      <th>충청남도 청양군</th>\n",
              "      <td>0</td>\n",
              "    </tr>\n",
              "    <tr>\n",
              "      <th>충청남도 태안군</th>\n",
              "      <td>9</td>\n",
              "    </tr>\n",
              "    <tr>\n",
              "      <th>충청남도 홍성군</th>\n",
              "      <td>14</td>\n",
              "    </tr>\n",
              "  </tbody>\n",
              "</table>\n",
              "</div>"
            ],
            "text/plain": [
              "          급속충전기(대)\n",
              "지역                \n",
              "충청남도 계룡시         2\n",
              "충청남도 공주시         3\n",
              "충청남도 금산군         2\n",
              "충청남도 논산시        10\n",
              "충청남도 당진시        21\n",
              "충청남도 보령시         4\n",
              "충청남도 부여군         5\n",
              "충청남도 서산시        10\n",
              "충청남도 서천군         3\n",
              "충청남도 아산시        20\n",
              "충청남도 예산군         2\n",
              "충청남도 천안시        11\n",
              "충청남도 청양군         0\n",
              "충청남도 태안군         9\n",
              "충청남도 홍성군        14"
            ]
          },
          "metadata": {
            "tags": []
          },
          "execution_count": 40
        }
      ]
    },
    {
      "cell_type": "code",
      "metadata": {
        "colab": {
          "base_uri": "https://localhost:8080/",
          "height": 328
        },
        "id": "WAh-Dm5Ia3iZ",
        "outputId": "8d02bd1e-c454-45de-8fa1-bfae9b1cb611"
      },
      "source": [
        "# 남도와 북도가 나뉜 경우, 충남, 충북처럼 축약형도 있기 때문에 따로 계산해봄. \n",
        "df_충남s = df['주소'].str.contains('충남')\n",
        "set_충남s =  df[df_충남s]\n",
        "\n",
        "df['지역'] = set_충남s['주소'].str.slice(start=0, stop=8)\n",
        "\n",
        "pd.pivot_table(df, index = '지역', values = '급속충전기(대)', aggfunc = 'sum')"
      ],
      "execution_count": null,
      "outputs": [
        {
          "output_type": "execute_result",
          "data": {
            "text/html": [
              "<div>\n",
              "<style scoped>\n",
              "    .dataframe tbody tr th:only-of-type {\n",
              "        vertical-align: middle;\n",
              "    }\n",
              "\n",
              "    .dataframe tbody tr th {\n",
              "        vertical-align: top;\n",
              "    }\n",
              "\n",
              "    .dataframe thead th {\n",
              "        text-align: right;\n",
              "    }\n",
              "</style>\n",
              "<table border=\"1\" class=\"dataframe\">\n",
              "  <thead>\n",
              "    <tr style=\"text-align: right;\">\n",
              "      <th></th>\n",
              "      <th>급속충전기(대)</th>\n",
              "    </tr>\n",
              "    <tr>\n",
              "      <th>지역</th>\n",
              "      <th></th>\n",
              "    </tr>\n",
              "  </thead>\n",
              "  <tbody>\n",
              "    <tr>\n",
              "      <th>충남 공주시 금</th>\n",
              "      <td>0</td>\n",
              "    </tr>\n",
              "    <tr>\n",
              "      <th>충남 공주시 사</th>\n",
              "      <td>1</td>\n",
              "    </tr>\n",
              "    <tr>\n",
              "      <th>충남 공주시 유</th>\n",
              "      <td>1</td>\n",
              "    </tr>\n",
              "    <tr>\n",
              "      <th>충남 논산시 내</th>\n",
              "      <td>0</td>\n",
              "    </tr>\n",
              "    <tr>\n",
              "      <th>충남 논산시 대</th>\n",
              "      <td>0</td>\n",
              "    </tr>\n",
              "    <tr>\n",
              "      <th>충남 논산시 취</th>\n",
              "      <td>0</td>\n",
              "    </tr>\n",
              "    <tr>\n",
              "      <th>충남 청양군 청</th>\n",
              "      <td>0</td>\n",
              "    </tr>\n",
              "    <tr>\n",
              "      <th>충남 홍성군 홍</th>\n",
              "      <td>2</td>\n",
              "    </tr>\n",
              "  </tbody>\n",
              "</table>\n",
              "</div>"
            ],
            "text/plain": [
              "          급속충전기(대)\n",
              "지역                \n",
              "충남 공주시 금         0\n",
              "충남 공주시 사         1\n",
              "충남 공주시 유         1\n",
              "충남 논산시 내         0\n",
              "충남 논산시 대         0\n",
              "충남 논산시 취         0\n",
              "충남 청양군 청         0\n",
              "충남 홍성군 홍         2"
            ]
          },
          "metadata": {
            "tags": []
          },
          "execution_count": 41
        }
      ]
    },
    {
      "cell_type": "code",
      "metadata": {
        "id": "Cn25qki-aI63"
      },
      "source": [
        "#충청남도 도시 = ['계룡시', '공주시', '금산군', '논산시', '당진시', '보령시', '부여군', '서산시', '서천군', '아산시', '예산군', '천안시', '청양군', '태안군', '홍성군']\n",
        "#연기군은 피벗테이블에 없음."
      ],
      "execution_count": null,
      "outputs": []
    },
    {
      "cell_type": "code",
      "metadata": {
        "colab": {
          "base_uri": "https://localhost:8080/",
          "height": 514
        },
        "id": "4wDajQAcbZ6x",
        "outputId": "dccdec02-8130-4ca9-9150-f11905e2ca60"
      },
      "source": [
        "# 충청남도, 충남이 나뉘어 있어서 따로 한번 더 말해줌.\n",
        "df_충남 = df['주소'].str.contains('충청남')\n",
        "set_충남 =  df[df_충남]\n",
        "\n",
        "df['지역'] = set_충남['주소'].str.slice(start=0, stop=8)\n",
        "\n",
        "계룡시 = df['지역'].str.contains('계룡시', na = False)\n",
        "subset_계룡시 = df[계룡시]\n",
        "\n",
        "충남_fast1 = subset_계룡시['급속충전기(대)'].astype(int).sum()\n",
        "충남_slow1 = subset_계룡시['완속충전기(대)'].astype(int).sum()\n",
        "\n",
        "new4.loc[1] = ['충청남도', '계룡시',len(df[계룡시]), 충남_fast1, 충남_slow1]\n",
        "\n",
        "#충청남도 말고도 충남으로 주소지가 있어 전국으로 봄.\n",
        "공주시 = df['주소'].str.contains('공주시', na = False)\n",
        "subset_공주시 = df[공주시]\n",
        "\n",
        "충남_fast2 = subset_공주시['급속충전기(대)'].astype(int).sum()\n",
        "충남_slow2 = subset_공주시['완속충전기(대)'].astype(int).sum()\n",
        "\n",
        "new4.loc[2] = ['충청남도', '공주시',len(df[공주시]), 충남_fast2, 충남_slow2]\n",
        "\n",
        "금산군 = df['지역'].str.contains('금산군', na = False)\n",
        "subset_금산군 = df[금산군]\n",
        "\n",
        "충남_fast3 = subset_금산군['급속충전기(대)'].astype(int).sum()\n",
        "충남_slow3 = subset_금산군['완속충전기(대)'].astype(int).sum()\n",
        "\n",
        "new4.loc[3] = ['충청남도', '금산군',len(df[금산군]), 충남_fast3, 충남_slow3]\n",
        "\n",
        "#충청남도 말고도 충남으로 주소지가 있어 전국으로 봄.\n",
        "논산시 = df['주소'].str.contains('논산시', na = False)\n",
        "subset_논산시 = df[논산시]\n",
        "\n",
        "충남_fast4 = subset_논산시['급속충전기(대)'].astype(int).sum()\n",
        "충남_slow4 = subset_논산시['완속충전기(대)'].astype(int).sum()\n",
        "\n",
        "new4.loc[4] = ['충청남도', '논산시',len(df[논산시]), 충남_fast4, 충남_slow4]\n",
        "\n",
        "당진시 = df['지역'].str.contains('당진시', na = False)\n",
        "subset_당진시 = df[당진시]\n",
        "\n",
        "충남_fast5 = subset_당진시['급속충전기(대)'].astype(int).sum()\n",
        "충남_slow5 = subset_당진시['완속충전기(대)'].astype(int).sum()\n",
        "\n",
        "new4.loc[5] = ['충청남도', '당진시',len(df[당진시]), 충남_fast5, 충남_slow5]\n",
        "\n",
        "보령시 = df['지역'].str.contains('보령시', na = False)\n",
        "subset_보령시 = df[보령시]\n",
        "\n",
        "충남_fast6 = subset_보령시['급속충전기(대)'].astype(int).sum()\n",
        "충남_slow6 = subset_보령시['완속충전기(대)'].astype(int).sum()\n",
        "\n",
        "new4.loc[6] = ['충청남도', '보령시',len(df[보령시]), 충남_fast6, 충남_slow6]\n",
        "\n",
        "부여군 = df['지역'].str.contains('부여군', na = False)\n",
        "subset_부여군 = df[부여군]\n",
        "\n",
        "충남_fast7 = subset_부여군['급속충전기(대)'].astype(int).sum()\n",
        "충남_slow7 = subset_부여군['완속충전기(대)'].astype(int).sum()\n",
        "\n",
        "new4.loc[7] = ['충청남도', '부여군',len(df[부여군]), 충남_fast7, 충남_slow7]\n",
        "\n",
        "서산시 = df['지역'].str.contains('서산시', na = False)\n",
        "subset_서산시 = df[서산시]\n",
        "\n",
        "충남_fast8 = subset_서산시['급속충전기(대)'].astype(int).sum()\n",
        "충남_slow8 = subset_서산시['완속충전기(대)'].astype(int).sum()\n",
        "\n",
        "new4.loc[8] = ['충청남도', '서산시',len(df[서산시]), 충남_fast8, 충남_slow8]\n",
        "\n",
        "서천군 = df['지역'].str.contains('서천군', na = False)\n",
        "subset_서천군 = df[서천군]\n",
        "\n",
        "충남_fast9 = subset_서천군['급속충전기(대)'].astype(int).sum()\n",
        "충남_slow9 = subset_서천군['완속충전기(대)'].astype(int).sum()\n",
        "\n",
        "new4.loc[9] = ['충청남도', '서천군',len(df[서천군]), 충남_fast9, 충남_slow9]\n",
        "\n",
        "아산시 = df['지역'].str.contains('아산시', na = False)\n",
        "subset_아산시 = df[아산시]\n",
        "\n",
        "충남_fast10 = subset_아산시['급속충전기(대)'].astype(int).sum()\n",
        "충남_slow10 = subset_아산시['완속충전기(대)'].astype(int).sum()\n",
        "\n",
        "new4.loc[10] = ['충청남도', '아산시',len(df[아산시]), 충남_fast10, 충남_slow10]\n",
        "\n",
        "예산군 = df['지역'].str.contains('예산군', na = False)\n",
        "subset_예산군 = df[예산군]\n",
        "\n",
        "충남_fast11 = subset_예산군['급속충전기(대)'].astype(int).sum()\n",
        "충남_slow11 = subset_예산군['완속충전기(대)'].astype(int).sum()\n",
        "\n",
        "new4.loc[11] = ['충청남도', '예산군',len(df[예산군]), 충남_fast11, 충남_slow11]\n",
        "\n",
        "천안시 = df['지역'].str.contains('천안시', na = False)\n",
        "subset_천안시 = df[천안시]\n",
        "\n",
        "충남_fast12 = subset_천안시['급속충전기(대)'].astype(int).sum()\n",
        "충남_slow12 = subset_천안시['완속충전기(대)'].astype(int).sum()\n",
        "\n",
        "new4.loc[12] = ['충청남도', '천안시',len(df[천안시]), 충남_fast12, 충남_slow12]\n",
        "\n",
        "#충청남도 말고도 충남으로 주소지가 있어 전국으로 봄.\n",
        "청양군 = df['주소'].str.contains('청양군', na = False)\n",
        "subset_청양군 = df[청양군]\n",
        "\n",
        "충남_fast13 = subset_청양군['급속충전기(대)'].astype(int).sum()\n",
        "충남_slow13 = subset_청양군['완속충전기(대)'].astype(int).sum()\n",
        "\n",
        "new4.loc[13] = ['충청남도', '청양군',len(df[청양군]), 충남_fast13, 충남_slow13]\n",
        "\n",
        "태안군 = df['지역'].str.contains('태안군', na = False)\n",
        "subset_태안군 = df[태안군]\n",
        "\n",
        "충남_fast14 = subset_태안군['급속충전기(대)'].astype(int).sum()\n",
        "충남_slow14 = subset_태안군['완속충전기(대)'].astype(int).sum()\n",
        "\n",
        "new4.loc[14] = ['충청남도', '태안군',len(df[태안군]), 충남_fast14, 충남_slow14]\n",
        "\n",
        "#충청남도 말고도 충남으로 주소지가 있어 전국으로 봄.\n",
        "홍성군 = df['주소'].str.contains('홍성군', na = False)\n",
        "subset_홍성군 = df[홍성군]\n",
        "\n",
        "충남_fast15 = subset_홍성군['급속충전기(대)'].astype(int).sum()\n",
        "충남_slow15 = subset_홍성군['완속충전기(대)'].astype(int).sum()\n",
        "\n",
        "new4.loc[15] = ['충청남도', '홍성군',len(df[홍성군]), 충남_fast15, 충남_slow15]\n",
        "\n",
        "new4"
      ],
      "execution_count": null,
      "outputs": [
        {
          "output_type": "execute_result",
          "data": {
            "text/html": [
              "<div>\n",
              "<style scoped>\n",
              "    .dataframe tbody tr th:only-of-type {\n",
              "        vertical-align: middle;\n",
              "    }\n",
              "\n",
              "    .dataframe tbody tr th {\n",
              "        vertical-align: top;\n",
              "    }\n",
              "\n",
              "    .dataframe thead th {\n",
              "        text-align: right;\n",
              "    }\n",
              "</style>\n",
              "<table border=\"1\" class=\"dataframe\">\n",
              "  <thead>\n",
              "    <tr style=\"text-align: right;\">\n",
              "      <th></th>\n",
              "      <th>행정도시</th>\n",
              "      <th>시도</th>\n",
              "      <th>위치수</th>\n",
              "      <th>급속</th>\n",
              "      <th>완속</th>\n",
              "    </tr>\n",
              "  </thead>\n",
              "  <tbody>\n",
              "    <tr>\n",
              "      <th>1</th>\n",
              "      <td>충청남도</td>\n",
              "      <td>계룡시</td>\n",
              "      <td>2</td>\n",
              "      <td>2</td>\n",
              "      <td>0</td>\n",
              "    </tr>\n",
              "    <tr>\n",
              "      <th>2</th>\n",
              "      <td>충청남도</td>\n",
              "      <td>공주시</td>\n",
              "      <td>6</td>\n",
              "      <td>5</td>\n",
              "      <td>7</td>\n",
              "    </tr>\n",
              "    <tr>\n",
              "      <th>3</th>\n",
              "      <td>충청남도</td>\n",
              "      <td>금산군</td>\n",
              "      <td>3</td>\n",
              "      <td>2</td>\n",
              "      <td>3</td>\n",
              "    </tr>\n",
              "    <tr>\n",
              "      <th>4</th>\n",
              "      <td>충청남도</td>\n",
              "      <td>논산시</td>\n",
              "      <td>11</td>\n",
              "      <td>10</td>\n",
              "      <td>18</td>\n",
              "    </tr>\n",
              "    <tr>\n",
              "      <th>5</th>\n",
              "      <td>충청남도</td>\n",
              "      <td>당진시</td>\n",
              "      <td>21</td>\n",
              "      <td>21</td>\n",
              "      <td>25</td>\n",
              "    </tr>\n",
              "    <tr>\n",
              "      <th>6</th>\n",
              "      <td>충청남도</td>\n",
              "      <td>보령시</td>\n",
              "      <td>4</td>\n",
              "      <td>4</td>\n",
              "      <td>5</td>\n",
              "    </tr>\n",
              "    <tr>\n",
              "      <th>7</th>\n",
              "      <td>충청남도</td>\n",
              "      <td>부여군</td>\n",
              "      <td>3</td>\n",
              "      <td>5</td>\n",
              "      <td>2</td>\n",
              "    </tr>\n",
              "    <tr>\n",
              "      <th>8</th>\n",
              "      <td>충청남도</td>\n",
              "      <td>서산시</td>\n",
              "      <td>9</td>\n",
              "      <td>10</td>\n",
              "      <td>15</td>\n",
              "    </tr>\n",
              "    <tr>\n",
              "      <th>9</th>\n",
              "      <td>충청남도</td>\n",
              "      <td>서천군</td>\n",
              "      <td>3</td>\n",
              "      <td>3</td>\n",
              "      <td>3</td>\n",
              "    </tr>\n",
              "    <tr>\n",
              "      <th>10</th>\n",
              "      <td>충청남도</td>\n",
              "      <td>아산시</td>\n",
              "      <td>17</td>\n",
              "      <td>20</td>\n",
              "      <td>18</td>\n",
              "    </tr>\n",
              "    <tr>\n",
              "      <th>11</th>\n",
              "      <td>충청남도</td>\n",
              "      <td>예산군</td>\n",
              "      <td>2</td>\n",
              "      <td>2</td>\n",
              "      <td>9</td>\n",
              "    </tr>\n",
              "    <tr>\n",
              "      <th>12</th>\n",
              "      <td>충청남도</td>\n",
              "      <td>천안시</td>\n",
              "      <td>14</td>\n",
              "      <td>11</td>\n",
              "      <td>32</td>\n",
              "    </tr>\n",
              "    <tr>\n",
              "      <th>13</th>\n",
              "      <td>충청남도</td>\n",
              "      <td>청양군</td>\n",
              "      <td>2</td>\n",
              "      <td>0</td>\n",
              "      <td>2</td>\n",
              "    </tr>\n",
              "    <tr>\n",
              "      <th>14</th>\n",
              "      <td>충청남도</td>\n",
              "      <td>태안군</td>\n",
              "      <td>9</td>\n",
              "      <td>9</td>\n",
              "      <td>6</td>\n",
              "    </tr>\n",
              "    <tr>\n",
              "      <th>15</th>\n",
              "      <td>충청남도</td>\n",
              "      <td>홍성군</td>\n",
              "      <td>10</td>\n",
              "      <td>16</td>\n",
              "      <td>13</td>\n",
              "    </tr>\n",
              "  </tbody>\n",
              "</table>\n",
              "</div>"
            ],
            "text/plain": [
              "    행정도시   시도  위치수  급속  완속\n",
              "1   충청남도  계룡시    2   2   0\n",
              "2   충청남도  공주시    6   5   7\n",
              "3   충청남도  금산군    3   2   3\n",
              "4   충청남도  논산시   11  10  18\n",
              "5   충청남도  당진시   21  21  25\n",
              "6   충청남도  보령시    4   4   5\n",
              "7   충청남도  부여군    3   5   2\n",
              "8   충청남도  서산시    9  10  15\n",
              "9   충청남도  서천군    3   3   3\n",
              "10  충청남도  아산시   17  20  18\n",
              "11  충청남도  예산군    2   2   9\n",
              "12  충청남도  천안시   14  11  32\n",
              "13  충청남도  청양군    2   0   2\n",
              "14  충청남도  태안군    9   9   6\n",
              "15  충청남도  홍성군   10  16  13"
            ]
          },
          "metadata": {
            "tags": []
          },
          "execution_count": 43
        }
      ]
    },
    {
      "cell_type": "code",
      "metadata": {
        "colab": {
          "base_uri": "https://localhost:8080/"
        },
        "id": "ZF8sjGDTb3_o",
        "outputId": "eafeabcd-1503-4563-aafd-f9d165f34514"
      },
      "source": [
        "new4['위치수'].sum()"
      ],
      "execution_count": null,
      "outputs": [
        {
          "output_type": "execute_result",
          "data": {
            "text/plain": [
              "116"
            ]
          },
          "metadata": {
            "tags": []
          },
          "execution_count": 44
        }
      ]
    },
    {
      "cell_type": "code",
      "metadata": {
        "colab": {
          "base_uri": "https://localhost:8080/"
        },
        "id": "aM_WoeLVf06o",
        "outputId": "b6842253-3054-431f-c942-73abc233fd27"
      },
      "source": [
        "new4['급속'].sum()"
      ],
      "execution_count": null,
      "outputs": [
        {
          "output_type": "execute_result",
          "data": {
            "text/plain": [
              "120"
            ]
          },
          "metadata": {
            "tags": []
          },
          "execution_count": 45
        }
      ]
    },
    {
      "cell_type": "code",
      "metadata": {
        "colab": {
          "base_uri": "https://localhost:8080/"
        },
        "id": "-p2p2Mz0f3Q-",
        "outputId": "c753104b-7366-401f-b753-9b2874728a39"
      },
      "source": [
        "new4['완속'].sum()"
      ],
      "execution_count": null,
      "outputs": [
        {
          "output_type": "execute_result",
          "data": {
            "text/plain": [
              "158"
            ]
          },
          "metadata": {
            "tags": []
          },
          "execution_count": 46
        }
      ]
    },
    {
      "cell_type": "code",
      "metadata": {
        "colab": {
          "base_uri": "https://localhost:8080/"
        },
        "id": "_xW89bRRf4vx",
        "outputId": "893c20a2-483f-4a91-e2b3-c962929058cb"
      },
      "source": [
        "new4['급속'].sum() + new4['완속'].sum()"
      ],
      "execution_count": null,
      "outputs": [
        {
          "output_type": "execute_result",
          "data": {
            "text/plain": [
              "278"
            ]
          },
          "metadata": {
            "tags": []
          },
          "execution_count": 47
        }
      ]
    },
    {
      "cell_type": "markdown",
      "metadata": {
        "id": "dKIUWvT9gWf0"
      },
      "source": [
        "# 충청북도"
      ]
    },
    {
      "cell_type": "code",
      "metadata": {
        "id": "HJrHeyMtf9Am"
      },
      "source": [
        "col = ['행정도시', '시도', '위치수', '급속', '완속']\n",
        "ind = [1,2,3,4,5]\n",
        "\n",
        "con = [[0, 0, 0, 0, 0], [0, 0, 0, 0, 0],[0, 0, 0, 0, 0], [0, 0, 0, 0, 0], [0, 0, 0, 0, 0]]\n",
        "new5 = pd.DataFrame(con, columns = col, index = ind)"
      ],
      "execution_count": null,
      "outputs": []
    },
    {
      "cell_type": "code",
      "metadata": {
        "colab": {
          "base_uri": "https://localhost:8080/",
          "height": 421
        },
        "id": "6V-OwkQpgck6",
        "outputId": "fefbeace-1ee8-49e2-c55b-b32b9b4ea210"
      },
      "source": [
        "df_충북 = df['주소'].str.contains('충청북')\n",
        "set_충북 =  df[df_충북]\n",
        "\n",
        "df['지역'] = set_충북['주소'].str.slice(start=0, stop=8)\n",
        "\n",
        "pd.pivot_table(df, index = '지역', values = '급속충전기(대)', aggfunc = 'sum')"
      ],
      "execution_count": null,
      "outputs": [
        {
          "output_type": "execute_result",
          "data": {
            "text/html": [
              "<div>\n",
              "<style scoped>\n",
              "    .dataframe tbody tr th:only-of-type {\n",
              "        vertical-align: middle;\n",
              "    }\n",
              "\n",
              "    .dataframe tbody tr th {\n",
              "        vertical-align: top;\n",
              "    }\n",
              "\n",
              "    .dataframe thead th {\n",
              "        text-align: right;\n",
              "    }\n",
              "</style>\n",
              "<table border=\"1\" class=\"dataframe\">\n",
              "  <thead>\n",
              "    <tr style=\"text-align: right;\">\n",
              "      <th></th>\n",
              "      <th>급속충전기(대)</th>\n",
              "    </tr>\n",
              "    <tr>\n",
              "      <th>지역</th>\n",
              "      <th></th>\n",
              "    </tr>\n",
              "  </thead>\n",
              "  <tbody>\n",
              "    <tr>\n",
              "      <th>충청북도 괴산군</th>\n",
              "      <td>1</td>\n",
              "    </tr>\n",
              "    <tr>\n",
              "      <th>충청북도 단양군</th>\n",
              "      <td>5</td>\n",
              "    </tr>\n",
              "    <tr>\n",
              "      <th>충청북도 보은군</th>\n",
              "      <td>3</td>\n",
              "    </tr>\n",
              "    <tr>\n",
              "      <th>충청북도 영동군</th>\n",
              "      <td>2</td>\n",
              "    </tr>\n",
              "    <tr>\n",
              "      <th>충청북도 옥천군</th>\n",
              "      <td>5</td>\n",
              "    </tr>\n",
              "    <tr>\n",
              "      <th>충청북도 음성군</th>\n",
              "      <td>13</td>\n",
              "    </tr>\n",
              "    <tr>\n",
              "      <th>충청북도 제천시</th>\n",
              "      <td>8</td>\n",
              "    </tr>\n",
              "    <tr>\n",
              "      <th>충청북도 증평군</th>\n",
              "      <td>6</td>\n",
              "    </tr>\n",
              "    <tr>\n",
              "      <th>충청북도 진천군</th>\n",
              "      <td>13</td>\n",
              "    </tr>\n",
              "    <tr>\n",
              "      <th>충청북도 청주시</th>\n",
              "      <td>67</td>\n",
              "    </tr>\n",
              "    <tr>\n",
              "      <th>충청북도 충주시</th>\n",
              "      <td>20</td>\n",
              "    </tr>\n",
              "  </tbody>\n",
              "</table>\n",
              "</div>"
            ],
            "text/plain": [
              "          급속충전기(대)\n",
              "지역                \n",
              "충청북도 괴산군         1\n",
              "충청북도 단양군         5\n",
              "충청북도 보은군         3\n",
              "충청북도 영동군         2\n",
              "충청북도 옥천군         5\n",
              "충청북도 음성군        13\n",
              "충청북도 제천시         8\n",
              "충청북도 증평군         6\n",
              "충청북도 진천군        13\n",
              "충청북도 청주시        67\n",
              "충청북도 충주시        20"
            ]
          },
          "metadata": {
            "tags": []
          },
          "execution_count": 49
        }
      ]
    },
    {
      "cell_type": "code",
      "metadata": {
        "colab": {
          "base_uri": "https://localhost:8080/",
          "height": 173
        },
        "id": "u5PoRNGegiP_",
        "outputId": "0731c963-ec1f-4718-befb-5dfba4d08a37"
      },
      "source": [
        "df_충북s = df['주소'].str.contains('충북')\n",
        "set_충북s =  df[df_충북s]\n",
        "\n",
        "df['지역'] = set_충북s['주소'].str.slice(start=0, stop=8)\n",
        "\n",
        "pd.pivot_table(df, index = '지역', values = '급속충전기(대)', aggfunc = 'sum')"
      ],
      "execution_count": null,
      "outputs": [
        {
          "output_type": "execute_result",
          "data": {
            "text/html": [
              "<div>\n",
              "<style scoped>\n",
              "    .dataframe tbody tr th:only-of-type {\n",
              "        vertical-align: middle;\n",
              "    }\n",
              "\n",
              "    .dataframe tbody tr th {\n",
              "        vertical-align: top;\n",
              "    }\n",
              "\n",
              "    .dataframe thead th {\n",
              "        text-align: right;\n",
              "    }\n",
              "</style>\n",
              "<table border=\"1\" class=\"dataframe\">\n",
              "  <thead>\n",
              "    <tr style=\"text-align: right;\">\n",
              "      <th></th>\n",
              "      <th>급속충전기(대)</th>\n",
              "    </tr>\n",
              "    <tr>\n",
              "      <th>지역</th>\n",
              "      <th></th>\n",
              "    </tr>\n",
              "  </thead>\n",
              "  <tbody>\n",
              "    <tr>\n",
              "      <th>충북 괴산군 괴</th>\n",
              "      <td>1</td>\n",
              "    </tr>\n",
              "    <tr>\n",
              "      <th>충북 제천시 청</th>\n",
              "      <td>1</td>\n",
              "    </tr>\n",
              "    <tr>\n",
              "      <th>충북 청주시 상</th>\n",
              "      <td>1</td>\n",
              "    </tr>\n",
              "  </tbody>\n",
              "</table>\n",
              "</div>"
            ],
            "text/plain": [
              "          급속충전기(대)\n",
              "지역                \n",
              "충북 괴산군 괴         1\n",
              "충북 제천시 청         1\n",
              "충북 청주시 상         1"
            ]
          },
          "metadata": {
            "tags": []
          },
          "execution_count": 50
        }
      ]
    },
    {
      "cell_type": "code",
      "metadata": {
        "id": "ZdgJilaBgoyP"
      },
      "source": [
        "#충청북도 도시 = ['괴산군', '단양군', '보은군', '영동군', '옥천군', '음성군', '제천시', '증평군', '진천군', '청주시', '충주시']\t\n",
        "#청원군은 피벗테이블에 없음."
      ],
      "execution_count": null,
      "outputs": []
    },
    {
      "cell_type": "code",
      "metadata": {
        "colab": {
          "base_uri": "https://localhost:8080/",
          "height": 390
        },
        "id": "GrM1rDZjhcuI",
        "outputId": "2a2e14c5-056e-45bd-f219-cc063ec35df8"
      },
      "source": [
        "df_충북 = df['주소'].str.contains('충청북')\n",
        "set_충북 =  df[df_충북]\n",
        "\n",
        "df['지역'] = set_충북['주소'].str.slice(start=0, stop=8)\n",
        "\n",
        "#충청북도 말고도 충북으로 주소지가 있어 전국으로 봄.\n",
        "괴산군 = df['주소'].str.contains('괴산군', na = False)\n",
        "subset_괴산군 = df[괴산군]\n",
        "\n",
        "충북_fast1 = subset_괴산군['급속충전기(대)'].astype(int).sum()\n",
        "충북_slow1 = subset_괴산군['완속충전기(대)'].astype(int).sum()\n",
        "\n",
        "new5.loc[1] = ['충청북도', '괴산군',len(df[괴산군]), 충북_fast1, 충북_slow1]\n",
        "\n",
        "단양군 = df['지역'].str.contains('단양군', na = False)\n",
        "subset_단양군 = df[단양군]\n",
        "\n",
        "충북_fast2 = subset_단양군['급속충전기(대)'].astype(int).sum()\n",
        "충북_slow2 = subset_단양군['완속충전기(대)'].astype(int).sum()\n",
        "\n",
        "new5.loc[2] = ['충청북도', '단양군',len(df[단양군]), 충북_fast2, 충북_slow2]\n",
        "\n",
        "보은군 = df['지역'].str.contains('보은군', na = False)\n",
        "subset_보은군 = df[보은군]\n",
        "\n",
        "충북_fast3 = subset_보은군['급속충전기(대)'].astype(int).sum()\n",
        "충북_slow3 = subset_보은군['완속충전기(대)'].astype(int).sum()\n",
        "\n",
        "new5.loc[3] = ['충청북도', '보은군',len(df[보은군]), 충북_fast3, 충북_slow3]\n",
        "\n",
        "영동군 = df['지역'].str.contains('영동군', na = False)\n",
        "subset_영동군 = df[영동군]\n",
        "\n",
        "충북_fast4 = subset_영동군['급속충전기(대)'].astype(int).sum()\n",
        "충북_slow4 = subset_영동군['완속충전기(대)'].astype(int).sum()\n",
        "\n",
        "new5.loc[4] = ['충청북도', '영동군',len(df[영동군]), 충북_fast4, 충북_slow4]\n",
        "\n",
        "옥천군 = df['지역'].str.contains('옥천군', na = False)\n",
        "subset_옥천군 = df[옥천군]\n",
        "\n",
        "충북_fast5 = subset_옥천군['급속충전기(대)'].astype(int).sum()\n",
        "충북_slow5 = subset_옥천군['완속충전기(대)'].astype(int).sum()\n",
        "\n",
        "new5.loc[5] = ['충청북도', '옥천군',len(df[옥천군]), 충북_fast5, 충북_slow5]\n",
        "\n",
        "음성군 = df['지역'].str.contains('음성군', na = False)\n",
        "subset_음성군 = df[음성군]\n",
        "\n",
        "충북_fast6 = subset_음성군['급속충전기(대)'].astype(int).sum()\n",
        "충북_slow6 = subset_음성군['완속충전기(대)'].astype(int).sum()\n",
        "\n",
        "new5.loc[6] = ['충청북도', '음성군',len(df[음성군]), 충북_fast6, 충북_slow6]\n",
        "\n",
        "#충청북도 말고도 충북으로 주소지가 있어 전국으로 봄.\n",
        "제천시 = df['주소'].str.contains('제천시', na = False)\n",
        "subset_제천시 = df[제천시]\n",
        "\n",
        "충북_fast7 = subset_제천시['급속충전기(대)'].astype(int).sum()\n",
        "충북_slow7 = subset_제천시['완속충전기(대)'].astype(int).sum()\n",
        "\n",
        "new5.loc[7] = ['충청북도', '제천시',len(df[제천시]), 충북_fast7, 충북_slow7]\n",
        "\n",
        "증평군 = df['지역'].str.contains('증평군', na = False)\n",
        "subset_증평군 = df[증평군]\n",
        "\n",
        "충북_fast8 = subset_증평군['급속충전기(대)'].astype(int).sum()\n",
        "충북_slow8 = subset_증평군['완속충전기(대)'].astype(int).sum()\n",
        "\n",
        "new5.loc[8] = ['충청북도', '증평군',len(df[증평군]), 충북_fast8, 충북_slow8]\n",
        "\n",
        "진천군 = df['지역'].str.contains('진천군', na = False)\n",
        "subset_진천군 = df[진천군]\n",
        "\n",
        "충북_fast9 = subset_진천군['급속충전기(대)'].astype(int).sum()\n",
        "충북_slow9 = subset_진천군['완속충전기(대)'].astype(int).sum()\n",
        "\n",
        "new5.loc[9] = ['충청북도', '진천군',len(df[진천군]), 충북_fast9, 충북_slow9]\n",
        "\n",
        "#충청북도 말고도 충북으로 주소지가 있어 전국으로 봄.\n",
        "청주시 = df['주소'].str.contains('청주시', na = False)\n",
        "subset_청주시 = df[청주시]\n",
        "\n",
        "충북_fast10 = subset_청주시['급속충전기(대)'].astype(int).sum()\n",
        "충북_slow10 = subset_청주시['완속충전기(대)'].astype(int).sum()\n",
        "\n",
        "new5.loc[10] = ['충청북도', '청주시',len(df[청주시]), 충북_fast10, 충북_slow10]\n",
        "\n",
        "충주시 = df['지역'].str.contains('충주시', na = False)\n",
        "subset_충주시 = df[충주시]\n",
        "\n",
        "충북_fast11 = subset_충주시['급속충전기(대)'].astype(int).sum()\n",
        "충북_slow11 = subset_충주시['완속충전기(대)'].astype(int).sum()\n",
        "\n",
        "new5.loc[11] = ['충청북도', '충주시',len(df[충주시]), 충북_fast11, 충북_slow11]\n",
        "\n",
        "new5"
      ],
      "execution_count": null,
      "outputs": [
        {
          "output_type": "execute_result",
          "data": {
            "text/html": [
              "<div>\n",
              "<style scoped>\n",
              "    .dataframe tbody tr th:only-of-type {\n",
              "        vertical-align: middle;\n",
              "    }\n",
              "\n",
              "    .dataframe tbody tr th {\n",
              "        vertical-align: top;\n",
              "    }\n",
              "\n",
              "    .dataframe thead th {\n",
              "        text-align: right;\n",
              "    }\n",
              "</style>\n",
              "<table border=\"1\" class=\"dataframe\">\n",
              "  <thead>\n",
              "    <tr style=\"text-align: right;\">\n",
              "      <th></th>\n",
              "      <th>행정도시</th>\n",
              "      <th>시도</th>\n",
              "      <th>위치수</th>\n",
              "      <th>급속</th>\n",
              "      <th>완속</th>\n",
              "    </tr>\n",
              "  </thead>\n",
              "  <tbody>\n",
              "    <tr>\n",
              "      <th>1</th>\n",
              "      <td>충청북도</td>\n",
              "      <td>괴산군</td>\n",
              "      <td>2</td>\n",
              "      <td>2</td>\n",
              "      <td>0</td>\n",
              "    </tr>\n",
              "    <tr>\n",
              "      <th>2</th>\n",
              "      <td>충청북도</td>\n",
              "      <td>단양군</td>\n",
              "      <td>5</td>\n",
              "      <td>5</td>\n",
              "      <td>1</td>\n",
              "    </tr>\n",
              "    <tr>\n",
              "      <th>3</th>\n",
              "      <td>충청북도</td>\n",
              "      <td>보은군</td>\n",
              "      <td>6</td>\n",
              "      <td>3</td>\n",
              "      <td>5</td>\n",
              "    </tr>\n",
              "    <tr>\n",
              "      <th>4</th>\n",
              "      <td>충청북도</td>\n",
              "      <td>영동군</td>\n",
              "      <td>3</td>\n",
              "      <td>2</td>\n",
              "      <td>8</td>\n",
              "    </tr>\n",
              "    <tr>\n",
              "      <th>5</th>\n",
              "      <td>충청북도</td>\n",
              "      <td>옥천군</td>\n",
              "      <td>6</td>\n",
              "      <td>5</td>\n",
              "      <td>3</td>\n",
              "    </tr>\n",
              "    <tr>\n",
              "      <th>6</th>\n",
              "      <td>충청북도</td>\n",
              "      <td>음성군</td>\n",
              "      <td>13</td>\n",
              "      <td>13</td>\n",
              "      <td>12</td>\n",
              "    </tr>\n",
              "    <tr>\n",
              "      <th>7</th>\n",
              "      <td>충청북도</td>\n",
              "      <td>제천시</td>\n",
              "      <td>11</td>\n",
              "      <td>9</td>\n",
              "      <td>15</td>\n",
              "    </tr>\n",
              "    <tr>\n",
              "      <th>8</th>\n",
              "      <td>충청북도</td>\n",
              "      <td>증평군</td>\n",
              "      <td>6</td>\n",
              "      <td>6</td>\n",
              "      <td>4</td>\n",
              "    </tr>\n",
              "    <tr>\n",
              "      <th>9</th>\n",
              "      <td>충청북도</td>\n",
              "      <td>진천군</td>\n",
              "      <td>13</td>\n",
              "      <td>13</td>\n",
              "      <td>11</td>\n",
              "    </tr>\n",
              "    <tr>\n",
              "      <th>10</th>\n",
              "      <td>충청북도</td>\n",
              "      <td>청주시</td>\n",
              "      <td>83</td>\n",
              "      <td>68</td>\n",
              "      <td>168</td>\n",
              "    </tr>\n",
              "    <tr>\n",
              "      <th>11</th>\n",
              "      <td>충청북도</td>\n",
              "      <td>충주시</td>\n",
              "      <td>24</td>\n",
              "      <td>20</td>\n",
              "      <td>26</td>\n",
              "    </tr>\n",
              "  </tbody>\n",
              "</table>\n",
              "</div>"
            ],
            "text/plain": [
              "    행정도시   시도  위치수  급속   완속\n",
              "1   충청북도  괴산군    2   2    0\n",
              "2   충청북도  단양군    5   5    1\n",
              "3   충청북도  보은군    6   3    5\n",
              "4   충청북도  영동군    3   2    8\n",
              "5   충청북도  옥천군    6   5    3\n",
              "6   충청북도  음성군   13  13   12\n",
              "7   충청북도  제천시   11   9   15\n",
              "8   충청북도  증평군    6   6    4\n",
              "9   충청북도  진천군   13  13   11\n",
              "10  충청북도  청주시   83  68  168\n",
              "11  충청북도  충주시   24  20   26"
            ]
          },
          "metadata": {
            "tags": []
          },
          "execution_count": 52
        }
      ]
    },
    {
      "cell_type": "code",
      "metadata": {
        "colab": {
          "base_uri": "https://localhost:8080/"
        },
        "id": "6LL-ubu5jnI1",
        "outputId": "4d2e582e-78b1-46d5-c60e-e270411168f1"
      },
      "source": [
        "new5['위치수'].sum()"
      ],
      "execution_count": null,
      "outputs": [
        {
          "output_type": "execute_result",
          "data": {
            "text/plain": [
              "172"
            ]
          },
          "metadata": {
            "tags": []
          },
          "execution_count": 53
        }
      ]
    },
    {
      "cell_type": "code",
      "metadata": {
        "colab": {
          "base_uri": "https://localhost:8080/"
        },
        "id": "2dn1klIBj9oA",
        "outputId": "8ff80167-c02b-4243-b77e-0be4afa1d8ea"
      },
      "source": [
        "new5['급속'].sum()"
      ],
      "execution_count": null,
      "outputs": [
        {
          "output_type": "execute_result",
          "data": {
            "text/plain": [
              "146"
            ]
          },
          "metadata": {
            "tags": []
          },
          "execution_count": 54
        }
      ]
    },
    {
      "cell_type": "code",
      "metadata": {
        "colab": {
          "base_uri": "https://localhost:8080/"
        },
        "id": "eU0NngDgj_X-",
        "outputId": "7b1afc1f-0cb4-46e9-f869-b535b24e3fd7"
      },
      "source": [
        "new5['완속'].sum()"
      ],
      "execution_count": null,
      "outputs": [
        {
          "output_type": "execute_result",
          "data": {
            "text/plain": [
              "253"
            ]
          },
          "metadata": {
            "tags": []
          },
          "execution_count": 55
        }
      ]
    },
    {
      "cell_type": "code",
      "metadata": {
        "colab": {
          "base_uri": "https://localhost:8080/"
        },
        "id": "T_p-q8cykAlW",
        "outputId": "5c81daa7-274c-42ec-87f5-0bf98bf2f314"
      },
      "source": [
        "new5['급속'].sum() + new5['완속'].sum()"
      ],
      "execution_count": null,
      "outputs": [
        {
          "output_type": "execute_result",
          "data": {
            "text/plain": [
              "399"
            ]
          },
          "metadata": {
            "tags": []
          },
          "execution_count": 56
        }
      ]
    },
    {
      "cell_type": "markdown",
      "metadata": {
        "id": "zZMteIIzFMGb"
      },
      "source": [
        "# 전라남도"
      ]
    },
    {
      "cell_type": "code",
      "metadata": {
        "id": "JGQwPfCikDFN"
      },
      "source": [
        "col = ['행정도시', '시도', '위치수', '급속', '완속']\n",
        "ind = [1,2,3,4,5]\n",
        "\n",
        "con = [[0, 0, 0, 0, 0], [0, 0, 0, 0, 0],[0, 0, 0, 0, 0], [0, 0, 0, 0, 0], [0, 0, 0, 0, 0]]\n",
        "new6 = pd.DataFrame(con, columns = col, index = ind)"
      ],
      "execution_count": null,
      "outputs": []
    },
    {
      "cell_type": "code",
      "metadata": {
        "colab": {
          "base_uri": "https://localhost:8080/",
          "height": 731
        },
        "id": "hmdInSBKFhSi",
        "outputId": "720231c2-fa7f-4f78-ad15-1f5c94ef1c84"
      },
      "source": [
        "df_전남 = df['주소'].str.contains('전라남')\n",
        "set_전남 =  df[df_전남]\n",
        "\n",
        "df['지역'] = set_전남['주소'].str.slice(start=0, stop=8)\n",
        "\n",
        "pd.pivot_table(df, index = '지역', values = '급속충전기(대)', aggfunc = 'sum')"
      ],
      "execution_count": null,
      "outputs": [
        {
          "output_type": "execute_result",
          "data": {
            "text/html": [
              "<div>\n",
              "<style scoped>\n",
              "    .dataframe tbody tr th:only-of-type {\n",
              "        vertical-align: middle;\n",
              "    }\n",
              "\n",
              "    .dataframe tbody tr th {\n",
              "        vertical-align: top;\n",
              "    }\n",
              "\n",
              "    .dataframe thead th {\n",
              "        text-align: right;\n",
              "    }\n",
              "</style>\n",
              "<table border=\"1\" class=\"dataframe\">\n",
              "  <thead>\n",
              "    <tr style=\"text-align: right;\">\n",
              "      <th></th>\n",
              "      <th>급속충전기(대)</th>\n",
              "    </tr>\n",
              "    <tr>\n",
              "      <th>지역</th>\n",
              "      <th></th>\n",
              "    </tr>\n",
              "  </thead>\n",
              "  <tbody>\n",
              "    <tr>\n",
              "      <th>전라남도 강진군</th>\n",
              "      <td>1</td>\n",
              "    </tr>\n",
              "    <tr>\n",
              "      <th>전라남도 고흥군</th>\n",
              "      <td>2</td>\n",
              "    </tr>\n",
              "    <tr>\n",
              "      <th>전라남도 곡성군</th>\n",
              "      <td>0</td>\n",
              "    </tr>\n",
              "    <tr>\n",
              "      <th>전라남도 광양시</th>\n",
              "      <td>14</td>\n",
              "    </tr>\n",
              "    <tr>\n",
              "      <th>전라남도 구례군</th>\n",
              "      <td>1</td>\n",
              "    </tr>\n",
              "    <tr>\n",
              "      <th>전라남도 나주시</th>\n",
              "      <td>33</td>\n",
              "    </tr>\n",
              "    <tr>\n",
              "      <th>전라남도 담양군</th>\n",
              "      <td>2</td>\n",
              "    </tr>\n",
              "    <tr>\n",
              "      <th>전라남도 목포시</th>\n",
              "      <td>30</td>\n",
              "    </tr>\n",
              "    <tr>\n",
              "      <th>전라남도 무안군</th>\n",
              "      <td>8</td>\n",
              "    </tr>\n",
              "    <tr>\n",
              "      <th>전라남도 보성군</th>\n",
              "      <td>1</td>\n",
              "    </tr>\n",
              "    <tr>\n",
              "      <th>전라남도 순천시</th>\n",
              "      <td>25</td>\n",
              "    </tr>\n",
              "    <tr>\n",
              "      <th>전라남도 신안군</th>\n",
              "      <td>1</td>\n",
              "    </tr>\n",
              "    <tr>\n",
              "      <th>전라남도 여수시</th>\n",
              "      <td>38</td>\n",
              "    </tr>\n",
              "    <tr>\n",
              "      <th>전라남도 영암군</th>\n",
              "      <td>8</td>\n",
              "    </tr>\n",
              "    <tr>\n",
              "      <th>전라남도 완도군</th>\n",
              "      <td>1</td>\n",
              "    </tr>\n",
              "    <tr>\n",
              "      <th>전라남도 장성군</th>\n",
              "      <td>1</td>\n",
              "    </tr>\n",
              "    <tr>\n",
              "      <th>전라남도 장흥군</th>\n",
              "      <td>2</td>\n",
              "    </tr>\n",
              "    <tr>\n",
              "      <th>전라남도 진도군</th>\n",
              "      <td>2</td>\n",
              "    </tr>\n",
              "    <tr>\n",
              "      <th>전라남도 함평군</th>\n",
              "      <td>1</td>\n",
              "    </tr>\n",
              "    <tr>\n",
              "      <th>전라남도 해남군</th>\n",
              "      <td>2</td>\n",
              "    </tr>\n",
              "    <tr>\n",
              "      <th>전라남도 화순군</th>\n",
              "      <td>3</td>\n",
              "    </tr>\n",
              "  </tbody>\n",
              "</table>\n",
              "</div>"
            ],
            "text/plain": [
              "          급속충전기(대)\n",
              "지역                \n",
              "전라남도 강진군         1\n",
              "전라남도 고흥군         2\n",
              "전라남도 곡성군         0\n",
              "전라남도 광양시        14\n",
              "전라남도 구례군         1\n",
              "전라남도 나주시        33\n",
              "전라남도 담양군         2\n",
              "전라남도 목포시        30\n",
              "전라남도 무안군         8\n",
              "전라남도 보성군         1\n",
              "전라남도 순천시        25\n",
              "전라남도 신안군         1\n",
              "전라남도 여수시        38\n",
              "전라남도 영암군         8\n",
              "전라남도 완도군         1\n",
              "전라남도 장성군         1\n",
              "전라남도 장흥군         2\n",
              "전라남도 진도군         2\n",
              "전라남도 함평군         1\n",
              "전라남도 해남군         2\n",
              "전라남도 화순군         3"
            ]
          },
          "metadata": {
            "tags": []
          },
          "execution_count": 58
        }
      ]
    },
    {
      "cell_type": "code",
      "metadata": {
        "colab": {
          "base_uri": "https://localhost:8080/",
          "height": 390
        },
        "id": "LEcEsTSMFyCu",
        "outputId": "7029bc06-42dd-4426-8f54-895916477e14"
      },
      "source": [
        "df_전남s = df['주소'].str.contains('전남')\n",
        "set_전남s =  df[df_전남s]\n",
        "\n",
        "df['지역'] = set_전남s['주소'].str.slice(start=0, stop=6)\n",
        "\n",
        "pd.pivot_table(df, index = '지역', values = '급속충전기(대)', aggfunc = 'sum')"
      ],
      "execution_count": null,
      "outputs": [
        {
          "output_type": "execute_result",
          "data": {
            "text/html": [
              "<div>\n",
              "<style scoped>\n",
              "    .dataframe tbody tr th:only-of-type {\n",
              "        vertical-align: middle;\n",
              "    }\n",
              "\n",
              "    .dataframe tbody tr th {\n",
              "        vertical-align: top;\n",
              "    }\n",
              "\n",
              "    .dataframe thead th {\n",
              "        text-align: right;\n",
              "    }\n",
              "</style>\n",
              "<table border=\"1\" class=\"dataframe\">\n",
              "  <thead>\n",
              "    <tr style=\"text-align: right;\">\n",
              "      <th></th>\n",
              "      <th>급속충전기(대)</th>\n",
              "    </tr>\n",
              "    <tr>\n",
              "      <th>지역</th>\n",
              "      <th></th>\n",
              "    </tr>\n",
              "  </thead>\n",
              "  <tbody>\n",
              "    <tr>\n",
              "      <th>전남 곡성군</th>\n",
              "      <td>2</td>\n",
              "    </tr>\n",
              "    <tr>\n",
              "      <th>전남 나주시</th>\n",
              "      <td>2</td>\n",
              "    </tr>\n",
              "    <tr>\n",
              "      <th>전남 목포시</th>\n",
              "      <td>3</td>\n",
              "    </tr>\n",
              "    <tr>\n",
              "      <th>전남 보성군</th>\n",
              "      <td>2</td>\n",
              "    </tr>\n",
              "    <tr>\n",
              "      <th>전남 순천시</th>\n",
              "      <td>1</td>\n",
              "    </tr>\n",
              "    <tr>\n",
              "      <th>전남 여수시</th>\n",
              "      <td>1</td>\n",
              "    </tr>\n",
              "    <tr>\n",
              "      <th>전남 영광군</th>\n",
              "      <td>1</td>\n",
              "    </tr>\n",
              "    <tr>\n",
              "      <th>전남 영암군</th>\n",
              "      <td>1</td>\n",
              "    </tr>\n",
              "    <tr>\n",
              "      <th>전남 진도군</th>\n",
              "      <td>1</td>\n",
              "    </tr>\n",
              "    <tr>\n",
              "      <th>전남 화순군</th>\n",
              "      <td>2</td>\n",
              "    </tr>\n",
              "  </tbody>\n",
              "</table>\n",
              "</div>"
            ],
            "text/plain": [
              "        급속충전기(대)\n",
              "지역              \n",
              "전남 곡성군         2\n",
              "전남 나주시         2\n",
              "전남 목포시         3\n",
              "전남 보성군         2\n",
              "전남 순천시         1\n",
              "전남 여수시         1\n",
              "전남 영광군         1\n",
              "전남 영암군         1\n",
              "전남 진도군         1\n",
              "전남 화순군         2"
            ]
          },
          "metadata": {
            "tags": []
          },
          "execution_count": 59
        }
      ]
    },
    {
      "cell_type": "code",
      "metadata": {
        "id": "QgXN7iQxF3IR"
      },
      "source": [
        "#전라남도 도시 = ['강진군', '고흥군', '곡성군', '광양시', '구례군', '나주시', '담양군', '목포시', '무안군', '보성군']\n",
        "#전라남도 도시 = ['순천시', '신안군', '여수시', '영광군','영암군', '완도군', '장성군', '장흥군', '진도군', '함평군', '해남군', '화순군']"
      ],
      "execution_count": null,
      "outputs": []
    },
    {
      "cell_type": "code",
      "metadata": {
        "colab": {
          "base_uri": "https://localhost:8080/",
          "height": 731
        },
        "id": "vLNUaxJ1KB9H",
        "outputId": "13809372-8911-4669-ad59-5a4ccc1b97a5"
      },
      "source": [
        "df_전남 = df['주소'].str.contains('전라남')\n",
        "set_전남 =  df[df_전남]\n",
        "\n",
        "df['지역'] = set_전남['주소'].str.slice(start=0, stop=8)\n",
        "\n",
        "강진군 = df['지역'].str.contains('강진군', na = False)\n",
        "subset_강진군 = df[강진군]\n",
        "\n",
        "전남_fast1 = subset_강진군['급속충전기(대)'].astype(int).sum()\n",
        "전남_slow1 = subset_강진군['완속충전기(대)'].astype(int).sum()\n",
        "\n",
        "new6.loc[1] = ['전라남도', '강진군',len(df[강진군]), 전남_fast1, 전남_slow1]\n",
        "\n",
        "고흥군 = df['지역'].str.contains('고흥군', na = False)\n",
        "subset_고흥군= df[고흥군]\n",
        "\n",
        "전남_fast2 = subset_고흥군['급속충전기(대)'].astype(int).sum()\n",
        "전남_slow2 = subset_고흥군['완속충전기(대)'].astype(int).sum()\n",
        "\n",
        "new6.loc[2] = ['전라남도', '고흥군',len(df[고흥군]), 전남_fast2, 전남_slow2]\n",
        "\n",
        "#전라남도 외 전남으로 주소를 쓴 곳.\n",
        "곡성군 = df['주소'].str.contains('곡성군', na = False)\n",
        "subset_곡성군 = df[곡성군]\n",
        "\n",
        "전남_fast3 = subset_곡성군['급속충전기(대)'].astype(int).sum()\n",
        "전남_slow3 = subset_곡성군['완속충전기(대)'].astype(int).sum()\n",
        "\n",
        "new6.loc[3] = ['전라남도', '곡성군',len(df[곡성군]), 전남_fast3, 전남_slow3]\n",
        "\n",
        "광양시 = df['지역'].str.contains('광양시', na = False)\n",
        "subset_광양시 = df[광양시]\n",
        "\n",
        "전남_fast4 = subset_광양시['급속충전기(대)'].astype(int).sum()\n",
        "전남_slow4 = subset_광양시['완속충전기(대)'].astype(int).sum()\n",
        "\n",
        "new6.loc[4] = ['전라남도', '광양시',len(df[광양시]), 전남_fast4, 전남_slow4]\n",
        "\n",
        "구례군 = df['지역'].str.contains('구례군', na = False)\n",
        "subset_구례군 = df[구례군]\n",
        "\n",
        "전남_fast5 = subset_구례군['급속충전기(대)'].astype(int).sum()\n",
        "전남_slow5 = subset_구례군['완속충전기(대)'].astype(int).sum()\n",
        "\n",
        "new6.loc[5] = ['전라남도', '구례군',len(df[구례군]), 전남_fast5, 전남_slow5]\n",
        "\n",
        "#전라남도 외 전남으로 주소를 쓴 곳.\n",
        "나주시 = df['주소'].str.contains('나주시', na = False)\n",
        "subset_나주시 = df[나주시]\n",
        "\n",
        "전남_fast6 = subset_나주시['급속충전기(대)'].astype(int).sum()\n",
        "전남_slow6 = subset_나주시['완속충전기(대)'].astype(int).sum()\n",
        "\n",
        "new6.loc[6] = ['전라남도', '나주시',len(df[나주시]), 전남_fast6, 전남_slow6]\n",
        "\n",
        "담양군 = df['지역'].str.contains('담양군', na = False)\n",
        "subset_담양군 = df[담양군]\n",
        "\n",
        "전남_fast7 = subset_담양군['급속충전기(대)'].astype(int).sum()\n",
        "전남_slow7 = subset_담양군['완속충전기(대)'].astype(int).sum()\n",
        "\n",
        "new6.loc[7] = ['전라남도', '담양군',len(df[담양군]), 전남_fast7, 전남_slow7]\n",
        "\n",
        "#전라남도 외 전남으로 주소를 쓴 곳.\n",
        "목포시 = df['주소'].str.contains('목포시', na = False)\n",
        "subset_목포시 = df[목포시]\n",
        "\n",
        "전남_fast8 = subset_목포시['급속충전기(대)'].astype(int).sum()\n",
        "전남_slow8 = subset_목포시['완속충전기(대)'].astype(int).sum()\n",
        "\n",
        "new6.loc[8] = ['전라남도', '목포시',len(df[목포시]), 전남_fast8, 전남_slow8]\n",
        "\n",
        "무안군 = df['지역'].str.contains('무안군', na = False)\n",
        "subset_무안군 = df[무안군]\n",
        "\n",
        "전남_fast9 = subset_무안군['급속충전기(대)'].astype(int).sum()\n",
        "전남_slow9 = subset_무안군['완속충전기(대)'].astype(int).sum()\n",
        "\n",
        "new6.loc[9] = ['전라남도', '무안군',len(df[무안군]), 전남_fast9, 전남_slow9]\n",
        "\n",
        "#전라남도 외 전남으로 주소를 쓴 곳.\n",
        "보성군 = df['주소'].str.contains('보성군', na = False)\n",
        "subset_보성군 = df[보성군]\n",
        "\n",
        "전남_fast10 = subset_보성군['급속충전기(대)'].astype(int).sum()\n",
        "전남_slow10 = subset_보성군['완속충전기(대)'].astype(int).sum()\n",
        "\n",
        "new6.loc[10] = ['전라남도', '보성군',len(df[보성군]), 전남_fast10, 전남_slow10]\n",
        "\n",
        "#전라남도 외 전남으로 주소를 쓴 곳.\n",
        "순천시 = df['주소'].str.contains('순천시', na = False)\n",
        "subset_순천시 = df[순천시]\n",
        "\n",
        "전남_fast11 = subset_순천시['급속충전기(대)'].astype(int).sum()\n",
        "전남_slow11 = subset_순천시['완속충전기(대)'].astype(int).sum()\n",
        "\n",
        "new6.loc[11] = ['전라남도', '순천시',len(df[순천시]), 전남_fast11, 전남_slow11]\n",
        "\n",
        "신안군 = df['지역'].str.contains('신안군', na = False)\n",
        "subset_신안군 = df[신안군]\n",
        "\n",
        "전남_fast12 = subset_신안군['급속충전기(대)'].astype(int).sum()\n",
        "전남_slow12 = subset_신안군['완속충전기(대)'].astype(int).sum()\n",
        "\n",
        "new6.loc[12] = ['전라남도', '신안군',len(df[신안군]), 전남_fast12, 전남_slow12]\n",
        "\n",
        "#전라남도 외 전남으로 주소를 쓴 곳.\n",
        "여수시 = df['주소'].str.contains('여수시', na = False)\n",
        "subset_여수시 = df[여수시]\n",
        "\n",
        "전남_fast13 = subset_여수시['급속충전기(대)'].astype(int).sum()\n",
        "전남_slow13 = subset_여수시['완속충전기(대)'].astype(int).sum()\n",
        "\n",
        "new6.loc[13] = ['전라남도', '여수시',len(df[여수시]), 전남_fast13, 전남_slow13]\n",
        "\n",
        "#전라남도 외 전남으로 주소를 쓴 곳.\n",
        "영광군 = df['주소'].str.contains('영광군', na = False)\n",
        "subset_영광군 = df[영광군]\n",
        "\n",
        "전남_fast14 = subset_영광군['급속충전기(대)'].astype(int).sum()\n",
        "전남_slow14 = subset_영광군['완속충전기(대)'].astype(int).sum()\n",
        "\n",
        "new6.loc[14] = ['전라남도', '영광군',len(df[영광군]), 전남_fast14, 전남_slow14]\n",
        "\n",
        "#전라남도 외 전남으로 주소를 쓴 곳.\n",
        "영암군 = df['주소'].str.contains('영암군', na = False)\n",
        "subset_영암군 = df[영암군]\n",
        "\n",
        "전남_fast15 = subset_영암군['급속충전기(대)'].astype(int).sum()\n",
        "전남_slow15 = subset_영암군['완속충전기(대)'].astype(int).sum()\n",
        "\n",
        "new6.loc[15] = ['전라남도', '영암군',len(df[영암군]), 전남_fast15, 전남_slow15]\n",
        "\n",
        "완도군 = df['지역'].str.contains('완도군', na = False)\n",
        "subset_완도군 = df[완도군]\n",
        "\n",
        "전남_fast16 = subset_완도군['급속충전기(대)'].astype(int).sum()\n",
        "전남_slow16 = subset_완도군['완속충전기(대)'].astype(int).sum()\n",
        "\n",
        "new6.loc[16] = ['전라남도', '완도군',len(df[완도군]), 전남_fast16, 전남_slow16]\n",
        "\n",
        "장성군 = df['지역'].str.contains('장성군', na = False)\n",
        "subset_장성군 = df[장성군]\n",
        "\n",
        "전남_fast17 = subset_장성군['급속충전기(대)'].astype(int).sum()\n",
        "전남_slow17 = subset_장성군['완속충전기(대)'].astype(int).sum()\n",
        "\n",
        "new6.loc[17] = ['전라남도', '장성군',len(df[장성군]), 전남_fast17, 전남_slow17]\n",
        "\n",
        "장흥군 = df['지역'].str.contains('장흥군', na = False)\n",
        "subset_장흥군 = df[장흥군]\n",
        "\n",
        "전남_fast18 = subset_장흥군['급속충전기(대)'].astype(int).sum()\n",
        "전남_slow18 = subset_장흥군['완속충전기(대)'].astype(int).sum()\n",
        "\n",
        "new6.loc[18] = ['전라남도', '장흥군',len(df[장흥군]), 전남_fast18, 전남_slow18]\n",
        "\n",
        "#전라남도 외 전남으로 주소를 쓴 곳.\n",
        "진도군 = df['주소'].str.contains('진도군', na = False)\n",
        "subset_진도군 = df[진도군]\n",
        "\n",
        "전남_fast19 = subset_진도군['급속충전기(대)'].astype(int).sum()\n",
        "전남_slow19 = subset_진도군['완속충전기(대)'].astype(int).sum()\n",
        "\n",
        "new6.loc[19] = ['전라남도', '진도군',len(df[진도군]), 전남_fast19, 전남_slow19]\n",
        "\n",
        "함평군 = df['지역'].str.contains('함평군', na = False)\n",
        "subset_함평군 = df[함평군]\n",
        "\n",
        "전남_fast20 = subset_함평군['급속충전기(대)'].astype(int).sum()\n",
        "전남_slow20 = subset_함평군['완속충전기(대)'].astype(int).sum()\n",
        "\n",
        "new6.loc[20] = ['전라남도', '함평군',len(df[함평군]), 전남_fast20, 전남_slow20]\n",
        "\n",
        "해남군 = df['지역'].str.contains('해남군', na = False)\n",
        "subset_해남군 = df[해남군]\n",
        "\n",
        "전남_fast21 = subset_해남군['급속충전기(대)'].astype(int).sum()\n",
        "전남_slow21 = subset_해남군['완속충전기(대)'].astype(int).sum()\n",
        "\n",
        "new6.loc[21] = ['전라남도', '해남군',len(df[해남군]), 전남_fast21, 전남_slow21]\n",
        "\n",
        "#전라남도 외 전남으로 주소를 쓴 곳.\n",
        "화순군 = df['주소'].str.contains('화순군', na = False)\n",
        "subset_화순군 = df[화순군]\n",
        "\n",
        "전남_fast22 = subset_화순군['급속충전기(대)'].astype(int).sum()\n",
        "전남_slow22 = subset_화순군['완속충전기(대)'].astype(int).sum()\n",
        "\n",
        "new6.loc[22] = ['전라남도', '화순군',len(df[화순군]), 전남_fast22, 전남_slow22]\n",
        "\n",
        "new6"
      ],
      "execution_count": null,
      "outputs": [
        {
          "output_type": "execute_result",
          "data": {
            "text/html": [
              "<div>\n",
              "<style scoped>\n",
              "    .dataframe tbody tr th:only-of-type {\n",
              "        vertical-align: middle;\n",
              "    }\n",
              "\n",
              "    .dataframe tbody tr th {\n",
              "        vertical-align: top;\n",
              "    }\n",
              "\n",
              "    .dataframe thead th {\n",
              "        text-align: right;\n",
              "    }\n",
              "</style>\n",
              "<table border=\"1\" class=\"dataframe\">\n",
              "  <thead>\n",
              "    <tr style=\"text-align: right;\">\n",
              "      <th></th>\n",
              "      <th>행정도시</th>\n",
              "      <th>시도</th>\n",
              "      <th>위치수</th>\n",
              "      <th>급속</th>\n",
              "      <th>완속</th>\n",
              "    </tr>\n",
              "  </thead>\n",
              "  <tbody>\n",
              "    <tr>\n",
              "      <th>1</th>\n",
              "      <td>전라남도</td>\n",
              "      <td>강진군</td>\n",
              "      <td>1</td>\n",
              "      <td>1</td>\n",
              "      <td>0</td>\n",
              "    </tr>\n",
              "    <tr>\n",
              "      <th>2</th>\n",
              "      <td>전라남도</td>\n",
              "      <td>고흥군</td>\n",
              "      <td>1</td>\n",
              "      <td>2</td>\n",
              "      <td>4</td>\n",
              "    </tr>\n",
              "    <tr>\n",
              "      <th>3</th>\n",
              "      <td>전라남도</td>\n",
              "      <td>곡성군</td>\n",
              "      <td>2</td>\n",
              "      <td>2</td>\n",
              "      <td>2</td>\n",
              "    </tr>\n",
              "    <tr>\n",
              "      <th>4</th>\n",
              "      <td>전라남도</td>\n",
              "      <td>광양시</td>\n",
              "      <td>12</td>\n",
              "      <td>14</td>\n",
              "      <td>12</td>\n",
              "    </tr>\n",
              "    <tr>\n",
              "      <th>5</th>\n",
              "      <td>전라남도</td>\n",
              "      <td>구례군</td>\n",
              "      <td>2</td>\n",
              "      <td>1</td>\n",
              "      <td>4</td>\n",
              "    </tr>\n",
              "    <tr>\n",
              "      <th>6</th>\n",
              "      <td>전라남도</td>\n",
              "      <td>나주시</td>\n",
              "      <td>36</td>\n",
              "      <td>35</td>\n",
              "      <td>61</td>\n",
              "    </tr>\n",
              "    <tr>\n",
              "      <th>7</th>\n",
              "      <td>전라남도</td>\n",
              "      <td>담양군</td>\n",
              "      <td>2</td>\n",
              "      <td>2</td>\n",
              "      <td>2</td>\n",
              "    </tr>\n",
              "    <tr>\n",
              "      <th>8</th>\n",
              "      <td>전라남도</td>\n",
              "      <td>목포시</td>\n",
              "      <td>36</td>\n",
              "      <td>33</td>\n",
              "      <td>38</td>\n",
              "    </tr>\n",
              "    <tr>\n",
              "      <th>9</th>\n",
              "      <td>전라남도</td>\n",
              "      <td>무안군</td>\n",
              "      <td>7</td>\n",
              "      <td>8</td>\n",
              "      <td>9</td>\n",
              "    </tr>\n",
              "    <tr>\n",
              "      <th>10</th>\n",
              "      <td>전라남도</td>\n",
              "      <td>보성군</td>\n",
              "      <td>2</td>\n",
              "      <td>3</td>\n",
              "      <td>2</td>\n",
              "    </tr>\n",
              "    <tr>\n",
              "      <th>11</th>\n",
              "      <td>전라남도</td>\n",
              "      <td>순천시</td>\n",
              "      <td>24</td>\n",
              "      <td>26</td>\n",
              "      <td>22</td>\n",
              "    </tr>\n",
              "    <tr>\n",
              "      <th>12</th>\n",
              "      <td>전라남도</td>\n",
              "      <td>신안군</td>\n",
              "      <td>2</td>\n",
              "      <td>1</td>\n",
              "      <td>1</td>\n",
              "    </tr>\n",
              "    <tr>\n",
              "      <th>13</th>\n",
              "      <td>전라남도</td>\n",
              "      <td>여수시</td>\n",
              "      <td>29</td>\n",
              "      <td>39</td>\n",
              "      <td>25</td>\n",
              "    </tr>\n",
              "    <tr>\n",
              "      <th>14</th>\n",
              "      <td>전라남도</td>\n",
              "      <td>영광군</td>\n",
              "      <td>2</td>\n",
              "      <td>1</td>\n",
              "      <td>3</td>\n",
              "    </tr>\n",
              "    <tr>\n",
              "      <th>15</th>\n",
              "      <td>전라남도</td>\n",
              "      <td>영암군</td>\n",
              "      <td>7</td>\n",
              "      <td>9</td>\n",
              "      <td>7</td>\n",
              "    </tr>\n",
              "    <tr>\n",
              "      <th>16</th>\n",
              "      <td>전라남도</td>\n",
              "      <td>완도군</td>\n",
              "      <td>2</td>\n",
              "      <td>1</td>\n",
              "      <td>1</td>\n",
              "    </tr>\n",
              "    <tr>\n",
              "      <th>17</th>\n",
              "      <td>전라남도</td>\n",
              "      <td>장성군</td>\n",
              "      <td>2</td>\n",
              "      <td>1</td>\n",
              "      <td>4</td>\n",
              "    </tr>\n",
              "    <tr>\n",
              "      <th>18</th>\n",
              "      <td>전라남도</td>\n",
              "      <td>장흥군</td>\n",
              "      <td>1</td>\n",
              "      <td>2</td>\n",
              "      <td>0</td>\n",
              "    </tr>\n",
              "    <tr>\n",
              "      <th>19</th>\n",
              "      <td>전라남도</td>\n",
              "      <td>진도군</td>\n",
              "      <td>3</td>\n",
              "      <td>3</td>\n",
              "      <td>3</td>\n",
              "    </tr>\n",
              "    <tr>\n",
              "      <th>20</th>\n",
              "      <td>전라남도</td>\n",
              "      <td>함평군</td>\n",
              "      <td>2</td>\n",
              "      <td>1</td>\n",
              "      <td>3</td>\n",
              "    </tr>\n",
              "    <tr>\n",
              "      <th>21</th>\n",
              "      <td>전라남도</td>\n",
              "      <td>해남군</td>\n",
              "      <td>2</td>\n",
              "      <td>2</td>\n",
              "      <td>7</td>\n",
              "    </tr>\n",
              "    <tr>\n",
              "      <th>22</th>\n",
              "      <td>전라남도</td>\n",
              "      <td>화순군</td>\n",
              "      <td>4</td>\n",
              "      <td>5</td>\n",
              "      <td>5</td>\n",
              "    </tr>\n",
              "  </tbody>\n",
              "</table>\n",
              "</div>"
            ],
            "text/plain": [
              "    행정도시   시도  위치수  급속  완속\n",
              "1   전라남도  강진군    1   1   0\n",
              "2   전라남도  고흥군    1   2   4\n",
              "3   전라남도  곡성군    2   2   2\n",
              "4   전라남도  광양시   12  14  12\n",
              "5   전라남도  구례군    2   1   4\n",
              "6   전라남도  나주시   36  35  61\n",
              "7   전라남도  담양군    2   2   2\n",
              "8   전라남도  목포시   36  33  38\n",
              "9   전라남도  무안군    7   8   9\n",
              "10  전라남도  보성군    2   3   2\n",
              "11  전라남도  순천시   24  26  22\n",
              "12  전라남도  신안군    2   1   1\n",
              "13  전라남도  여수시   29  39  25\n",
              "14  전라남도  영광군    2   1   3\n",
              "15  전라남도  영암군    7   9   7\n",
              "16  전라남도  완도군    2   1   1\n",
              "17  전라남도  장성군    2   1   4\n",
              "18  전라남도  장흥군    1   2   0\n",
              "19  전라남도  진도군    3   3   3\n",
              "20  전라남도  함평군    2   1   3\n",
              "21  전라남도  해남군    2   2   7\n",
              "22  전라남도  화순군    4   5   5"
            ]
          },
          "metadata": {
            "tags": []
          },
          "execution_count": 61
        }
      ]
    },
    {
      "cell_type": "code",
      "metadata": {
        "colab": {
          "base_uri": "https://localhost:8080/"
        },
        "id": "IlnyZrmpKhEs",
        "outputId": "a0c37dce-3a0b-4fd1-b24c-e77383d67876"
      },
      "source": [
        "new6['위치수'].sum()"
      ],
      "execution_count": null,
      "outputs": [
        {
          "output_type": "execute_result",
          "data": {
            "text/plain": [
              "181"
            ]
          },
          "metadata": {
            "tags": []
          },
          "execution_count": 62
        }
      ]
    },
    {
      "cell_type": "code",
      "metadata": {
        "colab": {
          "base_uri": "https://localhost:8080/"
        },
        "id": "kp6vdBCQQ5hQ",
        "outputId": "63fd79ff-70bf-4409-e077-3c80195eb7a9"
      },
      "source": [
        "new6['급속'].sum()"
      ],
      "execution_count": null,
      "outputs": [
        {
          "output_type": "execute_result",
          "data": {
            "text/plain": [
              "192"
            ]
          },
          "metadata": {
            "tags": []
          },
          "execution_count": 63
        }
      ]
    },
    {
      "cell_type": "code",
      "metadata": {
        "colab": {
          "base_uri": "https://localhost:8080/"
        },
        "id": "YV1te7hnRT1t",
        "outputId": "ef05adea-bf27-4e51-c4a4-9a6056115a81"
      },
      "source": [
        "new6['완속'].sum()"
      ],
      "execution_count": null,
      "outputs": [
        {
          "output_type": "execute_result",
          "data": {
            "text/plain": [
              "215"
            ]
          },
          "metadata": {
            "tags": []
          },
          "execution_count": 64
        }
      ]
    },
    {
      "cell_type": "code",
      "metadata": {
        "colab": {
          "base_uri": "https://localhost:8080/"
        },
        "id": "ZFptrI-6RVgO",
        "outputId": "2d08ac11-d196-4968-d26f-f54e1ad1fa49"
      },
      "source": [
        "new6['급속'].sum() + new6['완속'].sum()"
      ],
      "execution_count": null,
      "outputs": [
        {
          "output_type": "execute_result",
          "data": {
            "text/plain": [
              "407"
            ]
          },
          "metadata": {
            "tags": []
          },
          "execution_count": 65
        }
      ]
    },
    {
      "cell_type": "markdown",
      "metadata": {
        "id": "pUBsVBoyS_eF"
      },
      "source": [
        "#전라북도"
      ]
    },
    {
      "cell_type": "code",
      "metadata": {
        "id": "vVtUNJJ2RYyP"
      },
      "source": [
        "col = ['행정도시', '시도', '위치수', '급속', '완속']\n",
        "ind = [1,2,3,4,5]\n",
        "\n",
        "con = [[0, 0, 0, 0, 0], [0, 0, 0, 0, 0],[0, 0, 0, 0, 0], [0, 0, 0, 0, 0], [0, 0, 0, 0, 0]]\n",
        "new7 = pd.DataFrame(con, columns = col, index = ind)"
      ],
      "execution_count": null,
      "outputs": []
    },
    {
      "cell_type": "code",
      "metadata": {
        "colab": {
          "base_uri": "https://localhost:8080/",
          "height": 514
        },
        "id": "01CS8TYtTGAh",
        "outputId": "04f46753-8245-4910-8bc9-415f08426ca4"
      },
      "source": [
        "df_전북 = df['주소'].str.contains('전라북')\n",
        "set_전북 =  df[df_전북]\n",
        "\n",
        "df['지역'] = set_전북['주소'].str.slice(start=0, stop=8)\n",
        "\n",
        "pd.pivot_table(df, index = '지역', values = '급속충전기(대)', aggfunc = 'sum')"
      ],
      "execution_count": null,
      "outputs": [
        {
          "output_type": "execute_result",
          "data": {
            "text/html": [
              "<div>\n",
              "<style scoped>\n",
              "    .dataframe tbody tr th:only-of-type {\n",
              "        vertical-align: middle;\n",
              "    }\n",
              "\n",
              "    .dataframe tbody tr th {\n",
              "        vertical-align: top;\n",
              "    }\n",
              "\n",
              "    .dataframe thead th {\n",
              "        text-align: right;\n",
              "    }\n",
              "</style>\n",
              "<table border=\"1\" class=\"dataframe\">\n",
              "  <thead>\n",
              "    <tr style=\"text-align: right;\">\n",
              "      <th></th>\n",
              "      <th>급속충전기(대)</th>\n",
              "    </tr>\n",
              "    <tr>\n",
              "      <th>지역</th>\n",
              "      <th></th>\n",
              "    </tr>\n",
              "  </thead>\n",
              "  <tbody>\n",
              "    <tr>\n",
              "      <th>전라북도 고창군</th>\n",
              "      <td>1</td>\n",
              "    </tr>\n",
              "    <tr>\n",
              "      <th>전라북도 군산시</th>\n",
              "      <td>21</td>\n",
              "    </tr>\n",
              "    <tr>\n",
              "      <th>전라북도 김제시</th>\n",
              "      <td>1</td>\n",
              "    </tr>\n",
              "    <tr>\n",
              "      <th>전라북도 남원시</th>\n",
              "      <td>7</td>\n",
              "    </tr>\n",
              "    <tr>\n",
              "      <th>전라북도 무주군</th>\n",
              "      <td>1</td>\n",
              "    </tr>\n",
              "    <tr>\n",
              "      <th>전라북도 부안군</th>\n",
              "      <td>1</td>\n",
              "    </tr>\n",
              "    <tr>\n",
              "      <th>전라북도 순창군</th>\n",
              "      <td>1</td>\n",
              "    </tr>\n",
              "    <tr>\n",
              "      <th>전라북도 완주군</th>\n",
              "      <td>6</td>\n",
              "    </tr>\n",
              "    <tr>\n",
              "      <th>전라북도 익산시</th>\n",
              "      <td>14</td>\n",
              "    </tr>\n",
              "    <tr>\n",
              "      <th>전라북도 임실군</th>\n",
              "      <td>2</td>\n",
              "    </tr>\n",
              "    <tr>\n",
              "      <th>전라북도 장수군</th>\n",
              "      <td>2</td>\n",
              "    </tr>\n",
              "    <tr>\n",
              "      <th>전라북도 전주시</th>\n",
              "      <td>57</td>\n",
              "    </tr>\n",
              "    <tr>\n",
              "      <th>전라북도 정읍시</th>\n",
              "      <td>9</td>\n",
              "    </tr>\n",
              "    <tr>\n",
              "      <th>전라북도 진안군</th>\n",
              "      <td>2</td>\n",
              "    </tr>\n",
              "  </tbody>\n",
              "</table>\n",
              "</div>"
            ],
            "text/plain": [
              "          급속충전기(대)\n",
              "지역                \n",
              "전라북도 고창군         1\n",
              "전라북도 군산시        21\n",
              "전라북도 김제시         1\n",
              "전라북도 남원시         7\n",
              "전라북도 무주군         1\n",
              "전라북도 부안군         1\n",
              "전라북도 순창군         1\n",
              "전라북도 완주군         6\n",
              "전라북도 익산시        14\n",
              "전라북도 임실군         2\n",
              "전라북도 장수군         2\n",
              "전라북도 전주시        57\n",
              "전라북도 정읍시         9\n",
              "전라북도 진안군         2"
            ]
          },
          "metadata": {
            "tags": []
          },
          "execution_count": 67
        }
      ]
    },
    {
      "cell_type": "code",
      "metadata": {
        "colab": {
          "base_uri": "https://localhost:8080/",
          "height": 204
        },
        "id": "54pKU8ouWePC",
        "outputId": "12906868-e71a-4ce2-f548-e69fd7110ad6"
      },
      "source": [
        "df_전북s = df['주소'].str.contains('전북')\n",
        "set_전북s =  df[df_전북s]\n",
        "\n",
        "df['지역'] = set_전북s['주소'].str.slice(start=0, stop=5)\n",
        "\n",
        "pd.pivot_table(df, index = '지역', values = '급속충전기(대)', aggfunc = 'sum')"
      ],
      "execution_count": null,
      "outputs": [
        {
          "output_type": "execute_result",
          "data": {
            "text/html": [
              "<div>\n",
              "<style scoped>\n",
              "    .dataframe tbody tr th:only-of-type {\n",
              "        vertical-align: middle;\n",
              "    }\n",
              "\n",
              "    .dataframe tbody tr th {\n",
              "        vertical-align: top;\n",
              "    }\n",
              "\n",
              "    .dataframe thead th {\n",
              "        text-align: right;\n",
              "    }\n",
              "</style>\n",
              "<table border=\"1\" class=\"dataframe\">\n",
              "  <thead>\n",
              "    <tr style=\"text-align: right;\">\n",
              "      <th></th>\n",
              "      <th>급속충전기(대)</th>\n",
              "    </tr>\n",
              "    <tr>\n",
              "      <th>지역</th>\n",
              "      <th></th>\n",
              "    </tr>\n",
              "  </thead>\n",
              "  <tbody>\n",
              "    <tr>\n",
              "      <th>전라북도</th>\n",
              "      <td>2</td>\n",
              "    </tr>\n",
              "    <tr>\n",
              "      <th>전북 임실</th>\n",
              "      <td>0</td>\n",
              "    </tr>\n",
              "    <tr>\n",
              "      <th>전북 전주</th>\n",
              "      <td>3</td>\n",
              "    </tr>\n",
              "    <tr>\n",
              "      <th>전북 정읍</th>\n",
              "      <td>1</td>\n",
              "    </tr>\n",
              "  </tbody>\n",
              "</table>\n",
              "</div>"
            ],
            "text/plain": [
              "       급속충전기(대)\n",
              "지역             \n",
              "전라북도          2\n",
              "전북 임실         0\n",
              "전북 전주         3\n",
              "전북 정읍         1"
            ]
          },
          "metadata": {
            "tags": []
          },
          "execution_count": 68
        }
      ]
    },
    {
      "cell_type": "code",
      "metadata": {
        "colab": {
          "base_uri": "https://localhost:8080/",
          "height": 359
        },
        "id": "X8zxaJAeNkTH",
        "outputId": "4c232c69-5939-4b29-adf3-a7f283ca8310"
      },
      "source": [
        "df_전북s = df['주소'].str.contains('전북')\n",
        "set_전북s =  df[df_전북s]\n",
        "\n",
        "df['지역'] = set_전북s['주소'].str.slice(start=0, stop=40)\n",
        "\n",
        "pd.pivot_table(df, index = '지역', values = '급속충전기(대)', aggfunc = 'sum')"
      ],
      "execution_count": null,
      "outputs": [
        {
          "output_type": "execute_result",
          "data": {
            "text/html": [
              "<div>\n",
              "<style scoped>\n",
              "    .dataframe tbody tr th:only-of-type {\n",
              "        vertical-align: middle;\n",
              "    }\n",
              "\n",
              "    .dataframe tbody tr th {\n",
              "        vertical-align: top;\n",
              "    }\n",
              "\n",
              "    .dataframe thead th {\n",
              "        text-align: right;\n",
              "    }\n",
              "</style>\n",
              "<table border=\"1\" class=\"dataframe\">\n",
              "  <thead>\n",
              "    <tr style=\"text-align: right;\">\n",
              "      <th></th>\n",
              "      <th>급속충전기(대)</th>\n",
              "    </tr>\n",
              "    <tr>\n",
              "      <th>지역</th>\n",
              "      <th></th>\n",
              "    </tr>\n",
              "  </thead>\n",
              "  <tbody>\n",
              "    <tr>\n",
              "      <th>전라북도 전주시 완산구 홍산로 158 (효자동2가, 한국토지주택공사 전북</th>\n",
              "      <td>2</td>\n",
              "    </tr>\n",
              "    <tr>\n",
              "      <th>전북 임실군 운암면 마암리 613-16</th>\n",
              "      <td>0</td>\n",
              "    </tr>\n",
              "    <tr>\n",
              "      <th>전북 전주시 덕진구 만성동 1367-1</th>\n",
              "      <td>0</td>\n",
              "    </tr>\n",
              "    <tr>\n",
              "      <th>전북 전주시 덕진구 송천동2가 1304</th>\n",
              "      <td>0</td>\n",
              "    </tr>\n",
              "    <tr>\n",
              "      <th>전북 전주시 덕진구 인후동1가 1033</th>\n",
              "      <td>1</td>\n",
              "    </tr>\n",
              "    <tr>\n",
              "      <th>전북 전주시 덕진구 인후동1가 458</th>\n",
              "      <td>0</td>\n",
              "    </tr>\n",
              "    <tr>\n",
              "      <th>전북 전주시 완산구 효자동2가 122</th>\n",
              "      <td>0</td>\n",
              "    </tr>\n",
              "    <tr>\n",
              "      <th>전북 전주시 완산구 효자동3가 1629</th>\n",
              "      <td>2</td>\n",
              "    </tr>\n",
              "    <tr>\n",
              "      <th>전북 정읍시 태인면 증산리 591-8</th>\n",
              "      <td>1</td>\n",
              "    </tr>\n",
              "  </tbody>\n",
              "</table>\n",
              "</div>"
            ],
            "text/plain": [
              "                                          급속충전기(대)\n",
              "지역                                                \n",
              "전라북도 전주시 완산구 홍산로 158 (효자동2가, 한국토지주택공사 전북         2\n",
              "전북 임실군 운암면 마암리 613-16                            0\n",
              "전북 전주시 덕진구 만성동 1367-1                            0\n",
              "전북 전주시 덕진구 송천동2가 1304                            0\n",
              "전북 전주시 덕진구 인후동1가 1033                            1\n",
              "전북 전주시 덕진구 인후동1가 458                             0\n",
              "전북 전주시 완산구 효자동2가 122                             0\n",
              "전북 전주시 완산구 효자동3가 1629                            2\n",
              "전북 정읍시 태인면 증산리 591-8                             1"
            ]
          },
          "metadata": {
            "tags": []
          },
          "execution_count": 69
        }
      ]
    },
    {
      "cell_type": "code",
      "metadata": {
        "id": "61u42Q-HNrmV"
      },
      "source": [
        "# 주택토지공사 전북으로 전북이 중복검색되지만 전주시는 전국 주소로 볼 것이기에 괜찮음."
      ],
      "execution_count": null,
      "outputs": []
    },
    {
      "cell_type": "code",
      "metadata": {
        "id": "xOkn5sggN3wv"
      },
      "source": [
        "#전라북도 도시 = ['고창군', '군산시', '김제시', '남원시', '무주군', '부안군', '순창군', '완주군', '익산시', '임실군', '장수군', '전주시', '정읍시', '진안군']\t"
      ],
      "execution_count": null,
      "outputs": []
    },
    {
      "cell_type": "code",
      "metadata": {
        "colab": {
          "base_uri": "https://localhost:8080/",
          "height": 483
        },
        "id": "oFe0j_tYN6GM",
        "outputId": "a5b0b36c-021c-4336-e8e0-b947eb3274a0"
      },
      "source": [
        "df_전북 = df['주소'].str.contains('전라북')\n",
        "set_전북 =  df[df_전북]\n",
        "\n",
        "df['지역'] = set_전북['주소'].str.slice(start=0, stop=8)\n",
        "\n",
        "고창군 = df['지역'].str.contains('고창군', na = False)\n",
        "subset_고창군 = df[고창군]\n",
        "\n",
        "전북_fast1 = subset_고창군['급속충전기(대)'].astype(int).sum()\n",
        "전북_slow1 = subset_고창군['완속충전기(대)'].astype(int).sum()\n",
        "\n",
        "new7.loc[1] = ['전라북도', '고창군',len(df[고창군]), 전북_fast1, 전북_slow1]\n",
        "\n",
        "군산시 = df['지역'].str.contains('군산시', na = False)\n",
        "subset_군산시 = df[군산시]\n",
        "\n",
        "전북_fast2 = subset_군산시['급속충전기(대)'].astype(int).sum()\n",
        "전북_slow2 = subset_군산시['완속충전기(대)'].astype(int).sum()\n",
        "\n",
        "new7.loc[2] = ['전라북도', '군산시',len(df[군산시]), 전북_fast2, 전북_slow2]\n",
        "\n",
        "김제시 = df['지역'].str.contains('김제시', na = False)\n",
        "subset_김제시 = df[김제시]\n",
        "\n",
        "전북_fast3 = subset_김제시['급속충전기(대)'].astype(int).sum()\n",
        "전북_slow3 = subset_김제시['완속충전기(대)'].astype(int).sum()\n",
        "\n",
        "new7.loc[3] = ['전라북도', '김제시',len(df[김제시]), 전북_fast3, 전북_slow3]\n",
        "\n",
        "남원시 = df['지역'].str.contains('남원시', na = False)\n",
        "subset_남원시 = df[남원시]\n",
        "\n",
        "전북_fast4 = subset_남원시['급속충전기(대)'].astype(int).sum()\n",
        "전북_slow4 = subset_남원시['완속충전기(대)'].astype(int).sum()\n",
        "\n",
        "new7.loc[4] = ['전라북도', '남원시',len(df[남원시]), 전북_fast4, 전북_slow4]\n",
        "\n",
        "무주군 = df['지역'].str.contains('무주군', na = False)\n",
        "subset_무주군 = df[무주군]\n",
        "\n",
        "전북_fast5 = subset_무주군['급속충전기(대)'].astype(int).sum()\n",
        "전북_slow5 = subset_무주군['완속충전기(대)'].astype(int).sum()\n",
        "\n",
        "new7.loc[5] = ['전라북도', '무주군',len(df[무주군]), 전북_fast5, 전북_slow5]\n",
        "\n",
        "부안군 = df['지역'].str.contains('부안군', na = False)\n",
        "subset_부안군 = df[부안군]\n",
        "\n",
        "전북_fast6 = subset_부안군['급속충전기(대)'].astype(int).sum()\n",
        "전북_slow6 = subset_부안군['완속충전기(대)'].astype(int).sum()\n",
        "\n",
        "new7.loc[6] = ['전라북도', '부안군',len(df[부안군]), 전북_fast6, 전북_slow6]\n",
        "\n",
        "순창군 = df['지역'].str.contains('순창군', na = False)\n",
        "subset_순창군 = df[순창군]\n",
        "\n",
        "전북_fast7 = subset_순창군['급속충전기(대)'].astype(int).sum()\n",
        "전북_slow7 = subset_순창군['완속충전기(대)'].astype(int).sum()\n",
        "\n",
        "new7.loc[7] = ['전라북도', '순창군',len(df[순창군]), 전북_fast7, 전북_slow7]\n",
        "\n",
        "완주군 = df['지역'].str.contains('완주군', na = False)\n",
        "subset_완주군 = df[완주군]\n",
        "\n",
        "전북_fast8 = subset_완주군['급속충전기(대)'].astype(int).sum()\n",
        "전북_slow8 = subset_완주군['완속충전기(대)'].astype(int).sum()\n",
        "\n",
        "new7.loc[8] = ['전라북도', '완주군',len(df[완주군]), 전북_fast8, 전북_slow8]\n",
        "\n",
        "익산시 = df['지역'].str.contains('익산시', na = False)\n",
        "subset_익산시 = df[익산시]\n",
        "\n",
        "전북_fast9 = subset_익산시['급속충전기(대)'].astype(int).sum()\n",
        "전북_slow9 = subset_익산시['완속충전기(대)'].astype(int).sum()\n",
        "\n",
        "new7.loc[9] = ['전라북도', '익산시',len(df[익산시]), 전북_fast9, 전북_slow9]\n",
        "\n",
        "#전북으로도 검색\n",
        "임실군 = df['주소'].str.contains('임실군', na = False)\n",
        "subset_임실군 = df[임실군]\n",
        "\n",
        "전북_fast10 = subset_임실군['급속충전기(대)'].astype(int).sum()\n",
        "전북_slow10 = subset_임실군['완속충전기(대)'].astype(int).sum()\n",
        "\n",
        "new7.loc[10] = ['전라북도', '임실군',len(df[임실군]), 전북_fast10, 전북_slow10]\n",
        "\n",
        "장수군 = df['지역'].str.contains('장수군', na = False)\n",
        "subset_장수군 = df[장수군]\n",
        "\n",
        "전북_fast11 = subset_장수군['급속충전기(대)'].astype(int).sum()\n",
        "전북_slow11 = subset_장수군['완속충전기(대)'].astype(int).sum()\n",
        "\n",
        "new7.loc[11] = ['전라북도', '장수군',len(df[장수군]), 전북_fast11, 전북_slow11]\n",
        "\n",
        "#전북으로도 검색\n",
        "전주시 = df['주소'].str.contains('전주시', na = False)\n",
        "subset_전주시 = df[전주시]\n",
        "\n",
        "전북_fast12 = subset_전주시['급속충전기(대)'].astype(int).sum()\n",
        "전북_slow12 = subset_전주시['완속충전기(대)'].astype(int).sum()\n",
        "\n",
        "new7.loc[12] = ['전라북도', '전주시',len(df[전주시]), 전북_fast12, 전북_slow12]\n",
        "\n",
        "#전북으로도 검색\n",
        "정읍시 = df['주소'].str.contains('정읍시', na = False)\n",
        "subset_정읍시 = df[정읍시]\n",
        "\n",
        "전북_fast13 = subset_정읍시['급속충전기(대)'].astype(int).sum()\n",
        "전북_slow13 = subset_정읍시['완속충전기(대)'].astype(int).sum()\n",
        "\n",
        "new7.loc[13] = ['전라북도', '정읍시',len(df[정읍시]), 전북_fast13, 전북_slow13]\n",
        "\n",
        "진안군 = df['지역'].str.contains('진안군', na = False)\n",
        "subset_진안군 = df[진안군]\n",
        "\n",
        "전북_fast14 = subset_진안군['급속충전기(대)'].astype(int).sum()\n",
        "전북_slow14 = subset_진안군['완속충전기(대)'].astype(int).sum()\n",
        "\n",
        "new7.loc[14] = ['전라북도', '진안군',len(df[진안군]), 전북_fast14, 전북_slow14]\n",
        "\n",
        "new7"
      ],
      "execution_count": null,
      "outputs": [
        {
          "output_type": "execute_result",
          "data": {
            "text/html": [
              "<div>\n",
              "<style scoped>\n",
              "    .dataframe tbody tr th:only-of-type {\n",
              "        vertical-align: middle;\n",
              "    }\n",
              "\n",
              "    .dataframe tbody tr th {\n",
              "        vertical-align: top;\n",
              "    }\n",
              "\n",
              "    .dataframe thead th {\n",
              "        text-align: right;\n",
              "    }\n",
              "</style>\n",
              "<table border=\"1\" class=\"dataframe\">\n",
              "  <thead>\n",
              "    <tr style=\"text-align: right;\">\n",
              "      <th></th>\n",
              "      <th>행정도시</th>\n",
              "      <th>시도</th>\n",
              "      <th>위치수</th>\n",
              "      <th>급속</th>\n",
              "      <th>완속</th>\n",
              "    </tr>\n",
              "  </thead>\n",
              "  <tbody>\n",
              "    <tr>\n",
              "      <th>1</th>\n",
              "      <td>전라북도</td>\n",
              "      <td>고창군</td>\n",
              "      <td>2</td>\n",
              "      <td>1</td>\n",
              "      <td>4</td>\n",
              "    </tr>\n",
              "    <tr>\n",
              "      <th>2</th>\n",
              "      <td>전라북도</td>\n",
              "      <td>군산시</td>\n",
              "      <td>22</td>\n",
              "      <td>21</td>\n",
              "      <td>29</td>\n",
              "    </tr>\n",
              "    <tr>\n",
              "      <th>3</th>\n",
              "      <td>전라북도</td>\n",
              "      <td>김제시</td>\n",
              "      <td>2</td>\n",
              "      <td>1</td>\n",
              "      <td>8</td>\n",
              "    </tr>\n",
              "    <tr>\n",
              "      <th>4</th>\n",
              "      <td>전라북도</td>\n",
              "      <td>남원시</td>\n",
              "      <td>8</td>\n",
              "      <td>7</td>\n",
              "      <td>7</td>\n",
              "    </tr>\n",
              "    <tr>\n",
              "      <th>5</th>\n",
              "      <td>전라북도</td>\n",
              "      <td>무주군</td>\n",
              "      <td>1</td>\n",
              "      <td>1</td>\n",
              "      <td>1</td>\n",
              "    </tr>\n",
              "    <tr>\n",
              "      <th>6</th>\n",
              "      <td>전라북도</td>\n",
              "      <td>부안군</td>\n",
              "      <td>1</td>\n",
              "      <td>1</td>\n",
              "      <td>2</td>\n",
              "    </tr>\n",
              "    <tr>\n",
              "      <th>7</th>\n",
              "      <td>전라북도</td>\n",
              "      <td>순창군</td>\n",
              "      <td>2</td>\n",
              "      <td>1</td>\n",
              "      <td>1</td>\n",
              "    </tr>\n",
              "    <tr>\n",
              "      <th>8</th>\n",
              "      <td>전라북도</td>\n",
              "      <td>완주군</td>\n",
              "      <td>5</td>\n",
              "      <td>6</td>\n",
              "      <td>5</td>\n",
              "    </tr>\n",
              "    <tr>\n",
              "      <th>9</th>\n",
              "      <td>전라북도</td>\n",
              "      <td>익산시</td>\n",
              "      <td>14</td>\n",
              "      <td>14</td>\n",
              "      <td>24</td>\n",
              "    </tr>\n",
              "    <tr>\n",
              "      <th>10</th>\n",
              "      <td>전라북도</td>\n",
              "      <td>임실군</td>\n",
              "      <td>3</td>\n",
              "      <td>2</td>\n",
              "      <td>4</td>\n",
              "    </tr>\n",
              "    <tr>\n",
              "      <th>11</th>\n",
              "      <td>전라북도</td>\n",
              "      <td>장수군</td>\n",
              "      <td>4</td>\n",
              "      <td>2</td>\n",
              "      <td>4</td>\n",
              "    </tr>\n",
              "    <tr>\n",
              "      <th>12</th>\n",
              "      <td>전라북도</td>\n",
              "      <td>전주시</td>\n",
              "      <td>68</td>\n",
              "      <td>60</td>\n",
              "      <td>102</td>\n",
              "    </tr>\n",
              "    <tr>\n",
              "      <th>13</th>\n",
              "      <td>전라북도</td>\n",
              "      <td>정읍시</td>\n",
              "      <td>12</td>\n",
              "      <td>10</td>\n",
              "      <td>17</td>\n",
              "    </tr>\n",
              "    <tr>\n",
              "      <th>14</th>\n",
              "      <td>전라북도</td>\n",
              "      <td>진안군</td>\n",
              "      <td>4</td>\n",
              "      <td>2</td>\n",
              "      <td>4</td>\n",
              "    </tr>\n",
              "  </tbody>\n",
              "</table>\n",
              "</div>"
            ],
            "text/plain": [
              "    행정도시   시도  위치수  급속   완속\n",
              "1   전라북도  고창군    2   1    4\n",
              "2   전라북도  군산시   22  21   29\n",
              "3   전라북도  김제시    2   1    8\n",
              "4   전라북도  남원시    8   7    7\n",
              "5   전라북도  무주군    1   1    1\n",
              "6   전라북도  부안군    1   1    2\n",
              "7   전라북도  순창군    2   1    1\n",
              "8   전라북도  완주군    5   6    5\n",
              "9   전라북도  익산시   14  14   24\n",
              "10  전라북도  임실군    3   2    4\n",
              "11  전라북도  장수군    4   2    4\n",
              "12  전라북도  전주시   68  60  102\n",
              "13  전라북도  정읍시   12  10   17\n",
              "14  전라북도  진안군    4   2    4"
            ]
          },
          "metadata": {
            "tags": []
          },
          "execution_count": 72
        }
      ]
    },
    {
      "cell_type": "code",
      "metadata": {
        "colab": {
          "base_uri": "https://localhost:8080/"
        },
        "id": "3rw1NhIiN-Al",
        "outputId": "11e9e746-6b9b-4034-fbec-4d4ae437be29"
      },
      "source": [
        "new7['위치수'].sum()"
      ],
      "execution_count": null,
      "outputs": [
        {
          "output_type": "execute_result",
          "data": {
            "text/plain": [
              "148"
            ]
          },
          "metadata": {
            "tags": []
          },
          "execution_count": 73
        }
      ]
    },
    {
      "cell_type": "code",
      "metadata": {
        "colab": {
          "base_uri": "https://localhost:8080/"
        },
        "id": "S4-pENWgN_3w",
        "outputId": "e6e16aa5-eed2-4cf2-cb31-dcc480621704"
      },
      "source": [
        "new7['급속'].sum()"
      ],
      "execution_count": null,
      "outputs": [
        {
          "output_type": "execute_result",
          "data": {
            "text/plain": [
              "129"
            ]
          },
          "metadata": {
            "tags": []
          },
          "execution_count": 74
        }
      ]
    },
    {
      "cell_type": "code",
      "metadata": {
        "colab": {
          "base_uri": "https://localhost:8080/"
        },
        "id": "pvN5n4b3OB-z",
        "outputId": "7cf35df2-f574-488d-83bd-472885e8d18a"
      },
      "source": [
        "new7['완속'].sum()"
      ],
      "execution_count": null,
      "outputs": [
        {
          "output_type": "execute_result",
          "data": {
            "text/plain": [
              "212"
            ]
          },
          "metadata": {
            "tags": []
          },
          "execution_count": 75
        }
      ]
    },
    {
      "cell_type": "code",
      "metadata": {
        "colab": {
          "base_uri": "https://localhost:8080/"
        },
        "id": "imGqlJzPODUr",
        "outputId": "d1a3fe35-fcce-4892-c666-8ca2dd078e69"
      },
      "source": [
        "new7['급속'].sum() + new7['완속'].sum()"
      ],
      "execution_count": null,
      "outputs": [
        {
          "output_type": "execute_result",
          "data": {
            "text/plain": [
              "341"
            ]
          },
          "metadata": {
            "tags": []
          },
          "execution_count": 76
        }
      ]
    },
    {
      "cell_type": "markdown",
      "metadata": {
        "id": "NHyvjf-yOGro"
      },
      "source": [
        "# 경상남도"
      ]
    },
    {
      "cell_type": "code",
      "metadata": {
        "id": "1F6wRxCWOILd"
      },
      "source": [
        "col = ['행정도시', '시도', '위치수', '급속', '완속']\n",
        "ind = [1,2,3,4,5]\n",
        "\n",
        "con = [[0, 0, 0, 0, 0], [0, 0, 0, 0, 0],[0, 0, 0, 0, 0], [0, 0, 0, 0, 0], [0, 0, 0, 0, 0]]\n",
        "new8 = pd.DataFrame(con, columns = col, index = ind)"
      ],
      "execution_count": null,
      "outputs": []
    },
    {
      "cell_type": "code",
      "metadata": {
        "colab": {
          "base_uri": "https://localhost:8080/",
          "height": 669
        },
        "id": "ucVM7eKNOMrG",
        "outputId": "ace8c5e1-357e-42d5-8870-7baa1c59b5ce"
      },
      "source": [
        "df_경남 = df['주소'].str.contains('경상남')\n",
        "set_경남 =  df[df_경남]\n",
        "\n",
        "df['지역'] = set_경남['주소'].str.slice(start=0, stop=8)\n",
        "\n",
        "pd.pivot_table(df, index = '지역', values = '급속충전기(대)', aggfunc = 'sum')"
      ],
      "execution_count": null,
      "outputs": [
        {
          "output_type": "execute_result",
          "data": {
            "text/html": [
              "<div>\n",
              "<style scoped>\n",
              "    .dataframe tbody tr th:only-of-type {\n",
              "        vertical-align: middle;\n",
              "    }\n",
              "\n",
              "    .dataframe tbody tr th {\n",
              "        vertical-align: top;\n",
              "    }\n",
              "\n",
              "    .dataframe thead th {\n",
              "        text-align: right;\n",
              "    }\n",
              "</style>\n",
              "<table border=\"1\" class=\"dataframe\">\n",
              "  <thead>\n",
              "    <tr style=\"text-align: right;\">\n",
              "      <th></th>\n",
              "      <th>급속충전기(대)</th>\n",
              "    </tr>\n",
              "    <tr>\n",
              "      <th>지역</th>\n",
              "      <th></th>\n",
              "    </tr>\n",
              "  </thead>\n",
              "  <tbody>\n",
              "    <tr>\n",
              "      <th>경상남도 거제시</th>\n",
              "      <td>15</td>\n",
              "    </tr>\n",
              "    <tr>\n",
              "      <th>경상남도 거창군</th>\n",
              "      <td>1</td>\n",
              "    </tr>\n",
              "    <tr>\n",
              "      <th>경상남도 고성군</th>\n",
              "      <td>3</td>\n",
              "    </tr>\n",
              "    <tr>\n",
              "      <th>경상남도 고성읍</th>\n",
              "      <td>1</td>\n",
              "    </tr>\n",
              "    <tr>\n",
              "      <th>경상남도 김해시</th>\n",
              "      <td>36</td>\n",
              "    </tr>\n",
              "    <tr>\n",
              "      <th>경상남도 남해군</th>\n",
              "      <td>3</td>\n",
              "    </tr>\n",
              "    <tr>\n",
              "      <th>경상남도 밀양시</th>\n",
              "      <td>6</td>\n",
              "    </tr>\n",
              "    <tr>\n",
              "      <th>경상남도 사천시</th>\n",
              "      <td>7</td>\n",
              "    </tr>\n",
              "    <tr>\n",
              "      <th>경상남도 산청군</th>\n",
              "      <td>3</td>\n",
              "    </tr>\n",
              "    <tr>\n",
              "      <th>경상남도 양산시</th>\n",
              "      <td>38</td>\n",
              "    </tr>\n",
              "    <tr>\n",
              "      <th>경상남도 의령군</th>\n",
              "      <td>0</td>\n",
              "    </tr>\n",
              "    <tr>\n",
              "      <th>경상남도 진주시</th>\n",
              "      <td>17</td>\n",
              "    </tr>\n",
              "    <tr>\n",
              "      <th>경상남도 창녕군</th>\n",
              "      <td>3</td>\n",
              "    </tr>\n",
              "    <tr>\n",
              "      <th>경상남도 창원시</th>\n",
              "      <td>55</td>\n",
              "    </tr>\n",
              "    <tr>\n",
              "      <th>경상남도 통영시</th>\n",
              "      <td>8</td>\n",
              "    </tr>\n",
              "    <tr>\n",
              "      <th>경상남도 하동군</th>\n",
              "      <td>1</td>\n",
              "    </tr>\n",
              "    <tr>\n",
              "      <th>경상남도 함안군</th>\n",
              "      <td>6</td>\n",
              "    </tr>\n",
              "    <tr>\n",
              "      <th>경상남도 함양군</th>\n",
              "      <td>4</td>\n",
              "    </tr>\n",
              "    <tr>\n",
              "      <th>경상남도 합천군</th>\n",
              "      <td>3</td>\n",
              "    </tr>\n",
              "  </tbody>\n",
              "</table>\n",
              "</div>"
            ],
            "text/plain": [
              "          급속충전기(대)\n",
              "지역                \n",
              "경상남도 거제시        15\n",
              "경상남도 거창군         1\n",
              "경상남도 고성군         3\n",
              "경상남도 고성읍         1\n",
              "경상남도 김해시        36\n",
              "경상남도 남해군         3\n",
              "경상남도 밀양시         6\n",
              "경상남도 사천시         7\n",
              "경상남도 산청군         3\n",
              "경상남도 양산시        38\n",
              "경상남도 의령군         0\n",
              "경상남도 진주시        17\n",
              "경상남도 창녕군         3\n",
              "경상남도 창원시        55\n",
              "경상남도 통영시         8\n",
              "경상남도 하동군         1\n",
              "경상남도 함안군         6\n",
              "경상남도 함양군         4\n",
              "경상남도 합천군         3"
            ]
          },
          "metadata": {
            "tags": []
          },
          "execution_count": 78
        }
      ]
    },
    {
      "cell_type": "code",
      "metadata": {
        "colab": {
          "base_uri": "https://localhost:8080/",
          "height": 390
        },
        "id": "yL2yKUt7OO8p",
        "outputId": "c1ed71f7-ca3b-4a3b-84fe-6198305c8e76"
      },
      "source": [
        "df_경남s = df['주소'].str.contains('경남')\n",
        "set_경남s =  df[df_경남s]\n",
        "\n",
        "df['지역'] = set_경남s['주소'].str.slice(start=0, stop=6)\n",
        "\n",
        "pd.pivot_table(df, index = '지역', values = '급속충전기(대)', aggfunc = 'sum')"
      ],
      "execution_count": null,
      "outputs": [
        {
          "output_type": "execute_result",
          "data": {
            "text/html": [
              "<div>\n",
              "<style scoped>\n",
              "    .dataframe tbody tr th:only-of-type {\n",
              "        vertical-align: middle;\n",
              "    }\n",
              "\n",
              "    .dataframe tbody tr th {\n",
              "        vertical-align: top;\n",
              "    }\n",
              "\n",
              "    .dataframe thead th {\n",
              "        text-align: right;\n",
              "    }\n",
              "</style>\n",
              "<table border=\"1\" class=\"dataframe\">\n",
              "  <thead>\n",
              "    <tr style=\"text-align: right;\">\n",
              "      <th></th>\n",
              "      <th>급속충전기(대)</th>\n",
              "    </tr>\n",
              "    <tr>\n",
              "      <th>지역</th>\n",
              "      <th></th>\n",
              "    </tr>\n",
              "  </thead>\n",
              "  <tbody>\n",
              "    <tr>\n",
              "      <th>경남 김해시</th>\n",
              "      <td>1</td>\n",
              "    </tr>\n",
              "    <tr>\n",
              "      <th>경남 밀양시</th>\n",
              "      <td>1</td>\n",
              "    </tr>\n",
              "    <tr>\n",
              "      <th>경남 산청군</th>\n",
              "      <td>1</td>\n",
              "    </tr>\n",
              "    <tr>\n",
              "      <th>경남 양산시</th>\n",
              "      <td>2</td>\n",
              "    </tr>\n",
              "    <tr>\n",
              "      <th>경남 진주시</th>\n",
              "      <td>2</td>\n",
              "    </tr>\n",
              "    <tr>\n",
              "      <th>경남 창녕군</th>\n",
              "      <td>1</td>\n",
              "    </tr>\n",
              "    <tr>\n",
              "      <th>경남 창원시</th>\n",
              "      <td>9</td>\n",
              "    </tr>\n",
              "    <tr>\n",
              "      <th>경남 통영시</th>\n",
              "      <td>1</td>\n",
              "    </tr>\n",
              "    <tr>\n",
              "      <th>경남 하동군</th>\n",
              "      <td>1</td>\n",
              "    </tr>\n",
              "    <tr>\n",
              "      <th>서울특별시</th>\n",
              "      <td>2</td>\n",
              "    </tr>\n",
              "  </tbody>\n",
              "</table>\n",
              "</div>"
            ],
            "text/plain": [
              "        급속충전기(대)\n",
              "지역              \n",
              "경남 김해시         1\n",
              "경남 밀양시         1\n",
              "경남 산청군         1\n",
              "경남 양산시         2\n",
              "경남 진주시         2\n",
              "경남 창녕군         1\n",
              "경남 창원시         9\n",
              "경남 통영시         1\n",
              "경남 하동군         1\n",
              "서울특별시          2"
            ]
          },
          "metadata": {
            "tags": []
          },
          "execution_count": 79
        }
      ]
    },
    {
      "cell_type": "code",
      "metadata": {
        "id": "WqvPjvAfOQlf"
      },
      "source": [
        "#서울시는 '경남'이라는 단어가 포함되어 있지만 검색은 '--시'로 할 것이기에 있어도 문제 없음."
      ],
      "execution_count": null,
      "outputs": []
    },
    {
      "cell_type": "code",
      "metadata": {
        "id": "5SVERLPZOA4B"
      },
      "source": [
        "#경상남도 도시 = ['거제시', '거창군', '고성군', '김해시', '남해군', '밀양시', '사천시', '산청군', '양산시']\n",
        "#경상남도 도시 = ['의령군', '진주시', '창녕군', '창원시', '통영시', '하동군', '함안군', '함양군', '합천군']"
      ],
      "execution_count": null,
      "outputs": []
    },
    {
      "cell_type": "code",
      "metadata": {
        "colab": {
          "base_uri": "https://localhost:8080/",
          "height": 607
        },
        "id": "vxZmHitiOVCx",
        "outputId": "24e5718c-9a44-4861-e791-6e573e8155c3"
      },
      "source": [
        "df_경남 = df['주소'].str.contains('경상남')\n",
        "set_경남 =  df[df_경남]\n",
        "\n",
        "df['지역'] = set_경남['주소'].str.slice(start=0, stop=8)\n",
        "\n",
        "거제시 = df['지역'].str.contains('거제시', na = False)\n",
        "subset_거제시 = df[거제시]\n",
        "\n",
        "경남_fast1 = subset_거제시['급속충전기(대)'].astype(int).sum()\n",
        "경남_slow1 = subset_거제시['완속충전기(대)'].astype(int).sum()\n",
        "\n",
        "new8.loc[1] = ['경상남도', '거제시',len(df[거제시]), 경남_fast1, 경남_slow1]\n",
        "\n",
        "거창군 = df['지역'].str.contains('거창군', na = False)\n",
        "subset_거창군 = df[거창군]\n",
        "\n",
        "경남_fast2 = subset_거창군['급속충전기(대)'].astype(int).sum()\n",
        "경남_slow2 = subset_거창군['완속충전기(대)'].astype(int).sum()\n",
        "\n",
        "new8.loc[2] = ['경상남도', '거창군',len(df[거창군]), 경남_fast2, 경남_slow2]\n",
        "\n",
        "고성군 = df['지역'].str.contains('고성군', na = False)\n",
        "subset_고성군 = df[고성군]\n",
        "\n",
        "경남_fast3 = subset_고성군['급속충전기(대)'].astype(int).sum()\n",
        "경남_slow3 = subset_고성군['완속충전기(대)'].astype(int).sum()\n",
        "\n",
        "new8.loc[3] = ['경상남도', '고성군',len(df[고성군]), 경남_fast3, 경남_slow3]\n",
        "\n",
        "#경남으로 검색됨.\n",
        "김해시 = df['주소'].str.contains('김해시', na = False)\n",
        "subset_김해시 = df[김해시]\n",
        "\n",
        "경남_fast4 = subset_김해시['급속충전기(대)'].astype(int).sum()\n",
        "경남_slow4 = subset_김해시['완속충전기(대)'].astype(int).sum()\n",
        "\n",
        "new8.loc[4] = ['경상남도', '김해시',len(df[김해시]), 경남_fast4, 경남_slow4]\n",
        "\n",
        "남해군 = df['지역'].str.contains('남해군', na = False)\n",
        "subset_남해군 = df[남해군]\n",
        "\n",
        "경남_fast5 = subset_남해군['급속충전기(대)'].astype(int).sum()\n",
        "경남_slow5 = subset_남해군['완속충전기(대)'].astype(int).sum()\n",
        "\n",
        "new8.loc[5] = ['경상남도', '남해군',len(df[남해군]), 경남_fast5, 경남_slow5]\n",
        "\n",
        "#경남으로 검색됨.\n",
        "밀양시 = df['주소'].str.contains('밀양시', na = False)\n",
        "subset_밀양시 = df[밀양시]\n",
        "\n",
        "경남_fast6 = subset_밀양시['급속충전기(대)'].astype(int).sum()\n",
        "경남_slow6 = subset_밀양시['완속충전기(대)'].astype(int).sum()\n",
        "\n",
        "new8.loc[6] = ['경상남도', '밀양시',len(df[밀양시]), 경남_fast6, 경남_slow6]\n",
        "\n",
        "사천시 = df['지역'].str.contains('사천시', na = False)\n",
        "subset_사천시 = df[사천시]\n",
        "\n",
        "경남_fast7 = subset_사천시['급속충전기(대)'].astype(int).sum()\n",
        "경남_slow7 = subset_사천시['완속충전기(대)'].astype(int).sum()\n",
        "\n",
        "new8.loc[7] = ['경상남도', '사천시',len(df[사천시]), 경남_fast7, 경남_slow7]\n",
        "\n",
        "#경남으로 검색됨.\n",
        "산청군 = df['주소'].str.contains('산청군', na = False)\n",
        "subset_산청군 = df[산청군]\n",
        "\n",
        "경남_fast8 = subset_산청군['급속충전기(대)'].astype(int).sum()\n",
        "경남_slow8 = subset_산청군['완속충전기(대)'].astype(int).sum()\n",
        "\n",
        "new8.loc[8] = ['경상남도', '산청군',len(df[산청군]), 경남_fast8, 경남_slow8]\n",
        "\n",
        "#경남으로 검색됨.\n",
        "양산시 = df['주소'].str.contains('양산시', na = False)\n",
        "subset_양산시 = df[양산시]\n",
        "\n",
        "경남_fast9 = subset_양산시['급속충전기(대)'].astype(int).sum()\n",
        "경남_slow9 = subset_양산시['완속충전기(대)'].astype(int).sum()\n",
        "\n",
        "new8.loc[9] = ['경상남도', '양산시',len(df[양산시]), 경남_fast9, 경남_slow9]\n",
        "\n",
        "의령군 = df['지역'].str.contains('의령군', na = False)\n",
        "subset_의령군 = df[의령군]\n",
        "\n",
        "경남_fast10 = subset_의령군['급속충전기(대)'].astype(int).sum()\n",
        "경남_slow10 = subset_의령군['완속충전기(대)'].astype(int).sum()\n",
        "\n",
        "new8.loc[10] = ['경상남도', '의령군',len(df[의령군]), 경남_fast10, 경남_slow10]\n",
        "\n",
        "#경남으로 검색됨.\n",
        "진주시 = df['주소'].str.contains('진주시', na = False)\n",
        "subset_진주시 = df[진주시]\n",
        "\n",
        "경남_fast11 = subset_진주시['급속충전기(대)'].astype(int).sum()\n",
        "경남_slow11 = subset_진주시['완속충전기(대)'].astype(int).sum()\n",
        "\n",
        "new8.loc[11] = ['경상남도', '진주시',len(df[진주시]), 경남_fast11, 경남_slow11]\n",
        "\n",
        "#경남으로 검색됨.\n",
        "창녕군 = df['주소'].str.contains('창녕군', na = False)\n",
        "subset_창녕군 = df[창녕군]\n",
        "\n",
        "경남_fast12 = subset_창녕군['급속충전기(대)'].astype(int).sum()\n",
        "경남_slow12 = subset_창녕군['완속충전기(대)'].astype(int).sum()\n",
        "\n",
        "new8.loc[12] = ['경상남도', '창녕군',len(df[창녕군]), 경남_fast12, 경남_slow12]\n",
        "\n",
        "#경남으로 검색됨.\n",
        "창원시 = df['주소'].str.contains('창원시', na = False)\n",
        "subset_창원시 = df[창원시]\n",
        "\n",
        "경남_fast13 = subset_창원시['급속충전기(대)'].astype(int).sum()\n",
        "경남_slow13 = subset_창원시['완속충전기(대)'].astype(int).sum()\n",
        "\n",
        "new8.loc[13] = ['경상남도', '창원시',len(df[창원시]), 경남_fast13, 경남_slow13]\n",
        "\n",
        "#경남으로 검색됨.\n",
        "통영시 = df['주소'].str.contains('통영시', na = False)\n",
        "subset_통영시 = df[통영시]\n",
        "\n",
        "경남_fast14 = subset_통영시['급속충전기(대)'].astype(int).sum()\n",
        "경남_slow14 = subset_통영시['완속충전기(대)'].astype(int).sum()\n",
        "\n",
        "new8.loc[14] = ['경상남도', '통영시',len(df[통영시]), 경남_fast14, 경남_slow14]\n",
        "\n",
        "#경남으로 검색됨.\n",
        "하동군 = df['주소'].str.contains('하동군', na = False)\n",
        "subset_하동군 = df[하동군]\n",
        "\n",
        "경남_fast15 = subset_하동군['급속충전기(대)'].astype(int).sum()\n",
        "경남_slow15 = subset_하동군['완속충전기(대)'].astype(int).sum()\n",
        "\n",
        "new8.loc[15] = ['경상남도', '하동군',len(df[하동군]), 경남_fast15, 경남_slow15]\n",
        "\n",
        "함안군 = df['지역'].str.contains('함안군', na = False)\n",
        "subset_함안군 = df[함안군]\n",
        "\n",
        "경남_fast16 = subset_함안군['급속충전기(대)'].astype(int).sum()\n",
        "경남_slow16 = subset_함안군['완속충전기(대)'].astype(int).sum()\n",
        "\n",
        "new8.loc[16] = ['경상남도', '함안군',len(df[함안군]), 경남_fast16, 경남_slow16]\n",
        "\n",
        "함양군 = df['지역'].str.contains('함양군', na = False)\n",
        "subset_함양군 = df[함양군]\n",
        "\n",
        "경남_fast17 = subset_함양군['급속충전기(대)'].astype(int).sum()\n",
        "경남_slow17 = subset_함양군['완속충전기(대)'].astype(int).sum()\n",
        "\n",
        "new8.loc[17] = ['경상남도', '함양군',len(df[함양군]), 경남_fast17, 경남_slow17]\n",
        "\n",
        "합천군 = df['지역'].str.contains('합천군', na = False)\n",
        "subset_합천군 = df[합천군]\n",
        "\n",
        "경남_fast18 = subset_합천군['급속충전기(대)'].astype(int).sum()\n",
        "경남_slow18 = subset_합천군['완속충전기(대)'].astype(int).sum()\n",
        "\n",
        "new8.loc[18] = ['경상남도', '합천군',len(df[합천군]), 경남_fast18, 경남_slow18]\n",
        "\n",
        "new8"
      ],
      "execution_count": null,
      "outputs": [
        {
          "output_type": "execute_result",
          "data": {
            "text/html": [
              "<div>\n",
              "<style scoped>\n",
              "    .dataframe tbody tr th:only-of-type {\n",
              "        vertical-align: middle;\n",
              "    }\n",
              "\n",
              "    .dataframe tbody tr th {\n",
              "        vertical-align: top;\n",
              "    }\n",
              "\n",
              "    .dataframe thead th {\n",
              "        text-align: right;\n",
              "    }\n",
              "</style>\n",
              "<table border=\"1\" class=\"dataframe\">\n",
              "  <thead>\n",
              "    <tr style=\"text-align: right;\">\n",
              "      <th></th>\n",
              "      <th>행정도시</th>\n",
              "      <th>시도</th>\n",
              "      <th>위치수</th>\n",
              "      <th>급속</th>\n",
              "      <th>완속</th>\n",
              "    </tr>\n",
              "  </thead>\n",
              "  <tbody>\n",
              "    <tr>\n",
              "      <th>1</th>\n",
              "      <td>경상남도</td>\n",
              "      <td>거제시</td>\n",
              "      <td>18</td>\n",
              "      <td>15</td>\n",
              "      <td>20</td>\n",
              "    </tr>\n",
              "    <tr>\n",
              "      <th>2</th>\n",
              "      <td>경상남도</td>\n",
              "      <td>거창군</td>\n",
              "      <td>1</td>\n",
              "      <td>1</td>\n",
              "      <td>0</td>\n",
              "    </tr>\n",
              "    <tr>\n",
              "      <th>3</th>\n",
              "      <td>경상남도</td>\n",
              "      <td>고성군</td>\n",
              "      <td>3</td>\n",
              "      <td>3</td>\n",
              "      <td>0</td>\n",
              "    </tr>\n",
              "    <tr>\n",
              "      <th>4</th>\n",
              "      <td>경상남도</td>\n",
              "      <td>김해시</td>\n",
              "      <td>39</td>\n",
              "      <td>37</td>\n",
              "      <td>44</td>\n",
              "    </tr>\n",
              "    <tr>\n",
              "      <th>5</th>\n",
              "      <td>경상남도</td>\n",
              "      <td>남해군</td>\n",
              "      <td>3</td>\n",
              "      <td>3</td>\n",
              "      <td>2</td>\n",
              "    </tr>\n",
              "    <tr>\n",
              "      <th>6</th>\n",
              "      <td>경상남도</td>\n",
              "      <td>밀양시</td>\n",
              "      <td>8</td>\n",
              "      <td>7</td>\n",
              "      <td>11</td>\n",
              "    </tr>\n",
              "    <tr>\n",
              "      <th>7</th>\n",
              "      <td>경상남도</td>\n",
              "      <td>사천시</td>\n",
              "      <td>9</td>\n",
              "      <td>7</td>\n",
              "      <td>9</td>\n",
              "    </tr>\n",
              "    <tr>\n",
              "      <th>8</th>\n",
              "      <td>경상남도</td>\n",
              "      <td>산청군</td>\n",
              "      <td>4</td>\n",
              "      <td>4</td>\n",
              "      <td>2</td>\n",
              "    </tr>\n",
              "    <tr>\n",
              "      <th>9</th>\n",
              "      <td>경상남도</td>\n",
              "      <td>양산시</td>\n",
              "      <td>36</td>\n",
              "      <td>40</td>\n",
              "      <td>61</td>\n",
              "    </tr>\n",
              "    <tr>\n",
              "      <th>10</th>\n",
              "      <td>경상남도</td>\n",
              "      <td>의령군</td>\n",
              "      <td>1</td>\n",
              "      <td>0</td>\n",
              "      <td>2</td>\n",
              "    </tr>\n",
              "    <tr>\n",
              "      <th>11</th>\n",
              "      <td>경상남도</td>\n",
              "      <td>진주시</td>\n",
              "      <td>22</td>\n",
              "      <td>19</td>\n",
              "      <td>50</td>\n",
              "    </tr>\n",
              "    <tr>\n",
              "      <th>12</th>\n",
              "      <td>경상남도</td>\n",
              "      <td>창녕군</td>\n",
              "      <td>5</td>\n",
              "      <td>4</td>\n",
              "      <td>4</td>\n",
              "    </tr>\n",
              "    <tr>\n",
              "      <th>13</th>\n",
              "      <td>경상남도</td>\n",
              "      <td>창원시</td>\n",
              "      <td>70</td>\n",
              "      <td>64</td>\n",
              "      <td>127</td>\n",
              "    </tr>\n",
              "    <tr>\n",
              "      <th>14</th>\n",
              "      <td>경상남도</td>\n",
              "      <td>통영시</td>\n",
              "      <td>16</td>\n",
              "      <td>9</td>\n",
              "      <td>25</td>\n",
              "    </tr>\n",
              "    <tr>\n",
              "      <th>15</th>\n",
              "      <td>경상남도</td>\n",
              "      <td>하동군</td>\n",
              "      <td>2</td>\n",
              "      <td>2</td>\n",
              "      <td>0</td>\n",
              "    </tr>\n",
              "    <tr>\n",
              "      <th>16</th>\n",
              "      <td>경상남도</td>\n",
              "      <td>함안군</td>\n",
              "      <td>7</td>\n",
              "      <td>6</td>\n",
              "      <td>6</td>\n",
              "    </tr>\n",
              "    <tr>\n",
              "      <th>17</th>\n",
              "      <td>경상남도</td>\n",
              "      <td>함양군</td>\n",
              "      <td>5</td>\n",
              "      <td>4</td>\n",
              "      <td>4</td>\n",
              "    </tr>\n",
              "    <tr>\n",
              "      <th>18</th>\n",
              "      <td>경상남도</td>\n",
              "      <td>합천군</td>\n",
              "      <td>3</td>\n",
              "      <td>3</td>\n",
              "      <td>1</td>\n",
              "    </tr>\n",
              "  </tbody>\n",
              "</table>\n",
              "</div>"
            ],
            "text/plain": [
              "    행정도시   시도  위치수  급속   완속\n",
              "1   경상남도  거제시   18  15   20\n",
              "2   경상남도  거창군    1   1    0\n",
              "3   경상남도  고성군    3   3    0\n",
              "4   경상남도  김해시   39  37   44\n",
              "5   경상남도  남해군    3   3    2\n",
              "6   경상남도  밀양시    8   7   11\n",
              "7   경상남도  사천시    9   7    9\n",
              "8   경상남도  산청군    4   4    2\n",
              "9   경상남도  양산시   36  40   61\n",
              "10  경상남도  의령군    1   0    2\n",
              "11  경상남도  진주시   22  19   50\n",
              "12  경상남도  창녕군    5   4    4\n",
              "13  경상남도  창원시   70  64  127\n",
              "14  경상남도  통영시   16   9   25\n",
              "15  경상남도  하동군    2   2    0\n",
              "16  경상남도  함안군    7   6    6\n",
              "17  경상남도  함양군    5   4    4\n",
              "18  경상남도  합천군    3   3    1"
            ]
          },
          "metadata": {
            "tags": []
          },
          "execution_count": 82
        }
      ]
    },
    {
      "cell_type": "code",
      "metadata": {
        "colab": {
          "base_uri": "https://localhost:8080/"
        },
        "id": "ynynqp5EOWQM",
        "outputId": "bc013cac-122a-48f9-f924-ecc3127074d0"
      },
      "source": [
        "new8['위치수'].sum()"
      ],
      "execution_count": null,
      "outputs": [
        {
          "output_type": "execute_result",
          "data": {
            "text/plain": [
              "252"
            ]
          },
          "metadata": {
            "tags": []
          },
          "execution_count": 83
        }
      ]
    },
    {
      "cell_type": "code",
      "metadata": {
        "colab": {
          "base_uri": "https://localhost:8080/"
        },
        "id": "_Hglw4xNOYBn",
        "outputId": "de8e52c0-c84e-4ebd-b78c-8f41ce995bf9"
      },
      "source": [
        "new8['급속'].sum()"
      ],
      "execution_count": null,
      "outputs": [
        {
          "output_type": "execute_result",
          "data": {
            "text/plain": [
              "228"
            ]
          },
          "metadata": {
            "tags": []
          },
          "execution_count": 84
        }
      ]
    },
    {
      "cell_type": "code",
      "metadata": {
        "colab": {
          "base_uri": "https://localhost:8080/"
        },
        "id": "JtShy5E9OZQv",
        "outputId": "2d6bdd53-e3bb-4fc6-c06e-f061705cba8b"
      },
      "source": [
        "new8['완속'].sum()"
      ],
      "execution_count": null,
      "outputs": [
        {
          "output_type": "execute_result",
          "data": {
            "text/plain": [
              "368"
            ]
          },
          "metadata": {
            "tags": []
          },
          "execution_count": 85
        }
      ]
    },
    {
      "cell_type": "code",
      "metadata": {
        "colab": {
          "base_uri": "https://localhost:8080/"
        },
        "id": "-8kfeieUObhg",
        "outputId": "9e95c3e1-ddc0-4d3d-f30c-521c4137c6cb"
      },
      "source": [
        "new8['급속'].sum() + new8['완속'].sum()"
      ],
      "execution_count": null,
      "outputs": [
        {
          "output_type": "execute_result",
          "data": {
            "text/plain": [
              "596"
            ]
          },
          "metadata": {
            "tags": []
          },
          "execution_count": 86
        }
      ]
    },
    {
      "cell_type": "markdown",
      "metadata": {
        "id": "00uTfNPpOgaO"
      },
      "source": [
        "#경상북도\n"
      ]
    },
    {
      "cell_type": "code",
      "metadata": {
        "id": "Ncc0wTKEOdJT"
      },
      "source": [
        "col = ['행정도시', '시도', '위치수', '급속', '완속']\n",
        "ind = [1,2,3,4,5]\n",
        "\n",
        "con = [[0, 0, 0, 0, 0], [0, 0, 0, 0, 0],[0, 0, 0, 0, 0], [0, 0, 0, 0, 0], [0, 0, 0, 0, 0]]\n",
        "new9 = pd.DataFrame(con, columns = col, index = ind)"
      ],
      "execution_count": null,
      "outputs": []
    },
    {
      "cell_type": "code",
      "metadata": {
        "colab": {
          "base_uri": "https://localhost:8080/",
          "height": 700
        },
        "id": "EBDOMFsmOlT9",
        "outputId": "d5c3bd55-f8f1-46d0-99c2-b9f5d37237fb"
      },
      "source": [
        "df_경북 = df['주소'].str.contains('경상북')\n",
        "set_경북 =  df[df_경북]\n",
        "\n",
        "df['지역'] = set_경북['주소'].str.slice(start=0, stop=8)\n",
        "\n",
        "pd.pivot_table(df, index = '지역', values = '급속충전기(대)', aggfunc = 'sum')"
      ],
      "execution_count": null,
      "outputs": [
        {
          "output_type": "execute_result",
          "data": {
            "text/html": [
              "<div>\n",
              "<style scoped>\n",
              "    .dataframe tbody tr th:only-of-type {\n",
              "        vertical-align: middle;\n",
              "    }\n",
              "\n",
              "    .dataframe tbody tr th {\n",
              "        vertical-align: top;\n",
              "    }\n",
              "\n",
              "    .dataframe thead th {\n",
              "        text-align: right;\n",
              "    }\n",
              "</style>\n",
              "<table border=\"1\" class=\"dataframe\">\n",
              "  <thead>\n",
              "    <tr style=\"text-align: right;\">\n",
              "      <th></th>\n",
              "      <th>급속충전기(대)</th>\n",
              "    </tr>\n",
              "    <tr>\n",
              "      <th>지역</th>\n",
              "      <th></th>\n",
              "    </tr>\n",
              "  </thead>\n",
              "  <tbody>\n",
              "    <tr>\n",
              "      <th>경상북도 경산시</th>\n",
              "      <td>18</td>\n",
              "    </tr>\n",
              "    <tr>\n",
              "      <th>경상북도 경주시</th>\n",
              "      <td>23</td>\n",
              "    </tr>\n",
              "    <tr>\n",
              "      <th>경상북도 고령군</th>\n",
              "      <td>3</td>\n",
              "    </tr>\n",
              "    <tr>\n",
              "      <th>경상북도 구미시</th>\n",
              "      <td>19</td>\n",
              "    </tr>\n",
              "    <tr>\n",
              "      <th>경상북도 김천시</th>\n",
              "      <td>12</td>\n",
              "    </tr>\n",
              "    <tr>\n",
              "      <th>경상북도 문경시</th>\n",
              "      <td>1</td>\n",
              "    </tr>\n",
              "    <tr>\n",
              "      <th>경상북도 상주시</th>\n",
              "      <td>10</td>\n",
              "    </tr>\n",
              "    <tr>\n",
              "      <th>경상북도 성주군</th>\n",
              "      <td>2</td>\n",
              "    </tr>\n",
              "    <tr>\n",
              "      <th>경상북도 안동시</th>\n",
              "      <td>25</td>\n",
              "    </tr>\n",
              "    <tr>\n",
              "      <th>경상북도 영덕군</th>\n",
              "      <td>4</td>\n",
              "    </tr>\n",
              "    <tr>\n",
              "      <th>경상북도 영양군</th>\n",
              "      <td>1</td>\n",
              "    </tr>\n",
              "    <tr>\n",
              "      <th>경상북도 영주시</th>\n",
              "      <td>3</td>\n",
              "    </tr>\n",
              "    <tr>\n",
              "      <th>경상북도 영천시</th>\n",
              "      <td>4</td>\n",
              "    </tr>\n",
              "    <tr>\n",
              "      <th>경상북도 예천군</th>\n",
              "      <td>2</td>\n",
              "    </tr>\n",
              "    <tr>\n",
              "      <th>경상북도 울진군</th>\n",
              "      <td>2</td>\n",
              "    </tr>\n",
              "    <tr>\n",
              "      <th>경상북도 의성군</th>\n",
              "      <td>4</td>\n",
              "    </tr>\n",
              "    <tr>\n",
              "      <th>경상북도 청도군</th>\n",
              "      <td>2</td>\n",
              "    </tr>\n",
              "    <tr>\n",
              "      <th>경상북도 청송군</th>\n",
              "      <td>1</td>\n",
              "    </tr>\n",
              "    <tr>\n",
              "      <th>경상북도 칠곡군</th>\n",
              "      <td>5</td>\n",
              "    </tr>\n",
              "    <tr>\n",
              "      <th>경상북도 포항시</th>\n",
              "      <td>31</td>\n",
              "    </tr>\n",
              "  </tbody>\n",
              "</table>\n",
              "</div>"
            ],
            "text/plain": [
              "          급속충전기(대)\n",
              "지역                \n",
              "경상북도 경산시        18\n",
              "경상북도 경주시        23\n",
              "경상북도 고령군         3\n",
              "경상북도 구미시        19\n",
              "경상북도 김천시        12\n",
              "경상북도 문경시         1\n",
              "경상북도 상주시        10\n",
              "경상북도 성주군         2\n",
              "경상북도 안동시        25\n",
              "경상북도 영덕군         4\n",
              "경상북도 영양군         1\n",
              "경상북도 영주시         3\n",
              "경상북도 영천시         4\n",
              "경상북도 예천군         2\n",
              "경상북도 울진군         2\n",
              "경상북도 의성군         4\n",
              "경상북도 청도군         2\n",
              "경상북도 청송군         1\n",
              "경상북도 칠곡군         5\n",
              "경상북도 포항시        31"
            ]
          },
          "metadata": {
            "tags": []
          },
          "execution_count": 88
        }
      ]
    },
    {
      "cell_type": "code",
      "metadata": {
        "colab": {
          "base_uri": "https://localhost:8080/",
          "height": 359
        },
        "id": "AT2BrPucOoFH",
        "outputId": "98b9f1cf-3046-4050-b70d-1f9517aa3b77"
      },
      "source": [
        "df_경북s = df['주소'].str.contains('경북')\n",
        "set_경북s =  df[df_경북s]\n",
        "\n",
        "df['지역'] = set_경북s['주소'].str.slice(start=0, stop=6)\n",
        "\n",
        "pd.pivot_table(df, index = '지역', values = '급속충전기(대)', aggfunc = 'sum')"
      ],
      "execution_count": null,
      "outputs": [
        {
          "output_type": "execute_result",
          "data": {
            "text/html": [
              "<div>\n",
              "<style scoped>\n",
              "    .dataframe tbody tr th:only-of-type {\n",
              "        vertical-align: middle;\n",
              "    }\n",
              "\n",
              "    .dataframe tbody tr th {\n",
              "        vertical-align: top;\n",
              "    }\n",
              "\n",
              "    .dataframe thead th {\n",
              "        text-align: right;\n",
              "    }\n",
              "</style>\n",
              "<table border=\"1\" class=\"dataframe\">\n",
              "  <thead>\n",
              "    <tr style=\"text-align: right;\">\n",
              "      <th></th>\n",
              "      <th>급속충전기(대)</th>\n",
              "    </tr>\n",
              "    <tr>\n",
              "      <th>지역</th>\n",
              "      <th></th>\n",
              "    </tr>\n",
              "  </thead>\n",
              "  <tbody>\n",
              "    <tr>\n",
              "      <th>경북 구미시</th>\n",
              "      <td>1</td>\n",
              "    </tr>\n",
              "    <tr>\n",
              "      <th>경북 성주군</th>\n",
              "      <td>2</td>\n",
              "    </tr>\n",
              "    <tr>\n",
              "      <th>경북 안동시</th>\n",
              "      <td>2</td>\n",
              "    </tr>\n",
              "    <tr>\n",
              "      <th>경북 영양군</th>\n",
              "      <td>1</td>\n",
              "    </tr>\n",
              "    <tr>\n",
              "      <th>경북 영천시</th>\n",
              "      <td>1</td>\n",
              "    </tr>\n",
              "    <tr>\n",
              "      <th>경북 칠곡군</th>\n",
              "      <td>2</td>\n",
              "    </tr>\n",
              "    <tr>\n",
              "      <th>경북 포항시</th>\n",
              "      <td>7</td>\n",
              "    </tr>\n",
              "    <tr>\n",
              "      <th>경상북도 안</th>\n",
              "      <td>1</td>\n",
              "    </tr>\n",
              "    <tr>\n",
              "      <th>경상북도 의</th>\n",
              "      <td>1</td>\n",
              "    </tr>\n",
              "  </tbody>\n",
              "</table>\n",
              "</div>"
            ],
            "text/plain": [
              "        급속충전기(대)\n",
              "지역              \n",
              "경북 구미시         1\n",
              "경북 성주군         2\n",
              "경북 안동시         2\n",
              "경북 영양군         1\n",
              "경북 영천시         1\n",
              "경북 칠곡군         2\n",
              "경북 포항시         7\n",
              "경상북도 안         1\n",
              "경상북도 의         1"
            ]
          },
          "metadata": {
            "tags": []
          },
          "execution_count": 89
        }
      ]
    },
    {
      "cell_type": "code",
      "metadata": {
        "id": "0F8Y3S_dOo8t"
      },
      "source": [
        "#경상북도에 '경북'이라는 단어가 포함되어 있지만 검색은 '--시', '--군'로 할 것이기에 있어도 문제 없음."
      ],
      "execution_count": null,
      "outputs": []
    },
    {
      "cell_type": "code",
      "metadata": {
        "id": "2zPRgIOVOtiu"
      },
      "source": [
        "#경상북도 도시 = ['경산시', '경주시', '고령군', '구미시', '김천시', '문경시', '상주시', '성주군', '안동시', '영덕군']\n",
        "#경상북도 도시 = ['영양군', '영주시', '영천시', '예천군', '울진군', '의성군', '청도군', '청송군', '칠곡군', '포항시']\t"
      ],
      "execution_count": null,
      "outputs": []
    },
    {
      "cell_type": "code",
      "metadata": {
        "colab": {
          "base_uri": "https://localhost:8080/",
          "height": 669
        },
        "id": "vN1Uy4D5Ouw7",
        "outputId": "8d49c209-4c70-43d2-fe44-b4fcf7767406"
      },
      "source": [
        "df_경북 = df['주소'].str.contains('경상북')\n",
        "set_경북 =  df[df_경북]\n",
        "\n",
        "df['지역'] = set_경북['주소'].str.slice(start=0, stop=8)\n",
        "\n",
        "경산시 = df['지역'].str.contains('경산시', na = False)\n",
        "subset_경산시 = df[경산시]\n",
        "\n",
        "경북_fast1 = subset_경산시['급속충전기(대)'].astype(int).sum()\n",
        "경북_slow1 = subset_경산시['완속충전기(대)'].astype(int).sum()\n",
        "\n",
        "new9.loc[1] = ['경상북도', '경산시',len(df[경산시]), 경북_fast1, 경북_slow1]\n",
        "\n",
        "경주시 = df['지역'].str.contains('경주시', na = False)\n",
        "subset_경주시 = df[경주시]\n",
        "\n",
        "경북_fast2 = subset_경주시['급속충전기(대)'].astype(int).sum()\n",
        "경북_slow2 = subset_경주시['완속충전기(대)'].astype(int).sum()\n",
        "\n",
        "new9.loc[2] = ['경상북도', '경주시',len(df[경주시]), 경북_fast2, 경북_slow2]\n",
        "\n",
        "고령군 = df['지역'].str.contains('고령군', na = False)\n",
        "subset_고령군 = df[고령군]\n",
        "\n",
        "경북_fast3 = subset_고령군['급속충전기(대)'].astype(int).sum()\n",
        "경북_slow3 = subset_고령군['완속충전기(대)'].astype(int).sum()\n",
        "\n",
        "new9.loc[3] = ['경상북도', '고령군',len(df[고령군]), 경북_fast3, 경북_slow3]\n",
        "\n",
        "#경북으로도 검색.\n",
        "구미시 = df['주소'].str.contains('구미시', na = False)\n",
        "subset_구미시 = df[구미시]\n",
        "\n",
        "경북_fast4 = subset_구미시['급속충전기(대)'].astype(int).sum()\n",
        "경북_slow4 = subset_구미시['완속충전기(대)'].astype(int).sum()\n",
        "\n",
        "new9.loc[4] = ['경상북도', '구미시',len(df[구미시]), 경북_fast4, 경북_slow4]\n",
        "\n",
        "김천시 = df['지역'].str.contains('김천시', na = False)\n",
        "subset_김천시 = df[김천시]\n",
        "\n",
        "경북_fast5 = subset_김천시['급속충전기(대)'].astype(int).sum()\n",
        "경북_slow5 = subset_김천시['완속충전기(대)'].astype(int).sum()\n",
        "\n",
        "new9.loc[5] = ['경상북도', '김천시',len(df[김천시]), 경북_fast5, 경북_slow5]\n",
        "\n",
        "문경시 = df['지역'].str.contains('문경시', na = False)\n",
        "subset_문경시 = df[문경시]\n",
        "\n",
        "경북_fast6 = subset_문경시['급속충전기(대)'].astype(int).sum()\n",
        "경북_slow6 = subset_문경시['완속충전기(대)'].astype(int).sum()\n",
        "\n",
        "new9.loc[6] = ['경상북도', '문경시',len(df[문경시]), 경북_fast6, 경북_slow6]\n",
        "\n",
        "상주시 = df['지역'].str.contains('상주시', na = False)\n",
        "subset_상주시 = df[상주시]\n",
        "\n",
        "경북_fast7 = subset_상주시['급속충전기(대)'].astype(int).sum()\n",
        "경북_slow7 = subset_상주시['완속충전기(대)'].astype(int).sum()\n",
        "\n",
        "new9.loc[7] = ['경상북도', '상주시',len(df[상주시]), 경북_fast7, 경북_slow7]\n",
        "\n",
        "#경북으로도 검색.\n",
        "성주군 = df['주소'].str.contains('성주군', na = False)\n",
        "subset_성주군 = df[성주군]\n",
        "\n",
        "경북_fast8 = subset_성주군['급속충전기(대)'].astype(int).sum()\n",
        "경북_slow8 = subset_성주군['완속충전기(대)'].astype(int).sum()\n",
        "\n",
        "new9.loc[8] = ['경상북도', '성주군',len(df[성주군]), 경북_fast8, 경북_slow8]\n",
        "\n",
        "#경북으로도 검색.\n",
        "안동시 = df['주소'].str.contains('안동시', na = False)\n",
        "subset_안동시 = df[안동시]\n",
        "\n",
        "경북_fast9 = subset_안동시['급속충전기(대)'].astype(int).sum()\n",
        "경북_slow9 = subset_안동시['완속충전기(대)'].astype(int).sum()\n",
        "\n",
        "new9.loc[9] = ['경상북도', '안동시',len(df[안동시]), 경북_fast9, 경북_slow9]\n",
        "\n",
        "영덕군 = df['지역'].str.contains('영덕군', na = False)\n",
        "subset_영덕군 = df[영덕군]\n",
        "\n",
        "경북_fast10 = subset_영덕군['급속충전기(대)'].astype(int).sum()\n",
        "경북_slow10 = subset_영덕군['완속충전기(대)'].astype(int).sum()\n",
        "\n",
        "new9.loc[10] = ['경상북도', '영덕군',len(df[영덕군]), 경북_fast10, 경북_slow10]\n",
        "\n",
        "#경북으로도 검색.\n",
        "영양군 = df['주소'].str.contains('영양군', na = False)\n",
        "subset_영양군 = df[영양군]\n",
        "\n",
        "경북_fast11 = subset_영양군['급속충전기(대)'].astype(int).sum()\n",
        "경북_slow11 = subset_영양군['완속충전기(대)'].astype(int).sum()\n",
        "\n",
        "new9.loc[11] = ['경상북도', '영양군',len(df[영양군]), 경북_fast11, 경북_slow11]\n",
        "\n",
        "영주시 = df['지역'].str.contains('영주시', na = False)\n",
        "subset_영주시 = df[영주시]\n",
        "\n",
        "경북_fast12 = subset_영주시['급속충전기(대)'].astype(int).sum()\n",
        "경북_slow12 = subset_영주시['완속충전기(대)'].astype(int).sum()\n",
        "\n",
        "new9.loc[12] = ['경상북도', '영주시',len(df[영주시]), 경북_fast12, 경북_slow12]\n",
        "\n",
        "#경북으로도 검색.\n",
        "영천시 = df['주소'].str.contains('영천시', na = False)\n",
        "subset_영천시 = df[영천시]\n",
        "\n",
        "경북_fast13 = subset_영천시['급속충전기(대)'].astype(int).sum()\n",
        "경북_slow13 = subset_영천시['완속충전기(대)'].astype(int).sum()\n",
        "\n",
        "new9.loc[13] = ['경상북도', '영천시',len(df[영천시]), 경북_fast13, 경북_slow13]\n",
        "\n",
        "예천군 = df['지역'].str.contains('예천군', na = False)\n",
        "subset_예천군 = df[예천군]\n",
        "\n",
        "경북_fast14 = subset_예천군['급속충전기(대)'].astype(int).sum()\n",
        "경북_slow14 = subset_예천군['완속충전기(대)'].astype(int).sum()\n",
        "\n",
        "new9.loc[14] = ['경상북도', '예천군',len(df[예천군]), 경북_fast14, 경북_slow14]\n",
        "\n",
        "울진군 = df['지역'].str.contains('울진군', na = False)\n",
        "subset_울진군 = df[울진군]\n",
        "\n",
        "경북_fast15 = subset_울진군['급속충전기(대)'].astype(int).sum()\n",
        "경북_slow15 = subset_울진군['완속충전기(대)'].astype(int).sum()\n",
        "\n",
        "new9.loc[15] = ['경상북도', '울진군',len(df[울진군]), 경북_fast15, 경북_slow15]\n",
        "\n",
        "의성군 = df['지역'].str.contains('의성군', na = False)\n",
        "subset_의성군 = df[의성군]\n",
        "\n",
        "경북_fast16 = subset_의성군['급속충전기(대)'].astype(int).sum()\n",
        "경북_slow16 = subset_의성군['완속충전기(대)'].astype(int).sum()\n",
        "\n",
        "new9.loc[16] = ['경상북도', '의성군',len(df[의성군]), 경북_fast16, 경북_slow16]\n",
        "\n",
        "청도군 = df['지역'].str.contains('청도군', na = False)\n",
        "subset_청도군 = df[청도군]\n",
        "\n",
        "경북_fast17 = subset_청도군['급속충전기(대)'].astype(int).sum()\n",
        "경북_slow17 = subset_청도군['완속충전기(대)'].astype(int).sum()\n",
        "\n",
        "new9.loc[17] = ['경상북도', '청도군',len(df[청도군]), 경북_fast17, 경북_slow17]\n",
        "\n",
        "청송군 = df['지역'].str.contains('청송군', na = False)\n",
        "subset_청송군 = df[청송군]\n",
        "\n",
        "경북_fast18 = subset_청송군['급속충전기(대)'].astype(int).sum()\n",
        "경북_slow18 = subset_청송군['완속충전기(대)'].astype(int).sum()\n",
        "\n",
        "new9.loc[18] = ['경상북도', '청송군',len(df[청송군]), 경북_fast18, 경북_slow18]\n",
        "\n",
        "#경북으로도 검색.\n",
        "칠곡군 = df['주소'].str.contains('칠곡군', na = False)\n",
        "subset_칠곡군 = df[칠곡군]\n",
        "\n",
        "경북_fast19 = subset_칠곡군['급속충전기(대)'].astype(int).sum()\n",
        "경북_slow19 = subset_칠곡군['완속충전기(대)'].astype(int).sum()\n",
        "\n",
        "new9.loc[19] = ['경상북도', '칠곡군',len(df[칠곡군]), 경북_fast19, 경북_slow19]\n",
        "\n",
        "#경북으로도 검색.\n",
        "포항시 = df['주소'].str.contains('포항시', na = False)\n",
        "subset_포항시 = df[포항시]\n",
        "\n",
        "경북_fast20 = subset_포항시['급속충전기(대)'].astype(int).sum()\n",
        "경북_slow20 = subset_포항시['완속충전기(대)'].astype(int).sum()\n",
        "\n",
        "new9.loc[20] = ['경상북도', '포항시',len(df[포항시]), 경북_fast20, 경북_slow20]\n",
        "\n",
        "new9"
      ],
      "execution_count": null,
      "outputs": [
        {
          "output_type": "execute_result",
          "data": {
            "text/html": [
              "<div>\n",
              "<style scoped>\n",
              "    .dataframe tbody tr th:only-of-type {\n",
              "        vertical-align: middle;\n",
              "    }\n",
              "\n",
              "    .dataframe tbody tr th {\n",
              "        vertical-align: top;\n",
              "    }\n",
              "\n",
              "    .dataframe thead th {\n",
              "        text-align: right;\n",
              "    }\n",
              "</style>\n",
              "<table border=\"1\" class=\"dataframe\">\n",
              "  <thead>\n",
              "    <tr style=\"text-align: right;\">\n",
              "      <th></th>\n",
              "      <th>행정도시</th>\n",
              "      <th>시도</th>\n",
              "      <th>위치수</th>\n",
              "      <th>급속</th>\n",
              "      <th>완속</th>\n",
              "    </tr>\n",
              "  </thead>\n",
              "  <tbody>\n",
              "    <tr>\n",
              "      <th>1</th>\n",
              "      <td>경상북도</td>\n",
              "      <td>경산시</td>\n",
              "      <td>21</td>\n",
              "      <td>18</td>\n",
              "      <td>32</td>\n",
              "    </tr>\n",
              "    <tr>\n",
              "      <th>2</th>\n",
              "      <td>경상북도</td>\n",
              "      <td>경주시</td>\n",
              "      <td>17</td>\n",
              "      <td>23</td>\n",
              "      <td>21</td>\n",
              "    </tr>\n",
              "    <tr>\n",
              "      <th>3</th>\n",
              "      <td>경상북도</td>\n",
              "      <td>고령군</td>\n",
              "      <td>3</td>\n",
              "      <td>3</td>\n",
              "      <td>0</td>\n",
              "    </tr>\n",
              "    <tr>\n",
              "      <th>4</th>\n",
              "      <td>경상북도</td>\n",
              "      <td>구미시</td>\n",
              "      <td>24</td>\n",
              "      <td>20</td>\n",
              "      <td>49</td>\n",
              "    </tr>\n",
              "    <tr>\n",
              "      <th>5</th>\n",
              "      <td>경상북도</td>\n",
              "      <td>김천시</td>\n",
              "      <td>13</td>\n",
              "      <td>12</td>\n",
              "      <td>24</td>\n",
              "    </tr>\n",
              "    <tr>\n",
              "      <th>6</th>\n",
              "      <td>경상북도</td>\n",
              "      <td>문경시</td>\n",
              "      <td>3</td>\n",
              "      <td>1</td>\n",
              "      <td>6</td>\n",
              "    </tr>\n",
              "    <tr>\n",
              "      <th>7</th>\n",
              "      <td>경상북도</td>\n",
              "      <td>상주시</td>\n",
              "      <td>14</td>\n",
              "      <td>10</td>\n",
              "      <td>13</td>\n",
              "    </tr>\n",
              "    <tr>\n",
              "      <th>8</th>\n",
              "      <td>경상북도</td>\n",
              "      <td>성주군</td>\n",
              "      <td>2</td>\n",
              "      <td>4</td>\n",
              "      <td>0</td>\n",
              "    </tr>\n",
              "    <tr>\n",
              "      <th>9</th>\n",
              "      <td>경상북도</td>\n",
              "      <td>안동시</td>\n",
              "      <td>27</td>\n",
              "      <td>27</td>\n",
              "      <td>31</td>\n",
              "    </tr>\n",
              "    <tr>\n",
              "      <th>10</th>\n",
              "      <td>경상북도</td>\n",
              "      <td>영덕군</td>\n",
              "      <td>3</td>\n",
              "      <td>4</td>\n",
              "      <td>1</td>\n",
              "    </tr>\n",
              "    <tr>\n",
              "      <th>11</th>\n",
              "      <td>경상북도</td>\n",
              "      <td>영양군</td>\n",
              "      <td>2</td>\n",
              "      <td>2</td>\n",
              "      <td>0</td>\n",
              "    </tr>\n",
              "    <tr>\n",
              "      <th>12</th>\n",
              "      <td>경상북도</td>\n",
              "      <td>영주시</td>\n",
              "      <td>3</td>\n",
              "      <td>3</td>\n",
              "      <td>2</td>\n",
              "    </tr>\n",
              "    <tr>\n",
              "      <th>13</th>\n",
              "      <td>경상북도</td>\n",
              "      <td>영천시</td>\n",
              "      <td>3</td>\n",
              "      <td>5</td>\n",
              "      <td>6</td>\n",
              "    </tr>\n",
              "    <tr>\n",
              "      <th>14</th>\n",
              "      <td>경상북도</td>\n",
              "      <td>예천군</td>\n",
              "      <td>2</td>\n",
              "      <td>2</td>\n",
              "      <td>3</td>\n",
              "    </tr>\n",
              "    <tr>\n",
              "      <th>15</th>\n",
              "      <td>경상북도</td>\n",
              "      <td>울진군</td>\n",
              "      <td>3</td>\n",
              "      <td>2</td>\n",
              "      <td>5</td>\n",
              "    </tr>\n",
              "    <tr>\n",
              "      <th>16</th>\n",
              "      <td>경상북도</td>\n",
              "      <td>의성군</td>\n",
              "      <td>4</td>\n",
              "      <td>4</td>\n",
              "      <td>3</td>\n",
              "    </tr>\n",
              "    <tr>\n",
              "      <th>17</th>\n",
              "      <td>경상북도</td>\n",
              "      <td>청도군</td>\n",
              "      <td>2</td>\n",
              "      <td>2</td>\n",
              "      <td>0</td>\n",
              "    </tr>\n",
              "    <tr>\n",
              "      <th>18</th>\n",
              "      <td>경상북도</td>\n",
              "      <td>청송군</td>\n",
              "      <td>2</td>\n",
              "      <td>1</td>\n",
              "      <td>2</td>\n",
              "    </tr>\n",
              "    <tr>\n",
              "      <th>19</th>\n",
              "      <td>경상북도</td>\n",
              "      <td>칠곡군</td>\n",
              "      <td>5</td>\n",
              "      <td>7</td>\n",
              "      <td>9</td>\n",
              "    </tr>\n",
              "    <tr>\n",
              "      <th>20</th>\n",
              "      <td>경상북도</td>\n",
              "      <td>포항시</td>\n",
              "      <td>40</td>\n",
              "      <td>38</td>\n",
              "      <td>31</td>\n",
              "    </tr>\n",
              "  </tbody>\n",
              "</table>\n",
              "</div>"
            ],
            "text/plain": [
              "    행정도시   시도  위치수  급속  완속\n",
              "1   경상북도  경산시   21  18  32\n",
              "2   경상북도  경주시   17  23  21\n",
              "3   경상북도  고령군    3   3   0\n",
              "4   경상북도  구미시   24  20  49\n",
              "5   경상북도  김천시   13  12  24\n",
              "6   경상북도  문경시    3   1   6\n",
              "7   경상북도  상주시   14  10  13\n",
              "8   경상북도  성주군    2   4   0\n",
              "9   경상북도  안동시   27  27  31\n",
              "10  경상북도  영덕군    3   4   1\n",
              "11  경상북도  영양군    2   2   0\n",
              "12  경상북도  영주시    3   3   2\n",
              "13  경상북도  영천시    3   5   6\n",
              "14  경상북도  예천군    2   2   3\n",
              "15  경상북도  울진군    3   2   5\n",
              "16  경상북도  의성군    4   4   3\n",
              "17  경상북도  청도군    2   2   0\n",
              "18  경상북도  청송군    2   1   2\n",
              "19  경상북도  칠곡군    5   7   9\n",
              "20  경상북도  포항시   40  38  31"
            ]
          },
          "metadata": {
            "tags": []
          },
          "execution_count": 92
        }
      ]
    },
    {
      "cell_type": "code",
      "metadata": {
        "colab": {
          "base_uri": "https://localhost:8080/"
        },
        "id": "YBxCMjpSOv_s",
        "outputId": "7a5dca73-8eed-492c-e035-4d3e39d70e29"
      },
      "source": [
        "new9['위치수'].sum()"
      ],
      "execution_count": null,
      "outputs": [
        {
          "output_type": "execute_result",
          "data": {
            "text/plain": [
              "193"
            ]
          },
          "metadata": {
            "tags": []
          },
          "execution_count": 93
        }
      ]
    },
    {
      "cell_type": "code",
      "metadata": {
        "colab": {
          "base_uri": "https://localhost:8080/"
        },
        "id": "vgnvneruOxqm",
        "outputId": "209bcfb0-20cf-4036-a574-4d427844cb2f"
      },
      "source": [
        "new9['급속'].sum()"
      ],
      "execution_count": null,
      "outputs": [
        {
          "output_type": "execute_result",
          "data": {
            "text/plain": [
              "188"
            ]
          },
          "metadata": {
            "tags": []
          },
          "execution_count": 94
        }
      ]
    },
    {
      "cell_type": "code",
      "metadata": {
        "colab": {
          "base_uri": "https://localhost:8080/"
        },
        "id": "LXvTyiceOy0B",
        "outputId": "f6c8125b-31ab-484a-f842-4debefcdff29"
      },
      "source": [
        "new9['완속'].sum()"
      ],
      "execution_count": null,
      "outputs": [
        {
          "output_type": "execute_result",
          "data": {
            "text/plain": [
              "238"
            ]
          },
          "metadata": {
            "tags": []
          },
          "execution_count": 95
        }
      ]
    },
    {
      "cell_type": "code",
      "metadata": {
        "colab": {
          "base_uri": "https://localhost:8080/"
        },
        "id": "oTMYQJTDOzyq",
        "outputId": "38234863-2b70-4b02-a151-b90ced1cb2e0"
      },
      "source": [
        "new9['급속'].sum() + new9['급속'].sum()"
      ],
      "execution_count": null,
      "outputs": [
        {
          "output_type": "execute_result",
          "data": {
            "text/plain": [
              "376"
            ]
          },
          "metadata": {
            "tags": []
          },
          "execution_count": 96
        }
      ]
    },
    {
      "cell_type": "markdown",
      "metadata": {
        "id": "uSi7SulFO2kB"
      },
      "source": [
        "# 제주특별자치도"
      ]
    },
    {
      "cell_type": "code",
      "metadata": {
        "id": "ptUBHA3IO4gK"
      },
      "source": [
        "col = ['행정도시', '시도', '위치수', '급속', '완속']\n",
        "ind = [1,2,3,4,5]\n",
        "\n",
        "con = [[0, 0, 0, 0, 0], [0, 0, 0, 0, 0],[0, 0, 0, 0, 0], [0, 0, 0, 0, 0], [0, 0, 0, 0, 0]]\n",
        "new10 = pd.DataFrame(con, columns = col, index = ind)"
      ],
      "execution_count": null,
      "outputs": []
    },
    {
      "cell_type": "code",
      "metadata": {
        "colab": {
          "base_uri": "https://localhost:8080/",
          "height": 173
        },
        "id": "YFVjhVGVO6yr",
        "outputId": "75ed30fc-172a-4d8e-a941-cb187dfa56d0"
      },
      "source": [
        "df_제주 = df['주소'].str.contains('제주특별자치도')\n",
        "set_제주 =  df[df_제주]\n",
        "\n",
        "df['지역'] = set_제주['주소'].str.slice(start=0, stop=12)\n",
        "\n",
        "pd.pivot_table(df, index = '지역', values = '급속충전기(대)', aggfunc = 'sum')"
      ],
      "execution_count": null,
      "outputs": [
        {
          "output_type": "execute_result",
          "data": {
            "text/html": [
              "<div>\n",
              "<style scoped>\n",
              "    .dataframe tbody tr th:only-of-type {\n",
              "        vertical-align: middle;\n",
              "    }\n",
              "\n",
              "    .dataframe tbody tr th {\n",
              "        vertical-align: top;\n",
              "    }\n",
              "\n",
              "    .dataframe thead th {\n",
              "        text-align: right;\n",
              "    }\n",
              "</style>\n",
              "<table border=\"1\" class=\"dataframe\">\n",
              "  <thead>\n",
              "    <tr style=\"text-align: right;\">\n",
              "      <th></th>\n",
              "      <th>급속충전기(대)</th>\n",
              "    </tr>\n",
              "    <tr>\n",
              "      <th>지역</th>\n",
              "      <th></th>\n",
              "    </tr>\n",
              "  </thead>\n",
              "  <tbody>\n",
              "    <tr>\n",
              "      <th>제주특별자치도 건입동</th>\n",
              "      <td>2</td>\n",
              "    </tr>\n",
              "    <tr>\n",
              "      <th>제주특별자치도 서귀포시</th>\n",
              "      <td>70</td>\n",
              "    </tr>\n",
              "    <tr>\n",
              "      <th>제주특별자치도 제주시</th>\n",
              "      <td>133</td>\n",
              "    </tr>\n",
              "  </tbody>\n",
              "</table>\n",
              "</div>"
            ],
            "text/plain": [
              "              급속충전기(대)\n",
              "지역                    \n",
              "제주특별자치도 건입동          2\n",
              "제주특별자치도 서귀포시        70\n",
              "제주특별자치도 제주시        133"
            ]
          },
          "metadata": {
            "tags": []
          },
          "execution_count": 98
        }
      ]
    },
    {
      "cell_type": "code",
      "metadata": {
        "id": "9-XjMJePO8jq"
      },
      "source": [
        "# 제주특별자치도 도시 = ['서귀포시', '제주시']"
      ],
      "execution_count": null,
      "outputs": []
    },
    {
      "cell_type": "code",
      "metadata": {
        "colab": {
          "base_uri": "https://localhost:8080/",
          "height": 204
        },
        "id": "0KIg3NDUO1AR",
        "outputId": "fcff0602-d77f-47ab-f5f4-deae3f183b57"
      },
      "source": [
        "서귀포시 = df['지역'].str.contains('서귀포시', na = False)\n",
        "subset_서귀포시 = df[서귀포시]\n",
        "\n",
        "제주_fast1 = subset_서귀포시['급속충전기(대)'].astype(int).sum()\n",
        "제주_slow1 = subset_서귀포시['완속충전기(대)'].astype(int).sum()\n",
        "\n",
        "new10.loc[1] = ['제주특별자치도', '서귀포시',len(df[서귀포시]), 제주_fast1, 제주_slow1]\n",
        "\n",
        "제주시 = df['지역'].str.contains('제주시', na = False)\n",
        "subset_제주시 = df[제주시]\n",
        "\n",
        "제주_fast2 = subset_제주시['급속충전기(대)'].astype(int).sum()\n",
        "제주_slow2 = subset_제주시['완속충전기(대)'].astype(int).sum()\n",
        "\n",
        "new10.loc[2] = ['제주특별자치도', '제주시',len(df[제주시]), 제주_fast2, 제주_slow2]\n",
        "\n",
        "new10"
      ],
      "execution_count": null,
      "outputs": [
        {
          "output_type": "execute_result",
          "data": {
            "text/html": [
              "<div>\n",
              "<style scoped>\n",
              "    .dataframe tbody tr th:only-of-type {\n",
              "        vertical-align: middle;\n",
              "    }\n",
              "\n",
              "    .dataframe tbody tr th {\n",
              "        vertical-align: top;\n",
              "    }\n",
              "\n",
              "    .dataframe thead th {\n",
              "        text-align: right;\n",
              "    }\n",
              "</style>\n",
              "<table border=\"1\" class=\"dataframe\">\n",
              "  <thead>\n",
              "    <tr style=\"text-align: right;\">\n",
              "      <th></th>\n",
              "      <th>행정도시</th>\n",
              "      <th>시도</th>\n",
              "      <th>위치수</th>\n",
              "      <th>급속</th>\n",
              "      <th>완속</th>\n",
              "    </tr>\n",
              "  </thead>\n",
              "  <tbody>\n",
              "    <tr>\n",
              "      <th>1</th>\n",
              "      <td>제주특별자치도</td>\n",
              "      <td>서귀포시</td>\n",
              "      <td>52</td>\n",
              "      <td>70</td>\n",
              "      <td>43</td>\n",
              "    </tr>\n",
              "    <tr>\n",
              "      <th>2</th>\n",
              "      <td>제주특별자치도</td>\n",
              "      <td>제주시</td>\n",
              "      <td>148</td>\n",
              "      <td>133</td>\n",
              "      <td>181</td>\n",
              "    </tr>\n",
              "    <tr>\n",
              "      <th>3</th>\n",
              "      <td>0</td>\n",
              "      <td>0</td>\n",
              "      <td>0</td>\n",
              "      <td>0</td>\n",
              "      <td>0</td>\n",
              "    </tr>\n",
              "    <tr>\n",
              "      <th>4</th>\n",
              "      <td>0</td>\n",
              "      <td>0</td>\n",
              "      <td>0</td>\n",
              "      <td>0</td>\n",
              "      <td>0</td>\n",
              "    </tr>\n",
              "    <tr>\n",
              "      <th>5</th>\n",
              "      <td>0</td>\n",
              "      <td>0</td>\n",
              "      <td>0</td>\n",
              "      <td>0</td>\n",
              "      <td>0</td>\n",
              "    </tr>\n",
              "  </tbody>\n",
              "</table>\n",
              "</div>"
            ],
            "text/plain": [
              "      행정도시    시도  위치수   급속   완속\n",
              "1  제주특별자치도  서귀포시   52   70   43\n",
              "2  제주특별자치도   제주시  148  133  181\n",
              "3        0     0    0    0    0\n",
              "4        0     0    0    0    0\n",
              "5        0     0    0    0    0"
            ]
          },
          "metadata": {
            "tags": []
          },
          "execution_count": 100
        }
      ]
    },
    {
      "cell_type": "code",
      "metadata": {
        "colab": {
          "base_uri": "https://localhost:8080/",
          "height": 111
        },
        "id": "QPby5LrSO_aK",
        "outputId": "0cd37f5d-04ca-417d-9f98-a411b426cc24"
      },
      "source": [
        "new10 = new10.drop([3,4,5])\n",
        "new10"
      ],
      "execution_count": null,
      "outputs": [
        {
          "output_type": "execute_result",
          "data": {
            "text/html": [
              "<div>\n",
              "<style scoped>\n",
              "    .dataframe tbody tr th:only-of-type {\n",
              "        vertical-align: middle;\n",
              "    }\n",
              "\n",
              "    .dataframe tbody tr th {\n",
              "        vertical-align: top;\n",
              "    }\n",
              "\n",
              "    .dataframe thead th {\n",
              "        text-align: right;\n",
              "    }\n",
              "</style>\n",
              "<table border=\"1\" class=\"dataframe\">\n",
              "  <thead>\n",
              "    <tr style=\"text-align: right;\">\n",
              "      <th></th>\n",
              "      <th>행정도시</th>\n",
              "      <th>시도</th>\n",
              "      <th>위치수</th>\n",
              "      <th>급속</th>\n",
              "      <th>완속</th>\n",
              "    </tr>\n",
              "  </thead>\n",
              "  <tbody>\n",
              "    <tr>\n",
              "      <th>1</th>\n",
              "      <td>제주특별자치도</td>\n",
              "      <td>서귀포시</td>\n",
              "      <td>52</td>\n",
              "      <td>70</td>\n",
              "      <td>43</td>\n",
              "    </tr>\n",
              "    <tr>\n",
              "      <th>2</th>\n",
              "      <td>제주특별자치도</td>\n",
              "      <td>제주시</td>\n",
              "      <td>148</td>\n",
              "      <td>133</td>\n",
              "      <td>181</td>\n",
              "    </tr>\n",
              "  </tbody>\n",
              "</table>\n",
              "</div>"
            ],
            "text/plain": [
              "      행정도시    시도  위치수   급속   완속\n",
              "1  제주특별자치도  서귀포시   52   70   43\n",
              "2  제주특별자치도   제주시  148  133  181"
            ]
          },
          "metadata": {
            "tags": []
          },
          "execution_count": 101
        }
      ]
    },
    {
      "cell_type": "code",
      "metadata": {
        "colab": {
          "base_uri": "https://localhost:8080/"
        },
        "id": "imHcfNu8PBLO",
        "outputId": "a2223c12-76f5-43b8-a819-6bdc69a2f285"
      },
      "source": [
        "new10['위치수'].sum()"
      ],
      "execution_count": null,
      "outputs": [
        {
          "output_type": "execute_result",
          "data": {
            "text/plain": [
              "200"
            ]
          },
          "metadata": {
            "tags": []
          },
          "execution_count": 102
        }
      ]
    },
    {
      "cell_type": "code",
      "metadata": {
        "colab": {
          "base_uri": "https://localhost:8080/"
        },
        "id": "EaIOP1sxPChv",
        "outputId": "536c626e-6ce3-480f-a42e-7b9e7375271d"
      },
      "source": [
        "new10['급속'].sum()"
      ],
      "execution_count": null,
      "outputs": [
        {
          "output_type": "execute_result",
          "data": {
            "text/plain": [
              "203"
            ]
          },
          "metadata": {
            "tags": []
          },
          "execution_count": 103
        }
      ]
    },
    {
      "cell_type": "code",
      "metadata": {
        "colab": {
          "base_uri": "https://localhost:8080/"
        },
        "id": "Ojid2XE_PDhU",
        "outputId": "1d3dccdf-5e34-4ad9-d4c1-e7daf901ab40"
      },
      "source": [
        "new10['완속'].sum()"
      ],
      "execution_count": null,
      "outputs": [
        {
          "output_type": "execute_result",
          "data": {
            "text/plain": [
              "224"
            ]
          },
          "metadata": {
            "tags": []
          },
          "execution_count": 104
        }
      ]
    },
    {
      "cell_type": "code",
      "metadata": {
        "colab": {
          "base_uri": "https://localhost:8080/"
        },
        "id": "P8Hm_5tBPEgD",
        "outputId": "697ba598-9286-432b-8c55-105cb7826a92"
      },
      "source": [
        "new10['급속'].sum() + new10['완속'].sum()"
      ],
      "execution_count": null,
      "outputs": [
        {
          "output_type": "execute_result",
          "data": {
            "text/plain": [
              "427"
            ]
          },
          "metadata": {
            "tags": []
          },
          "execution_count": 105
        }
      ]
    },
    {
      "cell_type": "markdown",
      "metadata": {
        "id": "5P-r_b7zcoCU"
      },
      "source": [
        "# 대전광역시"
      ]
    },
    {
      "cell_type": "code",
      "metadata": {
        "id": "frm6XgU4iLXy"
      },
      "source": [
        "col = ['행정도시', '시도', '위치수', '급속', '완속']\n",
        "ind = [1,2,3,4,5]\n",
        "\n",
        "con = [[0, 0, 0, 0, 0], [0, 0, 0, 0, 0],[0, 0, 0, 0, 0], [0, 0, 0, 0, 0], [0, 0, 0, 0, 0]]\n",
        "new11 = pd.DataFrame(con, columns = col, index = ind)"
      ],
      "execution_count": null,
      "outputs": []
    },
    {
      "cell_type": "code",
      "metadata": {
        "colab": {
          "base_uri": "https://localhost:8080/",
          "height": 328
        },
        "id": "bH1V0J3ciLXy",
        "outputId": "aa4a5bfb-e3f6-49b0-bdf6-7990377386dc"
      },
      "source": [
        "df_대전 = df['주소'].str.contains('대전')\n",
        "set_대전 =  df[df_대전]\n",
        "\n",
        "df['지역'] = set_대전['주소'].str.slice(start=0, stop=9)\n",
        "\n",
        "pd.pivot_table(df, index = '지역', values = '급속충전기(대)', aggfunc = 'sum')"
      ],
      "execution_count": null,
      "outputs": [
        {
          "output_type": "execute_result",
          "data": {
            "text/html": [
              "<div>\n",
              "<style scoped>\n",
              "    .dataframe tbody tr th:only-of-type {\n",
              "        vertical-align: middle;\n",
              "    }\n",
              "\n",
              "    .dataframe tbody tr th {\n",
              "        vertical-align: top;\n",
              "    }\n",
              "\n",
              "    .dataframe thead th {\n",
              "        text-align: right;\n",
              "    }\n",
              "</style>\n",
              "<table border=\"1\" class=\"dataframe\">\n",
              "  <thead>\n",
              "    <tr style=\"text-align: right;\">\n",
              "      <th></th>\n",
              "      <th>급속충전기(대)</th>\n",
              "    </tr>\n",
              "    <tr>\n",
              "      <th>지역</th>\n",
              "      <th></th>\n",
              "    </tr>\n",
              "  </thead>\n",
              "  <tbody>\n",
              "    <tr>\n",
              "      <th>대전 서구 만년동</th>\n",
              "      <td>2</td>\n",
              "    </tr>\n",
              "    <tr>\n",
              "      <th>대전 서구 복수동</th>\n",
              "      <td>1</td>\n",
              "    </tr>\n",
              "    <tr>\n",
              "      <th>대전 유성구 화암</th>\n",
              "      <td>1</td>\n",
              "    </tr>\n",
              "    <tr>\n",
              "      <th>대전광역시 대덕구</th>\n",
              "      <td>3</td>\n",
              "    </tr>\n",
              "    <tr>\n",
              "      <th>대전광역시 동구</th>\n",
              "      <td>12</td>\n",
              "    </tr>\n",
              "    <tr>\n",
              "      <th>대전광역시 서구</th>\n",
              "      <td>35</td>\n",
              "    </tr>\n",
              "    <tr>\n",
              "      <th>대전광역시 유성구</th>\n",
              "      <td>48</td>\n",
              "    </tr>\n",
              "    <tr>\n",
              "      <th>대전광역시 중구</th>\n",
              "      <td>14</td>\n",
              "    </tr>\n",
              "  </tbody>\n",
              "</table>\n",
              "</div>"
            ],
            "text/plain": [
              "           급속충전기(대)\n",
              "지역                 \n",
              "대전 서구 만년동         2\n",
              "대전 서구 복수동         1\n",
              "대전 유성구 화암         1\n",
              "대전광역시 대덕구         3\n",
              "대전광역시 동구         12\n",
              "대전광역시 서구         35\n",
              "대전광역시 유성구        48\n",
              "대전광역시 중구         14"
            ]
          },
          "metadata": {
            "tags": []
          },
          "execution_count": 107
        }
      ]
    },
    {
      "cell_type": "code",
      "metadata": {
        "id": "L-ttiojhiLXz"
      },
      "source": [
        "#대전 도시 = ['대덕구', '동구', '서구', '유성구', '중구]"
      ],
      "execution_count": null,
      "outputs": []
    },
    {
      "cell_type": "code",
      "metadata": {
        "colab": {
          "base_uri": "https://localhost:8080/",
          "height": 204
        },
        "id": "WTsnS3aiiLXz",
        "outputId": "4c531f4b-ba86-4c26-b836-c789a1f39d5e"
      },
      "source": [
        "대덕구 = df['지역'].str.contains('대덕구', na = False)\n",
        "subset_대덕구 = df[대덕구]\n",
        "\n",
        "대전_fast1 = subset_대덕구['급속충전기(대)'].astype(int).sum()\n",
        "대전_slow1 = subset_대덕구['완속충전기(대)'].astype(int).sum()\n",
        "\n",
        "new11.loc[1] = ['대전광역시', '대덕구',len(df[대덕구]), 대전_fast1, 대전_slow1]\n",
        "\n",
        "# 중복되는 이름이 있을 수 있음.\n",
        "동구 = df['지역'].str.contains('동구', na = False)\n",
        "subset_동구= df[동구]\n",
        "\n",
        "대전_fast2 = subset_동구['급속충전기(대)'].astype(int).sum()\n",
        "대전_slow2 = subset_동구['완속충전기(대)'].astype(int).sum()\n",
        "\n",
        "new11.loc[2] = ['대전광역시', '동구',len(df[동구]), 대전_fast2, 대전_slow2]\n",
        "\n",
        "# 중복되는 이름이 있을 수 있음.\n",
        "서구 = df['지역'].str.contains('서구', na = False)\n",
        "subset_서구 = df[서구]\n",
        "\n",
        "대전_fast3 = subset_서구['급속충전기(대)'].astype(int).sum()\n",
        "대전_slow3 = subset_서구['완속충전기(대)'].astype(int).sum()\n",
        "\n",
        "new11.loc[3] = ['대전광역시', '서구',len(df[서구]), 대전_fast3, 대전_slow3]\n",
        "\n",
        "\n",
        "유성구 = df['지역'].str.contains('유성구', na = False)\n",
        "subset_유성구 = df[유성구]\n",
        "\n",
        "대전_fast4 = subset_유성구['급속충전기(대)'].astype(int).sum()\n",
        "대전_slow4 = subset_유성구['완속충전기(대)'].astype(int).sum()\n",
        "\n",
        "new11.loc[4] = ['대전광역시', '유성구',len(df[유성구]), 대전_fast4, 대전_slow4]\n",
        "\n",
        "# 중복되는 이름이 있을 수 있음.\n",
        "중구 = df['지역'].str.contains('중구', na = False)\n",
        "subset_중구 = df[중구]\n",
        "\n",
        "대전_fast5 = subset_중구['급속충전기(대)'].astype(int).sum()\n",
        "대전_slow5 = subset_중구['완속충전기(대)'].astype(int).sum()\n",
        "\n",
        "new11.loc[5] = ['대전광역시', '중구',len(df[중구]), 대전_fast5, 대전_slow5]\n",
        "\n",
        "new11"
      ],
      "execution_count": null,
      "outputs": [
        {
          "output_type": "execute_result",
          "data": {
            "text/html": [
              "<div>\n",
              "<style scoped>\n",
              "    .dataframe tbody tr th:only-of-type {\n",
              "        vertical-align: middle;\n",
              "    }\n",
              "\n",
              "    .dataframe tbody tr th {\n",
              "        vertical-align: top;\n",
              "    }\n",
              "\n",
              "    .dataframe thead th {\n",
              "        text-align: right;\n",
              "    }\n",
              "</style>\n",
              "<table border=\"1\" class=\"dataframe\">\n",
              "  <thead>\n",
              "    <tr style=\"text-align: right;\">\n",
              "      <th></th>\n",
              "      <th>행정도시</th>\n",
              "      <th>시도</th>\n",
              "      <th>위치수</th>\n",
              "      <th>급속</th>\n",
              "      <th>완속</th>\n",
              "    </tr>\n",
              "  </thead>\n",
              "  <tbody>\n",
              "    <tr>\n",
              "      <th>1</th>\n",
              "      <td>대전광역시</td>\n",
              "      <td>대덕구</td>\n",
              "      <td>2</td>\n",
              "      <td>3</td>\n",
              "      <td>2</td>\n",
              "    </tr>\n",
              "    <tr>\n",
              "      <th>2</th>\n",
              "      <td>대전광역시</td>\n",
              "      <td>동구</td>\n",
              "      <td>10</td>\n",
              "      <td>12</td>\n",
              "      <td>19</td>\n",
              "    </tr>\n",
              "    <tr>\n",
              "      <th>3</th>\n",
              "      <td>대전광역시</td>\n",
              "      <td>서구</td>\n",
              "      <td>33</td>\n",
              "      <td>38</td>\n",
              "      <td>60</td>\n",
              "    </tr>\n",
              "    <tr>\n",
              "      <th>4</th>\n",
              "      <td>대전광역시</td>\n",
              "      <td>유성구</td>\n",
              "      <td>50</td>\n",
              "      <td>49</td>\n",
              "      <td>82</td>\n",
              "    </tr>\n",
              "    <tr>\n",
              "      <th>5</th>\n",
              "      <td>대전광역시</td>\n",
              "      <td>중구</td>\n",
              "      <td>11</td>\n",
              "      <td>14</td>\n",
              "      <td>20</td>\n",
              "    </tr>\n",
              "  </tbody>\n",
              "</table>\n",
              "</div>"
            ],
            "text/plain": [
              "    행정도시   시도  위치수  급속  완속\n",
              "1  대전광역시  대덕구    2   3   2\n",
              "2  대전광역시   동구   10  12  19\n",
              "3  대전광역시   서구   33  38  60\n",
              "4  대전광역시  유성구   50  49  82\n",
              "5  대전광역시   중구   11  14  20"
            ]
          },
          "metadata": {
            "tags": []
          },
          "execution_count": 109
        }
      ]
    },
    {
      "cell_type": "code",
      "metadata": {
        "colab": {
          "base_uri": "https://localhost:8080/"
        },
        "id": "SFfz7UPXiLXz",
        "outputId": "7527b150-e5dd-4fd6-8edb-a6980d854840"
      },
      "source": [
        "new11['위치수'].sum()"
      ],
      "execution_count": null,
      "outputs": [
        {
          "output_type": "execute_result",
          "data": {
            "text/plain": [
              "106"
            ]
          },
          "metadata": {
            "tags": []
          },
          "execution_count": 110
        }
      ]
    },
    {
      "cell_type": "code",
      "metadata": {
        "colab": {
          "base_uri": "https://localhost:8080/"
        },
        "id": "iPlPrYHhiLXz",
        "outputId": "f8c35907-0b50-45bd-d08a-24d22502bbb2"
      },
      "source": [
        "new11['급속'].sum()"
      ],
      "execution_count": null,
      "outputs": [
        {
          "output_type": "execute_result",
          "data": {
            "text/plain": [
              "116"
            ]
          },
          "metadata": {
            "tags": []
          },
          "execution_count": 111
        }
      ]
    },
    {
      "cell_type": "code",
      "metadata": {
        "colab": {
          "base_uri": "https://localhost:8080/"
        },
        "id": "BT2AGs99iLXz",
        "outputId": "66028a1f-8d1c-4185-a73d-d06bfb0e3cad"
      },
      "source": [
        "new11['완속'].sum()"
      ],
      "execution_count": null,
      "outputs": [
        {
          "output_type": "execute_result",
          "data": {
            "text/plain": [
              "183"
            ]
          },
          "metadata": {
            "tags": []
          },
          "execution_count": 112
        }
      ]
    },
    {
      "cell_type": "code",
      "metadata": {
        "colab": {
          "base_uri": "https://localhost:8080/"
        },
        "id": "U7qPkYR1iLXz",
        "outputId": "26b93e46-c885-46ca-b50b-e8eca6cb187a"
      },
      "source": [
        "new11['급속'].sum() + new11['완속'].sum()"
      ],
      "execution_count": null,
      "outputs": [
        {
          "output_type": "execute_result",
          "data": {
            "text/plain": [
              "299"
            ]
          },
          "metadata": {
            "tags": []
          },
          "execution_count": 113
        }
      ]
    },
    {
      "cell_type": "markdown",
      "metadata": {
        "id": "xyCnH65JcqSV"
      },
      "source": [
        "# 울산광역시"
      ]
    },
    {
      "cell_type": "code",
      "metadata": {
        "id": "l7x7bXfyqD2f"
      },
      "source": [
        "col = ['행정도시', '시도', '위치수', '급속', '완속']\n",
        "ind = [1,2,3,4,5]\n",
        "\n",
        "con = [[0, 0, 0, 0, 0], [0, 0, 0, 0, 0],[0, 0, 0, 0, 0], [0, 0, 0, 0, 0], [0, 0, 0, 0, 0]]\n",
        "new12 = pd.DataFrame(con, columns = col, index = ind)\n"
      ],
      "execution_count": null,
      "outputs": []
    },
    {
      "cell_type": "code",
      "metadata": {
        "colab": {
          "base_uri": "https://localhost:8080/",
          "height": 266
        },
        "id": "Zl8pKkoPqD2f",
        "outputId": "7622c10c-5464-4bbf-966c-13d4854075ac"
      },
      "source": [
        "df_울산 = df['주소'].str.contains('울산')\n",
        "set_울산 =  df[df_울산]\n",
        "\n",
        "df['지역'] = set_울산['주소'].str.slice(start=0, stop=9)\n",
        "\n",
        "pd.pivot_table(df, index = '지역', values = '급속충전기(대)', aggfunc = 'sum')"
      ],
      "execution_count": null,
      "outputs": [
        {
          "output_type": "execute_result",
          "data": {
            "text/html": [
              "<div>\n",
              "<style scoped>\n",
              "    .dataframe tbody tr th:only-of-type {\n",
              "        vertical-align: middle;\n",
              "    }\n",
              "\n",
              "    .dataframe tbody tr th {\n",
              "        vertical-align: top;\n",
              "    }\n",
              "\n",
              "    .dataframe thead th {\n",
              "        text-align: right;\n",
              "    }\n",
              "</style>\n",
              "<table border=\"1\" class=\"dataframe\">\n",
              "  <thead>\n",
              "    <tr style=\"text-align: right;\">\n",
              "      <th></th>\n",
              "      <th>급속충전기(대)</th>\n",
              "    </tr>\n",
              "    <tr>\n",
              "      <th>지역</th>\n",
              "      <th></th>\n",
              "    </tr>\n",
              "  </thead>\n",
              "  <tbody>\n",
              "    <tr>\n",
              "      <th>울산 울주군 삼남</th>\n",
              "      <td>1</td>\n",
              "    </tr>\n",
              "    <tr>\n",
              "      <th>울산광역시 남구</th>\n",
              "      <td>12</td>\n",
              "    </tr>\n",
              "    <tr>\n",
              "      <th>울산광역시 동구</th>\n",
              "      <td>1</td>\n",
              "    </tr>\n",
              "    <tr>\n",
              "      <th>울산광역시 북구</th>\n",
              "      <td>10</td>\n",
              "    </tr>\n",
              "    <tr>\n",
              "      <th>울산광역시 울주군</th>\n",
              "      <td>15</td>\n",
              "    </tr>\n",
              "    <tr>\n",
              "      <th>울산광역시 중구</th>\n",
              "      <td>11</td>\n",
              "    </tr>\n",
              "  </tbody>\n",
              "</table>\n",
              "</div>"
            ],
            "text/plain": [
              "           급속충전기(대)\n",
              "지역                 \n",
              "울산 울주군 삼남         1\n",
              "울산광역시 남구         12\n",
              "울산광역시 동구          1\n",
              "울산광역시 북구         10\n",
              "울산광역시 울주군        15\n",
              "울산광역시 중구         11"
            ]
          },
          "metadata": {
            "tags": []
          },
          "execution_count": 115
        }
      ]
    },
    {
      "cell_type": "code",
      "metadata": {
        "colab": {
          "base_uri": "https://localhost:8080/",
          "height": 204
        },
        "id": "0ZB_RHfvqD2f",
        "outputId": "11027b0c-e32a-4847-825c-fef3cd319020"
      },
      "source": [
        "#울산광역시 구= ['남구', '동구', '북구', '중구'] \n",
        "#울산광역시 군 = ['울주군']\n",
        "\n",
        "# 타지역과 중복될 수 있음.\n",
        "남구 = df['지역'].str.contains('남구', na = False)\n",
        "subset_남구 = df[남구]\n",
        "\n",
        "울산_fast1 = subset_남구['급속충전기(대)'].astype(int).sum()\n",
        "울산_slow1 = subset_남구['완속충전기(대)'].astype(int).sum()\n",
        "\n",
        "new12.loc[1] = ['울산광역시', '남구',len(df[남구]), 울산_fast1, 울산_slow1]\n",
        "\n",
        "# 타 지역과 중복될 수 있음.\n",
        "동구 = df['지역'].str.contains('동구', na = False)\n",
        "subset_동구 = df[동구]\n",
        "\n",
        "울산_fast2 = subset_동구['급속충전기(대)'].astype(int).sum()\n",
        "울산_slow2 = subset_동구['완속충전기(대)'].astype(int).sum()\n",
        "\n",
        "new12.loc[2] = ['울산광역시', '동구',len(df[동구]), 울산_fast2, 울산_slow2]\n",
        "\n",
        "# 타 지역과 중복될 수 있음.\n",
        "북구 = df['지역'].str.contains('북구', na = False)\n",
        "subset_북구 = df[북구]\n",
        "\n",
        "울산_fast3 = subset_북구['급속충전기(대)'].astype(int).sum()\n",
        "울산_slow3 = subset_북구['완속충전기(대)'].astype(int).sum()\n",
        "\n",
        "new12.loc[3] = ['울산광역시', '북구',len(df[북구]), 울산_fast3, 울산_slow3]\n",
        "\n",
        "# 타 지역과 중복될 수 있음.\n",
        "중구 = df['지역'].str.contains('중구', na = False)\n",
        "subset_중구 = df[중구]\n",
        "\n",
        "울산_fast4 = subset_중구['급속충전기(대)'].astype(int).sum()\n",
        "울산_slow4 = subset_중구['완속충전기(대)'].astype(int).sum()\n",
        "\n",
        "new12.loc[4] = ['울산광역시', '중구',len(df[중구]), 울산_fast4, 울산_slow4]\n",
        "\n",
        "울주군 = df['지역'].str.contains('울주군', na = False)\n",
        "subset_울주군 = df[울주군]\n",
        "\n",
        "울산_fast5 = subset_울주군['급속충전기(대)'].astype(int).sum()\n",
        "울산_slow5 = subset_울주군['완속충전기(대)'].astype(int).sum()\n",
        "\n",
        "new12.loc[5] = ['울산광역시', '울주군',len(df[울주군]), 울산_fast5, 울산_slow5]\n",
        "\n",
        "new12"
      ],
      "execution_count": null,
      "outputs": [
        {
          "output_type": "execute_result",
          "data": {
            "text/html": [
              "<div>\n",
              "<style scoped>\n",
              "    .dataframe tbody tr th:only-of-type {\n",
              "        vertical-align: middle;\n",
              "    }\n",
              "\n",
              "    .dataframe tbody tr th {\n",
              "        vertical-align: top;\n",
              "    }\n",
              "\n",
              "    .dataframe thead th {\n",
              "        text-align: right;\n",
              "    }\n",
              "</style>\n",
              "<table border=\"1\" class=\"dataframe\">\n",
              "  <thead>\n",
              "    <tr style=\"text-align: right;\">\n",
              "      <th></th>\n",
              "      <th>행정도시</th>\n",
              "      <th>시도</th>\n",
              "      <th>위치수</th>\n",
              "      <th>급속</th>\n",
              "      <th>완속</th>\n",
              "    </tr>\n",
              "  </thead>\n",
              "  <tbody>\n",
              "    <tr>\n",
              "      <th>1</th>\n",
              "      <td>울산광역시</td>\n",
              "      <td>남구</td>\n",
              "      <td>13</td>\n",
              "      <td>12</td>\n",
              "      <td>16</td>\n",
              "    </tr>\n",
              "    <tr>\n",
              "      <th>2</th>\n",
              "      <td>울산광역시</td>\n",
              "      <td>동구</td>\n",
              "      <td>1</td>\n",
              "      <td>1</td>\n",
              "      <td>0</td>\n",
              "    </tr>\n",
              "    <tr>\n",
              "      <th>3</th>\n",
              "      <td>울산광역시</td>\n",
              "      <td>북구</td>\n",
              "      <td>11</td>\n",
              "      <td>10</td>\n",
              "      <td>22</td>\n",
              "    </tr>\n",
              "    <tr>\n",
              "      <th>4</th>\n",
              "      <td>울산광역시</td>\n",
              "      <td>중구</td>\n",
              "      <td>7</td>\n",
              "      <td>11</td>\n",
              "      <td>15</td>\n",
              "    </tr>\n",
              "    <tr>\n",
              "      <th>5</th>\n",
              "      <td>울산광역시</td>\n",
              "      <td>울주군</td>\n",
              "      <td>15</td>\n",
              "      <td>16</td>\n",
              "      <td>12</td>\n",
              "    </tr>\n",
              "  </tbody>\n",
              "</table>\n",
              "</div>"
            ],
            "text/plain": [
              "    행정도시   시도  위치수  급속  완속\n",
              "1  울산광역시   남구   13  12  16\n",
              "2  울산광역시   동구    1   1   0\n",
              "3  울산광역시   북구   11  10  22\n",
              "4  울산광역시   중구    7  11  15\n",
              "5  울산광역시  울주군   15  16  12"
            ]
          },
          "metadata": {
            "tags": []
          },
          "execution_count": 116
        }
      ]
    },
    {
      "cell_type": "code",
      "metadata": {
        "colab": {
          "base_uri": "https://localhost:8080/"
        },
        "id": "td6QjXZQqD2f",
        "outputId": "82600d26-3468-4203-b02e-826061ea0735"
      },
      "source": [
        "new12['위치수'].sum()"
      ],
      "execution_count": null,
      "outputs": [
        {
          "output_type": "execute_result",
          "data": {
            "text/plain": [
              "47"
            ]
          },
          "metadata": {
            "tags": []
          },
          "execution_count": 117
        }
      ]
    },
    {
      "cell_type": "code",
      "metadata": {
        "colab": {
          "base_uri": "https://localhost:8080/"
        },
        "id": "9vyMkm7KqD2f",
        "outputId": "9ad9aa4f-2d1a-4f71-cc44-39e0e4ce735b"
      },
      "source": [
        "new12['급속'].sum()"
      ],
      "execution_count": null,
      "outputs": [
        {
          "output_type": "execute_result",
          "data": {
            "text/plain": [
              "50"
            ]
          },
          "metadata": {
            "tags": []
          },
          "execution_count": 118
        }
      ]
    },
    {
      "cell_type": "code",
      "metadata": {
        "colab": {
          "base_uri": "https://localhost:8080/"
        },
        "id": "QVnhDXciqD2f",
        "outputId": "4d1c3e0e-6234-48ee-930d-46d0f1949715"
      },
      "source": [
        "new12['완속'].sum()"
      ],
      "execution_count": null,
      "outputs": [
        {
          "output_type": "execute_result",
          "data": {
            "text/plain": [
              "65"
            ]
          },
          "metadata": {
            "tags": []
          },
          "execution_count": 119
        }
      ]
    },
    {
      "cell_type": "code",
      "metadata": {
        "colab": {
          "base_uri": "https://localhost:8080/"
        },
        "id": "0MyrnUcGqD2f",
        "outputId": "bbd7a28c-c856-4ee3-c24f-03a11d507475"
      },
      "source": [
        "new12['급속'].sum() + new12['완속'].sum()"
      ],
      "execution_count": null,
      "outputs": [
        {
          "output_type": "execute_result",
          "data": {
            "text/plain": [
              "115"
            ]
          },
          "metadata": {
            "tags": []
          },
          "execution_count": 120
        }
      ]
    },
    {
      "cell_type": "markdown",
      "metadata": {
        "id": "7Nr4rmoLcuQc"
      },
      "source": [
        "# 광주광역시"
      ]
    },
    {
      "cell_type": "code",
      "metadata": {
        "id": "3uqSiUblsFbO"
      },
      "source": [
        "col = ['행정도시', '시도', '위치수', '급속', '완속']\n",
        "ind = [1,2,3,4,5]\n",
        "\n",
        "con = [[0, 0, 0, 0, 0], [0, 0, 0, 0, 0],[0, 0, 0, 0, 0], [0, 0, 0, 0, 0], [0, 0, 0, 0, 0]]\n",
        "new13 = pd.DataFrame(con, columns = col, index = ind)"
      ],
      "execution_count": null,
      "outputs": []
    },
    {
      "cell_type": "code",
      "metadata": {
        "colab": {
          "base_uri": "https://localhost:8080/",
          "height": 793
        },
        "id": "3aR20Tv9sFbP",
        "outputId": "8490f3b4-0735-4144-f3f2-bf388e7be2ef"
      },
      "source": [
        "df_광주 = df['주소'].str.contains('광주')\n",
        "set_광주 =  df[df_광주]\n",
        "\n",
        "df['지역'] = set_광주['주소'].str.slice(start=0, stop=9)\n",
        "\n",
        "pd.pivot_table(df, index = '지역', values = '급속충전기(대)', aggfunc = 'sum')"
      ],
      "execution_count": null,
      "outputs": [
        {
          "output_type": "execute_result",
          "data": {
            "text/html": [
              "<div>\n",
              "<style scoped>\n",
              "    .dataframe tbody tr th:only-of-type {\n",
              "        vertical-align: middle;\n",
              "    }\n",
              "\n",
              "    .dataframe tbody tr th {\n",
              "        vertical-align: top;\n",
              "    }\n",
              "\n",
              "    .dataframe thead th {\n",
              "        text-align: right;\n",
              "    }\n",
              "</style>\n",
              "<table border=\"1\" class=\"dataframe\">\n",
              "  <thead>\n",
              "    <tr style=\"text-align: right;\">\n",
              "      <th></th>\n",
              "      <th>급속충전기(대)</th>\n",
              "    </tr>\n",
              "    <tr>\n",
              "      <th>지역</th>\n",
              "      <th></th>\n",
              "    </tr>\n",
              "  </thead>\n",
              "  <tbody>\n",
              "    <tr>\n",
              "      <th>경기 광주시 경안</th>\n",
              "      <td>1</td>\n",
              "    </tr>\n",
              "    <tr>\n",
              "      <th>경기 광주시 송정</th>\n",
              "      <td>0</td>\n",
              "    </tr>\n",
              "    <tr>\n",
              "      <th>경기 광주시 쌍령</th>\n",
              "      <td>1</td>\n",
              "    </tr>\n",
              "    <tr>\n",
              "      <th>경기 광주시 역동</th>\n",
              "      <td>1</td>\n",
              "    </tr>\n",
              "    <tr>\n",
              "      <th>경기 광주시 오포</th>\n",
              "      <td>1</td>\n",
              "    </tr>\n",
              "    <tr>\n",
              "      <th>경기 광주시 장지</th>\n",
              "      <td>2</td>\n",
              "    </tr>\n",
              "    <tr>\n",
              "      <th>경기 광주시 초월</th>\n",
              "      <td>1</td>\n",
              "    </tr>\n",
              "    <tr>\n",
              "      <th>경기도 광주시 송</th>\n",
              "      <td>0</td>\n",
              "    </tr>\n",
              "    <tr>\n",
              "      <th>경기도 광주시 오</th>\n",
              "      <td>1</td>\n",
              "    </tr>\n",
              "    <tr>\n",
              "      <th>경기도 광주시 장</th>\n",
              "      <td>2</td>\n",
              "    </tr>\n",
              "    <tr>\n",
              "      <th>광주 광산구 신창</th>\n",
              "      <td>1</td>\n",
              "    </tr>\n",
              "    <tr>\n",
              "      <th>광주 광산구 신촌</th>\n",
              "      <td>1</td>\n",
              "    </tr>\n",
              "    <tr>\n",
              "      <th>광주 남구 임암동</th>\n",
              "      <td>0</td>\n",
              "    </tr>\n",
              "    <tr>\n",
              "      <th>광주 동구 금남로</th>\n",
              "      <td>1</td>\n",
              "    </tr>\n",
              "    <tr>\n",
              "      <th>광주 북구 월출동</th>\n",
              "      <td>2</td>\n",
              "    </tr>\n",
              "    <tr>\n",
              "      <th>광주 서구 매월동</th>\n",
              "      <td>2</td>\n",
              "    </tr>\n",
              "    <tr>\n",
              "      <th>광주 서구 쌍촌동</th>\n",
              "      <td>0</td>\n",
              "    </tr>\n",
              "    <tr>\n",
              "      <th>광주 서구 화정동</th>\n",
              "      <td>0</td>\n",
              "    </tr>\n",
              "    <tr>\n",
              "      <th>광주광역시 광산구</th>\n",
              "      <td>25</td>\n",
              "    </tr>\n",
              "    <tr>\n",
              "      <th>광주광역시 남구</th>\n",
              "      <td>6</td>\n",
              "    </tr>\n",
              "    <tr>\n",
              "      <th>광주광역시 동구</th>\n",
              "      <td>4</td>\n",
              "    </tr>\n",
              "    <tr>\n",
              "      <th>광주광역시 북구</th>\n",
              "      <td>14</td>\n",
              "    </tr>\n",
              "    <tr>\n",
              "      <th>광주광역시 서구</th>\n",
              "      <td>13</td>\n",
              "    </tr>\n",
              "  </tbody>\n",
              "</table>\n",
              "</div>"
            ],
            "text/plain": [
              "           급속충전기(대)\n",
              "지역                 \n",
              "경기 광주시 경안         1\n",
              "경기 광주시 송정         0\n",
              "경기 광주시 쌍령         1\n",
              "경기 광주시 역동         1\n",
              "경기 광주시 오포         1\n",
              "경기 광주시 장지         2\n",
              "경기 광주시 초월         1\n",
              "경기도 광주시 송         0\n",
              "경기도 광주시 오         1\n",
              "경기도 광주시 장         2\n",
              "광주 광산구 신창         1\n",
              "광주 광산구 신촌         1\n",
              "광주 남구 임암동         0\n",
              "광주 동구 금남로         1\n",
              "광주 북구 월출동         2\n",
              "광주 서구 매월동         2\n",
              "광주 서구 쌍촌동         0\n",
              "광주 서구 화정동         0\n",
              "광주광역시 광산구        25\n",
              "광주광역시 남구          6\n",
              "광주광역시 동구          4\n",
              "광주광역시 북구         14\n",
              "광주광역시 서구         13"
            ]
          },
          "metadata": {
            "tags": []
          },
          "execution_count": 122
        }
      ]
    },
    {
      "cell_type": "code",
      "metadata": {
        "colab": {
          "base_uri": "https://localhost:8080/",
          "height": 204
        },
        "id": "2uApw4eosFbP",
        "outputId": "211a2664-01ca-4a0c-ee17-a55053f1aec4"
      },
      "source": [
        "#광주 구 = ['광산구', '남구', '동구', '북구', '서구']\n",
        "\n",
        "광산구 = df['지역'].str.contains('광산구', na = False)\n",
        "subset_광산구 = df[광산구]\n",
        "\n",
        "광주_fast1 = subset_광산구['급속충전기(대)'].astype(int).sum()\n",
        "광주_slow1 = subset_광산구['완속충전기(대)'].astype(int).sum()\n",
        "\n",
        "new13.loc[1] = ['광주광역시', '광산구',len(df[광산구]), 광주_fast1, 광주_slow1]\n",
        "\n",
        "남구 = df['지역'].str.contains('남구', na = False)\n",
        "subset_남구 = df[남구]\n",
        "\n",
        "광주_fast2 = subset_남구['급속충전기(대)'].astype(int).sum()\n",
        "광주_slow2 = subset_남구['완속충전기(대)'].astype(int).sum()\n",
        "\n",
        "new13.loc[2] = ['광주광역시', '남구',len(df[남구]), 광주_fast2, 광주_slow2]\n",
        "\n",
        "동구 = df['지역'].str.contains('동구', na = False)\n",
        "subset_동구 = df[동구]\n",
        "\n",
        "광주_fast3 = subset_동구['급속충전기(대)'].astype(int).sum()\n",
        "광주_slow3 = subset_동구['완속충전기(대)'].astype(int).sum()\n",
        "\n",
        "new13.loc[3] = ['광주광역시', '동구',len(df[동구]), 광주_fast3, 광주_slow3]\n",
        "\n",
        "북구 = df['지역'].str.contains('북구', na = False)\n",
        "subset_북구 = df[북구]\n",
        "\n",
        "광주_fast4 = subset_북구['급속충전기(대)'].astype(int).sum()\n",
        "광주_slow4 = subset_북구['완속충전기(대)'].astype(int).sum()\n",
        "\n",
        "new13.loc[4] = ['광주광역시', '북구',len(df[북구]), 광주_fast4, 광주_slow4]\n",
        "\n",
        "서구 = df['지역'].str.contains('서구', na = False)\n",
        "subset_서구 = df[서구]\n",
        "\n",
        "광주_fast5 = subset_서구['급속충전기(대)'].astype(int).sum()\n",
        "광주_slow5 = subset_서구['완속충전기(대)'].astype(int).sum()\n",
        "\n",
        "new13.loc[5] = ['광주광역시', '서구',len(df[서구]), 광주_fast5, 광주_slow5]\n",
        "\n",
        "new13"
      ],
      "execution_count": null,
      "outputs": [
        {
          "output_type": "execute_result",
          "data": {
            "text/html": [
              "<div>\n",
              "<style scoped>\n",
              "    .dataframe tbody tr th:only-of-type {\n",
              "        vertical-align: middle;\n",
              "    }\n",
              "\n",
              "    .dataframe tbody tr th {\n",
              "        vertical-align: top;\n",
              "    }\n",
              "\n",
              "    .dataframe thead th {\n",
              "        text-align: right;\n",
              "    }\n",
              "</style>\n",
              "<table border=\"1\" class=\"dataframe\">\n",
              "  <thead>\n",
              "    <tr style=\"text-align: right;\">\n",
              "      <th></th>\n",
              "      <th>행정도시</th>\n",
              "      <th>시도</th>\n",
              "      <th>위치수</th>\n",
              "      <th>급속</th>\n",
              "      <th>완속</th>\n",
              "    </tr>\n",
              "  </thead>\n",
              "  <tbody>\n",
              "    <tr>\n",
              "      <th>1</th>\n",
              "      <td>광주광역시</td>\n",
              "      <td>광산구</td>\n",
              "      <td>39</td>\n",
              "      <td>27</td>\n",
              "      <td>60</td>\n",
              "    </tr>\n",
              "    <tr>\n",
              "      <th>2</th>\n",
              "      <td>광주광역시</td>\n",
              "      <td>남구</td>\n",
              "      <td>9</td>\n",
              "      <td>6</td>\n",
              "      <td>11</td>\n",
              "    </tr>\n",
              "    <tr>\n",
              "      <th>3</th>\n",
              "      <td>광주광역시</td>\n",
              "      <td>동구</td>\n",
              "      <td>9</td>\n",
              "      <td>5</td>\n",
              "      <td>14</td>\n",
              "    </tr>\n",
              "    <tr>\n",
              "      <th>4</th>\n",
              "      <td>광주광역시</td>\n",
              "      <td>북구</td>\n",
              "      <td>17</td>\n",
              "      <td>16</td>\n",
              "      <td>29</td>\n",
              "    </tr>\n",
              "    <tr>\n",
              "      <th>5</th>\n",
              "      <td>광주광역시</td>\n",
              "      <td>서구</td>\n",
              "      <td>18</td>\n",
              "      <td>15</td>\n",
              "      <td>20</td>\n",
              "    </tr>\n",
              "  </tbody>\n",
              "</table>\n",
              "</div>"
            ],
            "text/plain": [
              "    행정도시   시도  위치수  급속  완속\n",
              "1  광주광역시  광산구   39  27  60\n",
              "2  광주광역시   남구    9   6  11\n",
              "3  광주광역시   동구    9   5  14\n",
              "4  광주광역시   북구   17  16  29\n",
              "5  광주광역시   서구   18  15  20"
            ]
          },
          "metadata": {
            "tags": []
          },
          "execution_count": 123
        }
      ]
    },
    {
      "cell_type": "code",
      "metadata": {
        "colab": {
          "base_uri": "https://localhost:8080/"
        },
        "id": "HyqS2W9wsFbP",
        "outputId": "adbb4373-a5b2-4c71-91ab-f41231fbe145"
      },
      "source": [
        "new13['위치수'].sum()"
      ],
      "execution_count": null,
      "outputs": [
        {
          "output_type": "execute_result",
          "data": {
            "text/plain": [
              "92"
            ]
          },
          "metadata": {
            "tags": []
          },
          "execution_count": 124
        }
      ]
    },
    {
      "cell_type": "code",
      "metadata": {
        "colab": {
          "base_uri": "https://localhost:8080/"
        },
        "id": "A52I_GoisFbP",
        "outputId": "6f026b71-cbac-4fce-9962-bfe4ed206eca"
      },
      "source": [
        "new13['급속'].sum()"
      ],
      "execution_count": null,
      "outputs": [
        {
          "output_type": "execute_result",
          "data": {
            "text/plain": [
              "69"
            ]
          },
          "metadata": {
            "tags": []
          },
          "execution_count": 125
        }
      ]
    },
    {
      "cell_type": "code",
      "metadata": {
        "colab": {
          "base_uri": "https://localhost:8080/"
        },
        "id": "nDIvuxvwsFbP",
        "outputId": "fab3a19f-2405-4d04-d626-913beaa9409c"
      },
      "source": [
        "new13['완속'].sum()"
      ],
      "execution_count": null,
      "outputs": [
        {
          "output_type": "execute_result",
          "data": {
            "text/plain": [
              "134"
            ]
          },
          "metadata": {
            "tags": []
          },
          "execution_count": 126
        }
      ]
    },
    {
      "cell_type": "code",
      "metadata": {
        "colab": {
          "base_uri": "https://localhost:8080/"
        },
        "id": "iRK6iV2BsFbP",
        "outputId": "85803bfc-5807-4dad-fa46-da6202092dd4"
      },
      "source": [
        "new13['급속'].sum() + new9['완속'].sum()"
      ],
      "execution_count": null,
      "outputs": [
        {
          "output_type": "execute_result",
          "data": {
            "text/plain": [
              "307"
            ]
          },
          "metadata": {
            "tags": []
          },
          "execution_count": 127
        }
      ]
    },
    {
      "cell_type": "markdown",
      "metadata": {
        "id": "-SSf6oZ4cv7M"
      },
      "source": [
        "# 부산광역시"
      ]
    },
    {
      "cell_type": "code",
      "metadata": {
        "id": "aApKh-VUtkxt"
      },
      "source": [
        "col = ['행정도시', '시도', '위치수', '급속', '완속']\n",
        "ind = [1,2,3,4,5]\n",
        "\n",
        "con = [[0, 0, 0, 0, 0], [0, 0, 0, 0, 0],[0, 0, 0, 0, 0], [0, 0, 0, 0, 0], [0, 0, 0, 0, 0]]\n",
        "new14 = pd.DataFrame(con, columns = col, index = ind)"
      ],
      "execution_count": null,
      "outputs": []
    },
    {
      "cell_type": "code",
      "metadata": {
        "colab": {
          "base_uri": "https://localhost:8080/",
          "height": 979
        },
        "id": "0jOlFA0ztkxu",
        "outputId": "32d59a56-ea47-4e9c-eaa8-3155fd78792d"
      },
      "source": [
        "df_부산 = df['주소'].str.contains('부산')\n",
        "set_부산 =  df[df_부산]\n",
        "\n",
        "df['지역'] = set_부산['주소'].str.slice(start=0, stop=10)\n",
        "\n",
        "pd.pivot_table(df, index = '지역', values = '급속충전기(대)', aggfunc = 'sum')"
      ],
      "execution_count": null,
      "outputs": [
        {
          "output_type": "execute_result",
          "data": {
            "text/html": [
              "<div>\n",
              "<style scoped>\n",
              "    .dataframe tbody tr th:only-of-type {\n",
              "        vertical-align: middle;\n",
              "    }\n",
              "\n",
              "    .dataframe tbody tr th {\n",
              "        vertical-align: top;\n",
              "    }\n",
              "\n",
              "    .dataframe thead th {\n",
              "        text-align: right;\n",
              "    }\n",
              "</style>\n",
              "<table border=\"1\" class=\"dataframe\">\n",
              "  <thead>\n",
              "    <tr style=\"text-align: right;\">\n",
              "      <th></th>\n",
              "      <th>급속충전기(대)</th>\n",
              "    </tr>\n",
              "    <tr>\n",
              "      <th>지역</th>\n",
              "      <th></th>\n",
              "    </tr>\n",
              "  </thead>\n",
              "  <tbody>\n",
              "    <tr>\n",
              "      <th>경기도 오산시 부산</th>\n",
              "      <td>4</td>\n",
              "    </tr>\n",
              "    <tr>\n",
              "      <th>부산 해운대구 우동</th>\n",
              "      <td>2</td>\n",
              "    </tr>\n",
              "    <tr>\n",
              "      <th>부산광역시 강서구</th>\n",
              "      <td>11</td>\n",
              "    </tr>\n",
              "    <tr>\n",
              "      <th>부산광역시 금정구</th>\n",
              "      <td>8</td>\n",
              "    </tr>\n",
              "    <tr>\n",
              "      <th>부산광역시 기장군</th>\n",
              "      <td>7</td>\n",
              "    </tr>\n",
              "    <tr>\n",
              "      <th>부산광역시 남구 대</th>\n",
              "      <td>4</td>\n",
              "    </tr>\n",
              "    <tr>\n",
              "      <th>부산광역시 남구 문</th>\n",
              "      <td>0</td>\n",
              "    </tr>\n",
              "    <tr>\n",
              "      <th>부산광역시 남구 용</th>\n",
              "      <td>4</td>\n",
              "    </tr>\n",
              "    <tr>\n",
              "      <th>부산광역시 동구 범</th>\n",
              "      <td>0</td>\n",
              "    </tr>\n",
              "    <tr>\n",
              "      <th>부산광역시 동구 좌</th>\n",
              "      <td>2</td>\n",
              "    </tr>\n",
              "    <tr>\n",
              "      <th>부산광역시 동구 초</th>\n",
              "      <td>1</td>\n",
              "    </tr>\n",
              "    <tr>\n",
              "      <th>부산광역시 동래구</th>\n",
              "      <td>8</td>\n",
              "    </tr>\n",
              "    <tr>\n",
              "      <th>부산광역시 부산진구</th>\n",
              "      <td>13</td>\n",
              "    </tr>\n",
              "    <tr>\n",
              "      <th>부산광역시 북구 구</th>\n",
              "      <td>2</td>\n",
              "    </tr>\n",
              "    <tr>\n",
              "      <th>부산광역시 북구 금</th>\n",
              "      <td>3</td>\n",
              "    </tr>\n",
              "    <tr>\n",
              "      <th>부산광역시 북구 덕</th>\n",
              "      <td>1</td>\n",
              "    </tr>\n",
              "    <tr>\n",
              "      <th>부산광역시 북구 만</th>\n",
              "      <td>1</td>\n",
              "    </tr>\n",
              "    <tr>\n",
              "      <th>부산광역시 북구 화</th>\n",
              "      <td>4</td>\n",
              "    </tr>\n",
              "    <tr>\n",
              "      <th>부산광역시 사상구</th>\n",
              "      <td>16</td>\n",
              "    </tr>\n",
              "    <tr>\n",
              "      <th>부산광역시 사하구</th>\n",
              "      <td>9</td>\n",
              "    </tr>\n",
              "    <tr>\n",
              "      <th>부산광역시 서구 부</th>\n",
              "      <td>1</td>\n",
              "    </tr>\n",
              "    <tr>\n",
              "      <th>부산광역시 서구 서</th>\n",
              "      <td>1</td>\n",
              "    </tr>\n",
              "    <tr>\n",
              "      <th>부산광역시 서구 암</th>\n",
              "      <td>0</td>\n",
              "    </tr>\n",
              "    <tr>\n",
              "      <th>부산광역시 서구 토</th>\n",
              "      <td>2</td>\n",
              "    </tr>\n",
              "    <tr>\n",
              "      <th>부산광역시 수영구</th>\n",
              "      <td>2</td>\n",
              "    </tr>\n",
              "    <tr>\n",
              "      <th>부산광역시 연제구</th>\n",
              "      <td>11</td>\n",
              "    </tr>\n",
              "    <tr>\n",
              "      <th>부산광역시 영도구</th>\n",
              "      <td>7</td>\n",
              "    </tr>\n",
              "    <tr>\n",
              "      <th>부산광역시 중구 대</th>\n",
              "      <td>1</td>\n",
              "    </tr>\n",
              "    <tr>\n",
              "      <th>부산광역시 해운대구</th>\n",
              "      <td>10</td>\n",
              "    </tr>\n",
              "  </tbody>\n",
              "</table>\n",
              "</div>"
            ],
            "text/plain": [
              "            급속충전기(대)\n",
              "지역                  \n",
              "경기도 오산시 부산         4\n",
              "부산 해운대구 우동         2\n",
              "부산광역시 강서구         11\n",
              "부산광역시 금정구          8\n",
              "부산광역시 기장군          7\n",
              "부산광역시 남구 대         4\n",
              "부산광역시 남구 문         0\n",
              "부산광역시 남구 용         4\n",
              "부산광역시 동구 범         0\n",
              "부산광역시 동구 좌         2\n",
              "부산광역시 동구 초         1\n",
              "부산광역시 동래구          8\n",
              "부산광역시 부산진구        13\n",
              "부산광역시 북구 구         2\n",
              "부산광역시 북구 금         3\n",
              "부산광역시 북구 덕         1\n",
              "부산광역시 북구 만         1\n",
              "부산광역시 북구 화         4\n",
              "부산광역시 사상구         16\n",
              "부산광역시 사하구          9\n",
              "부산광역시 서구 부         1\n",
              "부산광역시 서구 서         1\n",
              "부산광역시 서구 암         0\n",
              "부산광역시 서구 토         2\n",
              "부산광역시 수영구          2\n",
              "부산광역시 연제구         11\n",
              "부산광역시 영도구          7\n",
              "부산광역시 중구 대         1\n",
              "부산광역시 해운대구        10"
            ]
          },
          "metadata": {
            "tags": []
          },
          "execution_count": 129
        }
      ]
    },
    {
      "cell_type": "code",
      "metadata": {
        "colab": {
          "base_uri": "https://localhost:8080/",
          "height": 545
        },
        "id": "s8SygLdstkxu",
        "outputId": "01a290cb-c20c-459c-d601-85c67469aaf5"
      },
      "source": [
        "#부산광역시 구 = ['강서구', '금정구', '남구', '동구', '동래구', '부산진구', '북구', '사상구', '사하구', '서구', '수영구', '연제구', '영도구', '중구', '해운대구'] \n",
        "#부산광역시 군 = ['기장군']\n",
        "\n",
        "강서구 = df['지역'].str.contains('강서구', na = False)\n",
        "subset_강서구 = df[강서구]\n",
        "\n",
        "부산_fast1 = subset_강서구['급속충전기(대)'].astype(int).sum()\n",
        "부산_slow1 = subset_강서구['완속충전기(대)'].astype(int).sum()\n",
        "\n",
        "new14.loc[1] = ['부산광역시', '강서구',len(df[강서구]), 부산_fast1, 부산_slow1]\n",
        "\n",
        "금정구 = df['지역'].str.contains('금정', na = False)\n",
        "subset_금정구 = df[금정구]\n",
        "\n",
        "부산_fast2 = subset_금정구['급속충전기(대)'].astype(int).sum()\n",
        "부산_slow2 = subset_금정구['완속충전기(대)'].astype(int).sum()\n",
        "\n",
        "new14.loc[2] = ['부산광역시', '금정구',len(df[금정구]), 부산_fast2, 부산_slow2]\n",
        "\n",
        "남구 = df['지역'].str.contains('남구', na = False)\n",
        "subset_남구 = df[남구]\n",
        "\n",
        "부산_fast3 = subset_남구['급속충전기(대)'].astype(int).sum()\n",
        "부산_slow3 = subset_남구['완속충전기(대)'].astype(int).sum()\n",
        "\n",
        "new14.loc[3] = ['부산광역시', '남구',len(df[남구]), 부산_fast3, 부산_slow3]\n",
        "\n",
        "동구 = df['지역'].str.contains('동구', na = False)\n",
        "subset_동구 = df[동구]\n",
        "\n",
        "부산_fast4 = subset_동구['급속충전기(대)'].astype(int).sum()\n",
        "부산_slow4 = subset_동구['완속충전기(대)'].astype(int).sum()\n",
        "\n",
        "new14.loc[4] = ['부산광역시', '동구',len(df[동구]), 부산_fast4, 부산_slow4]\n",
        "\n",
        "동래구 = df['지역'].str.contains('동래구', na = False)\n",
        "subset_동래구 = df[동래구]\n",
        "\n",
        "부산_fast5 = subset_동래구['급속충전기(대)'].astype(int).sum()\n",
        "부산_slow5 = subset_동래구['완속충전기(대)'].astype(int).sum()\n",
        "\n",
        "new14.loc[5] = ['부산광역시', '동래구',len(df[동래구]), 부산_fast5, 부산_slow5]\n",
        "\n",
        "부산진구 = df['지역'].str.contains('부산진구', na = False)\n",
        "subset_부산진구 = df[부산진구]\n",
        "\n",
        "부산_fast6 = subset_부산진구['급속충전기(대)'].astype(int).sum()\n",
        "부산_slow6 = subset_부산진구['완속충전기(대)'].astype(int).sum()\n",
        "\n",
        "new14.loc[6] = ['부산광역시', '부산진구',len(df[부산진구]), 부산_fast6, 부산_slow6]\n",
        "\n",
        "북구 = df['지역'].str.contains('북구', na = False)\n",
        "subset_북구 = df[북구]\n",
        "\n",
        "부산_fast7 = subset_북구['급속충전기(대)'].astype(int).sum()\n",
        "부산_slow7 = subset_북구['완속충전기(대)'].astype(int).sum()\n",
        "\n",
        "new14.loc[7] = ['부산광역시', '북구',len(df[북구]), 부산_fast7, 부산_slow7]\n",
        "\n",
        "사상구 = df['지역'].str.contains('사상구', na = False)\n",
        "subset_사상구 = df[사상구]\n",
        "\n",
        "부산_fast8 = subset_사상구['급속충전기(대)'].astype(int).sum()\n",
        "부산_slow8 = subset_사상구['완속충전기(대)'].astype(int).sum()\n",
        "\n",
        "new14.loc[8] = ['부산광역시', '사상구',len(df[사상구]), 부산_fast8, 부산_slow8]\n",
        "\n",
        "사하구 = df['지역'].str.contains('사하구', na = False)\n",
        "subset_사하구 = df[사하구]\n",
        "\n",
        "부산_fast9 = subset_사하구['급속충전기(대)'].astype(int).sum()\n",
        "부산_slow9 = subset_사하구['완속충전기(대)'].astype(int).sum()\n",
        "\n",
        "new14.loc[9] = ['부산광역시', '사하구',len(df[사하구]), 부산_fast9, 부산_slow9]\n",
        "\n",
        "# 강서구의 서구와 중복되기에 강서구 만큼 제외\n",
        "서구 = df['지역'].str.contains('서구', na = False)\n",
        "subset_서구 = df[서구]\n",
        "\n",
        "부산_fast10 = subset_서구['급속충전기(대)'].astype(int).sum()\n",
        "부산_slow10 = subset_서구['완속충전기(대)'].astype(int).sum()\n",
        "\n",
        "new14.loc[10] = ['부산광역시', '서구',len(df[서구])-len(df[강서구]), 부산_fast10-부산_fast1, 부산_slow10-부산_slow1]\n",
        "\n",
        "수영구 = df['지역'].str.contains('수영구', na = False)\n",
        "subset_수영구 = df[수영구]\n",
        "\n",
        "부산_fast11 = subset_수영구['급속충전기(대)'].astype(int).sum()\n",
        "부산_slow11 = subset_수영구['완속충전기(대)'].astype(int).sum()\n",
        "\n",
        "new14.loc[11] = ['부산광역시', '수영구',len(df[수영구]), 부산_fast11, 부산_slow11]\n",
        "\n",
        "연제구 = df['지역'].str.contains('연제', na = False)\n",
        "subset_연제구 = df[연제구]\n",
        "\n",
        "부산_fast12 = subset_연제구['급속충전기(대)'].astype(int).sum()\n",
        "부산_slow12 = subset_연제구['완속충전기(대)'].astype(int).sum()\n",
        "\n",
        "new14.loc[12] = ['부산광역시', '연제구',len(df[연제구]), 부산_fast12, 부산_slow12]\n",
        "\n",
        "영도구 = df['지역'].str.contains('영도구', na = False)\n",
        "subset_영도구 = df[영도구]\n",
        "\n",
        "부산_fast13 = subset_영도구['급속충전기(대)'].astype(int).sum()\n",
        "부산_slow13 = subset_영도구['완속충전기(대)'].astype(int).sum()\n",
        "\n",
        "new14.loc[13] = ['부산광역시', '영도구',len(df[영도구]), 부산_fast13, 부산_slow13]\n",
        "\n",
        "중구 = df['지역'].str.contains('중구', na = False)\n",
        "subset_중구 = df[중구]\n",
        "\n",
        "부산_fast14 = subset_중구['급속충전기(대)'].astype(int).sum()\n",
        "부산_slow14 = subset_중구['완속충전기(대)'].astype(int).sum()\n",
        "\n",
        "new14.loc[14] = ['부산광역시', '중구',len(df[중구]), 부산_fast14, 부산_slow14]\n",
        "\n",
        "해운대구 = df['지역'].str.contains('해운대구', na = False)\n",
        "subset_해운대구 = df[해운대구]\n",
        "\n",
        "부산_fast15 = subset_해운대구['급속충전기(대)'].astype(int).sum()\n",
        "부산_slow15 = subset_해운대구['완속충전기(대)'].astype(int).sum()\n",
        "\n",
        "new14.loc[15] = ['부산광역시', '해운대구',len(df[해운대구]), 부산_fast15, 부산_slow15]\n",
        "\n",
        "기장군 = df['지역'].str.contains('기장군', na = False)\n",
        "subset_기장군 = df[기장군]\n",
        "\n",
        "부산_fast16 = subset_기장군['급속충전기(대)'].astype(int).sum()\n",
        "부산_slow16 = subset_기장군['완속충전기(대)'].astype(int).sum()\n",
        "\n",
        "new14.loc[16] = ['부산광역시', '기장군',len(df[기장군]), 부산_fast16, 부산_slow16]\n",
        "\n",
        "new14"
      ],
      "execution_count": null,
      "outputs": [
        {
          "output_type": "execute_result",
          "data": {
            "text/html": [
              "<div>\n",
              "<style scoped>\n",
              "    .dataframe tbody tr th:only-of-type {\n",
              "        vertical-align: middle;\n",
              "    }\n",
              "\n",
              "    .dataframe tbody tr th {\n",
              "        vertical-align: top;\n",
              "    }\n",
              "\n",
              "    .dataframe thead th {\n",
              "        text-align: right;\n",
              "    }\n",
              "</style>\n",
              "<table border=\"1\" class=\"dataframe\">\n",
              "  <thead>\n",
              "    <tr style=\"text-align: right;\">\n",
              "      <th></th>\n",
              "      <th>행정도시</th>\n",
              "      <th>시도</th>\n",
              "      <th>위치수</th>\n",
              "      <th>급속</th>\n",
              "      <th>완속</th>\n",
              "    </tr>\n",
              "  </thead>\n",
              "  <tbody>\n",
              "    <tr>\n",
              "      <th>1</th>\n",
              "      <td>부산광역시</td>\n",
              "      <td>강서구</td>\n",
              "      <td>10</td>\n",
              "      <td>11</td>\n",
              "      <td>18</td>\n",
              "    </tr>\n",
              "    <tr>\n",
              "      <th>2</th>\n",
              "      <td>부산광역시</td>\n",
              "      <td>금정구</td>\n",
              "      <td>11</td>\n",
              "      <td>8</td>\n",
              "      <td>13</td>\n",
              "    </tr>\n",
              "    <tr>\n",
              "      <th>3</th>\n",
              "      <td>부산광역시</td>\n",
              "      <td>남구</td>\n",
              "      <td>8</td>\n",
              "      <td>8</td>\n",
              "      <td>7</td>\n",
              "    </tr>\n",
              "    <tr>\n",
              "      <th>4</th>\n",
              "      <td>부산광역시</td>\n",
              "      <td>동구</td>\n",
              "      <td>4</td>\n",
              "      <td>3</td>\n",
              "      <td>2</td>\n",
              "    </tr>\n",
              "    <tr>\n",
              "      <th>5</th>\n",
              "      <td>부산광역시</td>\n",
              "      <td>동래구</td>\n",
              "      <td>9</td>\n",
              "      <td>8</td>\n",
              "      <td>16</td>\n",
              "    </tr>\n",
              "    <tr>\n",
              "      <th>6</th>\n",
              "      <td>부산광역시</td>\n",
              "      <td>부산진구</td>\n",
              "      <td>15</td>\n",
              "      <td>13</td>\n",
              "      <td>32</td>\n",
              "    </tr>\n",
              "    <tr>\n",
              "      <th>7</th>\n",
              "      <td>부산광역시</td>\n",
              "      <td>북구</td>\n",
              "      <td>10</td>\n",
              "      <td>11</td>\n",
              "      <td>18</td>\n",
              "    </tr>\n",
              "    <tr>\n",
              "      <th>8</th>\n",
              "      <td>부산광역시</td>\n",
              "      <td>사상구</td>\n",
              "      <td>18</td>\n",
              "      <td>16</td>\n",
              "      <td>21</td>\n",
              "    </tr>\n",
              "    <tr>\n",
              "      <th>9</th>\n",
              "      <td>부산광역시</td>\n",
              "      <td>사하구</td>\n",
              "      <td>7</td>\n",
              "      <td>9</td>\n",
              "      <td>14</td>\n",
              "    </tr>\n",
              "    <tr>\n",
              "      <th>10</th>\n",
              "      <td>부산광역시</td>\n",
              "      <td>서구</td>\n",
              "      <td>4</td>\n",
              "      <td>4</td>\n",
              "      <td>14</td>\n",
              "    </tr>\n",
              "    <tr>\n",
              "      <th>11</th>\n",
              "      <td>부산광역시</td>\n",
              "      <td>수영구</td>\n",
              "      <td>3</td>\n",
              "      <td>2</td>\n",
              "      <td>2</td>\n",
              "    </tr>\n",
              "    <tr>\n",
              "      <th>12</th>\n",
              "      <td>부산광역시</td>\n",
              "      <td>연제구</td>\n",
              "      <td>11</td>\n",
              "      <td>11</td>\n",
              "      <td>16</td>\n",
              "    </tr>\n",
              "    <tr>\n",
              "      <th>13</th>\n",
              "      <td>부산광역시</td>\n",
              "      <td>영도구</td>\n",
              "      <td>3</td>\n",
              "      <td>7</td>\n",
              "      <td>4</td>\n",
              "    </tr>\n",
              "    <tr>\n",
              "      <th>14</th>\n",
              "      <td>부산광역시</td>\n",
              "      <td>중구</td>\n",
              "      <td>1</td>\n",
              "      <td>1</td>\n",
              "      <td>0</td>\n",
              "    </tr>\n",
              "    <tr>\n",
              "      <th>15</th>\n",
              "      <td>부산광역시</td>\n",
              "      <td>해운대구</td>\n",
              "      <td>13</td>\n",
              "      <td>12</td>\n",
              "      <td>22</td>\n",
              "    </tr>\n",
              "    <tr>\n",
              "      <th>16</th>\n",
              "      <td>부산광역시</td>\n",
              "      <td>기장군</td>\n",
              "      <td>7</td>\n",
              "      <td>7</td>\n",
              "      <td>6</td>\n",
              "    </tr>\n",
              "  </tbody>\n",
              "</table>\n",
              "</div>"
            ],
            "text/plain": [
              "     행정도시    시도  위치수  급속  완속\n",
              "1   부산광역시   강서구   10  11  18\n",
              "2   부산광역시   금정구   11   8  13\n",
              "3   부산광역시    남구    8   8   7\n",
              "4   부산광역시    동구    4   3   2\n",
              "5   부산광역시   동래구    9   8  16\n",
              "6   부산광역시  부산진구   15  13  32\n",
              "7   부산광역시    북구   10  11  18\n",
              "8   부산광역시   사상구   18  16  21\n",
              "9   부산광역시   사하구    7   9  14\n",
              "10  부산광역시    서구    4   4  14\n",
              "11  부산광역시   수영구    3   2   2\n",
              "12  부산광역시   연제구   11  11  16\n",
              "13  부산광역시   영도구    3   7   4\n",
              "14  부산광역시    중구    1   1   0\n",
              "15  부산광역시  해운대구   13  12  22\n",
              "16  부산광역시   기장군    7   7   6"
            ]
          },
          "metadata": {
            "tags": []
          },
          "execution_count": 130
        }
      ]
    },
    {
      "cell_type": "code",
      "metadata": {
        "colab": {
          "base_uri": "https://localhost:8080/"
        },
        "id": "rHDbnUaTtkxu",
        "outputId": "34338051-5947-494e-ab9c-f97c2050bd61"
      },
      "source": [
        "new14['위치수'].sum()"
      ],
      "execution_count": null,
      "outputs": [
        {
          "output_type": "execute_result",
          "data": {
            "text/plain": [
              "134"
            ]
          },
          "metadata": {
            "tags": []
          },
          "execution_count": 131
        }
      ]
    },
    {
      "cell_type": "code",
      "metadata": {
        "colab": {
          "base_uri": "https://localhost:8080/"
        },
        "id": "_z4lc0PHtkxu",
        "outputId": "358d7f79-416b-4607-916c-cb68e9828847"
      },
      "source": [
        "new14['급속'].sum()"
      ],
      "execution_count": null,
      "outputs": [
        {
          "output_type": "execute_result",
          "data": {
            "text/plain": [
              "131"
            ]
          },
          "metadata": {
            "tags": []
          },
          "execution_count": 132
        }
      ]
    },
    {
      "cell_type": "code",
      "metadata": {
        "colab": {
          "base_uri": "https://localhost:8080/"
        },
        "id": "X-Dv5pvotkxu",
        "outputId": "2c971e2d-b2da-487e-81e6-f978f9bf4b0e"
      },
      "source": [
        "new14['완속'].sum()"
      ],
      "execution_count": null,
      "outputs": [
        {
          "output_type": "execute_result",
          "data": {
            "text/plain": [
              "205"
            ]
          },
          "metadata": {
            "tags": []
          },
          "execution_count": 133
        }
      ]
    },
    {
      "cell_type": "code",
      "metadata": {
        "colab": {
          "base_uri": "https://localhost:8080/"
        },
        "id": "QOKgK58ltkxu",
        "outputId": "d9292013-9b37-4335-adeb-327f751ae6c3"
      },
      "source": [
        "new14['급속'].sum() + new10['완속'].sum()"
      ],
      "execution_count": null,
      "outputs": [
        {
          "output_type": "execute_result",
          "data": {
            "text/plain": [
              "355"
            ]
          },
          "metadata": {
            "tags": []
          },
          "execution_count": 134
        }
      ]
    },
    {
      "cell_type": "markdown",
      "metadata": {
        "id": "Px6lJ0XWcx6d"
      },
      "source": [
        "# 대구광역시"
      ]
    },
    {
      "cell_type": "code",
      "metadata": {
        "id": "Zc9_bgfZy-Gr"
      },
      "source": [
        "col = ['행정도시', '시도', '위치수', '급속', '완속']\n",
        "ind = [1,2,3,4,5]\n",
        "\n",
        "con = [[0, 0, 0, 0, 0], [0, 0, 0, 0, 0],[0, 0, 0, 0, 0], [0, 0, 0, 0, 0], [0, 0, 0, 0, 0]]\n",
        "new15 = pd.DataFrame(con, columns = col, index = ind)"
      ],
      "execution_count": null,
      "outputs": []
    },
    {
      "cell_type": "code",
      "metadata": {
        "colab": {
          "base_uri": "https://localhost:8080/",
          "height": 731
        },
        "id": "pI6tPx7Ay-Gs",
        "outputId": "b452c3f8-3098-4411-b0a6-7b744a2c45a4"
      },
      "source": [
        "df_대구 = df['주소'].str.contains('대구')\n",
        "set_대구 =  df[df_대구]\n",
        "\n",
        "df['지역'] = set_대구['주소'].str.slice(start=0, stop=9)\n",
        "\n",
        "pd.pivot_table(df, index = '지역', values = '급속충전기(대)', aggfunc = 'sum')"
      ],
      "execution_count": null,
      "outputs": [
        {
          "output_type": "execute_result",
          "data": {
            "text/html": [
              "<div>\n",
              "<style scoped>\n",
              "    .dataframe tbody tr th:only-of-type {\n",
              "        vertical-align: middle;\n",
              "    }\n",
              "\n",
              "    .dataframe tbody tr th {\n",
              "        vertical-align: top;\n",
              "    }\n",
              "\n",
              "    .dataframe thead th {\n",
              "        text-align: right;\n",
              "    }\n",
              "</style>\n",
              "<table border=\"1\" class=\"dataframe\">\n",
              "  <thead>\n",
              "    <tr style=\"text-align: right;\">\n",
              "      <th></th>\n",
              "      <th>급속충전기(대)</th>\n",
              "    </tr>\n",
              "    <tr>\n",
              "      <th>지역</th>\n",
              "      <th></th>\n",
              "    </tr>\n",
              "  </thead>\n",
              "  <tbody>\n",
              "    <tr>\n",
              "      <th>대구 남구 대명동</th>\n",
              "      <td>1</td>\n",
              "    </tr>\n",
              "    <tr>\n",
              "      <th>대구 달서구 본동</th>\n",
              "      <td>2</td>\n",
              "    </tr>\n",
              "    <tr>\n",
              "      <th>대구 달서구 성당</th>\n",
              "      <td>1</td>\n",
              "    </tr>\n",
              "    <tr>\n",
              "      <th>대구 달서구 송현</th>\n",
              "      <td>1</td>\n",
              "    </tr>\n",
              "    <tr>\n",
              "      <th>대구 달서구 이곡</th>\n",
              "      <td>2</td>\n",
              "    </tr>\n",
              "    <tr>\n",
              "      <th>대구 달성군 가창</th>\n",
              "      <td>1</td>\n",
              "    </tr>\n",
              "    <tr>\n",
              "      <th>대구 동구 봉무동</th>\n",
              "      <td>2</td>\n",
              "    </tr>\n",
              "    <tr>\n",
              "      <th>대구 동구 신서동</th>\n",
              "      <td>0</td>\n",
              "    </tr>\n",
              "    <tr>\n",
              "      <th>대구 북구 동천동</th>\n",
              "      <td>1</td>\n",
              "    </tr>\n",
              "    <tr>\n",
              "      <th>대구 수성구 매호</th>\n",
              "      <td>0</td>\n",
              "    </tr>\n",
              "    <tr>\n",
              "      <th>대구 수성구 수성</th>\n",
              "      <td>1</td>\n",
              "    </tr>\n",
              "    <tr>\n",
              "      <th>대구광역시 남구</th>\n",
              "      <td>4</td>\n",
              "    </tr>\n",
              "    <tr>\n",
              "      <th>대구광역시 달서구</th>\n",
              "      <td>67</td>\n",
              "    </tr>\n",
              "    <tr>\n",
              "      <th>대구광역시 달성군</th>\n",
              "      <td>19</td>\n",
              "    </tr>\n",
              "    <tr>\n",
              "      <th>대구광역시 동구</th>\n",
              "      <td>35</td>\n",
              "    </tr>\n",
              "    <tr>\n",
              "      <th>대구광역시 북구</th>\n",
              "      <td>42</td>\n",
              "    </tr>\n",
              "    <tr>\n",
              "      <th>대구광역시 서구</th>\n",
              "      <td>6</td>\n",
              "    </tr>\n",
              "    <tr>\n",
              "      <th>대구광역시 수성구</th>\n",
              "      <td>30</td>\n",
              "    </tr>\n",
              "    <tr>\n",
              "      <th>대구광역시 중구</th>\n",
              "      <td>8</td>\n",
              "    </tr>\n",
              "    <tr>\n",
              "      <th>부산 해운대구 우</th>\n",
              "      <td>2</td>\n",
              "    </tr>\n",
              "    <tr>\n",
              "      <th>부산광역시 해운대</th>\n",
              "      <td>10</td>\n",
              "    </tr>\n",
              "  </tbody>\n",
              "</table>\n",
              "</div>"
            ],
            "text/plain": [
              "           급속충전기(대)\n",
              "지역                 \n",
              "대구 남구 대명동         1\n",
              "대구 달서구 본동         2\n",
              "대구 달서구 성당         1\n",
              "대구 달서구 송현         1\n",
              "대구 달서구 이곡         2\n",
              "대구 달성군 가창         1\n",
              "대구 동구 봉무동         2\n",
              "대구 동구 신서동         0\n",
              "대구 북구 동천동         1\n",
              "대구 수성구 매호         0\n",
              "대구 수성구 수성         1\n",
              "대구광역시 남구          4\n",
              "대구광역시 달서구        67\n",
              "대구광역시 달성군        19\n",
              "대구광역시 동구         35\n",
              "대구광역시 북구         42\n",
              "대구광역시 서구          6\n",
              "대구광역시 수성구        30\n",
              "대구광역시 중구          8\n",
              "부산 해운대구 우         2\n",
              "부산광역시 해운대        10"
            ]
          },
          "metadata": {
            "tags": []
          },
          "execution_count": 136
        }
      ]
    },
    {
      "cell_type": "code",
      "metadata": {
        "colab": {
          "base_uri": "https://localhost:8080/",
          "height": 297
        },
        "id": "rRtSBiFpy-Gs",
        "outputId": "8f4e3779-a356-41cc-b004-11889737f327"
      },
      "source": [
        "#대구광역시 구 = ['남구', '달서구', '동구', '북구', '서구', '수성구', '중구']\n",
        "#대구광역시 군 = ['달성군']\n",
        "\n",
        "남구 = df['지역'].str.contains('남구', na = False)\n",
        "subset_남구 = df[남구]\n",
        "\n",
        "대구_fast1 = subset_남구['급속충전기(대)'].astype(int).sum()\n",
        "대구_slow1 = subset_남구['완속충전기(대)'].astype(int).sum()\n",
        "\n",
        "new15.loc[1] = ['대구광역시', '남구',len(df[남구]), 대구_fast1, 대구_slow1]\n",
        "\n",
        "달서구 = df['지역'].str.contains('달서구', na = False)\n",
        "subset_달서구 = df[달서구]\n",
        "\n",
        "대구_fast2 = subset_달서구['급속충전기(대)'].astype(int).sum()\n",
        "대구_slow2 = subset_달서구['완속충전기(대)'].astype(int).sum()\n",
        "\n",
        "new15.loc[2] = ['대구광역시', '달서구',len(df[달서구]), 대구_fast2, 대구_slow2]\n",
        "\n",
        "동구 = df['지역'].str.contains('동구', na = False)\n",
        "subset_동구 = df[동구]\n",
        "\n",
        "대구_fast3 = subset_동구['급속충전기(대)'].astype(int).sum()\n",
        "대구_slow3 = subset_동구['완속충전기(대)'].astype(int).sum()\n",
        "\n",
        "new15.loc[3] = ['대구광역시', '동구',len(df[동구]), 대구_fast3, 대구_slow3]\n",
        "\n",
        "북구 = df['지역'].str.contains('북구', na = False)\n",
        "subset_북구 = df[북구]\n",
        "\n",
        "대구_fast4 = subset_북구['급속충전기(대)'].astype(int).sum()\n",
        "대구_slow4 = subset_북구['완속충전기(대)'].astype(int).sum()\n",
        "\n",
        "new15.loc[4] = ['대구광역시', '북구',len(df[북구]), 대구_fast4, 대구_slow4]\n",
        "\n",
        "# 달서구 안에 서구가 있어 중복을 제거\n",
        "서구 = df['지역'].str.contains('서구', na = False)\n",
        "subset_서구 = df[서구]\n",
        "\n",
        "대구_fast5 = subset_서구['급속충전기(대)'].astype(int).sum()\n",
        "대구_slow5 = subset_서구['완속충전기(대)'].astype(int).sum()\n",
        "\n",
        "new15.loc[5] = ['대구광역시', '서구',len(df[서구])-len(df[달서구]), 대구_fast5-대구_fast2, 대구_slow5-대구_slow2]\n",
        "\n",
        "수성구 = df['지역'].str.contains('수성구', na = False)\n",
        "subset_수성구 = df[수성구]\n",
        "\n",
        "대구_fast6 = subset_수성구['급속충전기(대)'].astype(int).sum()\n",
        "대구_slow6 = subset_수성구['완속충전기(대)'].astype(int).sum()\n",
        "\n",
        "new15.loc[6] = ['대구광역시', '수성구',len(df[수성구]), 대구_fast6, 대구_slow6]\n",
        "\n",
        "중구 = df['지역'].str.contains('중구', na = False)\n",
        "subset_중구 = df[중구]\n",
        "\n",
        "대구_fast7 = subset_중구['급속충전기(대)'].astype(int).sum()\n",
        "대구_slow7 = subset_중구['완속충전기(대)'].astype(int).sum()\n",
        "\n",
        "new15.loc[7] = ['대구광역시', '중구',len(df[중구]), 대구_fast7, 대구_slow7]\n",
        "\n",
        "달성군 = df['지역'].str.contains('달성군', na = False)\n",
        "subset_달성군 = df[달성군]\n",
        "\n",
        "대구_fast8 = subset_달성군['급속충전기(대)'].astype(int).sum()\n",
        "대구_slow8 = subset_달성군['완속충전기(대)'].astype(int).sum()\n",
        "\n",
        "new15.loc[8] = ['대구광역시', '달성군',len(df[달성군]), 대구_fast8, 대구_slow8]\n",
        "\n",
        "new15"
      ],
      "execution_count": null,
      "outputs": [
        {
          "output_type": "execute_result",
          "data": {
            "text/html": [
              "<div>\n",
              "<style scoped>\n",
              "    .dataframe tbody tr th:only-of-type {\n",
              "        vertical-align: middle;\n",
              "    }\n",
              "\n",
              "    .dataframe tbody tr th {\n",
              "        vertical-align: top;\n",
              "    }\n",
              "\n",
              "    .dataframe thead th {\n",
              "        text-align: right;\n",
              "    }\n",
              "</style>\n",
              "<table border=\"1\" class=\"dataframe\">\n",
              "  <thead>\n",
              "    <tr style=\"text-align: right;\">\n",
              "      <th></th>\n",
              "      <th>행정도시</th>\n",
              "      <th>시도</th>\n",
              "      <th>위치수</th>\n",
              "      <th>급속</th>\n",
              "      <th>완속</th>\n",
              "    </tr>\n",
              "  </thead>\n",
              "  <tbody>\n",
              "    <tr>\n",
              "      <th>1</th>\n",
              "      <td>대구광역시</td>\n",
              "      <td>남구</td>\n",
              "      <td>5</td>\n",
              "      <td>5</td>\n",
              "      <td>4</td>\n",
              "    </tr>\n",
              "    <tr>\n",
              "      <th>2</th>\n",
              "      <td>대구광역시</td>\n",
              "      <td>달서구</td>\n",
              "      <td>70</td>\n",
              "      <td>73</td>\n",
              "      <td>115</td>\n",
              "    </tr>\n",
              "    <tr>\n",
              "      <th>3</th>\n",
              "      <td>대구광역시</td>\n",
              "      <td>동구</td>\n",
              "      <td>33</td>\n",
              "      <td>37</td>\n",
              "      <td>56</td>\n",
              "    </tr>\n",
              "    <tr>\n",
              "      <th>4</th>\n",
              "      <td>대구광역시</td>\n",
              "      <td>북구</td>\n",
              "      <td>44</td>\n",
              "      <td>43</td>\n",
              "      <td>67</td>\n",
              "    </tr>\n",
              "    <tr>\n",
              "      <th>5</th>\n",
              "      <td>대구광역시</td>\n",
              "      <td>서구</td>\n",
              "      <td>4</td>\n",
              "      <td>6</td>\n",
              "      <td>9</td>\n",
              "    </tr>\n",
              "    <tr>\n",
              "      <th>6</th>\n",
              "      <td>대구광역시</td>\n",
              "      <td>수성구</td>\n",
              "      <td>41</td>\n",
              "      <td>31</td>\n",
              "      <td>60</td>\n",
              "    </tr>\n",
              "    <tr>\n",
              "      <th>7</th>\n",
              "      <td>대구광역시</td>\n",
              "      <td>중구</td>\n",
              "      <td>10</td>\n",
              "      <td>8</td>\n",
              "      <td>21</td>\n",
              "    </tr>\n",
              "    <tr>\n",
              "      <th>8</th>\n",
              "      <td>대구광역시</td>\n",
              "      <td>달성군</td>\n",
              "      <td>26</td>\n",
              "      <td>20</td>\n",
              "      <td>61</td>\n",
              "    </tr>\n",
              "  </tbody>\n",
              "</table>\n",
              "</div>"
            ],
            "text/plain": [
              "    행정도시   시도  위치수  급속   완속\n",
              "1  대구광역시   남구    5   5    4\n",
              "2  대구광역시  달서구   70  73  115\n",
              "3  대구광역시   동구   33  37   56\n",
              "4  대구광역시   북구   44  43   67\n",
              "5  대구광역시   서구    4   6    9\n",
              "6  대구광역시  수성구   41  31   60\n",
              "7  대구광역시   중구   10   8   21\n",
              "8  대구광역시  달성군   26  20   61"
            ]
          },
          "metadata": {
            "tags": []
          },
          "execution_count": 137
        }
      ]
    },
    {
      "cell_type": "code",
      "metadata": {
        "colab": {
          "base_uri": "https://localhost:8080/"
        },
        "id": "YmFHJ1uhy-Gs",
        "outputId": "4dce8e9b-b8f6-4cbc-ca35-8313a0abf0ca"
      },
      "source": [
        "new15['위치수'].sum()"
      ],
      "execution_count": null,
      "outputs": [
        {
          "output_type": "execute_result",
          "data": {
            "text/plain": [
              "233"
            ]
          },
          "metadata": {
            "tags": []
          },
          "execution_count": 138
        }
      ]
    },
    {
      "cell_type": "code",
      "metadata": {
        "colab": {
          "base_uri": "https://localhost:8080/"
        },
        "id": "5lkJ2UPSy-Gs",
        "outputId": "fd70678c-8782-41c2-ec64-28d7f09e84b1"
      },
      "source": [
        "new15['급속'].sum()"
      ],
      "execution_count": null,
      "outputs": [
        {
          "output_type": "execute_result",
          "data": {
            "text/plain": [
              "223"
            ]
          },
          "metadata": {
            "tags": []
          },
          "execution_count": 139
        }
      ]
    },
    {
      "cell_type": "code",
      "metadata": {
        "colab": {
          "base_uri": "https://localhost:8080/"
        },
        "id": "9v8xgzVmy-Gs",
        "outputId": "9ac630c0-9b8e-4ff2-9f0b-2be61b17b438"
      },
      "source": [
        "new15['완속'].sum()"
      ],
      "execution_count": null,
      "outputs": [
        {
          "output_type": "execute_result",
          "data": {
            "text/plain": [
              "393"
            ]
          },
          "metadata": {
            "tags": []
          },
          "execution_count": 140
        }
      ]
    },
    {
      "cell_type": "code",
      "metadata": {
        "colab": {
          "base_uri": "https://localhost:8080/"
        },
        "id": "EM48xKXIy-Gs",
        "outputId": "96bb37cf-3d91-4a38-8cf4-4f1e1b9c2db9"
      },
      "source": [
        "new15['급속'].sum() + new15['완속'].sum()"
      ],
      "execution_count": null,
      "outputs": [
        {
          "output_type": "execute_result",
          "data": {
            "text/plain": [
              "616"
            ]
          },
          "metadata": {
            "tags": []
          },
          "execution_count": 141
        }
      ]
    },
    {
      "cell_type": "markdown",
      "metadata": {
        "id": "rYvnJ-MCkTqR"
      },
      "source": [
        "# 세종특별자치시"
      ]
    },
    {
      "cell_type": "code",
      "metadata": {
        "id": "xTgbWNVMlK2E"
      },
      "source": [
        "col = ['행정도시', '시도', '위치수', '급속', '완속']\n",
        "ind = [1]\n",
        "\n",
        "con = [[0, 0, 0, 0, 0]]\n",
        "new16 = pd.DataFrame(con, columns = col, index = ind)"
      ],
      "execution_count": null,
      "outputs": []
    },
    {
      "cell_type": "code",
      "metadata": {
        "colab": {
          "base_uri": "https://localhost:8080/",
          "height": 514
        },
        "id": "ADII9IHVlK2E",
        "outputId": "11b0d84b-bedf-4e93-b0a6-0d9a8bf5d9f9"
      },
      "source": [
        "df_세종 = df['주소'].str.contains('세종특')\n",
        "set_세종 =  df[df_세종]\n",
        "\n",
        "df['지역'] = set_세종['주소'].str.slice(start=0, stop=9)\n",
        "\n",
        "pd.pivot_table(df, index = '지역', values = '급속충전기(대)', aggfunc = 'sum')"
      ],
      "execution_count": null,
      "outputs": [
        {
          "output_type": "execute_result",
          "data": {
            "text/html": [
              "<div>\n",
              "<style scoped>\n",
              "    .dataframe tbody tr th:only-of-type {\n",
              "        vertical-align: middle;\n",
              "    }\n",
              "\n",
              "    .dataframe tbody tr th {\n",
              "        vertical-align: top;\n",
              "    }\n",
              "\n",
              "    .dataframe thead th {\n",
              "        text-align: right;\n",
              "    }\n",
              "</style>\n",
              "<table border=\"1\" class=\"dataframe\">\n",
              "  <thead>\n",
              "    <tr style=\"text-align: right;\">\n",
              "      <th></th>\n",
              "      <th>급속충전기(대)</th>\n",
              "    </tr>\n",
              "    <tr>\n",
              "      <th>지역</th>\n",
              "      <th></th>\n",
              "    </tr>\n",
              "  </thead>\n",
              "  <tbody>\n",
              "    <tr>\n",
              "      <th>세종특별자치시 고</th>\n",
              "      <td>12</td>\n",
              "    </tr>\n",
              "    <tr>\n",
              "      <th>세종특별자치시 나</th>\n",
              "      <td>4</td>\n",
              "    </tr>\n",
              "    <tr>\n",
              "      <th>세종특별자치시 대</th>\n",
              "      <td>4</td>\n",
              "    </tr>\n",
              "    <tr>\n",
              "      <th>세종특별자치시 도</th>\n",
              "      <td>8</td>\n",
              "    </tr>\n",
              "    <tr>\n",
              "      <th>세종특별자치시 보</th>\n",
              "      <td>5</td>\n",
              "    </tr>\n",
              "    <tr>\n",
              "      <th>세종특별자치시 새</th>\n",
              "      <td>3</td>\n",
              "    </tr>\n",
              "    <tr>\n",
              "      <th>세종특별자치시 소</th>\n",
              "      <td>2</td>\n",
              "    </tr>\n",
              "    <tr>\n",
              "      <th>세종특별자치시 아</th>\n",
              "      <td>11</td>\n",
              "    </tr>\n",
              "    <tr>\n",
              "      <th>세종특별자치시 어</th>\n",
              "      <td>2</td>\n",
              "    </tr>\n",
              "    <tr>\n",
              "      <th>세종특별자치시 연</th>\n",
              "      <td>1</td>\n",
              "    </tr>\n",
              "    <tr>\n",
              "      <th>세종특별자치시 절</th>\n",
              "      <td>1</td>\n",
              "    </tr>\n",
              "    <tr>\n",
              "      <th>세종특별자치시 조</th>\n",
              "      <td>4</td>\n",
              "    </tr>\n",
              "    <tr>\n",
              "      <th>세종특별자치시 종</th>\n",
              "      <td>9</td>\n",
              "    </tr>\n",
              "    <tr>\n",
              "      <th>세종특별자치시 한</th>\n",
              "      <td>3</td>\n",
              "    </tr>\n",
              "  </tbody>\n",
              "</table>\n",
              "</div>"
            ],
            "text/plain": [
              "           급속충전기(대)\n",
              "지역                 \n",
              "세종특별자치시 고        12\n",
              "세종특별자치시 나         4\n",
              "세종특별자치시 대         4\n",
              "세종특별자치시 도         8\n",
              "세종특별자치시 보         5\n",
              "세종특별자치시 새         3\n",
              "세종특별자치시 소         2\n",
              "세종특별자치시 아        11\n",
              "세종특별자치시 어         2\n",
              "세종특별자치시 연         1\n",
              "세종특별자치시 절         1\n",
              "세종특별자치시 조         4\n",
              "세종특별자치시 종         9\n",
              "세종특별자치시 한         3"
            ]
          },
          "metadata": {
            "tags": []
          },
          "execution_count": 143
        }
      ]
    },
    {
      "cell_type": "code",
      "metadata": {
        "colab": {
          "base_uri": "https://localhost:8080/",
          "height": 80
        },
        "id": "u4JSiEDylK2E",
        "outputId": "a3d197c0-e421-4436-e370-a18f4ef84999"
      },
      "source": [
        "#세종특별자치 = ['세종시']\n",
        "\n",
        "df_세종 = df['주소'].str.contains('세종')\n",
        "set_세종 =  df[df_세종]\n",
        "\n",
        "df['지역'] = set_세종['주소'].str.slice(start=0, stop=9)\n",
        "\n",
        "세종시 = df['지역'].str.contains('세종', na = False)\n",
        "subset_세종시 = df[세종시]\n",
        "\n",
        "세종_fast1 = subset_세종시['급속충전기(대)'].astype(int).sum()\n",
        "세종_slow1 = subset_세종시['완속충전기(대)'].astype(int).sum()\n",
        "\n",
        "new16.loc[1] = ['세종특별자치시', '세종시',len(df[세종시]), 세종_fast1, 세종_slow1]\n",
        "\n",
        "\n",
        "new16"
      ],
      "execution_count": null,
      "outputs": [
        {
          "output_type": "execute_result",
          "data": {
            "text/html": [
              "<div>\n",
              "<style scoped>\n",
              "    .dataframe tbody tr th:only-of-type {\n",
              "        vertical-align: middle;\n",
              "    }\n",
              "\n",
              "    .dataframe tbody tr th {\n",
              "        vertical-align: top;\n",
              "    }\n",
              "\n",
              "    .dataframe thead th {\n",
              "        text-align: right;\n",
              "    }\n",
              "</style>\n",
              "<table border=\"1\" class=\"dataframe\">\n",
              "  <thead>\n",
              "    <tr style=\"text-align: right;\">\n",
              "      <th></th>\n",
              "      <th>행정도시</th>\n",
              "      <th>시도</th>\n",
              "      <th>위치수</th>\n",
              "      <th>급속</th>\n",
              "      <th>완속</th>\n",
              "    </tr>\n",
              "  </thead>\n",
              "  <tbody>\n",
              "    <tr>\n",
              "      <th>1</th>\n",
              "      <td>세종특별자치시</td>\n",
              "      <td>세종시</td>\n",
              "      <td>63</td>\n",
              "      <td>69</td>\n",
              "      <td>124</td>\n",
              "    </tr>\n",
              "  </tbody>\n",
              "</table>\n",
              "</div>"
            ],
            "text/plain": [
              "      행정도시   시도  위치수  급속   완속\n",
              "1  세종특별자치시  세종시   63  69  124"
            ]
          },
          "metadata": {
            "tags": []
          },
          "execution_count": 144
        }
      ]
    },
    {
      "cell_type": "code",
      "metadata": {
        "colab": {
          "base_uri": "https://localhost:8080/"
        },
        "id": "ToNWDii2lK2E",
        "outputId": "65f74b84-c792-40f9-a576-b25c14b6e745"
      },
      "source": [
        "new16['위치수'].sum()"
      ],
      "execution_count": null,
      "outputs": [
        {
          "output_type": "execute_result",
          "data": {
            "text/plain": [
              "63"
            ]
          },
          "metadata": {
            "tags": []
          },
          "execution_count": 145
        }
      ]
    },
    {
      "cell_type": "code",
      "metadata": {
        "colab": {
          "base_uri": "https://localhost:8080/"
        },
        "id": "NvbPeEW4lK2E",
        "outputId": "8eac1652-e49f-4698-8e36-3851154a0df0"
      },
      "source": [
        "new16['급속'].sum()"
      ],
      "execution_count": null,
      "outputs": [
        {
          "output_type": "execute_result",
          "data": {
            "text/plain": [
              "69"
            ]
          },
          "metadata": {
            "tags": []
          },
          "execution_count": 146
        }
      ]
    },
    {
      "cell_type": "code",
      "metadata": {
        "colab": {
          "base_uri": "https://localhost:8080/"
        },
        "id": "Jgr4EtuGlK2E",
        "outputId": "99104581-b26f-498a-cabf-9d6cf9f14333"
      },
      "source": [
        "new16['완속'].sum()"
      ],
      "execution_count": null,
      "outputs": [
        {
          "output_type": "execute_result",
          "data": {
            "text/plain": [
              "124"
            ]
          },
          "metadata": {
            "tags": []
          },
          "execution_count": 147
        }
      ]
    },
    {
      "cell_type": "code",
      "metadata": {
        "colab": {
          "base_uri": "https://localhost:8080/"
        },
        "id": "9oM2cXf7lK2F",
        "outputId": "c1b562a0-8ec6-43d6-bca2-e1a2b118e1f8"
      },
      "source": [
        "new16['급속'].sum() + new16['완속'].sum()"
      ],
      "execution_count": null,
      "outputs": [
        {
          "output_type": "execute_result",
          "data": {
            "text/plain": [
              "193"
            ]
          },
          "metadata": {
            "tags": []
          },
          "execution_count": 148
        }
      ]
    },
    {
      "cell_type": "markdown",
      "metadata": {
        "id": "-NQbAE9VcPEs"
      },
      "source": [
        "# 통합본"
      ]
    },
    {
      "cell_type": "code",
      "metadata": {
        "colab": {
          "base_uri": "https://localhost:8080/",
          "height": 419
        },
        "id": "TUGCHo1vnlr3",
        "outputId": "dd4a7935-a7bd-4b50-e9f2-e24b9ec31291"
      },
      "source": [
        "# 위 지역별 충전소 개수를 통합해 전국 충전소 개수를 생성.\n",
        "ALL = pd.concat([new,new1,new2,new3,new4,new5,new6,new7,new8,new9])\n",
        "ALL"
      ],
      "execution_count": null,
      "outputs": [
        {
          "output_type": "execute_result",
          "data": {
            "text/html": [
              "<div>\n",
              "<style scoped>\n",
              "    .dataframe tbody tr th:only-of-type {\n",
              "        vertical-align: middle;\n",
              "    }\n",
              "\n",
              "    .dataframe tbody tr th {\n",
              "        vertical-align: top;\n",
              "    }\n",
              "\n",
              "    .dataframe thead th {\n",
              "        text-align: right;\n",
              "    }\n",
              "</style>\n",
              "<table border=\"1\" class=\"dataframe\">\n",
              "  <thead>\n",
              "    <tr style=\"text-align: right;\">\n",
              "      <th></th>\n",
              "      <th>행정도시</th>\n",
              "      <th>시도</th>\n",
              "      <th>위치수</th>\n",
              "      <th>급속</th>\n",
              "      <th>완속</th>\n",
              "    </tr>\n",
              "  </thead>\n",
              "  <tbody>\n",
              "    <tr>\n",
              "      <th>1</th>\n",
              "      <td>서울특별시</td>\n",
              "      <td>관악구</td>\n",
              "      <td>13</td>\n",
              "      <td>9</td>\n",
              "      <td>14</td>\n",
              "    </tr>\n",
              "    <tr>\n",
              "      <th>2</th>\n",
              "      <td>서울특별시</td>\n",
              "      <td>강남구</td>\n",
              "      <td>53</td>\n",
              "      <td>37</td>\n",
              "      <td>81</td>\n",
              "    </tr>\n",
              "    <tr>\n",
              "      <th>3</th>\n",
              "      <td>서울특별시</td>\n",
              "      <td>강동구</td>\n",
              "      <td>32</td>\n",
              "      <td>26</td>\n",
              "      <td>56</td>\n",
              "    </tr>\n",
              "    <tr>\n",
              "      <th>4</th>\n",
              "      <td>서울특별시</td>\n",
              "      <td>강북구</td>\n",
              "      <td>8</td>\n",
              "      <td>8</td>\n",
              "      <td>16</td>\n",
              "    </tr>\n",
              "    <tr>\n",
              "      <th>5</th>\n",
              "      <td>서울특별시</td>\n",
              "      <td>광진구</td>\n",
              "      <td>12</td>\n",
              "      <td>8</td>\n",
              "      <td>16</td>\n",
              "    </tr>\n",
              "    <tr>\n",
              "      <th>...</th>\n",
              "      <td>...</td>\n",
              "      <td>...</td>\n",
              "      <td>...</td>\n",
              "      <td>...</td>\n",
              "      <td>...</td>\n",
              "    </tr>\n",
              "    <tr>\n",
              "      <th>16</th>\n",
              "      <td>경상북도</td>\n",
              "      <td>의성군</td>\n",
              "      <td>4</td>\n",
              "      <td>4</td>\n",
              "      <td>3</td>\n",
              "    </tr>\n",
              "    <tr>\n",
              "      <th>17</th>\n",
              "      <td>경상북도</td>\n",
              "      <td>청도군</td>\n",
              "      <td>2</td>\n",
              "      <td>2</td>\n",
              "      <td>0</td>\n",
              "    </tr>\n",
              "    <tr>\n",
              "      <th>18</th>\n",
              "      <td>경상북도</td>\n",
              "      <td>청송군</td>\n",
              "      <td>2</td>\n",
              "      <td>1</td>\n",
              "      <td>2</td>\n",
              "    </tr>\n",
              "    <tr>\n",
              "      <th>19</th>\n",
              "      <td>경상북도</td>\n",
              "      <td>칠곡군</td>\n",
              "      <td>5</td>\n",
              "      <td>7</td>\n",
              "      <td>9</td>\n",
              "    </tr>\n",
              "    <tr>\n",
              "      <th>20</th>\n",
              "      <td>경상북도</td>\n",
              "      <td>포항시</td>\n",
              "      <td>40</td>\n",
              "      <td>38</td>\n",
              "      <td>31</td>\n",
              "    </tr>\n",
              "  </tbody>\n",
              "</table>\n",
              "<p>182 rows × 5 columns</p>\n",
              "</div>"
            ],
            "text/plain": [
              "     행정도시   시도  위치수  급속  완속\n",
              "1   서울특별시  관악구   13   9  14\n",
              "2   서울특별시  강남구   53  37  81\n",
              "3   서울특별시  강동구   32  26  56\n",
              "4   서울특별시  강북구    8   8  16\n",
              "5   서울특별시  광진구   12   8  16\n",
              "..    ...  ...  ...  ..  ..\n",
              "16   경상북도  의성군    4   4   3\n",
              "17   경상북도  청도군    2   2   0\n",
              "18   경상북도  청송군    2   1   2\n",
              "19   경상북도  칠곡군    5   7   9\n",
              "20   경상북도  포항시   40  38  31\n",
              "\n",
              "[182 rows x 5 columns]"
            ]
          },
          "metadata": {
            "tags": []
          },
          "execution_count": 149
        }
      ]
    },
    {
      "cell_type": "code",
      "metadata": {
        "colab": {
          "base_uri": "https://localhost:8080/",
          "height": 419
        },
        "id": "UG7ZXcQx1uJL",
        "outputId": "34240490-d0d2-4779-c3ce-4dca128f32c2"
      },
      "source": [
        "# concat은 한번에 10개까지 요소만 들어갈 수 있으므로 2번에 나눠서 붙임.\n",
        "ALL = pd.concat([ALL,new10,new11,new12,new13,new14,new15, new16])\n",
        "ALL"
      ],
      "execution_count": null,
      "outputs": [
        {
          "output_type": "execute_result",
          "data": {
            "text/html": [
              "<div>\n",
              "<style scoped>\n",
              "    .dataframe tbody tr th:only-of-type {\n",
              "        vertical-align: middle;\n",
              "    }\n",
              "\n",
              "    .dataframe tbody tr th {\n",
              "        vertical-align: top;\n",
              "    }\n",
              "\n",
              "    .dataframe thead th {\n",
              "        text-align: right;\n",
              "    }\n",
              "</style>\n",
              "<table border=\"1\" class=\"dataframe\">\n",
              "  <thead>\n",
              "    <tr style=\"text-align: right;\">\n",
              "      <th></th>\n",
              "      <th>행정도시</th>\n",
              "      <th>시도</th>\n",
              "      <th>위치수</th>\n",
              "      <th>급속</th>\n",
              "      <th>완속</th>\n",
              "    </tr>\n",
              "  </thead>\n",
              "  <tbody>\n",
              "    <tr>\n",
              "      <th>1</th>\n",
              "      <td>서울특별시</td>\n",
              "      <td>관악구</td>\n",
              "      <td>13</td>\n",
              "      <td>9</td>\n",
              "      <td>14</td>\n",
              "    </tr>\n",
              "    <tr>\n",
              "      <th>2</th>\n",
              "      <td>서울특별시</td>\n",
              "      <td>강남구</td>\n",
              "      <td>53</td>\n",
              "      <td>37</td>\n",
              "      <td>81</td>\n",
              "    </tr>\n",
              "    <tr>\n",
              "      <th>3</th>\n",
              "      <td>서울특별시</td>\n",
              "      <td>강동구</td>\n",
              "      <td>32</td>\n",
              "      <td>26</td>\n",
              "      <td>56</td>\n",
              "    </tr>\n",
              "    <tr>\n",
              "      <th>4</th>\n",
              "      <td>서울특별시</td>\n",
              "      <td>강북구</td>\n",
              "      <td>8</td>\n",
              "      <td>8</td>\n",
              "      <td>16</td>\n",
              "    </tr>\n",
              "    <tr>\n",
              "      <th>5</th>\n",
              "      <td>서울특별시</td>\n",
              "      <td>광진구</td>\n",
              "      <td>12</td>\n",
              "      <td>8</td>\n",
              "      <td>16</td>\n",
              "    </tr>\n",
              "    <tr>\n",
              "      <th>...</th>\n",
              "      <td>...</td>\n",
              "      <td>...</td>\n",
              "      <td>...</td>\n",
              "      <td>...</td>\n",
              "      <td>...</td>\n",
              "    </tr>\n",
              "    <tr>\n",
              "      <th>5</th>\n",
              "      <td>대구광역시</td>\n",
              "      <td>서구</td>\n",
              "      <td>4</td>\n",
              "      <td>6</td>\n",
              "      <td>9</td>\n",
              "    </tr>\n",
              "    <tr>\n",
              "      <th>6</th>\n",
              "      <td>대구광역시</td>\n",
              "      <td>수성구</td>\n",
              "      <td>41</td>\n",
              "      <td>31</td>\n",
              "      <td>60</td>\n",
              "    </tr>\n",
              "    <tr>\n",
              "      <th>7</th>\n",
              "      <td>대구광역시</td>\n",
              "      <td>중구</td>\n",
              "      <td>10</td>\n",
              "      <td>8</td>\n",
              "      <td>21</td>\n",
              "    </tr>\n",
              "    <tr>\n",
              "      <th>8</th>\n",
              "      <td>대구광역시</td>\n",
              "      <td>달성군</td>\n",
              "      <td>26</td>\n",
              "      <td>20</td>\n",
              "      <td>61</td>\n",
              "    </tr>\n",
              "    <tr>\n",
              "      <th>1</th>\n",
              "      <td>세종특별자치시</td>\n",
              "      <td>세종시</td>\n",
              "      <td>63</td>\n",
              "      <td>69</td>\n",
              "      <td>124</td>\n",
              "    </tr>\n",
              "  </tbody>\n",
              "</table>\n",
              "<p>224 rows × 5 columns</p>\n",
              "</div>"
            ],
            "text/plain": [
              "       행정도시   시도  위치수  급속   완속\n",
              "1     서울특별시  관악구   13   9   14\n",
              "2     서울특별시  강남구   53  37   81\n",
              "3     서울특별시  강동구   32  26   56\n",
              "4     서울특별시  강북구    8   8   16\n",
              "5     서울특별시  광진구   12   8   16\n",
              "..      ...  ...  ...  ..  ...\n",
              "5     대구광역시   서구    4   6    9\n",
              "6     대구광역시  수성구   41  31   60\n",
              "7     대구광역시   중구   10   8   21\n",
              "8     대구광역시  달성군   26  20   61\n",
              "1   세종특별자치시  세종시   63  69  124\n",
              "\n",
              "[224 rows x 5 columns]"
            ]
          },
          "metadata": {
            "tags": []
          },
          "execution_count": 150
        }
      ]
    },
    {
      "cell_type": "code",
      "metadata": {
        "colab": {
          "base_uri": "https://localhost:8080/",
          "height": 419
        },
        "id": "9RfovFzz1zhI",
        "outputId": "140a97e0-19f3-419c-b638-c81302a450bf"
      },
      "source": [
        "# 인덱스 초기화.\n",
        "ALL.reset_index(drop = True, inplace = True)\n",
        "ALL"
      ],
      "execution_count": null,
      "outputs": [
        {
          "output_type": "execute_result",
          "data": {
            "text/html": [
              "<div>\n",
              "<style scoped>\n",
              "    .dataframe tbody tr th:only-of-type {\n",
              "        vertical-align: middle;\n",
              "    }\n",
              "\n",
              "    .dataframe tbody tr th {\n",
              "        vertical-align: top;\n",
              "    }\n",
              "\n",
              "    .dataframe thead th {\n",
              "        text-align: right;\n",
              "    }\n",
              "</style>\n",
              "<table border=\"1\" class=\"dataframe\">\n",
              "  <thead>\n",
              "    <tr style=\"text-align: right;\">\n",
              "      <th></th>\n",
              "      <th>행정도시</th>\n",
              "      <th>시도</th>\n",
              "      <th>위치수</th>\n",
              "      <th>급속</th>\n",
              "      <th>완속</th>\n",
              "    </tr>\n",
              "  </thead>\n",
              "  <tbody>\n",
              "    <tr>\n",
              "      <th>0</th>\n",
              "      <td>서울특별시</td>\n",
              "      <td>관악구</td>\n",
              "      <td>13</td>\n",
              "      <td>9</td>\n",
              "      <td>14</td>\n",
              "    </tr>\n",
              "    <tr>\n",
              "      <th>1</th>\n",
              "      <td>서울특별시</td>\n",
              "      <td>강남구</td>\n",
              "      <td>53</td>\n",
              "      <td>37</td>\n",
              "      <td>81</td>\n",
              "    </tr>\n",
              "    <tr>\n",
              "      <th>2</th>\n",
              "      <td>서울특별시</td>\n",
              "      <td>강동구</td>\n",
              "      <td>32</td>\n",
              "      <td>26</td>\n",
              "      <td>56</td>\n",
              "    </tr>\n",
              "    <tr>\n",
              "      <th>3</th>\n",
              "      <td>서울특별시</td>\n",
              "      <td>강북구</td>\n",
              "      <td>8</td>\n",
              "      <td>8</td>\n",
              "      <td>16</td>\n",
              "    </tr>\n",
              "    <tr>\n",
              "      <th>4</th>\n",
              "      <td>서울특별시</td>\n",
              "      <td>광진구</td>\n",
              "      <td>12</td>\n",
              "      <td>8</td>\n",
              "      <td>16</td>\n",
              "    </tr>\n",
              "    <tr>\n",
              "      <th>...</th>\n",
              "      <td>...</td>\n",
              "      <td>...</td>\n",
              "      <td>...</td>\n",
              "      <td>...</td>\n",
              "      <td>...</td>\n",
              "    </tr>\n",
              "    <tr>\n",
              "      <th>219</th>\n",
              "      <td>대구광역시</td>\n",
              "      <td>서구</td>\n",
              "      <td>4</td>\n",
              "      <td>6</td>\n",
              "      <td>9</td>\n",
              "    </tr>\n",
              "    <tr>\n",
              "      <th>220</th>\n",
              "      <td>대구광역시</td>\n",
              "      <td>수성구</td>\n",
              "      <td>41</td>\n",
              "      <td>31</td>\n",
              "      <td>60</td>\n",
              "    </tr>\n",
              "    <tr>\n",
              "      <th>221</th>\n",
              "      <td>대구광역시</td>\n",
              "      <td>중구</td>\n",
              "      <td>10</td>\n",
              "      <td>8</td>\n",
              "      <td>21</td>\n",
              "    </tr>\n",
              "    <tr>\n",
              "      <th>222</th>\n",
              "      <td>대구광역시</td>\n",
              "      <td>달성군</td>\n",
              "      <td>26</td>\n",
              "      <td>20</td>\n",
              "      <td>61</td>\n",
              "    </tr>\n",
              "    <tr>\n",
              "      <th>223</th>\n",
              "      <td>세종특별자치시</td>\n",
              "      <td>세종시</td>\n",
              "      <td>63</td>\n",
              "      <td>69</td>\n",
              "      <td>124</td>\n",
              "    </tr>\n",
              "  </tbody>\n",
              "</table>\n",
              "<p>224 rows × 5 columns</p>\n",
              "</div>"
            ],
            "text/plain": [
              "        행정도시   시도  위치수  급속   완속\n",
              "0      서울특별시  관악구   13   9   14\n",
              "1      서울특별시  강남구   53  37   81\n",
              "2      서울특별시  강동구   32  26   56\n",
              "3      서울특별시  강북구    8   8   16\n",
              "4      서울특별시  광진구   12   8   16\n",
              "..       ...  ...  ...  ..  ...\n",
              "219    대구광역시   서구    4   6    9\n",
              "220    대구광역시  수성구   41  31   60\n",
              "221    대구광역시   중구   10   8   21\n",
              "222    대구광역시  달성군   26  20   61\n",
              "223  세종특별자치시  세종시   63  69  124\n",
              "\n",
              "[224 rows x 5 columns]"
            ]
          },
          "metadata": {
            "tags": []
          },
          "execution_count": 151
        }
      ]
    },
    {
      "cell_type": "code",
      "metadata": {
        "colab": {
          "base_uri": "https://localhost:8080/",
          "height": 204
        },
        "id": "g4DrCDBDEJ0F",
        "outputId": "d5de4b35-348c-4598-d4bc-b6246fefd53a"
      },
      "source": [
        "ALL.head()"
      ],
      "execution_count": null,
      "outputs": [
        {
          "output_type": "execute_result",
          "data": {
            "text/html": [
              "<div>\n",
              "<style scoped>\n",
              "    .dataframe tbody tr th:only-of-type {\n",
              "        vertical-align: middle;\n",
              "    }\n",
              "\n",
              "    .dataframe tbody tr th {\n",
              "        vertical-align: top;\n",
              "    }\n",
              "\n",
              "    .dataframe thead th {\n",
              "        text-align: right;\n",
              "    }\n",
              "</style>\n",
              "<table border=\"1\" class=\"dataframe\">\n",
              "  <thead>\n",
              "    <tr style=\"text-align: right;\">\n",
              "      <th></th>\n",
              "      <th>행정도시</th>\n",
              "      <th>시도</th>\n",
              "      <th>위치수</th>\n",
              "      <th>급속</th>\n",
              "      <th>완속</th>\n",
              "    </tr>\n",
              "  </thead>\n",
              "  <tbody>\n",
              "    <tr>\n",
              "      <th>0</th>\n",
              "      <td>서울특별시</td>\n",
              "      <td>관악구</td>\n",
              "      <td>13</td>\n",
              "      <td>9</td>\n",
              "      <td>14</td>\n",
              "    </tr>\n",
              "    <tr>\n",
              "      <th>1</th>\n",
              "      <td>서울특별시</td>\n",
              "      <td>강남구</td>\n",
              "      <td>53</td>\n",
              "      <td>37</td>\n",
              "      <td>81</td>\n",
              "    </tr>\n",
              "    <tr>\n",
              "      <th>2</th>\n",
              "      <td>서울특별시</td>\n",
              "      <td>강동구</td>\n",
              "      <td>32</td>\n",
              "      <td>26</td>\n",
              "      <td>56</td>\n",
              "    </tr>\n",
              "    <tr>\n",
              "      <th>3</th>\n",
              "      <td>서울특별시</td>\n",
              "      <td>강북구</td>\n",
              "      <td>8</td>\n",
              "      <td>8</td>\n",
              "      <td>16</td>\n",
              "    </tr>\n",
              "    <tr>\n",
              "      <th>4</th>\n",
              "      <td>서울특별시</td>\n",
              "      <td>광진구</td>\n",
              "      <td>12</td>\n",
              "      <td>8</td>\n",
              "      <td>16</td>\n",
              "    </tr>\n",
              "  </tbody>\n",
              "</table>\n",
              "</div>"
            ],
            "text/plain": [
              "    행정도시   시도  위치수  급속  완속\n",
              "0  서울특별시  관악구   13   9  14\n",
              "1  서울특별시  강남구   53  37  81\n",
              "2  서울특별시  강동구   32  26  56\n",
              "3  서울특별시  강북구    8   8  16\n",
              "4  서울특별시  광진구   12   8  16"
            ]
          },
          "metadata": {
            "tags": []
          },
          "execution_count": 152
        }
      ]
    },
    {
      "cell_type": "markdown",
      "metadata": {
        "id": "NVgKSlT8d043"
      },
      "source": [
        "# 주유소"
      ]
    },
    {
      "cell_type": "code",
      "metadata": {
        "colab": {
          "base_uri": "https://localhost:8080/"
        },
        "id": "MwRlObmP1_h6",
        "outputId": "0321aa5e-2b7e-4656-8209-5914bbe2b2c0"
      },
      "source": [
        "df_oil = pd.read_csv('산업통상자원부_전국 주유소 등록현황_20200409.csv', encoding=\"cp949\")\n",
        "print(df_oil)"
      ],
      "execution_count": null,
      "outputs": [
        {
          "output_type": "stream",
          "text": [
            "        연도   변동사유발생연월일  ...              업체명                          소재지\n",
            "0     2015  2015-01-02  ...   (주)유림에너지 대기주유소       대구광역시 북구 팔달로41 (노원동3가)\n",
            "1     2015  2015-01-05  ...          광나는 주유소             경기도 동두천시 평화로3059\n",
            "2     2015  2015-01-05  ...    ㈜소모석유 상무제일주유소      광주광역시 서구 상무시민로142 (치평동)\n",
            "3     2015  2015-01-05  ...           활주로주유소        전라남도 나주시 산남로141 (산포면)\n",
            "4     2015  2015-01-06  ...         남상주농협주유소         경북 상주시 청리면 남상주로 1044\n",
            "...    ...         ...  ...              ...                          ...\n",
            "5573  2019  2019-12-31  ...  CJ대한통운(주) 강릉주유소            강원도 강릉시 동해대로 3292\n",
            "5574  2019  2019-12-31  ...            청우주유소     인천광역시 미추홀구 인주대로285 (주안동)\n",
            "5575  2019  2019-12-31  ...          수동매일주유소       경상남도 함양군 거함대로526 (수동면)\n",
            "5576  2019  2019-12-31  ...           새천안주유소  충청남도 천안시 서북구 천안대로1307 (신당동)\n",
            "5577  2019  2019-12-31  ...          부강제일주유소         세종특별자치시 청연로137 (부강면)\n",
            "\n",
            "[5578 rows x 6 columns]\n"
          ],
          "name": "stdout"
        }
      ]
    },
    {
      "cell_type": "code",
      "metadata": {
        "colab": {
          "base_uri": "https://localhost:8080/"
        },
        "id": "FIo2My1i2mh9",
        "outputId": "fbf6ea16-6721-422d-cdfd-3816a9a95bfb"
      },
      "source": [
        "df_oil.shape # 테이블 형태 파악"
      ],
      "execution_count": null,
      "outputs": [
        {
          "output_type": "execute_result",
          "data": {
            "text/plain": [
              "(5578, 6)"
            ]
          },
          "metadata": {
            "tags": []
          },
          "execution_count": 154
        }
      ]
    },
    {
      "cell_type": "code",
      "metadata": {
        "colab": {
          "base_uri": "https://localhost:8080/",
          "height": 306
        },
        "id": "WWDpfoNn3dcl",
        "outputId": "86a777a8-d2d9-4850-9d80-262eec7b2cee"
      },
      "source": [
        "df_oil.head() # 다섯개 보기"
      ],
      "execution_count": null,
      "outputs": [
        {
          "output_type": "execute_result",
          "data": {
            "text/html": [
              "<div>\n",
              "<style scoped>\n",
              "    .dataframe tbody tr th:only-of-type {\n",
              "        vertical-align: middle;\n",
              "    }\n",
              "\n",
              "    .dataframe tbody tr th {\n",
              "        vertical-align: top;\n",
              "    }\n",
              "\n",
              "    .dataframe thead th {\n",
              "        text-align: right;\n",
              "    }\n",
              "</style>\n",
              "<table border=\"1\" class=\"dataframe\">\n",
              "  <thead>\n",
              "    <tr style=\"text-align: right;\">\n",
              "      <th></th>\n",
              "      <th>연도</th>\n",
              "      <th>변동사유발생연월일</th>\n",
              "      <th>판매업종류</th>\n",
              "      <th>구분</th>\n",
              "      <th>업체명</th>\n",
              "      <th>소재지</th>\n",
              "    </tr>\n",
              "  </thead>\n",
              "  <tbody>\n",
              "    <tr>\n",
              "      <th>0</th>\n",
              "      <td>2015</td>\n",
              "      <td>2015-01-02</td>\n",
              "      <td>주유소</td>\n",
              "      <td>휴업</td>\n",
              "      <td>(주)유림에너지 대기주유소</td>\n",
              "      <td>대구광역시 북구 팔달로41 (노원동3가)</td>\n",
              "    </tr>\n",
              "    <tr>\n",
              "      <th>1</th>\n",
              "      <td>2015</td>\n",
              "      <td>2015-01-05</td>\n",
              "      <td>주유소</td>\n",
              "      <td>신규등록</td>\n",
              "      <td>광나는 주유소</td>\n",
              "      <td>경기도 동두천시 평화로3059</td>\n",
              "    </tr>\n",
              "    <tr>\n",
              "      <th>2</th>\n",
              "      <td>2015</td>\n",
              "      <td>2015-01-05</td>\n",
              "      <td>주유소</td>\n",
              "      <td>폐업</td>\n",
              "      <td>㈜소모석유 상무제일주유소</td>\n",
              "      <td>광주광역시 서구 상무시민로142 (치평동)</td>\n",
              "    </tr>\n",
              "    <tr>\n",
              "      <th>3</th>\n",
              "      <td>2015</td>\n",
              "      <td>2015-01-05</td>\n",
              "      <td>주유소</td>\n",
              "      <td>휴업</td>\n",
              "      <td>활주로주유소</td>\n",
              "      <td>전라남도 나주시 산남로141 (산포면)</td>\n",
              "    </tr>\n",
              "    <tr>\n",
              "      <th>4</th>\n",
              "      <td>2015</td>\n",
              "      <td>2015-01-06</td>\n",
              "      <td>주유소</td>\n",
              "      <td>신규등록</td>\n",
              "      <td>남상주농협주유소</td>\n",
              "      <td>경북 상주시 청리면 남상주로 1044</td>\n",
              "    </tr>\n",
              "  </tbody>\n",
              "</table>\n",
              "</div>"
            ],
            "text/plain": [
              "     연도   변동사유발생연월일 판매업종류    구분             업체명                      소재지\n",
              "0  2015  2015-01-02   주유소    휴업  (주)유림에너지 대기주유소   대구광역시 북구 팔달로41 (노원동3가)\n",
              "1  2015  2015-01-05   주유소  신규등록         광나는 주유소         경기도 동두천시 평화로3059\n",
              "2  2015  2015-01-05   주유소    폐업   ㈜소모석유 상무제일주유소  광주광역시 서구 상무시민로142 (치평동)\n",
              "3  2015  2015-01-05   주유소    휴업          활주로주유소    전라남도 나주시 산남로141 (산포면)\n",
              "4  2015  2015-01-06   주유소  신규등록        남상주농협주유소     경북 상주시 청리면 남상주로 1044"
            ]
          },
          "metadata": {
            "tags": []
          },
          "execution_count": 155
        }
      ]
    },
    {
      "cell_type": "code",
      "metadata": {
        "colab": {
          "base_uri": "https://localhost:8080/"
        },
        "id": "tvTFhfXK5eM5",
        "outputId": "4298035e-7923-4054-8448-1a0096bf8256"
      },
      "source": [
        "set(df_oil['구분']) # 신규등록만 살려두기, 나머지는 필요 X"
      ],
      "execution_count": null,
      "outputs": [
        {
          "output_type": "execute_result",
          "data": {
            "text/plain": [
              "{'등록취소', '신규등록', '폐업', '휴업'}"
            ]
          },
          "metadata": {
            "tags": []
          },
          "execution_count": 156
        }
      ]
    },
    {
      "cell_type": "code",
      "metadata": {
        "colab": {
          "base_uri": "https://localhost:8080/"
        },
        "id": "YdsVyPy76c6-",
        "outputId": "91240c70-6377-425c-9adb-b6c7f9fc3f63"
      },
      "source": [
        "set(df_oil['판매업종류']) # 주유소 뿐이므로 주유소의 개수를 세면 총 신규등록한 주유소의 총 수를 알 것이라고 파악."
      ],
      "execution_count": null,
      "outputs": [
        {
          "output_type": "execute_result",
          "data": {
            "text/plain": [
              "{'주유소'}"
            ]
          },
          "metadata": {
            "tags": []
          },
          "execution_count": 157
        }
      ]
    },
    {
      "cell_type": "code",
      "metadata": {
        "colab": {
          "base_uri": "https://localhost:8080/"
        },
        "id": "qcGfiNhs3g7G",
        "outputId": "3a7eb179-2345-4ec0-c204-fbeb153e42f1"
      },
      "source": [
        "df_oil[\"연도\"].astype(int) # 본 소스에서는 연도를 주요 관찰요소로 파악함. 연도별로 주유소가 얼마나 신규등록됐는지 보기위함."
      ],
      "execution_count": null,
      "outputs": [
        {
          "output_type": "execute_result",
          "data": {
            "text/plain": [
              "0       2015\n",
              "1       2015\n",
              "2       2015\n",
              "3       2015\n",
              "4       2015\n",
              "        ... \n",
              "5573    2019\n",
              "5574    2019\n",
              "5575    2019\n",
              "5576    2019\n",
              "5577    2019\n",
              "Name: 연도, Length: 5578, dtype: int64"
            ]
          },
          "metadata": {
            "tags": []
          },
          "execution_count": 158
        }
      ]
    },
    {
      "cell_type": "code",
      "metadata": {
        "colab": {
          "base_uri": "https://localhost:8080/"
        },
        "id": "X7_kr6tu3i2w",
        "outputId": "35468b92-60c0-43f7-acd8-e9e8b35e645e"
      },
      "source": [
        "df_oil.isnull().sum() # 결측치 몇개있는지 세는 것. 연도와 구분에는 결측치가 없어 바로 분석에 돌입."
      ],
      "execution_count": null,
      "outputs": [
        {
          "output_type": "execute_result",
          "data": {
            "text/plain": [
              "연도           0\n",
              "변동사유발생연월일    0\n",
              "판매업종류        0\n",
              "구분           0\n",
              "업체명          1\n",
              "소재지          0\n",
              "dtype: int64"
            ]
          },
          "metadata": {
            "tags": []
          },
          "execution_count": 159
        }
      ]
    },
    {
      "cell_type": "code",
      "metadata": {
        "id": "AtOlOB343mMJ"
      },
      "source": [
        "df_oil['판매업종류'] = df_oil['판매업종류'].str.replace('주유소','1') # 연도별로 주유소 신규등록 갯수를 보고 싶음.(변경파악)/ 주유소 갯수를 파악해야 전체 주유소 수를 알 수 있을 것이라 파악, 1로 치환후 더함.\n",
        "df_oil\n",
        "df_oil['판매업종류'] = df_oil[\"판매업종류\"].astype(int)"
      ],
      "execution_count": null,
      "outputs": []
    },
    {
      "cell_type": "code",
      "metadata": {
        "colab": {
          "base_uri": "https://localhost:8080/",
          "height": 963
        },
        "id": "5jI8BZou3v5J",
        "outputId": "578200bc-b8f5-4d86-8a91-345e5209e8f8"
      },
      "source": [
        "df_oil1 = df_oil[df_oil['구분'].str.contains('신규등록')] # 신규등록만 남기기. 남겨서 새 df에 넣기.\n",
        "df_oil1"
      ],
      "execution_count": null,
      "outputs": [
        {
          "output_type": "execute_result",
          "data": {
            "text/html": [
              "<div>\n",
              "<style scoped>\n",
              "    .dataframe tbody tr th:only-of-type {\n",
              "        vertical-align: middle;\n",
              "    }\n",
              "\n",
              "    .dataframe tbody tr th {\n",
              "        vertical-align: top;\n",
              "    }\n",
              "\n",
              "    .dataframe thead th {\n",
              "        text-align: right;\n",
              "    }\n",
              "</style>\n",
              "<table border=\"1\" class=\"dataframe\">\n",
              "  <thead>\n",
              "    <tr style=\"text-align: right;\">\n",
              "      <th></th>\n",
              "      <th>연도</th>\n",
              "      <th>변동사유발생연월일</th>\n",
              "      <th>판매업종류</th>\n",
              "      <th>구분</th>\n",
              "      <th>업체명</th>\n",
              "      <th>소재지</th>\n",
              "    </tr>\n",
              "  </thead>\n",
              "  <tbody>\n",
              "    <tr>\n",
              "      <th>1</th>\n",
              "      <td>2015</td>\n",
              "      <td>2015-01-05</td>\n",
              "      <td>1</td>\n",
              "      <td>신규등록</td>\n",
              "      <td>광나는 주유소</td>\n",
              "      <td>경기도 동두천시 평화로3059</td>\n",
              "    </tr>\n",
              "    <tr>\n",
              "      <th>4</th>\n",
              "      <td>2015</td>\n",
              "      <td>2015-01-06</td>\n",
              "      <td>1</td>\n",
              "      <td>신규등록</td>\n",
              "      <td>남상주농협주유소</td>\n",
              "      <td>경북 상주시 청리면 남상주로 1044</td>\n",
              "    </tr>\n",
              "    <tr>\n",
              "      <th>17</th>\n",
              "      <td>2015</td>\n",
              "      <td>2015-01-09</td>\n",
              "      <td>1</td>\n",
              "      <td>신규등록</td>\n",
              "      <td>능주농협주유소</td>\n",
              "      <td>전남 화순군 능주면 원지리 225-14외 2필지</td>\n",
              "    </tr>\n",
              "    <tr>\n",
              "      <th>26</th>\n",
              "      <td>2015</td>\n",
              "      <td>2015-01-13</td>\n",
              "      <td>1</td>\n",
              "      <td>신규등록</td>\n",
              "      <td>현대석문공단주유소</td>\n",
              "      <td>충남 당진시 석문면 통정리 67-1</td>\n",
              "    </tr>\n",
              "    <tr>\n",
              "      <th>41</th>\n",
              "      <td>2015</td>\n",
              "      <td>2015-01-20</td>\n",
              "      <td>1</td>\n",
              "      <td>신규등록</td>\n",
              "      <td>청남셀프주유소</td>\n",
              "      <td>경상남도 함안군 삼칠로306 (칠서면)</td>\n",
              "    </tr>\n",
              "    <tr>\n",
              "      <th>...</th>\n",
              "      <td>...</td>\n",
              "      <td>...</td>\n",
              "      <td>...</td>\n",
              "      <td>...</td>\n",
              "      <td>...</td>\n",
              "      <td>...</td>\n",
              "    </tr>\n",
              "    <tr>\n",
              "      <th>5567</th>\n",
              "      <td>2019</td>\n",
              "      <td>2019-12-30</td>\n",
              "      <td>1</td>\n",
              "      <td>신규등록</td>\n",
              "      <td>등원주유소</td>\n",
              "      <td>경기도 파주시 조리읍 등원 로 57</td>\n",
              "    </tr>\n",
              "    <tr>\n",
              "      <th>5568</th>\n",
              "      <td>2019</td>\n",
              "      <td>2019-12-30</td>\n",
              "      <td>1</td>\n",
              "      <td>신규등록</td>\n",
              "      <td>대보건설(주)구리(일산방향)주유소</td>\n",
              "      <td>구리시 서울외곽순환고속도로 32(사노동 170-13번지외 5필지)</td>\n",
              "    </tr>\n",
              "    <tr>\n",
              "      <th>5571</th>\n",
              "      <td>2019</td>\n",
              "      <td>2019-12-30</td>\n",
              "      <td>1</td>\n",
              "      <td>신규등록</td>\n",
              "      <td>대보건설(주)구리(일산방향)주유소</td>\n",
              "      <td>구리시 서울외곽순환고속도로 32(사노동 170-13번지외 5필지)</td>\n",
              "    </tr>\n",
              "    <tr>\n",
              "      <th>5572</th>\n",
              "      <td>2019</td>\n",
              "      <td>2019-12-30</td>\n",
              "      <td>1</td>\n",
              "      <td>신규등록</td>\n",
              "      <td>수송1주유소</td>\n",
              "      <td>전라북도 군산시 옥산면 당북리957-41,961-19</td>\n",
              "    </tr>\n",
              "    <tr>\n",
              "      <th>5573</th>\n",
              "      <td>2019</td>\n",
              "      <td>2019-12-31</td>\n",
              "      <td>1</td>\n",
              "      <td>신규등록</td>\n",
              "      <td>CJ대한통운(주) 강릉주유소</td>\n",
              "      <td>강원도 강릉시 동해대로 3292</td>\n",
              "    </tr>\n",
              "  </tbody>\n",
              "</table>\n",
              "<p>1839 rows × 6 columns</p>\n",
              "</div>"
            ],
            "text/plain": [
              "        연도  ...                                   소재지\n",
              "1     2015  ...                      경기도 동두천시 평화로3059\n",
              "4     2015  ...                  경북 상주시 청리면 남상주로 1044\n",
              "17    2015  ...            전남 화순군 능주면 원지리 225-14외 2필지\n",
              "26    2015  ...                   충남 당진시 석문면 통정리 67-1\n",
              "41    2015  ...                 경상남도 함안군 삼칠로306 (칠서면)\n",
              "...    ...  ...                                   ...\n",
              "5567  2019  ...                   경기도 파주시 조리읍 등원 로 57\n",
              "5568  2019  ...  구리시 서울외곽순환고속도로 32(사노동 170-13번지외 5필지)\n",
              "5571  2019  ...  구리시 서울외곽순환고속도로 32(사노동 170-13번지외 5필지)\n",
              "5572  2019  ...         전라북도 군산시 옥산면 당북리957-41,961-19\n",
              "5573  2019  ...                     강원도 강릉시 동해대로 3292\n",
              "\n",
              "[1839 rows x 6 columns]"
            ]
          },
          "metadata": {
            "tags": []
          },
          "execution_count": 161
        }
      ]
    },
    {
      "cell_type": "code",
      "metadata": {
        "colab": {
          "base_uri": "https://localhost:8080/",
          "height": 235
        },
        "id": "wQElce0u3-LN",
        "outputId": "e044d046-d22a-4ae1-833c-36840a62933e"
      },
      "source": [
        "df_oil2 = pd.pivot_table(df_oil1, index = '연도', values = '판매업종류', aggfunc = 'sum') # 주유소를 1로 치환 후, 합계를 연도별로 표시.\n",
        "df_oil2"
      ],
      "execution_count": null,
      "outputs": [
        {
          "output_type": "execute_result",
          "data": {
            "text/html": [
              "<div>\n",
              "<style scoped>\n",
              "    .dataframe tbody tr th:only-of-type {\n",
              "        vertical-align: middle;\n",
              "    }\n",
              "\n",
              "    .dataframe tbody tr th {\n",
              "        vertical-align: top;\n",
              "    }\n",
              "\n",
              "    .dataframe thead th {\n",
              "        text-align: right;\n",
              "    }\n",
              "</style>\n",
              "<table border=\"1\" class=\"dataframe\">\n",
              "  <thead>\n",
              "    <tr style=\"text-align: right;\">\n",
              "      <th></th>\n",
              "      <th>판매업종류</th>\n",
              "    </tr>\n",
              "    <tr>\n",
              "      <th>연도</th>\n",
              "      <th></th>\n",
              "    </tr>\n",
              "  </thead>\n",
              "  <tbody>\n",
              "    <tr>\n",
              "      <th>2015</th>\n",
              "      <td>120</td>\n",
              "    </tr>\n",
              "    <tr>\n",
              "      <th>2016</th>\n",
              "      <td>98</td>\n",
              "    </tr>\n",
              "    <tr>\n",
              "      <th>2017</th>\n",
              "      <td>1396</td>\n",
              "    </tr>\n",
              "    <tr>\n",
              "      <th>2018</th>\n",
              "      <td>98</td>\n",
              "    </tr>\n",
              "    <tr>\n",
              "      <th>2019</th>\n",
              "      <td>127</td>\n",
              "    </tr>\n",
              "  </tbody>\n",
              "</table>\n",
              "</div>"
            ],
            "text/plain": [
              "      판매업종류\n",
              "연도         \n",
              "2015    120\n",
              "2016     98\n",
              "2017   1396\n",
              "2018     98\n",
              "2019    127"
            ]
          },
          "metadata": {
            "tags": []
          },
          "execution_count": 162
        }
      ]
    },
    {
      "cell_type": "code",
      "metadata": {
        "colab": {
          "base_uri": "https://localhost:8080/"
        },
        "id": "EDixYn_O4Gf_",
        "outputId": "1f6704ce-cf10-452f-f685-3d97e64f0d8e"
      },
      "source": [
        "df_oil2.sum() "
      ],
      "execution_count": null,
      "outputs": [
        {
          "output_type": "execute_result",
          "data": {
            "text/plain": [
              "판매업종류    1839\n",
              "dtype: int64"
            ]
          },
          "metadata": {
            "tags": []
          },
          "execution_count": 163
        }
      ]
    },
    {
      "cell_type": "code",
      "metadata": {
        "colab": {
          "base_uri": "https://localhost:8080/",
          "height": 640
        },
        "id": "_5DOVDsZ4L2n",
        "outputId": "098c295f-11a3-48b3-d075-3d475ec46ea6"
      },
      "source": [
        "plt.figure(figsize=(20,10))\n",
        "ax = sns.countplot(x=\"연도\", data=df_oil, palette=\"Set2\") #주유소 연도별 갯수\n",
        "plt.xlabel('연도', fontsize=14)\n",
        "plt.ylabel('개수', fontsize=14)\n",
        "\n",
        "# 주유소는 5년간 신규등록만 약 2000개인데, 전기자동차 충전소는 000개임으로 전기 충전소가 부족해 더 지어야 함을 알게됨.\n",
        "# 전기차 시대가 도래하면서 2017년 이후 전기차 보급으로 주유소 등록개수가 줄고 있음을 볼 수 있음."
      ],
      "execution_count": null,
      "outputs": [
        {
          "output_type": "execute_result",
          "data": {
            "text/plain": [
              "Text(0, 0.5, '개수')"
            ]
          },
          "metadata": {
            "tags": []
          },
          "execution_count": 164
        },
        {
          "output_type": "stream",
          "text": [
            "/usr/local/lib/python3.6/dist-packages/matplotlib/backends/backend_agg.py:214: RuntimeWarning: Glyph 50672 missing from current font.\n",
            "  font.set_text(s, 0.0, flags=flags)\n",
            "/usr/local/lib/python3.6/dist-packages/matplotlib/backends/backend_agg.py:214: RuntimeWarning: Glyph 46020 missing from current font.\n",
            "  font.set_text(s, 0.0, flags=flags)\n",
            "/usr/local/lib/python3.6/dist-packages/matplotlib/backends/backend_agg.py:183: RuntimeWarning: Glyph 50672 missing from current font.\n",
            "  font.set_text(s, 0, flags=flags)\n",
            "/usr/local/lib/python3.6/dist-packages/matplotlib/backends/backend_agg.py:183: RuntimeWarning: Glyph 46020 missing from current font.\n",
            "  font.set_text(s, 0, flags=flags)\n",
            "/usr/local/lib/python3.6/dist-packages/matplotlib/backends/backend_agg.py:214: RuntimeWarning: Glyph 44060 missing from current font.\n",
            "  font.set_text(s, 0.0, flags=flags)\n",
            "/usr/local/lib/python3.6/dist-packages/matplotlib/backends/backend_agg.py:214: RuntimeWarning: Glyph 49688 missing from current font.\n",
            "  font.set_text(s, 0.0, flags=flags)\n",
            "/usr/local/lib/python3.6/dist-packages/matplotlib/backends/backend_agg.py:183: RuntimeWarning: Glyph 44060 missing from current font.\n",
            "  font.set_text(s, 0, flags=flags)\n",
            "/usr/local/lib/python3.6/dist-packages/matplotlib/backends/backend_agg.py:183: RuntimeWarning: Glyph 49688 missing from current font.\n",
            "  font.set_text(s, 0, flags=flags)\n"
          ],
          "name": "stderr"
        },
        {
          "output_type": "display_data",
          "data": {
            "image/png": "[encoded data removed]",
            "text/plain": [
              "<Figure size 1440x720 with 1 Axes>"
            ]
          },
          "metadata": {
            "tags": [],
            "needs_background": "light"
          }
        }
      ]
    },
    {
      "cell_type": "markdown",
      "metadata": {
        "id": "4G5jG9yPejiW"
      },
      "source": [
        "#지역별 충전소 개수(지도와 바 그래프)"
      ]
    },
    {
      "cell_type": "code",
      "metadata": {
        "colab": {
          "base_uri": "https://localhost:8080/",
          "height": 419
        },
        "id": "JCZFjMeM4QRG",
        "outputId": "23eb702d-2d4c-499f-f7b4-cd13466a0092"
      },
      "source": [
        "ALL"
      ],
      "execution_count": null,
      "outputs": [
        {
          "output_type": "execute_result",
          "data": {
            "text/html": [
              "<div>\n",
              "<style scoped>\n",
              "    .dataframe tbody tr th:only-of-type {\n",
              "        vertical-align: middle;\n",
              "    }\n",
              "\n",
              "    .dataframe tbody tr th {\n",
              "        vertical-align: top;\n",
              "    }\n",
              "\n",
              "    .dataframe thead th {\n",
              "        text-align: right;\n",
              "    }\n",
              "</style>\n",
              "<table border=\"1\" class=\"dataframe\">\n",
              "  <thead>\n",
              "    <tr style=\"text-align: right;\">\n",
              "      <th></th>\n",
              "      <th>행정도시</th>\n",
              "      <th>시도</th>\n",
              "      <th>위치수</th>\n",
              "      <th>급속</th>\n",
              "      <th>완속</th>\n",
              "    </tr>\n",
              "  </thead>\n",
              "  <tbody>\n",
              "    <tr>\n",
              "      <th>0</th>\n",
              "      <td>서울특별시</td>\n",
              "      <td>관악구</td>\n",
              "      <td>13</td>\n",
              "      <td>9</td>\n",
              "      <td>14</td>\n",
              "    </tr>\n",
              "    <tr>\n",
              "      <th>1</th>\n",
              "      <td>서울특별시</td>\n",
              "      <td>강남구</td>\n",
              "      <td>53</td>\n",
              "      <td>37</td>\n",
              "      <td>81</td>\n",
              "    </tr>\n",
              "    <tr>\n",
              "      <th>2</th>\n",
              "      <td>서울특별시</td>\n",
              "      <td>강동구</td>\n",
              "      <td>32</td>\n",
              "      <td>26</td>\n",
              "      <td>56</td>\n",
              "    </tr>\n",
              "    <tr>\n",
              "      <th>3</th>\n",
              "      <td>서울특별시</td>\n",
              "      <td>강북구</td>\n",
              "      <td>8</td>\n",
              "      <td>8</td>\n",
              "      <td>16</td>\n",
              "    </tr>\n",
              "    <tr>\n",
              "      <th>4</th>\n",
              "      <td>서울특별시</td>\n",
              "      <td>광진구</td>\n",
              "      <td>12</td>\n",
              "      <td>8</td>\n",
              "      <td>16</td>\n",
              "    </tr>\n",
              "    <tr>\n",
              "      <th>...</th>\n",
              "      <td>...</td>\n",
              "      <td>...</td>\n",
              "      <td>...</td>\n",
              "      <td>...</td>\n",
              "      <td>...</td>\n",
              "    </tr>\n",
              "    <tr>\n",
              "      <th>219</th>\n",
              "      <td>대구광역시</td>\n",
              "      <td>서구</td>\n",
              "      <td>4</td>\n",
              "      <td>6</td>\n",
              "      <td>9</td>\n",
              "    </tr>\n",
              "    <tr>\n",
              "      <th>220</th>\n",
              "      <td>대구광역시</td>\n",
              "      <td>수성구</td>\n",
              "      <td>41</td>\n",
              "      <td>31</td>\n",
              "      <td>60</td>\n",
              "    </tr>\n",
              "    <tr>\n",
              "      <th>221</th>\n",
              "      <td>대구광역시</td>\n",
              "      <td>중구</td>\n",
              "      <td>10</td>\n",
              "      <td>8</td>\n",
              "      <td>21</td>\n",
              "    </tr>\n",
              "    <tr>\n",
              "      <th>222</th>\n",
              "      <td>대구광역시</td>\n",
              "      <td>달성군</td>\n",
              "      <td>26</td>\n",
              "      <td>20</td>\n",
              "      <td>61</td>\n",
              "    </tr>\n",
              "    <tr>\n",
              "      <th>223</th>\n",
              "      <td>세종특별자치시</td>\n",
              "      <td>세종시</td>\n",
              "      <td>63</td>\n",
              "      <td>69</td>\n",
              "      <td>124</td>\n",
              "    </tr>\n",
              "  </tbody>\n",
              "</table>\n",
              "<p>224 rows × 5 columns</p>\n",
              "</div>"
            ],
            "text/plain": [
              "        행정도시   시도  위치수  급속   완속\n",
              "0      서울특별시  관악구   13   9   14\n",
              "1      서울특별시  강남구   53  37   81\n",
              "2      서울특별시  강동구   32  26   56\n",
              "3      서울특별시  강북구    8   8   16\n",
              "4      서울특별시  광진구   12   8   16\n",
              "..       ...  ...  ...  ..  ...\n",
              "219    대구광역시   서구    4   6    9\n",
              "220    대구광역시  수성구   41  31   60\n",
              "221    대구광역시   중구   10   8   21\n",
              "222    대구광역시  달성군   26  20   61\n",
              "223  세종특별자치시  세종시   63  69  124\n",
              "\n",
              "[224 rows x 5 columns]"
            ]
          },
          "metadata": {
            "tags": []
          },
          "execution_count": 165
        }
      ]
    },
    {
      "cell_type": "code",
      "metadata": {
        "colab": {
          "base_uri": "https://localhost:8080/"
        },
        "id": "F38HlDUIDe0N",
        "outputId": "5f0f9b17-27bf-4939-c901-253c7cb115f2"
      },
      "source": [
        "set(ALL['행정도시'])"
      ],
      "execution_count": null,
      "outputs": [
        {
          "output_type": "execute_result",
          "data": {
            "text/plain": [
              "{'강원도',\n",
              " '경기도',\n",
              " '경상남도',\n",
              " '경상북도',\n",
              " '광주광역시',\n",
              " '대구광역시',\n",
              " '대전광역시',\n",
              " '부산광역시',\n",
              " '서울특별시',\n",
              " '세종특별자치시',\n",
              " '울산광역시',\n",
              " '인천광역시',\n",
              " '전라남도',\n",
              " '전라북도',\n",
              " '제주특별자치도',\n",
              " '충청남도',\n",
              " '충청북도'}"
            ]
          },
          "metadata": {
            "tags": []
          },
          "execution_count": 166
        }
      ]
    },
    {
      "cell_type": "markdown",
      "metadata": {
        "id": "LHSTapkTZWYS"
      },
      "source": [
        "### 1. 지도"
      ]
    },
    {
      "cell_type": "code",
      "metadata": {
        "colab": {
          "base_uri": "https://localhost:8080/",
          "height": 576
        },
        "id": "WFeqcVbI739u",
        "outputId": "f22483bb-7121-45c8-ad19-2d553d37eb3a"
      },
      "source": [
        "# 시군구별 좌표를 구하기 힘들어서, 도별로 보기로 했으며, 좌표는 구글에 검색해서 추합함.\n",
        "col = ['행정도시', '위도', '경도']\n",
        "ind = [1,2,3,4,5]\n",
        "con = [[0, 0, 0], [0, 0, 0],[0, 0, 0], [0, 0, 0], [0, 0, 0]]\n",
        "\n",
        "location = pd.DataFrame(con, columns = col, index = ind)\n",
        "\n",
        "location.loc[1] = ['서울특별시', 37.57, 126.98]\n",
        "location.loc[2] = ['인천광역시', 37.40, 126.66]\n",
        "location.loc[3] = ['경기도', 37.24, 127.17] #용인\n",
        "location.loc[4] = ['강원도', 37.37, 128.39] #평창\n",
        "location.loc[5] = ['충청남도', 36.45, 126.80] #청양\n",
        "location.loc[6] = ['충청북도', 36.64, 127.48] #청주\n",
        "location.loc[7] = ['전라남도', 34.80, 126.69] # 영암\n",
        "location.loc[8] = ['전라북도', 35.82, 127.14] #전주\n",
        "location.loc[9] = ['경상남도', 35.18, 128.10] #진주\n",
        "location.loc[10] = ['경상북도', 36.56, 128.72] #안동\n",
        "location.loc[11] = ['제주특별자치도', 33.32, 126.68]\n",
        "location.loc[12] = ['대전광역시', 35.00, 128.72]\n",
        "location.loc[13] = ['울산광역시', 35.53,129.31]\n",
        "location.loc[14] = ['광주광역시', 36.34, 127.39]\n",
        "location.loc[15] = ['부산광역시', 35.18, 129.08]\n",
        "location.loc[16] = ['대구광역시', 35.85, 128.56]\n",
        "location.loc[17] = ['세종특별자치시', 36.30, 127.16]\n",
        "location"
      ],
      "execution_count": null,
      "outputs": [
        {
          "output_type": "execute_result",
          "data": {
            "text/html": [
              "<div>\n",
              "<style scoped>\n",
              "    .dataframe tbody tr th:only-of-type {\n",
              "        vertical-align: middle;\n",
              "    }\n",
              "\n",
              "    .dataframe tbody tr th {\n",
              "        vertical-align: top;\n",
              "    }\n",
              "\n",
              "    .dataframe thead th {\n",
              "        text-align: right;\n",
              "    }\n",
              "</style>\n",
              "<table border=\"1\" class=\"dataframe\">\n",
              "  <thead>\n",
              "    <tr style=\"text-align: right;\">\n",
              "      <th></th>\n",
              "      <th>행정도시</th>\n",
              "      <th>위도</th>\n",
              "      <th>경도</th>\n",
              "    </tr>\n",
              "  </thead>\n",
              "  <tbody>\n",
              "    <tr>\n",
              "      <th>1</th>\n",
              "      <td>서울특별시</td>\n",
              "      <td>37.57</td>\n",
              "      <td>126.98</td>\n",
              "    </tr>\n",
              "    <tr>\n",
              "      <th>2</th>\n",
              "      <td>인천광역시</td>\n",
              "      <td>37.40</td>\n",
              "      <td>126.66</td>\n",
              "    </tr>\n",
              "    <tr>\n",
              "      <th>3</th>\n",
              "      <td>경기도</td>\n",
              "      <td>37.24</td>\n",
              "      <td>127.17</td>\n",
              "    </tr>\n",
              "    <tr>\n",
              "      <th>4</th>\n",
              "      <td>강원도</td>\n",
              "      <td>37.37</td>\n",
              "      <td>128.39</td>\n",
              "    </tr>\n",
              "    <tr>\n",
              "      <th>5</th>\n",
              "      <td>충청남도</td>\n",
              "      <td>36.45</td>\n",
              "      <td>126.80</td>\n",
              "    </tr>\n",
              "    <tr>\n",
              "      <th>6</th>\n",
              "      <td>충청북도</td>\n",
              "      <td>36.64</td>\n",
              "      <td>127.48</td>\n",
              "    </tr>\n",
              "    <tr>\n",
              "      <th>7</th>\n",
              "      <td>전라남도</td>\n",
              "      <td>34.80</td>\n",
              "      <td>126.69</td>\n",
              "    </tr>\n",
              "    <tr>\n",
              "      <th>8</th>\n",
              "      <td>전라북도</td>\n",
              "      <td>35.82</td>\n",
              "      <td>127.14</td>\n",
              "    </tr>\n",
              "    <tr>\n",
              "      <th>9</th>\n",
              "      <td>경상남도</td>\n",
              "      <td>35.18</td>\n",
              "      <td>128.10</td>\n",
              "    </tr>\n",
              "    <tr>\n",
              "      <th>10</th>\n",
              "      <td>경상북도</td>\n",
              "      <td>36.56</td>\n",
              "      <td>128.72</td>\n",
              "    </tr>\n",
              "    <tr>\n",
              "      <th>11</th>\n",
              "      <td>제주특별자치도</td>\n",
              "      <td>33.32</td>\n",
              "      <td>126.68</td>\n",
              "    </tr>\n",
              "    <tr>\n",
              "      <th>12</th>\n",
              "      <td>대전광역시</td>\n",
              "      <td>35.00</td>\n",
              "      <td>128.72</td>\n",
              "    </tr>\n",
              "    <tr>\n",
              "      <th>13</th>\n",
              "      <td>울산광역시</td>\n",
              "      <td>35.53</td>\n",
              "      <td>129.31</td>\n",
              "    </tr>\n",
              "    <tr>\n",
              "      <th>14</th>\n",
              "      <td>광주광역시</td>\n",
              "      <td>36.34</td>\n",
              "      <td>127.39</td>\n",
              "    </tr>\n",
              "    <tr>\n",
              "      <th>15</th>\n",
              "      <td>부산광역시</td>\n",
              "      <td>35.18</td>\n",
              "      <td>129.08</td>\n",
              "    </tr>\n",
              "    <tr>\n",
              "      <th>16</th>\n",
              "      <td>대구광역시</td>\n",
              "      <td>35.85</td>\n",
              "      <td>128.56</td>\n",
              "    </tr>\n",
              "    <tr>\n",
              "      <th>17</th>\n",
              "      <td>세종특별자치시</td>\n",
              "      <td>36.30</td>\n",
              "      <td>127.16</td>\n",
              "    </tr>\n",
              "  </tbody>\n",
              "</table>\n",
              "</div>"
            ],
            "text/plain": [
              "       행정도시     위도      경도\n",
              "1     서울특별시  37.57  126.98\n",
              "2     인천광역시  37.40  126.66\n",
              "3       경기도  37.24  127.17\n",
              "4       강원도  37.37  128.39\n",
              "5      충청남도  36.45  126.80\n",
              "6      충청북도  36.64  127.48\n",
              "7      전라남도  34.80  126.69\n",
              "8      전라북도  35.82  127.14\n",
              "9      경상남도  35.18  128.10\n",
              "10     경상북도  36.56  128.72\n",
              "11  제주특별자치도  33.32  126.68\n",
              "12    대전광역시  35.00  128.72\n",
              "13    울산광역시  35.53  129.31\n",
              "14    광주광역시  36.34  127.39\n",
              "15    부산광역시  35.18  129.08\n",
              "16    대구광역시  35.85  128.56\n",
              "17  세종특별자치시  36.30  127.16"
            ]
          },
          "metadata": {
            "tags": []
          },
          "execution_count": 167
        }
      ]
    },
    {
      "cell_type": "code",
      "metadata": {
        "id": "hxgZ_gbk8ja5"
      },
      "source": [
        "df_all = pd.merge(ALL, location, on = \"행정도시\")"
      ],
      "execution_count": null,
      "outputs": []
    },
    {
      "cell_type": "code",
      "metadata": {
        "colab": {
          "base_uri": "https://localhost:8080/",
          "height": 607
        },
        "id": "YGtKmS8G9Arx",
        "outputId": "44db56b4-04a9-4528-f9c2-677f1b510786"
      },
      "source": [
        "allocation = pd.pivot_table(df_all, index = '행정도시', values = '위치수', aggfunc = 'sum')\n",
        "allocation"
      ],
      "execution_count": null,
      "outputs": [
        {
          "output_type": "execute_result",
          "data": {
            "text/html": [
              "<div>\n",
              "<style scoped>\n",
              "    .dataframe tbody tr th:only-of-type {\n",
              "        vertical-align: middle;\n",
              "    }\n",
              "\n",
              "    .dataframe tbody tr th {\n",
              "        vertical-align: top;\n",
              "    }\n",
              "\n",
              "    .dataframe thead th {\n",
              "        text-align: right;\n",
              "    }\n",
              "</style>\n",
              "<table border=\"1\" class=\"dataframe\">\n",
              "  <thead>\n",
              "    <tr style=\"text-align: right;\">\n",
              "      <th></th>\n",
              "      <th>위치수</th>\n",
              "    </tr>\n",
              "    <tr>\n",
              "      <th>행정도시</th>\n",
              "      <th></th>\n",
              "    </tr>\n",
              "  </thead>\n",
              "  <tbody>\n",
              "    <tr>\n",
              "      <th>강원도</th>\n",
              "      <td>169</td>\n",
              "    </tr>\n",
              "    <tr>\n",
              "      <th>경기도</th>\n",
              "      <td>761</td>\n",
              "    </tr>\n",
              "    <tr>\n",
              "      <th>경상남도</th>\n",
              "      <td>252</td>\n",
              "    </tr>\n",
              "    <tr>\n",
              "      <th>경상북도</th>\n",
              "      <td>193</td>\n",
              "    </tr>\n",
              "    <tr>\n",
              "      <th>광주광역시</th>\n",
              "      <td>92</td>\n",
              "    </tr>\n",
              "    <tr>\n",
              "      <th>대구광역시</th>\n",
              "      <td>233</td>\n",
              "    </tr>\n",
              "    <tr>\n",
              "      <th>대전광역시</th>\n",
              "      <td>106</td>\n",
              "    </tr>\n",
              "    <tr>\n",
              "      <th>부산광역시</th>\n",
              "      <td>134</td>\n",
              "    </tr>\n",
              "    <tr>\n",
              "      <th>서울특별시</th>\n",
              "      <td>559</td>\n",
              "    </tr>\n",
              "    <tr>\n",
              "      <th>세종특별자치시</th>\n",
              "      <td>63</td>\n",
              "    </tr>\n",
              "    <tr>\n",
              "      <th>울산광역시</th>\n",
              "      <td>47</td>\n",
              "    </tr>\n",
              "    <tr>\n",
              "      <th>인천광역시</th>\n",
              "      <td>147</td>\n",
              "    </tr>\n",
              "    <tr>\n",
              "      <th>전라남도</th>\n",
              "      <td>181</td>\n",
              "    </tr>\n",
              "    <tr>\n",
              "      <th>전라북도</th>\n",
              "      <td>148</td>\n",
              "    </tr>\n",
              "    <tr>\n",
              "      <th>제주특별자치도</th>\n",
              "      <td>200</td>\n",
              "    </tr>\n",
              "    <tr>\n",
              "      <th>충청남도</th>\n",
              "      <td>116</td>\n",
              "    </tr>\n",
              "    <tr>\n",
              "      <th>충청북도</th>\n",
              "      <td>172</td>\n",
              "    </tr>\n",
              "  </tbody>\n",
              "</table>\n",
              "</div>"
            ],
            "text/plain": [
              "         위치수\n",
              "행정도시        \n",
              "강원도      169\n",
              "경기도      761\n",
              "경상남도     252\n",
              "경상북도     193\n",
              "광주광역시     92\n",
              "대구광역시    233\n",
              "대전광역시    106\n",
              "부산광역시    134\n",
              "서울특별시    559\n",
              "세종특별자치시   63\n",
              "울산광역시     47\n",
              "인천광역시    147\n",
              "전라남도     181\n",
              "전라북도     148\n",
              "제주특별자치도  200\n",
              "충청남도     116\n",
              "충청북도     172"
            ]
          },
          "metadata": {
            "tags": []
          },
          "execution_count": 169
        }
      ]
    },
    {
      "cell_type": "code",
      "metadata": {
        "colab": {
          "base_uri": "https://localhost:8080/",
          "height": 576
        },
        "id": "-D-BA7p99t3h",
        "outputId": "4fcfb040-d0ad-4c58-c38a-74a32eb4c2eb"
      },
      "source": [
        "df_final = pd.merge(allocation, location, on = \"행정도시\")\n",
        "df_final"
      ],
      "execution_count": null,
      "outputs": [
        {
          "output_type": "execute_result",
          "data": {
            "text/html": [
              "<div>\n",
              "<style scoped>\n",
              "    .dataframe tbody tr th:only-of-type {\n",
              "        vertical-align: middle;\n",
              "    }\n",
              "\n",
              "    .dataframe tbody tr th {\n",
              "        vertical-align: top;\n",
              "    }\n",
              "\n",
              "    .dataframe thead th {\n",
              "        text-align: right;\n",
              "    }\n",
              "</style>\n",
              "<table border=\"1\" class=\"dataframe\">\n",
              "  <thead>\n",
              "    <tr style=\"text-align: right;\">\n",
              "      <th></th>\n",
              "      <th>행정도시</th>\n",
              "      <th>위치수</th>\n",
              "      <th>위도</th>\n",
              "      <th>경도</th>\n",
              "    </tr>\n",
              "  </thead>\n",
              "  <tbody>\n",
              "    <tr>\n",
              "      <th>0</th>\n",
              "      <td>강원도</td>\n",
              "      <td>169</td>\n",
              "      <td>37.37</td>\n",
              "      <td>128.39</td>\n",
              "    </tr>\n",
              "    <tr>\n",
              "      <th>1</th>\n",
              "      <td>경기도</td>\n",
              "      <td>761</td>\n",
              "      <td>37.24</td>\n",
              "      <td>127.17</td>\n",
              "    </tr>\n",
              "    <tr>\n",
              "      <th>2</th>\n",
              "      <td>경상남도</td>\n",
              "      <td>252</td>\n",
              "      <td>35.18</td>\n",
              "      <td>128.10</td>\n",
              "    </tr>\n",
              "    <tr>\n",
              "      <th>3</th>\n",
              "      <td>경상북도</td>\n",
              "      <td>193</td>\n",
              "      <td>36.56</td>\n",
              "      <td>128.72</td>\n",
              "    </tr>\n",
              "    <tr>\n",
              "      <th>4</th>\n",
              "      <td>광주광역시</td>\n",
              "      <td>92</td>\n",
              "      <td>36.34</td>\n",
              "      <td>127.39</td>\n",
              "    </tr>\n",
              "    <tr>\n",
              "      <th>5</th>\n",
              "      <td>대구광역시</td>\n",
              "      <td>233</td>\n",
              "      <td>35.85</td>\n",
              "      <td>128.56</td>\n",
              "    </tr>\n",
              "    <tr>\n",
              "      <th>6</th>\n",
              "      <td>대전광역시</td>\n",
              "      <td>106</td>\n",
              "      <td>35.00</td>\n",
              "      <td>128.72</td>\n",
              "    </tr>\n",
              "    <tr>\n",
              "      <th>7</th>\n",
              "      <td>부산광역시</td>\n",
              "      <td>134</td>\n",
              "      <td>35.18</td>\n",
              "      <td>129.08</td>\n",
              "    </tr>\n",
              "    <tr>\n",
              "      <th>8</th>\n",
              "      <td>서울특별시</td>\n",
              "      <td>559</td>\n",
              "      <td>37.57</td>\n",
              "      <td>126.98</td>\n",
              "    </tr>\n",
              "    <tr>\n",
              "      <th>9</th>\n",
              "      <td>세종특별자치시</td>\n",
              "      <td>63</td>\n",
              "      <td>36.30</td>\n",
              "      <td>127.16</td>\n",
              "    </tr>\n",
              "    <tr>\n",
              "      <th>10</th>\n",
              "      <td>울산광역시</td>\n",
              "      <td>47</td>\n",
              "      <td>35.53</td>\n",
              "      <td>129.31</td>\n",
              "    </tr>\n",
              "    <tr>\n",
              "      <th>11</th>\n",
              "      <td>인천광역시</td>\n",
              "      <td>147</td>\n",
              "      <td>37.40</td>\n",
              "      <td>126.66</td>\n",
              "    </tr>\n",
              "    <tr>\n",
              "      <th>12</th>\n",
              "      <td>전라남도</td>\n",
              "      <td>181</td>\n",
              "      <td>34.80</td>\n",
              "      <td>126.69</td>\n",
              "    </tr>\n",
              "    <tr>\n",
              "      <th>13</th>\n",
              "      <td>전라북도</td>\n",
              "      <td>148</td>\n",
              "      <td>35.82</td>\n",
              "      <td>127.14</td>\n",
              "    </tr>\n",
              "    <tr>\n",
              "      <th>14</th>\n",
              "      <td>제주특별자치도</td>\n",
              "      <td>200</td>\n",
              "      <td>33.32</td>\n",
              "      <td>126.68</td>\n",
              "    </tr>\n",
              "    <tr>\n",
              "      <th>15</th>\n",
              "      <td>충청남도</td>\n",
              "      <td>116</td>\n",
              "      <td>36.45</td>\n",
              "      <td>126.80</td>\n",
              "    </tr>\n",
              "    <tr>\n",
              "      <th>16</th>\n",
              "      <td>충청북도</td>\n",
              "      <td>172</td>\n",
              "      <td>36.64</td>\n",
              "      <td>127.48</td>\n",
              "    </tr>\n",
              "  </tbody>\n",
              "</table>\n",
              "</div>"
            ],
            "text/plain": [
              "       행정도시  위치수     위도      경도\n",
              "0       강원도  169  37.37  128.39\n",
              "1       경기도  761  37.24  127.17\n",
              "2      경상남도  252  35.18  128.10\n",
              "3      경상북도  193  36.56  128.72\n",
              "4     광주광역시   92  36.34  127.39\n",
              "5     대구광역시  233  35.85  128.56\n",
              "6     대전광역시  106  35.00  128.72\n",
              "7     부산광역시  134  35.18  129.08\n",
              "8     서울특별시  559  37.57  126.98\n",
              "9   세종특별자치시   63  36.30  127.16\n",
              "10    울산광역시   47  35.53  129.31\n",
              "11    인천광역시  147  37.40  126.66\n",
              "12     전라남도  181  34.80  126.69\n",
              "13     전라북도  148  35.82  127.14\n",
              "14  제주특별자치도  200  33.32  126.68\n",
              "15     충청남도  116  36.45  126.80\n",
              "16     충청북도  172  36.64  127.48"
            ]
          },
          "metadata": {
            "tags": []
          },
          "execution_count": 170
        }
      ]
    },
    {
      "cell_type": "code",
      "metadata": {
        "colab": {
          "base_uri": "https://localhost:8080/"
        },
        "id": "mbwceOAuCbkq",
        "outputId": "57714ec5-6a1e-49b9-cdbe-b38861dabaad"
      },
      "source": [
        "df_final['위도'][0], df_final['경도'][0]"
      ],
      "execution_count": null,
      "outputs": [
        {
          "output_type": "execute_result",
          "data": {
            "text/plain": [
              "(37.37, 128.39)"
            ]
          },
          "metadata": {
            "tags": []
          },
          "execution_count": 171
        }
      ]
    },
    {
      "cell_type": "code",
      "metadata": {
        "id": "zXDSSg1g-QV_"
      },
      "source": [
        "# 지도 출력을 위한 라이브러리 folium을 import 합니다.\n",
        "import folium\n",
        "\n",
        "# Map 함수를 사용하여 지도를 출력합니다.\n",
        "map_osm = folium.Map(location=[37.529622, 126.984307], zoom_start=11)"
      ],
      "execution_count": null,
      "outputs": []
    },
    {
      "cell_type": "code",
      "metadata": {
        "colab": {
          "base_uri": "https://localhost:8080/",
          "height": 394
        },
        "id": "r5oriGmC-0cC",
        "outputId": "207f6185-6343-49e7-e450-9b2ef3420e57"
      },
      "source": [
        "# 대한민국 가운데 좌표를 잡아 지도를 출력.\n",
        "map_osm = folium.Map(location=[36.529622, 126],\n",
        "                     zoom_start=7)\n",
        "\n",
        "# 지역 정보를 set 함수를 사용하여 행정도시 이름만 뽑아냄.\n",
        "for region in set(df_final['행정도시']):\n",
        "\n",
        "    # 해당 지역의 데이터 개수를 count에 저장.\n",
        "    count = len(df_final[df_final['행정도시'] == region])\n",
        "    # 해당 지역의 데이터를 df_final에서 뽑음.\n",
        "    CRS_region = df_final[df_final['행정도시'] == region]\n",
        "    lat = float(CRS_region['위도'])\n",
        "    lng = float(CRS_region['경도'])\n",
        "\n",
        "    # # CircleMarker를 사용하여 지역마다 원형마커를 생성.\n",
        "    folium.CircleMarker(location=[lat, lng], # 위치\n",
        "                        radius=count/15 + 30,\n",
        "                        fill=True,\n",
        "                        fill_color='#3186cc').add_to(map_osm)\n",
        "    \n",
        "map_osm"
      ],
      "execution_count": null,
      "outputs": [
        {
          "output_type": "execute_result",
          "data": {
            "text/html": [
              "<div style=\"width:100%;\"><div style=\"position:relative;width:100%;height:0;padding-bottom:60%;\"><span style=\"color:#565656\">Make this Notebook Trusted to load map: File -> Trust Notebook</span><iframe src=\"about:blank\" style=\"position:absolute;width:100%;height:100%;left:0;top:0;border:none !important;\" data-html=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 onload=\"this.contentDocument.open();this.contentDocument.write(atob(this.getAttribute('data-html')));this.contentDocument.close();\" allowfullscreen webkitallowfullscreen mozallowfullscreen></iframe></div></div>"
            ],
            "text/plain": [
              "<folium.folium.Map at 0x7f1c43b199b0>"
            ]
          },
          "metadata": {
            "tags": []
          },
          "execution_count": 173
        }
      ]
    },
    {
      "cell_type": "code",
      "metadata": {
        "colab": {
          "base_uri": "https://localhost:8080/",
          "height": 394
        },
        "id": "N0qxgpNJ_lFN",
        "outputId": "d36f3394-9017-43f3-ab8a-3f508733c40a"
      },
      "source": [
        "map_osm = folium.Map(location=[36.529622, 126], zoom_start=7)\n",
        "folium.CircleMarker([df_final['위도'][0], df_final['경도'][0]],radius=df_final['위치수'][0]*0.1, fill=True, fill_color='#3186cc').add_to(map_osm)\n",
        "folium.CircleMarker([df_final['위도'][1], df_final['경도'][1]],radius=df_final['위치수'][1]*0.1, fill=True, fill_color='PuRd').add_to(map_osm) # 경기\n",
        "folium.CircleMarker([df_final['위도'][2], df_final['경도'][2]],radius=df_final['위치수'][2]*0.1, fill=True, fill_color='#3186cc').add_to(map_osm)\n",
        "folium.CircleMarker([df_final['위도'][3], df_final['경도'][3]],radius=df_final['위치수'][3]*0.1, fill=True, fill_color='#3186cc').add_to(map_osm)\n",
        "folium.CircleMarker([df_final['위도'][4], df_final['경도'][4]],radius=df_final['위치수'][4]*0.1, fill=True, fill_color='#3186cc').add_to(map_osm)\n",
        "folium.CircleMarker([df_final['위도'][5], df_final['경도'][5]],radius=df_final['위치수'][5]*0.1, fill=True, fill_color='#3186cc').add_to(map_osm)\n",
        "folium.CircleMarker([df_final['위도'][6], df_final['경도'][6]],radius=df_final['위치수'][6]*0.1, fill=True, fill_color='#3186cc').add_to(map_osm)\n",
        "folium.CircleMarker([df_final['위도'][7], df_final['경도'][7]],radius=df_final['위치수'][7]*0.1, fill=True, fill_color='#3186cc').add_to(map_osm)\n",
        "folium.CircleMarker([df_final['위도'][8], df_final['경도'][8]],radius=df_final['위치수'][8]*0.1, fill=True, fill_color='YlGnBu').add_to(map_osm) # 서울\n",
        "folium.CircleMarker([df_final['위도'][9], df_final['경도'][9]],radius=df_final['위치수'][9]*0.1, fill=True, fill_color='#3186cc').add_to(map_osm)\n",
        "folium.CircleMarker([df_final['위도'][10], df_final['경도'][10]],radius=df_final['위치수'][10]*0.1, fill=True, fill_color='#3186cc').add_to(map_osm)\n",
        "folium.CircleMarker([df_final['위도'][11], df_final['경도'][11]],radius=df_final['위치수'][11]*0.1, fill=True, fill_color='#3186cc').add_to(map_osm)\n",
        "folium.CircleMarker([df_final['위도'][12], df_final['경도'][12]],radius=df_final['위치수'][12]*0.1, fill=True, fill_color='#3186cc').add_to(map_osm)\n",
        "folium.CircleMarker([df_final['위도'][13], df_final['경도'][13]],radius=df_final['위치수'][13]*0.1, fill=True, fill_color='#3186cc').add_to(map_osm)\n",
        "folium.CircleMarker([df_final['위도'][14], df_final['경도'][14]],radius=df_final['위치수'][14]*0.1, fill=True, fill_color='#3186cc').add_to(map_osm)\n",
        "folium.CircleMarker([df_final['위도'][15], df_final['경도'][15]],radius=df_final['위치수'][15]*0.1, fill=True, fill_color='#3186cc').add_to(map_osm)\n",
        "folium.CircleMarker([df_final['위도'][16], df_final['경도'][16]],radius=df_final['위치수'][16]*0.1, fill=True, fill_color='#3186cc').add_to(map_osm)\n",
        "map_osm\n",
        "# 대부분의 충전소가 수도권에 모여있음을 알 수 있음."
      ],
      "execution_count": null,
      "outputs": [
        {
          "output_type": "execute_result",
          "data": {
            "text/html": [
              "<div style=\"width:100%;\"><div style=\"position:relative;width:100%;height:0;padding-bottom:60%;\"><span style=\"color:#565656\">Make this Notebook Trusted to load map: File -> Trust Notebook</span><iframe src=\"about:blank\" style=\"position:absolute;width:100%;height:100%;left:0;top:0;border:none !important;\" data-html=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 onload=\"this.contentDocument.open();this.contentDocument.write(atob(this.getAttribute('data-html')));this.contentDocument.close();\" allowfullscreen webkitallowfullscreen mozallowfullscreen></iframe></div></div>"
            ],
            "text/plain": [
              "<folium.folium.Map at 0x7f1c43adf128>"
            ]
          },
          "metadata": {
            "tags": []
          },
          "execution_count": 174
        }
      ]
    },
    {
      "cell_type": "markdown",
      "metadata": {
        "id": "uuZDjbWZZa3j"
      },
      "source": [
        "### 2. 바그래프"
      ]
    },
    {
      "cell_type": "code",
      "metadata": {
        "colab": {
          "base_uri": "https://localhost:8080/",
          "height": 204
        },
        "id": "CB-g3G8qga67",
        "outputId": "a7f8b4ff-d65b-46c9-da04-4afe83560a9d"
      },
      "source": [
        "#급속과 완속의 콜론도 있는 df\n",
        "col = ['행정도시', '급속', '완속', '충전기합계']\n",
        "ind = [1,2,3,4,5]\n",
        "con = [[0, 0, 0, 0], [0, 0, 0, 0],[0, 0, 0, 0], [0, 0, 0, 0], [0, 0, 0, 0]]\n",
        "\n",
        "speed = pd.DataFrame(con, columns = col, index = ind)\n",
        "\n",
        "speed"
      ],
      "execution_count": null,
      "outputs": [
        {
          "output_type": "execute_result",
          "data": {
            "text/html": [
              "<div>\n",
              "<style scoped>\n",
              "    .dataframe tbody tr th:only-of-type {\n",
              "        vertical-align: middle;\n",
              "    }\n",
              "\n",
              "    .dataframe tbody tr th {\n",
              "        vertical-align: top;\n",
              "    }\n",
              "\n",
              "    .dataframe thead th {\n",
              "        text-align: right;\n",
              "    }\n",
              "</style>\n",
              "<table border=\"1\" class=\"dataframe\">\n",
              "  <thead>\n",
              "    <tr style=\"text-align: right;\">\n",
              "      <th></th>\n",
              "      <th>행정도시</th>\n",
              "      <th>급속</th>\n",
              "      <th>완속</th>\n",
              "      <th>충전기합계</th>\n",
              "    </tr>\n",
              "  </thead>\n",
              "  <tbody>\n",
              "    <tr>\n",
              "      <th>1</th>\n",
              "      <td>0</td>\n",
              "      <td>0</td>\n",
              "      <td>0</td>\n",
              "      <td>0</td>\n",
              "    </tr>\n",
              "    <tr>\n",
              "      <th>2</th>\n",
              "      <td>0</td>\n",
              "      <td>0</td>\n",
              "      <td>0</td>\n",
              "      <td>0</td>\n",
              "    </tr>\n",
              "    <tr>\n",
              "      <th>3</th>\n",
              "      <td>0</td>\n",
              "      <td>0</td>\n",
              "      <td>0</td>\n",
              "      <td>0</td>\n",
              "    </tr>\n",
              "    <tr>\n",
              "      <th>4</th>\n",
              "      <td>0</td>\n",
              "      <td>0</td>\n",
              "      <td>0</td>\n",
              "      <td>0</td>\n",
              "    </tr>\n",
              "    <tr>\n",
              "      <th>5</th>\n",
              "      <td>0</td>\n",
              "      <td>0</td>\n",
              "      <td>0</td>\n",
              "      <td>0</td>\n",
              "    </tr>\n",
              "  </tbody>\n",
              "</table>\n",
              "</div>"
            ],
            "text/plain": [
              "   행정도시  급속  완속  충전기합계\n",
              "1     0   0   0      0\n",
              "2     0   0   0      0\n",
              "3     0   0   0      0\n",
              "4     0   0   0      0\n",
              "5     0   0   0      0"
            ]
          },
          "metadata": {
            "tags": []
          },
          "execution_count": 175
        }
      ]
    },
    {
      "cell_type": "code",
      "metadata": {
        "colab": {
          "base_uri": "https://localhost:8080/",
          "height": 576
        },
        "id": "B4BI2OPEhD8j",
        "outputId": "317f600c-1b56-4f4a-f015-8141684f2894"
      },
      "source": [
        "speed.loc[0] = ['서울특별시', new['급속'].sum(), new['완속'].sum(), new['급속'].sum()+new['완속'].sum()]\n",
        "speed.loc[1] = ['인천광역시', new1['급속'].sum(), new1['완속'].sum(), new1['급속'].sum()+new1['완속'].sum()]\n",
        "speed.loc[2] = ['경기도', new2['급속'].sum(), new2['완속'].sum(), new2['급속'].sum()+new2['완속'].sum()]\n",
        "speed.loc[3] = ['강원도', new3['급속'].sum(), new3['완속'].sum(), new3['급속'].sum()+new3['완속'].sum()]\n",
        "speed.loc[4] = ['충청남도', new4['급속'].sum(), new4['완속'].sum(), new4['급속'].sum()+new4['완속'].sum()]\n",
        "speed.loc[5] = ['충청북도', new5['급속'].sum(), new5['완속'].sum(), new5['급속'].sum()+new5['완속'].sum()]\n",
        "speed.loc[6] = ['전라남도', new6['급속'].sum(), new6['완속'].sum(), new6['급속'].sum()+new6['완속'].sum()]\n",
        "speed.loc[7] = ['전라북도', new7['급속'].sum(), new7['완속'].sum(), new7['급속'].sum()+new7['완속'].sum()]\n",
        "speed.loc[8] = ['경상남도', new8['급속'].sum(), new8['완속'].sum(), new8['급속'].sum()+new8['완속'].sum()]\n",
        "speed.loc[9] = ['경상북도', new9['급속'].sum(), new9['완속'].sum(), new9['급속'].sum()+new9['완속'].sum()]\n",
        "speed.loc[10] = ['제주특별자치도', new10['급속'].sum(), new10['완속'].sum(), new10['급속'].sum()+new10['완속'].sum()]\n",
        "speed.loc[11] = ['대전광역시', new11['급속'].sum(), new11['완속'].sum(), new11['급속'].sum()+new11['완속'].sum()]\n",
        "speed.loc[12] = ['울산광역시', new12['급속'].sum(), new12['완속'].sum(), new12['급속'].sum()+new12['완속'].sum()]\n",
        "speed.loc[13] = ['광주광역시', new13['급속'].sum(), new13['완속'].sum(), new13['급속'].sum()+new13['완속'].sum()]\n",
        "speed.loc[14] = ['부산광역시', new14['급속'].sum(), new14['완속'].sum(), new14['급속'].sum()+new14['완속'].sum()]\n",
        "speed.loc[15] = ['대구광역시', new15['급속'].sum(), new15['완속'].sum(), new15['급속'].sum()+new15['완속'].sum()]\n",
        "speed.loc[16] = ['세종특별자치시', new16['급속'].sum(), new16['완속'].sum(), new16['급속'].sum()+new16['완속'].sum()]\n",
        "\n",
        "speed"
      ],
      "execution_count": null,
      "outputs": [
        {
          "output_type": "execute_result",
          "data": {
            "text/html": [
              "<div>\n",
              "<style scoped>\n",
              "    .dataframe tbody tr th:only-of-type {\n",
              "        vertical-align: middle;\n",
              "    }\n",
              "\n",
              "    .dataframe tbody tr th {\n",
              "        vertical-align: top;\n",
              "    }\n",
              "\n",
              "    .dataframe thead th {\n",
              "        text-align: right;\n",
              "    }\n",
              "</style>\n",
              "<table border=\"1\" class=\"dataframe\">\n",
              "  <thead>\n",
              "    <tr style=\"text-align: right;\">\n",
              "      <th></th>\n",
              "      <th>행정도시</th>\n",
              "      <th>급속</th>\n",
              "      <th>완속</th>\n",
              "      <th>충전기합계</th>\n",
              "    </tr>\n",
              "  </thead>\n",
              "  <tbody>\n",
              "    <tr>\n",
              "      <th>1</th>\n",
              "      <td>인천광역시</td>\n",
              "      <td>136</td>\n",
              "      <td>310</td>\n",
              "      <td>446</td>\n",
              "    </tr>\n",
              "    <tr>\n",
              "      <th>2</th>\n",
              "      <td>경기도</td>\n",
              "      <td>667</td>\n",
              "      <td>1482</td>\n",
              "      <td>2149</td>\n",
              "    </tr>\n",
              "    <tr>\n",
              "      <th>3</th>\n",
              "      <td>강원도</td>\n",
              "      <td>138</td>\n",
              "      <td>184</td>\n",
              "      <td>322</td>\n",
              "    </tr>\n",
              "    <tr>\n",
              "      <th>4</th>\n",
              "      <td>충청남도</td>\n",
              "      <td>120</td>\n",
              "      <td>158</td>\n",
              "      <td>278</td>\n",
              "    </tr>\n",
              "    <tr>\n",
              "      <th>5</th>\n",
              "      <td>충청북도</td>\n",
              "      <td>146</td>\n",
              "      <td>253</td>\n",
              "      <td>399</td>\n",
              "    </tr>\n",
              "    <tr>\n",
              "      <th>0</th>\n",
              "      <td>서울특별시</td>\n",
              "      <td>453</td>\n",
              "      <td>922</td>\n",
              "      <td>1375</td>\n",
              "    </tr>\n",
              "    <tr>\n",
              "      <th>6</th>\n",
              "      <td>전라남도</td>\n",
              "      <td>192</td>\n",
              "      <td>215</td>\n",
              "      <td>407</td>\n",
              "    </tr>\n",
              "    <tr>\n",
              "      <th>7</th>\n",
              "      <td>전라북도</td>\n",
              "      <td>129</td>\n",
              "      <td>212</td>\n",
              "      <td>341</td>\n",
              "    </tr>\n",
              "    <tr>\n",
              "      <th>8</th>\n",
              "      <td>경상남도</td>\n",
              "      <td>228</td>\n",
              "      <td>368</td>\n",
              "      <td>596</td>\n",
              "    </tr>\n",
              "    <tr>\n",
              "      <th>9</th>\n",
              "      <td>경상북도</td>\n",
              "      <td>188</td>\n",
              "      <td>238</td>\n",
              "      <td>426</td>\n",
              "    </tr>\n",
              "    <tr>\n",
              "      <th>10</th>\n",
              "      <td>제주특별자치도</td>\n",
              "      <td>203</td>\n",
              "      <td>224</td>\n",
              "      <td>427</td>\n",
              "    </tr>\n",
              "    <tr>\n",
              "      <th>11</th>\n",
              "      <td>대전광역시</td>\n",
              "      <td>116</td>\n",
              "      <td>183</td>\n",
              "      <td>299</td>\n",
              "    </tr>\n",
              "    <tr>\n",
              "      <th>12</th>\n",
              "      <td>울산광역시</td>\n",
              "      <td>50</td>\n",
              "      <td>65</td>\n",
              "      <td>115</td>\n",
              "    </tr>\n",
              "    <tr>\n",
              "      <th>13</th>\n",
              "      <td>광주광역시</td>\n",
              "      <td>69</td>\n",
              "      <td>134</td>\n",
              "      <td>203</td>\n",
              "    </tr>\n",
              "    <tr>\n",
              "      <th>14</th>\n",
              "      <td>부산광역시</td>\n",
              "      <td>131</td>\n",
              "      <td>205</td>\n",
              "      <td>336</td>\n",
              "    </tr>\n",
              "    <tr>\n",
              "      <th>15</th>\n",
              "      <td>대구광역시</td>\n",
              "      <td>223</td>\n",
              "      <td>393</td>\n",
              "      <td>616</td>\n",
              "    </tr>\n",
              "    <tr>\n",
              "      <th>16</th>\n",
              "      <td>세종특별자치시</td>\n",
              "      <td>69</td>\n",
              "      <td>124</td>\n",
              "      <td>193</td>\n",
              "    </tr>\n",
              "  </tbody>\n",
              "</table>\n",
              "</div>"
            ],
            "text/plain": [
              "       행정도시   급속    완속  충전기합계\n",
              "1     인천광역시  136   310    446\n",
              "2       경기도  667  1482   2149\n",
              "3       강원도  138   184    322\n",
              "4      충청남도  120   158    278\n",
              "5      충청북도  146   253    399\n",
              "0     서울특별시  453   922   1375\n",
              "6      전라남도  192   215    407\n",
              "7      전라북도  129   212    341\n",
              "8      경상남도  228   368    596\n",
              "9      경상북도  188   238    426\n",
              "10  제주특별자치도  203   224    427\n",
              "11    대전광역시  116   183    299\n",
              "12    울산광역시   50    65    115\n",
              "13    광주광역시   69   134    203\n",
              "14    부산광역시  131   205    336\n",
              "15    대구광역시  223   393    616\n",
              "16  세종특별자치시   69   124    193"
            ]
          },
          "metadata": {
            "tags": []
          },
          "execution_count": 176
        }
      ]
    },
    {
      "cell_type": "code",
      "metadata": {
        "colab": {
          "base_uri": "https://localhost:8080/"
        },
        "id": "yS8Qjfh5laiM",
        "outputId": "307864c6-45b5-46c5-9e90-a4f4175cbf34"
      },
      "source": [
        "speed.info()"
      ],
      "execution_count": null,
      "outputs": [
        {
          "output_type": "stream",
          "text": [
            "<class 'pandas.core.frame.DataFrame'>\n",
            "Int64Index: 17 entries, 1 to 16\n",
            "Data columns (total 4 columns):\n",
            " #   Column  Non-Null Count  Dtype \n",
            "---  ------  --------------  ----- \n",
            " 0   행정도시    17 non-null     object\n",
            " 1   급속      17 non-null     int64 \n",
            " 2   완속      17 non-null     int64 \n",
            " 3   충전기합계   17 non-null     int64 \n",
            "dtypes: int64(3), object(1)\n",
            "memory usage: 680.0+ bytes\n"
          ],
          "name": "stdout"
        }
      ]
    },
    {
      "cell_type": "code",
      "metadata": {
        "colab": {
          "base_uri": "https://localhost:8080/"
        },
        "id": "ImBnJ-UJLx9x",
        "outputId": "11755b28-aaca-4357-c70a-7b5fb070e2d9"
      },
      "source": [
        "speed['완속'].sum()"
      ],
      "execution_count": null,
      "outputs": [
        {
          "output_type": "execute_result",
          "data": {
            "text/plain": [
              "5670"
            ]
          },
          "metadata": {
            "tags": []
          },
          "execution_count": 208
        }
      ]
    },
    {
      "cell_type": "code",
      "metadata": {
        "colab": {
          "base_uri": "https://localhost:8080/",
          "height": 607
        },
        "id": "vn3li17YnJC7",
        "outputId": "28cc77d6-3fa7-42f8-fc4c-3a915c9e6122"
      },
      "source": [
        "charger = pd.pivot_table(speed, index = '행정도시', values = '충전기합계', aggfunc = 'sum') # 행정도시를 기준으로 충전소개수보기\n",
        "charger"
      ],
      "execution_count": null,
      "outputs": [
        {
          "output_type": "execute_result",
          "data": {
            "text/html": [
              "<div>\n",
              "<style scoped>\n",
              "    .dataframe tbody tr th:only-of-type {\n",
              "        vertical-align: middle;\n",
              "    }\n",
              "\n",
              "    .dataframe tbody tr th {\n",
              "        vertical-align: top;\n",
              "    }\n",
              "\n",
              "    .dataframe thead th {\n",
              "        text-align: right;\n",
              "    }\n",
              "</style>\n",
              "<table border=\"1\" class=\"dataframe\">\n",
              "  <thead>\n",
              "    <tr style=\"text-align: right;\">\n",
              "      <th></th>\n",
              "      <th>충전기합계</th>\n",
              "    </tr>\n",
              "    <tr>\n",
              "      <th>행정도시</th>\n",
              "      <th></th>\n",
              "    </tr>\n",
              "  </thead>\n",
              "  <tbody>\n",
              "    <tr>\n",
              "      <th>강원도</th>\n",
              "      <td>322</td>\n",
              "    </tr>\n",
              "    <tr>\n",
              "      <th>경기도</th>\n",
              "      <td>2149</td>\n",
              "    </tr>\n",
              "    <tr>\n",
              "      <th>경상남도</th>\n",
              "      <td>596</td>\n",
              "    </tr>\n",
              "    <tr>\n",
              "      <th>경상북도</th>\n",
              "      <td>426</td>\n",
              "    </tr>\n",
              "    <tr>\n",
              "      <th>광주광역시</th>\n",
              "      <td>203</td>\n",
              "    </tr>\n",
              "    <tr>\n",
              "      <th>대구광역시</th>\n",
              "      <td>616</td>\n",
              "    </tr>\n",
              "    <tr>\n",
              "      <th>대전광역시</th>\n",
              "      <td>299</td>\n",
              "    </tr>\n",
              "    <tr>\n",
              "      <th>부산광역시</th>\n",
              "      <td>336</td>\n",
              "    </tr>\n",
              "    <tr>\n",
              "      <th>서울특별시</th>\n",
              "      <td>1375</td>\n",
              "    </tr>\n",
              "    <tr>\n",
              "      <th>세종특별자치시</th>\n",
              "      <td>193</td>\n",
              "    </tr>\n",
              "    <tr>\n",
              "      <th>울산광역시</th>\n",
              "      <td>115</td>\n",
              "    </tr>\n",
              "    <tr>\n",
              "      <th>인천광역시</th>\n",
              "      <td>446</td>\n",
              "    </tr>\n",
              "    <tr>\n",
              "      <th>전라남도</th>\n",
              "      <td>407</td>\n",
              "    </tr>\n",
              "    <tr>\n",
              "      <th>전라북도</th>\n",
              "      <td>341</td>\n",
              "    </tr>\n",
              "    <tr>\n",
              "      <th>제주특별자치도</th>\n",
              "      <td>427</td>\n",
              "    </tr>\n",
              "    <tr>\n",
              "      <th>충청남도</th>\n",
              "      <td>278</td>\n",
              "    </tr>\n",
              "    <tr>\n",
              "      <th>충청북도</th>\n",
              "      <td>399</td>\n",
              "    </tr>\n",
              "  </tbody>\n",
              "</table>\n",
              "</div>"
            ],
            "text/plain": [
              "         충전기합계\n",
              "행정도시          \n",
              "강원도        322\n",
              "경기도       2149\n",
              "경상남도       596\n",
              "경상북도       426\n",
              "광주광역시      203\n",
              "대구광역시      616\n",
              "대전광역시      299\n",
              "부산광역시      336\n",
              "서울특별시     1375\n",
              "세종특별자치시    193\n",
              "울산광역시      115\n",
              "인천광역시      446\n",
              "전라남도       407\n",
              "전라북도       341\n",
              "제주특별자치도    427\n",
              "충청남도       278\n",
              "충청북도       399"
            ]
          },
          "metadata": {
            "tags": []
          },
          "execution_count": 178
        }
      ]
    },
    {
      "cell_type": "code",
      "metadata": {
        "id": "QXGh8r-Op4wJ"
      },
      "source": [
        "import matplotlib.font_manager as fm\n",
        "path = '/usr/share/fonts/truetype/nanum/NanumGothic.ttf'\n",
        "font_name = fm.FontProperties(fname=path, size=10).get_name()\n",
        "plt.rc('font', family=font_name)\n",
        "fm._rebuild()"
      ],
      "execution_count": null,
      "outputs": []
    },
    {
      "cell_type": "code",
      "metadata": {
        "colab": {
          "base_uri": "https://localhost:8080/",
          "height": 1000
        },
        "id": "xuZ5N0dWnxVO",
        "outputId": "ecb01fdf-761d-491c-d3b6-358d15f0fc12"
      },
      "source": [
        "charger.plot(kind='bar')\n",
        "plt.show()\n",
        "#경기도와 서울에 몰려있음을 볼 수 있음."
      ],
      "execution_count": null,
      "outputs": [
        {
          "output_type": "stream",
          "text": [
            "findfont: Font family ['NanumGothic'] not found. Falling back to DejaVu Sans.\n",
            "/usr/local/lib/python3.6/dist-packages/matplotlib/backends/backend_agg.py:214: RuntimeWarning: Glyph 44053 missing from current font.\n",
            "  font.set_text(s, 0.0, flags=flags)\n",
            "/usr/local/lib/python3.6/dist-packages/matplotlib/backends/backend_agg.py:214: RuntimeWarning: Glyph 50896 missing from current font.\n",
            "  font.set_text(s, 0.0, flags=flags)\n",
            "/usr/local/lib/python3.6/dist-packages/matplotlib/backends/backend_agg.py:214: RuntimeWarning: Glyph 46020 missing from current font.\n",
            "  font.set_text(s, 0.0, flags=flags)\n",
            "/usr/local/lib/python3.6/dist-packages/matplotlib/backends/backend_agg.py:214: RuntimeWarning: Glyph 44221 missing from current font.\n",
            "  font.set_text(s, 0.0, flags=flags)\n",
            "/usr/local/lib/python3.6/dist-packages/matplotlib/backends/backend_agg.py:214: RuntimeWarning: Glyph 44592 missing from current font.\n",
            "  font.set_text(s, 0.0, flags=flags)\n",
            "/usr/local/lib/python3.6/dist-packages/matplotlib/backends/backend_agg.py:214: RuntimeWarning: Glyph 49345 missing from current font.\n",
            "  font.set_text(s, 0.0, flags=flags)\n",
            "/usr/local/lib/python3.6/dist-packages/matplotlib/backends/backend_agg.py:214: RuntimeWarning: Glyph 45224 missing from current font.\n",
            "  font.set_text(s, 0.0, flags=flags)\n",
            "/usr/local/lib/python3.6/dist-packages/matplotlib/backends/backend_agg.py:214: RuntimeWarning: Glyph 48513 missing from current font.\n",
            "  font.set_text(s, 0.0, flags=flags)\n",
            "/usr/local/lib/python3.6/dist-packages/matplotlib/backends/backend_agg.py:214: RuntimeWarning: Glyph 44305 missing from current font.\n",
            "  font.set_text(s, 0.0, flags=flags)\n",
            "/usr/local/lib/python3.6/dist-packages/matplotlib/backends/backend_agg.py:214: RuntimeWarning: Glyph 51452 missing from current font.\n",
            "  font.set_text(s, 0.0, flags=flags)\n",
            "/usr/local/lib/python3.6/dist-packages/matplotlib/backends/backend_agg.py:214: RuntimeWarning: Glyph 50669 missing from current font.\n",
            "  font.set_text(s, 0.0, flags=flags)\n",
            "/usr/local/lib/python3.6/dist-packages/matplotlib/backends/backend_agg.py:214: RuntimeWarning: Glyph 49884 missing from current font.\n",
            "  font.set_text(s, 0.0, flags=flags)\n",
            "/usr/local/lib/python3.6/dist-packages/matplotlib/backends/backend_agg.py:214: RuntimeWarning: Glyph 45824 missing from current font.\n",
            "  font.set_text(s, 0.0, flags=flags)\n",
            "/usr/local/lib/python3.6/dist-packages/matplotlib/backends/backend_agg.py:214: RuntimeWarning: Glyph 44396 missing from current font.\n",
            "  font.set_text(s, 0.0, flags=flags)\n",
            "/usr/local/lib/python3.6/dist-packages/matplotlib/backends/backend_agg.py:214: RuntimeWarning: Glyph 51204 missing from current font.\n",
            "  font.set_text(s, 0.0, flags=flags)\n",
            "/usr/local/lib/python3.6/dist-packages/matplotlib/backends/backend_agg.py:214: RuntimeWarning: Glyph 48512 missing from current font.\n",
            "  font.set_text(s, 0.0, flags=flags)\n",
            "/usr/local/lib/python3.6/dist-packages/matplotlib/backends/backend_agg.py:214: RuntimeWarning: Glyph 49328 missing from current font.\n",
            "  font.set_text(s, 0.0, flags=flags)\n",
            "/usr/local/lib/python3.6/dist-packages/matplotlib/backends/backend_agg.py:214: RuntimeWarning: Glyph 49436 missing from current font.\n",
            "  font.set_text(s, 0.0, flags=flags)\n",
            "/usr/local/lib/python3.6/dist-packages/matplotlib/backends/backend_agg.py:214: RuntimeWarning: Glyph 50872 missing from current font.\n",
            "  font.set_text(s, 0.0, flags=flags)\n",
            "/usr/local/lib/python3.6/dist-packages/matplotlib/backends/backend_agg.py:214: RuntimeWarning: Glyph 53945 missing from current font.\n",
            "  font.set_text(s, 0.0, flags=flags)\n",
            "/usr/local/lib/python3.6/dist-packages/matplotlib/backends/backend_agg.py:214: RuntimeWarning: Glyph 48324 missing from current font.\n",
            "  font.set_text(s, 0.0, flags=flags)\n",
            "/usr/local/lib/python3.6/dist-packages/matplotlib/backends/backend_agg.py:214: RuntimeWarning: Glyph 49464 missing from current font.\n",
            "  font.set_text(s, 0.0, flags=flags)\n",
            "/usr/local/lib/python3.6/dist-packages/matplotlib/backends/backend_agg.py:214: RuntimeWarning: Glyph 51333 missing from current font.\n",
            "  font.set_text(s, 0.0, flags=flags)\n",
            "/usr/local/lib/python3.6/dist-packages/matplotlib/backends/backend_agg.py:214: RuntimeWarning: Glyph 51088 missing from current font.\n",
            "  font.set_text(s, 0.0, flags=flags)\n",
            "/usr/local/lib/python3.6/dist-packages/matplotlib/backends/backend_agg.py:214: RuntimeWarning: Glyph 52824 missing from current font.\n",
            "  font.set_text(s, 0.0, flags=flags)\n",
            "/usr/local/lib/python3.6/dist-packages/matplotlib/backends/backend_agg.py:214: RuntimeWarning: Glyph 51064 missing from current font.\n",
            "  font.set_text(s, 0.0, flags=flags)\n",
            "/usr/local/lib/python3.6/dist-packages/matplotlib/backends/backend_agg.py:214: RuntimeWarning: Glyph 52380 missing from current font.\n",
            "  font.set_text(s, 0.0, flags=flags)\n",
            "/usr/local/lib/python3.6/dist-packages/matplotlib/backends/backend_agg.py:214: RuntimeWarning: Glyph 46972 missing from current font.\n",
            "  font.set_text(s, 0.0, flags=flags)\n",
            "/usr/local/lib/python3.6/dist-packages/matplotlib/backends/backend_agg.py:214: RuntimeWarning: Glyph 51228 missing from current font.\n",
            "  font.set_text(s, 0.0, flags=flags)\n",
            "/usr/local/lib/python3.6/dist-packages/matplotlib/backends/backend_agg.py:214: RuntimeWarning: Glyph 52649 missing from current font.\n",
            "  font.set_text(s, 0.0, flags=flags)\n",
            "/usr/local/lib/python3.6/dist-packages/matplotlib/backends/backend_agg.py:214: RuntimeWarning: Glyph 52397 missing from current font.\n",
            "  font.set_text(s, 0.0, flags=flags)\n",
            "findfont: Font family ['NanumGothic'] not found. Falling back to DejaVu Sans.\n",
            "/usr/local/lib/python3.6/dist-packages/matplotlib/backends/backend_agg.py:214: RuntimeWarning: Glyph 54665 missing from current font.\n",
            "  font.set_text(s, 0.0, flags=flags)\n",
            "/usr/local/lib/python3.6/dist-packages/matplotlib/backends/backend_agg.py:214: RuntimeWarning: Glyph 51221 missing from current font.\n",
            "  font.set_text(s, 0.0, flags=flags)\n",
            "/usr/local/lib/python3.6/dist-packages/matplotlib/backends/backend_agg.py:214: RuntimeWarning: Glyph 54633 missing from current font.\n",
            "  font.set_text(s, 0.0, flags=flags)\n",
            "/usr/local/lib/python3.6/dist-packages/matplotlib/backends/backend_agg.py:214: RuntimeWarning: Glyph 44228 missing from current font.\n",
            "  font.set_text(s, 0.0, flags=flags)\n",
            "/usr/local/lib/python3.6/dist-packages/matplotlib/backends/backend_agg.py:183: RuntimeWarning: Glyph 44053 missing from current font.\n",
            "  font.set_text(s, 0, flags=flags)\n",
            "/usr/local/lib/python3.6/dist-packages/matplotlib/backends/backend_agg.py:183: RuntimeWarning: Glyph 50896 missing from current font.\n",
            "  font.set_text(s, 0, flags=flags)\n",
            "/usr/local/lib/python3.6/dist-packages/matplotlib/backends/backend_agg.py:183: RuntimeWarning: Glyph 46020 missing from current font.\n",
            "  font.set_text(s, 0, flags=flags)\n",
            "/usr/local/lib/python3.6/dist-packages/matplotlib/backends/backend_agg.py:183: RuntimeWarning: Glyph 44221 missing from current font.\n",
            "  font.set_text(s, 0, flags=flags)\n",
            "/usr/local/lib/python3.6/dist-packages/matplotlib/backends/backend_agg.py:183: RuntimeWarning: Glyph 44592 missing from current font.\n",
            "  font.set_text(s, 0, flags=flags)\n",
            "/usr/local/lib/python3.6/dist-packages/matplotlib/backends/backend_agg.py:183: RuntimeWarning: Glyph 49345 missing from current font.\n",
            "  font.set_text(s, 0, flags=flags)\n",
            "/usr/local/lib/python3.6/dist-packages/matplotlib/backends/backend_agg.py:183: RuntimeWarning: Glyph 45224 missing from current font.\n",
            "  font.set_text(s, 0, flags=flags)\n",
            "/usr/local/lib/python3.6/dist-packages/matplotlib/backends/backend_agg.py:183: RuntimeWarning: Glyph 48513 missing from current font.\n",
            "  font.set_text(s, 0, flags=flags)\n",
            "/usr/local/lib/python3.6/dist-packages/matplotlib/backends/backend_agg.py:183: RuntimeWarning: Glyph 44305 missing from current font.\n",
            "  font.set_text(s, 0, flags=flags)\n",
            "/usr/local/lib/python3.6/dist-packages/matplotlib/backends/backend_agg.py:183: RuntimeWarning: Glyph 51452 missing from current font.\n",
            "  font.set_text(s, 0, flags=flags)\n",
            "/usr/local/lib/python3.6/dist-packages/matplotlib/backends/backend_agg.py:183: RuntimeWarning: Glyph 50669 missing from current font.\n",
            "  font.set_text(s, 0, flags=flags)\n",
            "/usr/local/lib/python3.6/dist-packages/matplotlib/backends/backend_agg.py:183: RuntimeWarning: Glyph 49884 missing from current font.\n",
            "  font.set_text(s, 0, flags=flags)\n",
            "/usr/local/lib/python3.6/dist-packages/matplotlib/backends/backend_agg.py:183: RuntimeWarning: Glyph 45824 missing from current font.\n",
            "  font.set_text(s, 0, flags=flags)\n",
            "/usr/local/lib/python3.6/dist-packages/matplotlib/backends/backend_agg.py:183: RuntimeWarning: Glyph 44396 missing from current font.\n",
            "  font.set_text(s, 0, flags=flags)\n",
            "/usr/local/lib/python3.6/dist-packages/matplotlib/backends/backend_agg.py:183: RuntimeWarning: Glyph 51204 missing from current font.\n",
            "  font.set_text(s, 0, flags=flags)\n",
            "/usr/local/lib/python3.6/dist-packages/matplotlib/backends/backend_agg.py:183: RuntimeWarning: Glyph 48512 missing from current font.\n",
            "  font.set_text(s, 0, flags=flags)\n",
            "/usr/local/lib/python3.6/dist-packages/matplotlib/backends/backend_agg.py:183: RuntimeWarning: Glyph 49328 missing from current font.\n",
            "  font.set_text(s, 0, flags=flags)\n",
            "/usr/local/lib/python3.6/dist-packages/matplotlib/backends/backend_agg.py:183: RuntimeWarning: Glyph 49436 missing from current font.\n",
            "  font.set_text(s, 0, flags=flags)\n",
            "/usr/local/lib/python3.6/dist-packages/matplotlib/backends/backend_agg.py:183: RuntimeWarning: Glyph 50872 missing from current font.\n",
            "  font.set_text(s, 0, flags=flags)\n",
            "/usr/local/lib/python3.6/dist-packages/matplotlib/backends/backend_agg.py:183: RuntimeWarning: Glyph 53945 missing from current font.\n",
            "  font.set_text(s, 0, flags=flags)\n",
            "/usr/local/lib/python3.6/dist-packages/matplotlib/backends/backend_agg.py:183: RuntimeWarning: Glyph 48324 missing from current font.\n",
            "  font.set_text(s, 0, flags=flags)\n",
            "/usr/local/lib/python3.6/dist-packages/matplotlib/backends/backend_agg.py:183: RuntimeWarning: Glyph 49464 missing from current font.\n",
            "  font.set_text(s, 0, flags=flags)\n",
            "/usr/local/lib/python3.6/dist-packages/matplotlib/backends/backend_agg.py:183: RuntimeWarning: Glyph 51333 missing from current font.\n",
            "  font.set_text(s, 0, flags=flags)\n",
            "/usr/local/lib/python3.6/dist-packages/matplotlib/backends/backend_agg.py:183: RuntimeWarning: Glyph 51088 missing from current font.\n",
            "  font.set_text(s, 0, flags=flags)\n",
            "/usr/local/lib/python3.6/dist-packages/matplotlib/backends/backend_agg.py:183: RuntimeWarning: Glyph 52824 missing from current font.\n",
            "  font.set_text(s, 0, flags=flags)\n",
            "/usr/local/lib/python3.6/dist-packages/matplotlib/backends/backend_agg.py:183: RuntimeWarning: Glyph 51064 missing from current font.\n",
            "  font.set_text(s, 0, flags=flags)\n",
            "/usr/local/lib/python3.6/dist-packages/matplotlib/backends/backend_agg.py:183: RuntimeWarning: Glyph 52380 missing from current font.\n",
            "  font.set_text(s, 0, flags=flags)\n",
            "/usr/local/lib/python3.6/dist-packages/matplotlib/backends/backend_agg.py:183: RuntimeWarning: Glyph 46972 missing from current font.\n",
            "  font.set_text(s, 0, flags=flags)\n",
            "/usr/local/lib/python3.6/dist-packages/matplotlib/backends/backend_agg.py:183: RuntimeWarning: Glyph 51228 missing from current font.\n",
            "  font.set_text(s, 0, flags=flags)\n",
            "/usr/local/lib/python3.6/dist-packages/matplotlib/backends/backend_agg.py:183: RuntimeWarning: Glyph 52649 missing from current font.\n",
            "  font.set_text(s, 0, flags=flags)\n",
            "/usr/local/lib/python3.6/dist-packages/matplotlib/backends/backend_agg.py:183: RuntimeWarning: Glyph 52397 missing from current font.\n",
            "  font.set_text(s, 0, flags=flags)\n",
            "/usr/local/lib/python3.6/dist-packages/matplotlib/backends/backend_agg.py:183: RuntimeWarning: Glyph 54665 missing from current font.\n",
            "  font.set_text(s, 0, flags=flags)\n",
            "/usr/local/lib/python3.6/dist-packages/matplotlib/backends/backend_agg.py:183: RuntimeWarning: Glyph 51221 missing from current font.\n",
            "  font.set_text(s, 0, flags=flags)\n",
            "/usr/local/lib/python3.6/dist-packages/matplotlib/backends/backend_agg.py:183: RuntimeWarning: Glyph 54633 missing from current font.\n",
            "  font.set_text(s, 0, flags=flags)\n",
            "/usr/local/lib/python3.6/dist-packages/matplotlib/backends/backend_agg.py:183: RuntimeWarning: Glyph 44228 missing from current font.\n",
            "  font.set_text(s, 0, flags=flags)\n"
          ],
          "name": "stderr"
        },
        {
          "output_type": "display_data",
          "data": {
            "image/png": "[encoded data removed]",
            "text/plain": [
              "<Figure size 432x288 with 1 Axes>"
            ]
          },
          "metadata": {
            "tags": [],
            "needs_background": "light"
          }
        }
      ]
    },
    {
      "cell_type": "code",
      "metadata": {
        "id": "gFkX1GowuJ69"
      },
      "source": [
        "fastc= pd.pivot_table(speed, index = '행정도시', values = '급속', aggfunc = 'sum') "
      ],
      "execution_count": null,
      "outputs": []
    },
    {
      "cell_type": "code",
      "metadata": {
        "id": "ig0hWK1aurnD"
      },
      "source": [
        "slowc = pd.pivot_table(speed, index = '행정도시', values = '완속', aggfunc = 'sum') # 주유소를 1로 치환 후, 합계를 연도별로 표시."
      ],
      "execution_count": null,
      "outputs": []
    },
    {
      "cell_type": "code",
      "metadata": {
        "id": "r13uG7Y2uuqu"
      },
      "source": [
        "bothc = pd.merge(fastc , slowc, on = '행정도시')"
      ],
      "execution_count": null,
      "outputs": []
    },
    {
      "cell_type": "code",
      "metadata": {
        "colab": {
          "base_uri": "https://localhost:8080/",
          "height": 1000
        },
        "id": "8aP3CL8Ov7lL",
        "outputId": "1921a487-1c72-415c-e666-5d62ddf2f218"
      },
      "source": [
        "bothc.plot(kind='bar')\n",
        "plt.show()\n",
        "#모든 도시에서 급속보다 완속이 많음을 알 수 있음. 완속은 충전시간이 느리기에 급속이 완속보다 많이 필요함. 앞으로는 급속 충전기 설치를 우선해야 할 것."
      ],
      "execution_count": null,
      "outputs": [
        {
          "output_type": "stream",
          "text": [
            "/usr/local/lib/python3.6/dist-packages/matplotlib/backends/backend_agg.py:214: RuntimeWarning: Glyph 44053 missing from current font.\n",
            "  font.set_text(s, 0.0, flags=flags)\n",
            "/usr/local/lib/python3.6/dist-packages/matplotlib/backends/backend_agg.py:214: RuntimeWarning: Glyph 50896 missing from current font.\n",
            "  font.set_text(s, 0.0, flags=flags)\n",
            "/usr/local/lib/python3.6/dist-packages/matplotlib/backends/backend_agg.py:214: RuntimeWarning: Glyph 46020 missing from current font.\n",
            "  font.set_text(s, 0.0, flags=flags)\n",
            "/usr/local/lib/python3.6/dist-packages/matplotlib/backends/backend_agg.py:214: RuntimeWarning: Glyph 44221 missing from current font.\n",
            "  font.set_text(s, 0.0, flags=flags)\n",
            "/usr/local/lib/python3.6/dist-packages/matplotlib/backends/backend_agg.py:214: RuntimeWarning: Glyph 44592 missing from current font.\n",
            "  font.set_text(s, 0.0, flags=flags)\n",
            "/usr/local/lib/python3.6/dist-packages/matplotlib/backends/backend_agg.py:214: RuntimeWarning: Glyph 49345 missing from current font.\n",
            "  font.set_text(s, 0.0, flags=flags)\n",
            "/usr/local/lib/python3.6/dist-packages/matplotlib/backends/backend_agg.py:214: RuntimeWarning: Glyph 45224 missing from current font.\n",
            "  font.set_text(s, 0.0, flags=flags)\n",
            "/usr/local/lib/python3.6/dist-packages/matplotlib/backends/backend_agg.py:214: RuntimeWarning: Glyph 48513 missing from current font.\n",
            "  font.set_text(s, 0.0, flags=flags)\n",
            "/usr/local/lib/python3.6/dist-packages/matplotlib/backends/backend_agg.py:214: RuntimeWarning: Glyph 44305 missing from current font.\n",
            "  font.set_text(s, 0.0, flags=flags)\n",
            "/usr/local/lib/python3.6/dist-packages/matplotlib/backends/backend_agg.py:214: RuntimeWarning: Glyph 51452 missing from current font.\n",
            "  font.set_text(s, 0.0, flags=flags)\n",
            "/usr/local/lib/python3.6/dist-packages/matplotlib/backends/backend_agg.py:214: RuntimeWarning: Glyph 50669 missing from current font.\n",
            "  font.set_text(s, 0.0, flags=flags)\n",
            "/usr/local/lib/python3.6/dist-packages/matplotlib/backends/backend_agg.py:214: RuntimeWarning: Glyph 49884 missing from current font.\n",
            "  font.set_text(s, 0.0, flags=flags)\n",
            "/usr/local/lib/python3.6/dist-packages/matplotlib/backends/backend_agg.py:214: RuntimeWarning: Glyph 45824 missing from current font.\n",
            "  font.set_text(s, 0.0, flags=flags)\n",
            "/usr/local/lib/python3.6/dist-packages/matplotlib/backends/backend_agg.py:214: RuntimeWarning: Glyph 44396 missing from current font.\n",
            "  font.set_text(s, 0.0, flags=flags)\n",
            "/usr/local/lib/python3.6/dist-packages/matplotlib/backends/backend_agg.py:214: RuntimeWarning: Glyph 51204 missing from current font.\n",
            "  font.set_text(s, 0.0, flags=flags)\n",
            "/usr/local/lib/python3.6/dist-packages/matplotlib/backends/backend_agg.py:214: RuntimeWarning: Glyph 48512 missing from current font.\n",
            "  font.set_text(s, 0.0, flags=flags)\n",
            "/usr/local/lib/python3.6/dist-packages/matplotlib/backends/backend_agg.py:214: RuntimeWarning: Glyph 49328 missing from current font.\n",
            "  font.set_text(s, 0.0, flags=flags)\n",
            "/usr/local/lib/python3.6/dist-packages/matplotlib/backends/backend_agg.py:214: RuntimeWarning: Glyph 49436 missing from current font.\n",
            "  font.set_text(s, 0.0, flags=flags)\n",
            "/usr/local/lib/python3.6/dist-packages/matplotlib/backends/backend_agg.py:214: RuntimeWarning: Glyph 50872 missing from current font.\n",
            "  font.set_text(s, 0.0, flags=flags)\n",
            "/usr/local/lib/python3.6/dist-packages/matplotlib/backends/backend_agg.py:214: RuntimeWarning: Glyph 53945 missing from current font.\n",
            "  font.set_text(s, 0.0, flags=flags)\n",
            "/usr/local/lib/python3.6/dist-packages/matplotlib/backends/backend_agg.py:214: RuntimeWarning: Glyph 48324 missing from current font.\n",
            "  font.set_text(s, 0.0, flags=flags)\n",
            "/usr/local/lib/python3.6/dist-packages/matplotlib/backends/backend_agg.py:214: RuntimeWarning: Glyph 49464 missing from current font.\n",
            "  font.set_text(s, 0.0, flags=flags)\n",
            "/usr/local/lib/python3.6/dist-packages/matplotlib/backends/backend_agg.py:214: RuntimeWarning: Glyph 51333 missing from current font.\n",
            "  font.set_text(s, 0.0, flags=flags)\n",
            "/usr/local/lib/python3.6/dist-packages/matplotlib/backends/backend_agg.py:214: RuntimeWarning: Glyph 51088 missing from current font.\n",
            "  font.set_text(s, 0.0, flags=flags)\n",
            "/usr/local/lib/python3.6/dist-packages/matplotlib/backends/backend_agg.py:214: RuntimeWarning: Glyph 52824 missing from current font.\n",
            "  font.set_text(s, 0.0, flags=flags)\n",
            "/usr/local/lib/python3.6/dist-packages/matplotlib/backends/backend_agg.py:214: RuntimeWarning: Glyph 51064 missing from current font.\n",
            "  font.set_text(s, 0.0, flags=flags)\n",
            "/usr/local/lib/python3.6/dist-packages/matplotlib/backends/backend_agg.py:214: RuntimeWarning: Glyph 52380 missing from current font.\n",
            "  font.set_text(s, 0.0, flags=flags)\n",
            "/usr/local/lib/python3.6/dist-packages/matplotlib/backends/backend_agg.py:214: RuntimeWarning: Glyph 46972 missing from current font.\n",
            "  font.set_text(s, 0.0, flags=flags)\n",
            "/usr/local/lib/python3.6/dist-packages/matplotlib/backends/backend_agg.py:214: RuntimeWarning: Glyph 51228 missing from current font.\n",
            "  font.set_text(s, 0.0, flags=flags)\n",
            "/usr/local/lib/python3.6/dist-packages/matplotlib/backends/backend_agg.py:214: RuntimeWarning: Glyph 52649 missing from current font.\n",
            "  font.set_text(s, 0.0, flags=flags)\n",
            "/usr/local/lib/python3.6/dist-packages/matplotlib/backends/backend_agg.py:214: RuntimeWarning: Glyph 52397 missing from current font.\n",
            "  font.set_text(s, 0.0, flags=flags)\n",
            "/usr/local/lib/python3.6/dist-packages/matplotlib/backends/backend_agg.py:214: RuntimeWarning: Glyph 54665 missing from current font.\n",
            "  font.set_text(s, 0.0, flags=flags)\n",
            "/usr/local/lib/python3.6/dist-packages/matplotlib/backends/backend_agg.py:214: RuntimeWarning: Glyph 51221 missing from current font.\n",
            "  font.set_text(s, 0.0, flags=flags)\n",
            "/usr/local/lib/python3.6/dist-packages/matplotlib/backends/backend_agg.py:214: RuntimeWarning: Glyph 44553 missing from current font.\n",
            "  font.set_text(s, 0.0, flags=flags)\n",
            "/usr/local/lib/python3.6/dist-packages/matplotlib/backends/backend_agg.py:214: RuntimeWarning: Glyph 49549 missing from current font.\n",
            "  font.set_text(s, 0.0, flags=flags)\n",
            "/usr/local/lib/python3.6/dist-packages/matplotlib/backends/backend_agg.py:214: RuntimeWarning: Glyph 50756 missing from current font.\n",
            "  font.set_text(s, 0.0, flags=flags)\n",
            "/usr/local/lib/python3.6/dist-packages/matplotlib/backends/backend_agg.py:183: RuntimeWarning: Glyph 44053 missing from current font.\n",
            "  font.set_text(s, 0, flags=flags)\n",
            "/usr/local/lib/python3.6/dist-packages/matplotlib/backends/backend_agg.py:183: RuntimeWarning: Glyph 50896 missing from current font.\n",
            "  font.set_text(s, 0, flags=flags)\n",
            "/usr/local/lib/python3.6/dist-packages/matplotlib/backends/backend_agg.py:183: RuntimeWarning: Glyph 46020 missing from current font.\n",
            "  font.set_text(s, 0, flags=flags)\n",
            "/usr/local/lib/python3.6/dist-packages/matplotlib/backends/backend_agg.py:183: RuntimeWarning: Glyph 44221 missing from current font.\n",
            "  font.set_text(s, 0, flags=flags)\n",
            "/usr/local/lib/python3.6/dist-packages/matplotlib/backends/backend_agg.py:183: RuntimeWarning: Glyph 44592 missing from current font.\n",
            "  font.set_text(s, 0, flags=flags)\n",
            "/usr/local/lib/python3.6/dist-packages/matplotlib/backends/backend_agg.py:183: RuntimeWarning: Glyph 49345 missing from current font.\n",
            "  font.set_text(s, 0, flags=flags)\n",
            "/usr/local/lib/python3.6/dist-packages/matplotlib/backends/backend_agg.py:183: RuntimeWarning: Glyph 45224 missing from current font.\n",
            "  font.set_text(s, 0, flags=flags)\n",
            "/usr/local/lib/python3.6/dist-packages/matplotlib/backends/backend_agg.py:183: RuntimeWarning: Glyph 48513 missing from current font.\n",
            "  font.set_text(s, 0, flags=flags)\n",
            "/usr/local/lib/python3.6/dist-packages/matplotlib/backends/backend_agg.py:183: RuntimeWarning: Glyph 44305 missing from current font.\n",
            "  font.set_text(s, 0, flags=flags)\n",
            "/usr/local/lib/python3.6/dist-packages/matplotlib/backends/backend_agg.py:183: RuntimeWarning: Glyph 51452 missing from current font.\n",
            "  font.set_text(s, 0, flags=flags)\n",
            "/usr/local/lib/python3.6/dist-packages/matplotlib/backends/backend_agg.py:183: RuntimeWarning: Glyph 50669 missing from current font.\n",
            "  font.set_text(s, 0, flags=flags)\n",
            "/usr/local/lib/python3.6/dist-packages/matplotlib/backends/backend_agg.py:183: RuntimeWarning: Glyph 49884 missing from current font.\n",
            "  font.set_text(s, 0, flags=flags)\n",
            "/usr/local/lib/python3.6/dist-packages/matplotlib/backends/backend_agg.py:183: RuntimeWarning: Glyph 45824 missing from current font.\n",
            "  font.set_text(s, 0, flags=flags)\n",
            "/usr/local/lib/python3.6/dist-packages/matplotlib/backends/backend_agg.py:183: RuntimeWarning: Glyph 44396 missing from current font.\n",
            "  font.set_text(s, 0, flags=flags)\n",
            "/usr/local/lib/python3.6/dist-packages/matplotlib/backends/backend_agg.py:183: RuntimeWarning: Glyph 51204 missing from current font.\n",
            "  font.set_text(s, 0, flags=flags)\n",
            "/usr/local/lib/python3.6/dist-packages/matplotlib/backends/backend_agg.py:183: RuntimeWarning: Glyph 48512 missing from current font.\n",
            "  font.set_text(s, 0, flags=flags)\n",
            "/usr/local/lib/python3.6/dist-packages/matplotlib/backends/backend_agg.py:183: RuntimeWarning: Glyph 49328 missing from current font.\n",
            "  font.set_text(s, 0, flags=flags)\n",
            "/usr/local/lib/python3.6/dist-packages/matplotlib/backends/backend_agg.py:183: RuntimeWarning: Glyph 49436 missing from current font.\n",
            "  font.set_text(s, 0, flags=flags)\n",
            "/usr/local/lib/python3.6/dist-packages/matplotlib/backends/backend_agg.py:183: RuntimeWarning: Glyph 50872 missing from current font.\n",
            "  font.set_text(s, 0, flags=flags)\n",
            "/usr/local/lib/python3.6/dist-packages/matplotlib/backends/backend_agg.py:183: RuntimeWarning: Glyph 53945 missing from current font.\n",
            "  font.set_text(s, 0, flags=flags)\n",
            "/usr/local/lib/python3.6/dist-packages/matplotlib/backends/backend_agg.py:183: RuntimeWarning: Glyph 48324 missing from current font.\n",
            "  font.set_text(s, 0, flags=flags)\n",
            "/usr/local/lib/python3.6/dist-packages/matplotlib/backends/backend_agg.py:183: RuntimeWarning: Glyph 49464 missing from current font.\n",
            "  font.set_text(s, 0, flags=flags)\n",
            "/usr/local/lib/python3.6/dist-packages/matplotlib/backends/backend_agg.py:183: RuntimeWarning: Glyph 51333 missing from current font.\n",
            "  font.set_text(s, 0, flags=flags)\n",
            "/usr/local/lib/python3.6/dist-packages/matplotlib/backends/backend_agg.py:183: RuntimeWarning: Glyph 51088 missing from current font.\n",
            "  font.set_text(s, 0, flags=flags)\n",
            "/usr/local/lib/python3.6/dist-packages/matplotlib/backends/backend_agg.py:183: RuntimeWarning: Glyph 52824 missing from current font.\n",
            "  font.set_text(s, 0, flags=flags)\n",
            "/usr/local/lib/python3.6/dist-packages/matplotlib/backends/backend_agg.py:183: RuntimeWarning: Glyph 51064 missing from current font.\n",
            "  font.set_text(s, 0, flags=flags)\n",
            "/usr/local/lib/python3.6/dist-packages/matplotlib/backends/backend_agg.py:183: RuntimeWarning: Glyph 52380 missing from current font.\n",
            "  font.set_text(s, 0, flags=flags)\n",
            "/usr/local/lib/python3.6/dist-packages/matplotlib/backends/backend_agg.py:183: RuntimeWarning: Glyph 46972 missing from current font.\n",
            "  font.set_text(s, 0, flags=flags)\n",
            "/usr/local/lib/python3.6/dist-packages/matplotlib/backends/backend_agg.py:183: RuntimeWarning: Glyph 51228 missing from current font.\n",
            "  font.set_text(s, 0, flags=flags)\n",
            "/usr/local/lib/python3.6/dist-packages/matplotlib/backends/backend_agg.py:183: RuntimeWarning: Glyph 52649 missing from current font.\n",
            "  font.set_text(s, 0, flags=flags)\n",
            "/usr/local/lib/python3.6/dist-packages/matplotlib/backends/backend_agg.py:183: RuntimeWarning: Glyph 52397 missing from current font.\n",
            "  font.set_text(s, 0, flags=flags)\n",
            "/usr/local/lib/python3.6/dist-packages/matplotlib/backends/backend_agg.py:183: RuntimeWarning: Glyph 54665 missing from current font.\n",
            "  font.set_text(s, 0, flags=flags)\n",
            "/usr/local/lib/python3.6/dist-packages/matplotlib/backends/backend_agg.py:183: RuntimeWarning: Glyph 51221 missing from current font.\n",
            "  font.set_text(s, 0, flags=flags)\n",
            "/usr/local/lib/python3.6/dist-packages/matplotlib/backends/backend_agg.py:183: RuntimeWarning: Glyph 44553 missing from current font.\n",
            "  font.set_text(s, 0, flags=flags)\n",
            "/usr/local/lib/python3.6/dist-packages/matplotlib/backends/backend_agg.py:183: RuntimeWarning: Glyph 49549 missing from current font.\n",
            "  font.set_text(s, 0, flags=flags)\n",
            "/usr/local/lib/python3.6/dist-packages/matplotlib/backends/backend_agg.py:183: RuntimeWarning: Glyph 50756 missing from current font.\n",
            "  font.set_text(s, 0, flags=flags)\n"
          ],
          "name": "stderr"
        },
        {
          "output_type": "display_data",
          "data": {
            "image/png": "[encoded data removed]",
            "text/plain": [
              "<Figure size 432x288 with 1 Axes>"
            ]
          },
          "metadata": {
            "tags": [],
            "needs_background": "light"
          }
        }
      ]
    },
    {
      "cell_type": "markdown",
      "metadata": {
        "id": "RWCYHhAwfLiM"
      },
      "source": [
        "## 전기차 대수"
      ]
    },
    {
      "cell_type": "code",
      "metadata": {
        "colab": {
          "base_uri": "https://localhost:8080/"
        },
        "id": "sLE_TKu4RlIZ",
        "outputId": "98726b8a-d640-4014-a24b-5a5fe70521d2"
      },
      "source": [
        "car = pd.read_csv(\"한국전력공사_지역별 전기차 현황정보_20201008.csv\")\n",
        "car.shape"
      ],
      "execution_count": null,
      "outputs": [
        {
          "output_type": "execute_result",
          "data": {
            "text/plain": [
              "(3, 19)"
            ]
          },
          "metadata": {
            "tags": []
          },
          "execution_count": 185
        }
      ]
    },
    {
      "cell_type": "code",
      "metadata": {
        "colab": {
          "base_uri": "https://localhost:8080/",
          "height": 230
        },
        "id": "lpjz6jJft-Fk",
        "outputId": "0798684a-3833-4bee-cebe-2c0152c33518"
      },
      "source": [
        "car.head()"
      ],
      "execution_count": null,
      "outputs": [
        {
          "output_type": "execute_result",
          "data": {
            "text/html": [
              "<div>\n",
              "<style scoped>\n",
              "    .dataframe tbody tr th:only-of-type {\n",
              "        vertical-align: middle;\n",
              "    }\n",
              "\n",
              "    .dataframe tbody tr th {\n",
              "        vertical-align: top;\n",
              "    }\n",
              "\n",
              "    .dataframe thead th {\n",
              "        text-align: right;\n",
              "    }\n",
              "</style>\n",
              "<table border=\"1\" class=\"dataframe\">\n",
              "  <thead>\n",
              "    <tr style=\"text-align: right;\">\n",
              "      <th></th>\n",
              "      <th>기준일</th>\n",
              "      <th>부산</th>\n",
              "      <th>대구</th>\n",
              "      <th>대전</th>\n",
              "      <th>광주</th>\n",
              "      <th>경기</th>\n",
              "      <th>강원</th>\n",
              "      <th>경북</th>\n",
              "      <th>경남</th>\n",
              "      <th>충북</th>\n",
              "      <th>충남</th>\n",
              "      <th>전북</th>\n",
              "      <th>전남</th>\n",
              "      <th>세종</th>\n",
              "      <th>서울</th>\n",
              "      <th>인천</th>\n",
              "      <th>울산</th>\n",
              "      <th>제주</th>\n",
              "      <th>합계</th>\n",
              "    </tr>\n",
              "  </thead>\n",
              "  <tbody>\n",
              "    <tr>\n",
              "      <th>0</th>\n",
              "      <td>2018-12-31</td>\n",
              "      <td>1567</td>\n",
              "      <td>6605</td>\n",
              "      <td>1334</td>\n",
              "      <td>1447</td>\n",
              "      <td>6383</td>\n",
              "      <td>1377</td>\n",
              "      <td>2001</td>\n",
              "      <td>2107</td>\n",
              "      <td>1199</td>\n",
              "      <td>1127</td>\n",
              "      <td>997</td>\n",
              "      <td>1974</td>\n",
              "      <td>394</td>\n",
              "      <td>9564</td>\n",
              "      <td>1284</td>\n",
              "      <td>847</td>\n",
              "      <td>15549</td>\n",
              "      <td>55756.0</td>\n",
              "    </tr>\n",
              "    <tr>\n",
              "      <th>1</th>\n",
              "      <td>2019-12-31</td>\n",
              "      <td>3216</td>\n",
              "      <td>11313</td>\n",
              "      <td>2555</td>\n",
              "      <td>2464</td>\n",
              "      <td>11750</td>\n",
              "      <td>2445</td>\n",
              "      <td>4051</td>\n",
              "      <td>3626</td>\n",
              "      <td>2412</td>\n",
              "      <td>2841</td>\n",
              "      <td>1841</td>\n",
              "      <td>3326</td>\n",
              "      <td>903</td>\n",
              "      <td>14952</td>\n",
              "      <td>2598</td>\n",
              "      <td>1447</td>\n",
              "      <td>18178</td>\n",
              "      <td>89918.0</td>\n",
              "    </tr>\n",
              "    <tr>\n",
              "      <th>2</th>\n",
              "      <td>2020-08-31</td>\n",
              "      <td>4320</td>\n",
              "      <td>12468</td>\n",
              "      <td>3338</td>\n",
              "      <td>3046</td>\n",
              "      <td>17197</td>\n",
              "      <td>3091</td>\n",
              "      <td>5400</td>\n",
              "      <td>5003</td>\n",
              "      <td>3319</td>\n",
              "      <td>4252</td>\n",
              "      <td>2906</td>\n",
              "      <td>4576</td>\n",
              "      <td>1076</td>\n",
              "      <td>20997</td>\n",
              "      <td>4204</td>\n",
              "      <td>2142</td>\n",
              "      <td>20699</td>\n",
              "      <td>NaN</td>\n",
              "    </tr>\n",
              "  </tbody>\n",
              "</table>\n",
              "</div>"
            ],
            "text/plain": [
              "          기준일    부산     대구    대전    광주  ...     서울    인천    울산     제주       합계\n",
              "0  2018-12-31  1567   6605  1334  1447  ...   9564  1284   847  15549  55756.0\n",
              "1  2019-12-31  3216  11313  2555  2464  ...  14952  2598  1447  18178  89918.0\n",
              "2  2020-08-31  4320  12468  3338  3046  ...  20997  4204  2142  20699      NaN\n",
              "\n",
              "[3 rows x 19 columns]"
            ]
          },
          "metadata": {
            "tags": []
          },
          "execution_count": 186
        }
      ]
    },
    {
      "cell_type": "code",
      "metadata": {
        "colab": {
          "base_uri": "https://localhost:8080/",
          "height": 230
        },
        "id": "8RrAlEuSnWsq",
        "outputId": "931ed6ad-df22-40aa-c4d9-9ae0f11ec5c8"
      },
      "source": [
        "car"
      ],
      "execution_count": null,
      "outputs": [
        {
          "output_type": "execute_result",
          "data": {
            "text/html": [
              "<div>\n",
              "<style scoped>\n",
              "    .dataframe tbody tr th:only-of-type {\n",
              "        vertical-align: middle;\n",
              "    }\n",
              "\n",
              "    .dataframe tbody tr th {\n",
              "        vertical-align: top;\n",
              "    }\n",
              "\n",
              "    .dataframe thead th {\n",
              "        text-align: right;\n",
              "    }\n",
              "</style>\n",
              "<table border=\"1\" class=\"dataframe\">\n",
              "  <thead>\n",
              "    <tr style=\"text-align: right;\">\n",
              "      <th></th>\n",
              "      <th>기준일</th>\n",
              "      <th>부산</th>\n",
              "      <th>대구</th>\n",
              "      <th>대전</th>\n",
              "      <th>광주</th>\n",
              "      <th>경기</th>\n",
              "      <th>강원</th>\n",
              "      <th>경북</th>\n",
              "      <th>경남</th>\n",
              "      <th>충북</th>\n",
              "      <th>충남</th>\n",
              "      <th>전북</th>\n",
              "      <th>전남</th>\n",
              "      <th>세종</th>\n",
              "      <th>서울</th>\n",
              "      <th>인천</th>\n",
              "      <th>울산</th>\n",
              "      <th>제주</th>\n",
              "      <th>합계</th>\n",
              "    </tr>\n",
              "  </thead>\n",
              "  <tbody>\n",
              "    <tr>\n",
              "      <th>0</th>\n",
              "      <td>2018-12-31</td>\n",
              "      <td>1567</td>\n",
              "      <td>6605</td>\n",
              "      <td>1334</td>\n",
              "      <td>1447</td>\n",
              "      <td>6383</td>\n",
              "      <td>1377</td>\n",
              "      <td>2001</td>\n",
              "      <td>2107</td>\n",
              "      <td>1199</td>\n",
              "      <td>1127</td>\n",
              "      <td>997</td>\n",
              "      <td>1974</td>\n",
              "      <td>394</td>\n",
              "      <td>9564</td>\n",
              "      <td>1284</td>\n",
              "      <td>847</td>\n",
              "      <td>15549</td>\n",
              "      <td>55756.0</td>\n",
              "    </tr>\n",
              "    <tr>\n",
              "      <th>1</th>\n",
              "      <td>2019-12-31</td>\n",
              "      <td>3216</td>\n",
              "      <td>11313</td>\n",
              "      <td>2555</td>\n",
              "      <td>2464</td>\n",
              "      <td>11750</td>\n",
              "      <td>2445</td>\n",
              "      <td>4051</td>\n",
              "      <td>3626</td>\n",
              "      <td>2412</td>\n",
              "      <td>2841</td>\n",
              "      <td>1841</td>\n",
              "      <td>3326</td>\n",
              "      <td>903</td>\n",
              "      <td>14952</td>\n",
              "      <td>2598</td>\n",
              "      <td>1447</td>\n",
              "      <td>18178</td>\n",
              "      <td>89918.0</td>\n",
              "    </tr>\n",
              "    <tr>\n",
              "      <th>2</th>\n",
              "      <td>2020-08-31</td>\n",
              "      <td>4320</td>\n",
              "      <td>12468</td>\n",
              "      <td>3338</td>\n",
              "      <td>3046</td>\n",
              "      <td>17197</td>\n",
              "      <td>3091</td>\n",
              "      <td>5400</td>\n",
              "      <td>5003</td>\n",
              "      <td>3319</td>\n",
              "      <td>4252</td>\n",
              "      <td>2906</td>\n",
              "      <td>4576</td>\n",
              "      <td>1076</td>\n",
              "      <td>20997</td>\n",
              "      <td>4204</td>\n",
              "      <td>2142</td>\n",
              "      <td>20699</td>\n",
              "      <td>NaN</td>\n",
              "    </tr>\n",
              "  </tbody>\n",
              "</table>\n",
              "</div>"
            ],
            "text/plain": [
              "          기준일    부산     대구    대전    광주  ...     서울    인천    울산     제주       합계\n",
              "0  2018-12-31  1567   6605  1334  1447  ...   9564  1284   847  15549  55756.0\n",
              "1  2019-12-31  3216  11313  2555  2464  ...  14952  2598  1447  18178  89918.0\n",
              "2  2020-08-31  4320  12468  3338  3046  ...  20997  4204  2142  20699      NaN\n",
              "\n",
              "[3 rows x 19 columns]"
            ]
          },
          "metadata": {
            "tags": []
          },
          "execution_count": 187
        }
      ]
    },
    {
      "cell_type": "code",
      "metadata": {
        "colab": {
          "base_uri": "https://localhost:8080/"
        },
        "id": "XCEypZYcmWI3",
        "outputId": "1f4bef78-bcd6-46f9-f647-a8664ffa216d"
      },
      "source": [
        "car.columns[1:18]"
      ],
      "execution_count": null,
      "outputs": [
        {
          "output_type": "execute_result",
          "data": {
            "text/plain": [
              "Index(['부산', '대구', '대전', '광주', '경기', '강원', '경북', '경남', '충북', '충남', '전북', '전남',\n",
              "       '세종', '서울', '인천', '울산', '제주'],\n",
              "      dtype='object')"
            ]
          },
          "metadata": {
            "tags": []
          },
          "execution_count": 188
        }
      ]
    },
    {
      "cell_type": "code",
      "metadata": {
        "colab": {
          "base_uri": "https://localhost:8080/"
        },
        "id": "hEaautn8Wf1r",
        "outputId": "d95cc2e1-39e7-418f-807f-6b047e0ec9f2"
      },
      "source": [
        "car.loc[2][1:18]"
      ],
      "execution_count": null,
      "outputs": [
        {
          "output_type": "execute_result",
          "data": {
            "text/plain": [
              "부산     4320\n",
              "대구    12468\n",
              "대전     3338\n",
              "광주     3046\n",
              "경기    17197\n",
              "강원     3091\n",
              "경북     5400\n",
              "경남     5003\n",
              "충북     3319\n",
              "충남     4252\n",
              "전북     2906\n",
              "전남     4576\n",
              "세종     1076\n",
              "서울    20997\n",
              "인천     4204\n",
              "울산     2142\n",
              "제주    20699\n",
              "Name: 2, dtype: object"
            ]
          },
          "metadata": {
            "tags": []
          },
          "execution_count": 189
        }
      ]
    },
    {
      "cell_type": "code",
      "metadata": {
        "colab": {
          "base_uri": "https://localhost:8080/"
        },
        "id": "gI19bk31m6JP",
        "outputId": "0415b528-516a-4c13-abce-4caf1e770f80"
      },
      "source": [
        "car.loc[2][1:18].sum()"
      ],
      "execution_count": null,
      "outputs": [
        {
          "output_type": "execute_result",
          "data": {
            "text/plain": [
              "118034"
            ]
          },
          "metadata": {
            "tags": []
          },
          "execution_count": 190
        }
      ]
    },
    {
      "cell_type": "code",
      "metadata": {
        "colab": {
          "base_uri": "https://localhost:8080/",
          "height": 230
        },
        "id": "57GE-FLJU7aC",
        "outputId": "5fef10a1-0772-479d-b26d-c7855e87cc37"
      },
      "source": [
        "car.loc[2, '합계'] = car.loc[2][1:18].sum()\n",
        "car\n",
        "# 연도가 지날 때마다 이만큼 등록이 되어있다로 보는 게 맞는 듯. 누적으로!"
      ],
      "execution_count": null,
      "outputs": [
        {
          "output_type": "execute_result",
          "data": {
            "text/html": [
              "<div>\n",
              "<style scoped>\n",
              "    .dataframe tbody tr th:only-of-type {\n",
              "        vertical-align: middle;\n",
              "    }\n",
              "\n",
              "    .dataframe tbody tr th {\n",
              "        vertical-align: top;\n",
              "    }\n",
              "\n",
              "    .dataframe thead th {\n",
              "        text-align: right;\n",
              "    }\n",
              "</style>\n",
              "<table border=\"1\" class=\"dataframe\">\n",
              "  <thead>\n",
              "    <tr style=\"text-align: right;\">\n",
              "      <th></th>\n",
              "      <th>기준일</th>\n",
              "      <th>부산</th>\n",
              "      <th>대구</th>\n",
              "      <th>대전</th>\n",
              "      <th>광주</th>\n",
              "      <th>경기</th>\n",
              "      <th>강원</th>\n",
              "      <th>경북</th>\n",
              "      <th>경남</th>\n",
              "      <th>충북</th>\n",
              "      <th>충남</th>\n",
              "      <th>전북</th>\n",
              "      <th>전남</th>\n",
              "      <th>세종</th>\n",
              "      <th>서울</th>\n",
              "      <th>인천</th>\n",
              "      <th>울산</th>\n",
              "      <th>제주</th>\n",
              "      <th>합계</th>\n",
              "    </tr>\n",
              "  </thead>\n",
              "  <tbody>\n",
              "    <tr>\n",
              "      <th>0</th>\n",
              "      <td>2018-12-31</td>\n",
              "      <td>1567</td>\n",
              "      <td>6605</td>\n",
              "      <td>1334</td>\n",
              "      <td>1447</td>\n",
              "      <td>6383</td>\n",
              "      <td>1377</td>\n",
              "      <td>2001</td>\n",
              "      <td>2107</td>\n",
              "      <td>1199</td>\n",
              "      <td>1127</td>\n",
              "      <td>997</td>\n",
              "      <td>1974</td>\n",
              "      <td>394</td>\n",
              "      <td>9564</td>\n",
              "      <td>1284</td>\n",
              "      <td>847</td>\n",
              "      <td>15549</td>\n",
              "      <td>55756.0</td>\n",
              "    </tr>\n",
              "    <tr>\n",
              "      <th>1</th>\n",
              "      <td>2019-12-31</td>\n",
              "      <td>3216</td>\n",
              "      <td>11313</td>\n",
              "      <td>2555</td>\n",
              "      <td>2464</td>\n",
              "      <td>11750</td>\n",
              "      <td>2445</td>\n",
              "      <td>4051</td>\n",
              "      <td>3626</td>\n",
              "      <td>2412</td>\n",
              "      <td>2841</td>\n",
              "      <td>1841</td>\n",
              "      <td>3326</td>\n",
              "      <td>903</td>\n",
              "      <td>14952</td>\n",
              "      <td>2598</td>\n",
              "      <td>1447</td>\n",
              "      <td>18178</td>\n",
              "      <td>89918.0</td>\n",
              "    </tr>\n",
              "    <tr>\n",
              "      <th>2</th>\n",
              "      <td>2020-08-31</td>\n",
              "      <td>4320</td>\n",
              "      <td>12468</td>\n",
              "      <td>3338</td>\n",
              "      <td>3046</td>\n",
              "      <td>17197</td>\n",
              "      <td>3091</td>\n",
              "      <td>5400</td>\n",
              "      <td>5003</td>\n",
              "      <td>3319</td>\n",
              "      <td>4252</td>\n",
              "      <td>2906</td>\n",
              "      <td>4576</td>\n",
              "      <td>1076</td>\n",
              "      <td>20997</td>\n",
              "      <td>4204</td>\n",
              "      <td>2142</td>\n",
              "      <td>20699</td>\n",
              "      <td>118034.0</td>\n",
              "    </tr>\n",
              "  </tbody>\n",
              "</table>\n",
              "</div>"
            ],
            "text/plain": [
              "          기준일    부산     대구    대전    광주  ...     서울    인천    울산     제주        합계\n",
              "0  2018-12-31  1567   6605  1334  1447  ...   9564  1284   847  15549   55756.0\n",
              "1  2019-12-31  3216  11313  2555  2464  ...  14952  2598  1447  18178   89918.0\n",
              "2  2020-08-31  4320  12468  3338  3046  ...  20997  4204  2142  20699  118034.0\n",
              "\n",
              "[3 rows x 19 columns]"
            ]
          },
          "metadata": {
            "tags": []
          },
          "execution_count": 191
        }
      ]
    },
    {
      "cell_type": "code",
      "metadata": {
        "colab": {
          "base_uri": "https://localhost:8080/",
          "height": 264
        },
        "id": "La5wJU9DV1Sq",
        "outputId": "4b3c9f9f-a5ea-49e9-ae47-9039747207a0"
      },
      "source": [
        "car.columns = ['기준일', '부산광역시', '대구광역시', '대전광역시','광주광역시', '경기도', '강원도', '경상북도', '경상남도', '충청북도', '충청남도', '전라북도', '전라남도', '세종특별자치시', '서울특별시', '인천광역시', '울산광역시', '제주특별자치도', '합계']\n",
        "car"
      ],
      "execution_count": null,
      "outputs": [
        {
          "output_type": "execute_result",
          "data": {
            "text/html": [
              "<div>\n",
              "<style scoped>\n",
              "    .dataframe tbody tr th:only-of-type {\n",
              "        vertical-align: middle;\n",
              "    }\n",
              "\n",
              "    .dataframe tbody tr th {\n",
              "        vertical-align: top;\n",
              "    }\n",
              "\n",
              "    .dataframe thead th {\n",
              "        text-align: right;\n",
              "    }\n",
              "</style>\n",
              "<table border=\"1\" class=\"dataframe\">\n",
              "  <thead>\n",
              "    <tr style=\"text-align: right;\">\n",
              "      <th></th>\n",
              "      <th>기준일</th>\n",
              "      <th>부산광역시</th>\n",
              "      <th>대구광역시</th>\n",
              "      <th>대전광역시</th>\n",
              "      <th>광주광역시</th>\n",
              "      <th>경기도</th>\n",
              "      <th>강원도</th>\n",
              "      <th>경상북도</th>\n",
              "      <th>경상남도</th>\n",
              "      <th>충청북도</th>\n",
              "      <th>충청남도</th>\n",
              "      <th>전라북도</th>\n",
              "      <th>전라남도</th>\n",
              "      <th>세종특별자치시</th>\n",
              "      <th>서울특별시</th>\n",
              "      <th>인천광역시</th>\n",
              "      <th>울산광역시</th>\n",
              "      <th>제주특별자치도</th>\n",
              "      <th>합계</th>\n",
              "    </tr>\n",
              "  </thead>\n",
              "  <tbody>\n",
              "    <tr>\n",
              "      <th>0</th>\n",
              "      <td>2018-12-31</td>\n",
              "      <td>1567</td>\n",
              "      <td>6605</td>\n",
              "      <td>1334</td>\n",
              "      <td>1447</td>\n",
              "      <td>6383</td>\n",
              "      <td>1377</td>\n",
              "      <td>2001</td>\n",
              "      <td>2107</td>\n",
              "      <td>1199</td>\n",
              "      <td>1127</td>\n",
              "      <td>997</td>\n",
              "      <td>1974</td>\n",
              "      <td>394</td>\n",
              "      <td>9564</td>\n",
              "      <td>1284</td>\n",
              "      <td>847</td>\n",
              "      <td>15549</td>\n",
              "      <td>55756.0</td>\n",
              "    </tr>\n",
              "    <tr>\n",
              "      <th>1</th>\n",
              "      <td>2019-12-31</td>\n",
              "      <td>3216</td>\n",
              "      <td>11313</td>\n",
              "      <td>2555</td>\n",
              "      <td>2464</td>\n",
              "      <td>11750</td>\n",
              "      <td>2445</td>\n",
              "      <td>4051</td>\n",
              "      <td>3626</td>\n",
              "      <td>2412</td>\n",
              "      <td>2841</td>\n",
              "      <td>1841</td>\n",
              "      <td>3326</td>\n",
              "      <td>903</td>\n",
              "      <td>14952</td>\n",
              "      <td>2598</td>\n",
              "      <td>1447</td>\n",
              "      <td>18178</td>\n",
              "      <td>89918.0</td>\n",
              "    </tr>\n",
              "    <tr>\n",
              "      <th>2</th>\n",
              "      <td>2020-08-31</td>\n",
              "      <td>4320</td>\n",
              "      <td>12468</td>\n",
              "      <td>3338</td>\n",
              "      <td>3046</td>\n",
              "      <td>17197</td>\n",
              "      <td>3091</td>\n",
              "      <td>5400</td>\n",
              "      <td>5003</td>\n",
              "      <td>3319</td>\n",
              "      <td>4252</td>\n",
              "      <td>2906</td>\n",
              "      <td>4576</td>\n",
              "      <td>1076</td>\n",
              "      <td>20997</td>\n",
              "      <td>4204</td>\n",
              "      <td>2142</td>\n",
              "      <td>20699</td>\n",
              "      <td>118034.0</td>\n",
              "    </tr>\n",
              "  </tbody>\n",
              "</table>\n",
              "</div>"
            ],
            "text/plain": [
              "          기준일  부산광역시  대구광역시  대전광역시  ...  인천광역시  울산광역시  제주특별자치도        합계\n",
              "0  2018-12-31   1567   6605   1334  ...   1284    847    15549   55756.0\n",
              "1  2019-12-31   3216  11313   2555  ...   2598   1447    18178   89918.0\n",
              "2  2020-08-31   4320  12468   3338  ...   4204   2142    20699  118034.0\n",
              "\n",
              "[3 rows x 19 columns]"
            ]
          },
          "metadata": {
            "tags": []
          },
          "execution_count": 192
        }
      ]
    },
    {
      "cell_type": "code",
      "metadata": {
        "colab": {
          "base_uri": "https://localhost:8080/",
          "height": 312
        },
        "id": "hOemyNLCx_lv",
        "outputId": "2efd5526-fb72-4eec-aad1-9ddf05498202"
      },
      "source": [
        "car1= car.set_index('기준일')\n",
        "car1"
      ],
      "execution_count": null,
      "outputs": [
        {
          "output_type": "execute_result",
          "data": {
            "text/html": [
              "<div>\n",
              "<style scoped>\n",
              "    .dataframe tbody tr th:only-of-type {\n",
              "        vertical-align: middle;\n",
              "    }\n",
              "\n",
              "    .dataframe tbody tr th {\n",
              "        vertical-align: top;\n",
              "    }\n",
              "\n",
              "    .dataframe thead th {\n",
              "        text-align: right;\n",
              "    }\n",
              "</style>\n",
              "<table border=\"1\" class=\"dataframe\">\n",
              "  <thead>\n",
              "    <tr style=\"text-align: right;\">\n",
              "      <th></th>\n",
              "      <th>부산광역시</th>\n",
              "      <th>대구광역시</th>\n",
              "      <th>대전광역시</th>\n",
              "      <th>광주광역시</th>\n",
              "      <th>경기도</th>\n",
              "      <th>강원도</th>\n",
              "      <th>경상북도</th>\n",
              "      <th>경상남도</th>\n",
              "      <th>충청북도</th>\n",
              "      <th>충청남도</th>\n",
              "      <th>전라북도</th>\n",
              "      <th>전라남도</th>\n",
              "      <th>세종특별자치시</th>\n",
              "      <th>서울특별시</th>\n",
              "      <th>인천광역시</th>\n",
              "      <th>울산광역시</th>\n",
              "      <th>제주특별자치도</th>\n",
              "      <th>합계</th>\n",
              "    </tr>\n",
              "    <tr>\n",
              "      <th>기준일</th>\n",
              "      <th></th>\n",
              "      <th></th>\n",
              "      <th></th>\n",
              "      <th></th>\n",
              "      <th></th>\n",
              "      <th></th>\n",
              "      <th></th>\n",
              "      <th></th>\n",
              "      <th></th>\n",
              "      <th></th>\n",
              "      <th></th>\n",
              "      <th></th>\n",
              "      <th></th>\n",
              "      <th></th>\n",
              "      <th></th>\n",
              "      <th></th>\n",
              "      <th></th>\n",
              "      <th></th>\n",
              "    </tr>\n",
              "  </thead>\n",
              "  <tbody>\n",
              "    <tr>\n",
              "      <th>2018-12-31</th>\n",
              "      <td>1567</td>\n",
              "      <td>6605</td>\n",
              "      <td>1334</td>\n",
              "      <td>1447</td>\n",
              "      <td>6383</td>\n",
              "      <td>1377</td>\n",
              "      <td>2001</td>\n",
              "      <td>2107</td>\n",
              "      <td>1199</td>\n",
              "      <td>1127</td>\n",
              "      <td>997</td>\n",
              "      <td>1974</td>\n",
              "      <td>394</td>\n",
              "      <td>9564</td>\n",
              "      <td>1284</td>\n",
              "      <td>847</td>\n",
              "      <td>15549</td>\n",
              "      <td>55756.0</td>\n",
              "    </tr>\n",
              "    <tr>\n",
              "      <th>2019-12-31</th>\n",
              "      <td>3216</td>\n",
              "      <td>11313</td>\n",
              "      <td>2555</td>\n",
              "      <td>2464</td>\n",
              "      <td>11750</td>\n",
              "      <td>2445</td>\n",
              "      <td>4051</td>\n",
              "      <td>3626</td>\n",
              "      <td>2412</td>\n",
              "      <td>2841</td>\n",
              "      <td>1841</td>\n",
              "      <td>3326</td>\n",
              "      <td>903</td>\n",
              "      <td>14952</td>\n",
              "      <td>2598</td>\n",
              "      <td>1447</td>\n",
              "      <td>18178</td>\n",
              "      <td>89918.0</td>\n",
              "    </tr>\n",
              "    <tr>\n",
              "      <th>2020-08-31</th>\n",
              "      <td>4320</td>\n",
              "      <td>12468</td>\n",
              "      <td>3338</td>\n",
              "      <td>3046</td>\n",
              "      <td>17197</td>\n",
              "      <td>3091</td>\n",
              "      <td>5400</td>\n",
              "      <td>5003</td>\n",
              "      <td>3319</td>\n",
              "      <td>4252</td>\n",
              "      <td>2906</td>\n",
              "      <td>4576</td>\n",
              "      <td>1076</td>\n",
              "      <td>20997</td>\n",
              "      <td>4204</td>\n",
              "      <td>2142</td>\n",
              "      <td>20699</td>\n",
              "      <td>118034.0</td>\n",
              "    </tr>\n",
              "  </tbody>\n",
              "</table>\n",
              "</div>"
            ],
            "text/plain": [
              "            부산광역시  대구광역시  대전광역시  광주광역시  ...  인천광역시  울산광역시  제주특별자치도        합계\n",
              "기준일                                     ...                                 \n",
              "2018-12-31   1567   6605   1334   1447  ...   1284    847    15549   55756.0\n",
              "2019-12-31   3216  11313   2555   2464  ...   2598   1447    18178   89918.0\n",
              "2020-08-31   4320  12468   3338   3046  ...   4204   2142    20699  118034.0\n",
              "\n",
              "[3 rows x 18 columns]"
            ]
          },
          "metadata": {
            "tags": []
          },
          "execution_count": 193
        }
      ]
    },
    {
      "cell_type": "code",
      "metadata": {
        "colab": {
          "base_uri": "https://localhost:8080/",
          "height": 607
        },
        "id": "NFnqQgIYzHNh",
        "outputId": "4e5d678d-5688-4216-c581-49aabef53ded"
      },
      "source": [
        "trans_car = car1.transpose()\n",
        "trans_car"
      ],
      "execution_count": null,
      "outputs": [
        {
          "output_type": "execute_result",
          "data": {
            "text/html": [
              "<div>\n",
              "<style scoped>\n",
              "    .dataframe tbody tr th:only-of-type {\n",
              "        vertical-align: middle;\n",
              "    }\n",
              "\n",
              "    .dataframe tbody tr th {\n",
              "        vertical-align: top;\n",
              "    }\n",
              "\n",
              "    .dataframe thead th {\n",
              "        text-align: right;\n",
              "    }\n",
              "</style>\n",
              "<table border=\"1\" class=\"dataframe\">\n",
              "  <thead>\n",
              "    <tr style=\"text-align: right;\">\n",
              "      <th>기준일</th>\n",
              "      <th>2018-12-31</th>\n",
              "      <th>2019-12-31</th>\n",
              "      <th>2020-08-31</th>\n",
              "    </tr>\n",
              "  </thead>\n",
              "  <tbody>\n",
              "    <tr>\n",
              "      <th>부산광역시</th>\n",
              "      <td>1567.0</td>\n",
              "      <td>3216.0</td>\n",
              "      <td>4320.0</td>\n",
              "    </tr>\n",
              "    <tr>\n",
              "      <th>대구광역시</th>\n",
              "      <td>6605.0</td>\n",
              "      <td>11313.0</td>\n",
              "      <td>12468.0</td>\n",
              "    </tr>\n",
              "    <tr>\n",
              "      <th>대전광역시</th>\n",
              "      <td>1334.0</td>\n",
              "      <td>2555.0</td>\n",
              "      <td>3338.0</td>\n",
              "    </tr>\n",
              "    <tr>\n",
              "      <th>광주광역시</th>\n",
              "      <td>1447.0</td>\n",
              "      <td>2464.0</td>\n",
              "      <td>3046.0</td>\n",
              "    </tr>\n",
              "    <tr>\n",
              "      <th>경기도</th>\n",
              "      <td>6383.0</td>\n",
              "      <td>11750.0</td>\n",
              "      <td>17197.0</td>\n",
              "    </tr>\n",
              "    <tr>\n",
              "      <th>강원도</th>\n",
              "      <td>1377.0</td>\n",
              "      <td>2445.0</td>\n",
              "      <td>3091.0</td>\n",
              "    </tr>\n",
              "    <tr>\n",
              "      <th>경상북도</th>\n",
              "      <td>2001.0</td>\n",
              "      <td>4051.0</td>\n",
              "      <td>5400.0</td>\n",
              "    </tr>\n",
              "    <tr>\n",
              "      <th>경상남도</th>\n",
              "      <td>2107.0</td>\n",
              "      <td>3626.0</td>\n",
              "      <td>5003.0</td>\n",
              "    </tr>\n",
              "    <tr>\n",
              "      <th>충청북도</th>\n",
              "      <td>1199.0</td>\n",
              "      <td>2412.0</td>\n",
              "      <td>3319.0</td>\n",
              "    </tr>\n",
              "    <tr>\n",
              "      <th>충청남도</th>\n",
              "      <td>1127.0</td>\n",
              "      <td>2841.0</td>\n",
              "      <td>4252.0</td>\n",
              "    </tr>\n",
              "    <tr>\n",
              "      <th>전라북도</th>\n",
              "      <td>997.0</td>\n",
              "      <td>1841.0</td>\n",
              "      <td>2906.0</td>\n",
              "    </tr>\n",
              "    <tr>\n",
              "      <th>전라남도</th>\n",
              "      <td>1974.0</td>\n",
              "      <td>3326.0</td>\n",
              "      <td>4576.0</td>\n",
              "    </tr>\n",
              "    <tr>\n",
              "      <th>세종특별자치시</th>\n",
              "      <td>394.0</td>\n",
              "      <td>903.0</td>\n",
              "      <td>1076.0</td>\n",
              "    </tr>\n",
              "    <tr>\n",
              "      <th>서울특별시</th>\n",
              "      <td>9564.0</td>\n",
              "      <td>14952.0</td>\n",
              "      <td>20997.0</td>\n",
              "    </tr>\n",
              "    <tr>\n",
              "      <th>인천광역시</th>\n",
              "      <td>1284.0</td>\n",
              "      <td>2598.0</td>\n",
              "      <td>4204.0</td>\n",
              "    </tr>\n",
              "    <tr>\n",
              "      <th>울산광역시</th>\n",
              "      <td>847.0</td>\n",
              "      <td>1447.0</td>\n",
              "      <td>2142.0</td>\n",
              "    </tr>\n",
              "    <tr>\n",
              "      <th>제주특별자치도</th>\n",
              "      <td>15549.0</td>\n",
              "      <td>18178.0</td>\n",
              "      <td>20699.0</td>\n",
              "    </tr>\n",
              "    <tr>\n",
              "      <th>합계</th>\n",
              "      <td>55756.0</td>\n",
              "      <td>89918.0</td>\n",
              "      <td>118034.0</td>\n",
              "    </tr>\n",
              "  </tbody>\n",
              "</table>\n",
              "</div>"
            ],
            "text/plain": [
              "기준일      2018-12-31  2019-12-31  2020-08-31\n",
              "부산광역시        1567.0      3216.0      4320.0\n",
              "대구광역시        6605.0     11313.0     12468.0\n",
              "대전광역시        1334.0      2555.0      3338.0\n",
              "광주광역시        1447.0      2464.0      3046.0\n",
              "경기도          6383.0     11750.0     17197.0\n",
              "강원도          1377.0      2445.0      3091.0\n",
              "경상북도         2001.0      4051.0      5400.0\n",
              "경상남도         2107.0      3626.0      5003.0\n",
              "충청북도         1199.0      2412.0      3319.0\n",
              "충청남도         1127.0      2841.0      4252.0\n",
              "전라북도          997.0      1841.0      2906.0\n",
              "전라남도         1974.0      3326.0      4576.0\n",
              "세종특별자치시       394.0       903.0      1076.0\n",
              "서울특별시        9564.0     14952.0     20997.0\n",
              "인천광역시        1284.0      2598.0      4204.0\n",
              "울산광역시         847.0      1447.0      2142.0\n",
              "제주특별자치도     15549.0     18178.0     20699.0\n",
              "합계          55756.0     89918.0    118034.0"
            ]
          },
          "metadata": {
            "tags": []
          },
          "execution_count": 194
        }
      ]
    },
    {
      "cell_type": "code",
      "metadata": {
        "id": "CdkiyGMwzW8N"
      },
      "source": [
        "trans_car = trans_car.drop('합계')"
      ],
      "execution_count": null,
      "outputs": []
    },
    {
      "cell_type": "code",
      "metadata": {
        "colab": {
          "base_uri": "https://localhost:8080/",
          "height": 576
        },
        "id": "Q71Kds5tzx1W",
        "outputId": "4a848198-0a60-45a9-b465-c6e60ede78e7"
      },
      "source": [
        "trans_car"
      ],
      "execution_count": null,
      "outputs": [
        {
          "output_type": "execute_result",
          "data": {
            "text/html": [
              "<div>\n",
              "<style scoped>\n",
              "    .dataframe tbody tr th:only-of-type {\n",
              "        vertical-align: middle;\n",
              "    }\n",
              "\n",
              "    .dataframe tbody tr th {\n",
              "        vertical-align: top;\n",
              "    }\n",
              "\n",
              "    .dataframe thead th {\n",
              "        text-align: right;\n",
              "    }\n",
              "</style>\n",
              "<table border=\"1\" class=\"dataframe\">\n",
              "  <thead>\n",
              "    <tr style=\"text-align: right;\">\n",
              "      <th>기준일</th>\n",
              "      <th>2018-12-31</th>\n",
              "      <th>2019-12-31</th>\n",
              "      <th>2020-08-31</th>\n",
              "    </tr>\n",
              "  </thead>\n",
              "  <tbody>\n",
              "    <tr>\n",
              "      <th>부산광역시</th>\n",
              "      <td>1567.0</td>\n",
              "      <td>3216.0</td>\n",
              "      <td>4320.0</td>\n",
              "    </tr>\n",
              "    <tr>\n",
              "      <th>대구광역시</th>\n",
              "      <td>6605.0</td>\n",
              "      <td>11313.0</td>\n",
              "      <td>12468.0</td>\n",
              "    </tr>\n",
              "    <tr>\n",
              "      <th>대전광역시</th>\n",
              "      <td>1334.0</td>\n",
              "      <td>2555.0</td>\n",
              "      <td>3338.0</td>\n",
              "    </tr>\n",
              "    <tr>\n",
              "      <th>광주광역시</th>\n",
              "      <td>1447.0</td>\n",
              "      <td>2464.0</td>\n",
              "      <td>3046.0</td>\n",
              "    </tr>\n",
              "    <tr>\n",
              "      <th>경기도</th>\n",
              "      <td>6383.0</td>\n",
              "      <td>11750.0</td>\n",
              "      <td>17197.0</td>\n",
              "    </tr>\n",
              "    <tr>\n",
              "      <th>강원도</th>\n",
              "      <td>1377.0</td>\n",
              "      <td>2445.0</td>\n",
              "      <td>3091.0</td>\n",
              "    </tr>\n",
              "    <tr>\n",
              "      <th>경상북도</th>\n",
              "      <td>2001.0</td>\n",
              "      <td>4051.0</td>\n",
              "      <td>5400.0</td>\n",
              "    </tr>\n",
              "    <tr>\n",
              "      <th>경상남도</th>\n",
              "      <td>2107.0</td>\n",
              "      <td>3626.0</td>\n",
              "      <td>5003.0</td>\n",
              "    </tr>\n",
              "    <tr>\n",
              "      <th>충청북도</th>\n",
              "      <td>1199.0</td>\n",
              "      <td>2412.0</td>\n",
              "      <td>3319.0</td>\n",
              "    </tr>\n",
              "    <tr>\n",
              "      <th>충청남도</th>\n",
              "      <td>1127.0</td>\n",
              "      <td>2841.0</td>\n",
              "      <td>4252.0</td>\n",
              "    </tr>\n",
              "    <tr>\n",
              "      <th>전라북도</th>\n",
              "      <td>997.0</td>\n",
              "      <td>1841.0</td>\n",
              "      <td>2906.0</td>\n",
              "    </tr>\n",
              "    <tr>\n",
              "      <th>전라남도</th>\n",
              "      <td>1974.0</td>\n",
              "      <td>3326.0</td>\n",
              "      <td>4576.0</td>\n",
              "    </tr>\n",
              "    <tr>\n",
              "      <th>세종특별자치시</th>\n",
              "      <td>394.0</td>\n",
              "      <td>903.0</td>\n",
              "      <td>1076.0</td>\n",
              "    </tr>\n",
              "    <tr>\n",
              "      <th>서울특별시</th>\n",
              "      <td>9564.0</td>\n",
              "      <td>14952.0</td>\n",
              "      <td>20997.0</td>\n",
              "    </tr>\n",
              "    <tr>\n",
              "      <th>인천광역시</th>\n",
              "      <td>1284.0</td>\n",
              "      <td>2598.0</td>\n",
              "      <td>4204.0</td>\n",
              "    </tr>\n",
              "    <tr>\n",
              "      <th>울산광역시</th>\n",
              "      <td>847.0</td>\n",
              "      <td>1447.0</td>\n",
              "      <td>2142.0</td>\n",
              "    </tr>\n",
              "    <tr>\n",
              "      <th>제주특별자치도</th>\n",
              "      <td>15549.0</td>\n",
              "      <td>18178.0</td>\n",
              "      <td>20699.0</td>\n",
              "    </tr>\n",
              "  </tbody>\n",
              "</table>\n",
              "</div>"
            ],
            "text/plain": [
              "기준일      2018-12-31  2019-12-31  2020-08-31\n",
              "부산광역시        1567.0      3216.0      4320.0\n",
              "대구광역시        6605.0     11313.0     12468.0\n",
              "대전광역시        1334.0      2555.0      3338.0\n",
              "광주광역시        1447.0      2464.0      3046.0\n",
              "경기도          6383.0     11750.0     17197.0\n",
              "강원도          1377.0      2445.0      3091.0\n",
              "경상북도         2001.0      4051.0      5400.0\n",
              "경상남도         2107.0      3626.0      5003.0\n",
              "충청북도         1199.0      2412.0      3319.0\n",
              "충청남도         1127.0      2841.0      4252.0\n",
              "전라북도          997.0      1841.0      2906.0\n",
              "전라남도         1974.0      3326.0      4576.0\n",
              "세종특별자치시       394.0       903.0      1076.0\n",
              "서울특별시        9564.0     14952.0     20997.0\n",
              "인천광역시        1284.0      2598.0      4204.0\n",
              "울산광역시         847.0      1447.0      2142.0\n",
              "제주특별자치도     15549.0     18178.0     20699.0"
            ]
          },
          "metadata": {
            "tags": []
          },
          "execution_count": 196
        }
      ]
    },
    {
      "cell_type": "code",
      "metadata": {
        "colab": {
          "base_uri": "https://localhost:8080/",
          "height": 576
        },
        "id": "CF8ufUcT3R3n",
        "outputId": "02e931e4-61ef-4793-9ce3-faa62c0e07c9"
      },
      "source": [
        "trans_car['행정도시'] = ['부산광역시', '대구광역시', '대전광역시','광주광역시', '경기도', '강원도', '경상북도', '경상남도', '충청북도', '충청남도', '전라북도', '전라남도', '세종특별자치시', '서울특별시', '인천광역시', '울산광역시', '제주특별자치도']\n",
        "trans_car"
      ],
      "execution_count": null,
      "outputs": [
        {
          "output_type": "execute_result",
          "data": {
            "text/html": [
              "<div>\n",
              "<style scoped>\n",
              "    .dataframe tbody tr th:only-of-type {\n",
              "        vertical-align: middle;\n",
              "    }\n",
              "\n",
              "    .dataframe tbody tr th {\n",
              "        vertical-align: top;\n",
              "    }\n",
              "\n",
              "    .dataframe thead th {\n",
              "        text-align: right;\n",
              "    }\n",
              "</style>\n",
              "<table border=\"1\" class=\"dataframe\">\n",
              "  <thead>\n",
              "    <tr style=\"text-align: right;\">\n",
              "      <th>기준일</th>\n",
              "      <th>2018-12-31</th>\n",
              "      <th>2019-12-31</th>\n",
              "      <th>2020-08-31</th>\n",
              "      <th>행정도시</th>\n",
              "    </tr>\n",
              "  </thead>\n",
              "  <tbody>\n",
              "    <tr>\n",
              "      <th>부산광역시</th>\n",
              "      <td>1567.0</td>\n",
              "      <td>3216.0</td>\n",
              "      <td>4320.0</td>\n",
              "      <td>부산광역시</td>\n",
              "    </tr>\n",
              "    <tr>\n",
              "      <th>대구광역시</th>\n",
              "      <td>6605.0</td>\n",
              "      <td>11313.0</td>\n",
              "      <td>12468.0</td>\n",
              "      <td>대구광역시</td>\n",
              "    </tr>\n",
              "    <tr>\n",
              "      <th>대전광역시</th>\n",
              "      <td>1334.0</td>\n",
              "      <td>2555.0</td>\n",
              "      <td>3338.0</td>\n",
              "      <td>대전광역시</td>\n",
              "    </tr>\n",
              "    <tr>\n",
              "      <th>광주광역시</th>\n",
              "      <td>1447.0</td>\n",
              "      <td>2464.0</td>\n",
              "      <td>3046.0</td>\n",
              "      <td>광주광역시</td>\n",
              "    </tr>\n",
              "    <tr>\n",
              "      <th>경기도</th>\n",
              "      <td>6383.0</td>\n",
              "      <td>11750.0</td>\n",
              "      <td>17197.0</td>\n",
              "      <td>경기도</td>\n",
              "    </tr>\n",
              "    <tr>\n",
              "      <th>강원도</th>\n",
              "      <td>1377.0</td>\n",
              "      <td>2445.0</td>\n",
              "      <td>3091.0</td>\n",
              "      <td>강원도</td>\n",
              "    </tr>\n",
              "    <tr>\n",
              "      <th>경상북도</th>\n",
              "      <td>2001.0</td>\n",
              "      <td>4051.0</td>\n",
              "      <td>5400.0</td>\n",
              "      <td>경상북도</td>\n",
              "    </tr>\n",
              "    <tr>\n",
              "      <th>경상남도</th>\n",
              "      <td>2107.0</td>\n",
              "      <td>3626.0</td>\n",
              "      <td>5003.0</td>\n",
              "      <td>경상남도</td>\n",
              "    </tr>\n",
              "    <tr>\n",
              "      <th>충청북도</th>\n",
              "      <td>1199.0</td>\n",
              "      <td>2412.0</td>\n",
              "      <td>3319.0</td>\n",
              "      <td>충청북도</td>\n",
              "    </tr>\n",
              "    <tr>\n",
              "      <th>충청남도</th>\n",
              "      <td>1127.0</td>\n",
              "      <td>2841.0</td>\n",
              "      <td>4252.0</td>\n",
              "      <td>충청남도</td>\n",
              "    </tr>\n",
              "    <tr>\n",
              "      <th>전라북도</th>\n",
              "      <td>997.0</td>\n",
              "      <td>1841.0</td>\n",
              "      <td>2906.0</td>\n",
              "      <td>전라북도</td>\n",
              "    </tr>\n",
              "    <tr>\n",
              "      <th>전라남도</th>\n",
              "      <td>1974.0</td>\n",
              "      <td>3326.0</td>\n",
              "      <td>4576.0</td>\n",
              "      <td>전라남도</td>\n",
              "    </tr>\n",
              "    <tr>\n",
              "      <th>세종특별자치시</th>\n",
              "      <td>394.0</td>\n",
              "      <td>903.0</td>\n",
              "      <td>1076.0</td>\n",
              "      <td>세종특별자치시</td>\n",
              "    </tr>\n",
              "    <tr>\n",
              "      <th>서울특별시</th>\n",
              "      <td>9564.0</td>\n",
              "      <td>14952.0</td>\n",
              "      <td>20997.0</td>\n",
              "      <td>서울특별시</td>\n",
              "    </tr>\n",
              "    <tr>\n",
              "      <th>인천광역시</th>\n",
              "      <td>1284.0</td>\n",
              "      <td>2598.0</td>\n",
              "      <td>4204.0</td>\n",
              "      <td>인천광역시</td>\n",
              "    </tr>\n",
              "    <tr>\n",
              "      <th>울산광역시</th>\n",
              "      <td>847.0</td>\n",
              "      <td>1447.0</td>\n",
              "      <td>2142.0</td>\n",
              "      <td>울산광역시</td>\n",
              "    </tr>\n",
              "    <tr>\n",
              "      <th>제주특별자치도</th>\n",
              "      <td>15549.0</td>\n",
              "      <td>18178.0</td>\n",
              "      <td>20699.0</td>\n",
              "      <td>제주특별자치도</td>\n",
              "    </tr>\n",
              "  </tbody>\n",
              "</table>\n",
              "</div>"
            ],
            "text/plain": [
              "기준일      2018-12-31  2019-12-31  2020-08-31     행정도시\n",
              "부산광역시        1567.0      3216.0      4320.0    부산광역시\n",
              "대구광역시        6605.0     11313.0     12468.0    대구광역시\n",
              "대전광역시        1334.0      2555.0      3338.0    대전광역시\n",
              "광주광역시        1447.0      2464.0      3046.0    광주광역시\n",
              "경기도          6383.0     11750.0     17197.0      경기도\n",
              "강원도          1377.0      2445.0      3091.0      강원도\n",
              "경상북도         2001.0      4051.0      5400.0     경상북도\n",
              "경상남도         2107.0      3626.0      5003.0     경상남도\n",
              "충청북도         1199.0      2412.0      3319.0     충청북도\n",
              "충청남도         1127.0      2841.0      4252.0     충청남도\n",
              "전라북도          997.0      1841.0      2906.0     전라북도\n",
              "전라남도         1974.0      3326.0      4576.0     전라남도\n",
              "세종특별자치시       394.0       903.0      1076.0  세종특별자치시\n",
              "서울특별시        9564.0     14952.0     20997.0    서울특별시\n",
              "인천광역시        1284.0      2598.0      4204.0    인천광역시\n",
              "울산광역시         847.0      1447.0      2142.0    울산광역시\n",
              "제주특별자치도     15549.0     18178.0     20699.0  제주특별자치도"
            ]
          },
          "metadata": {
            "tags": []
          },
          "execution_count": 197
        }
      ]
    },
    {
      "cell_type": "code",
      "metadata": {
        "colab": {
          "base_uri": "https://localhost:8080/",
          "height": 607
        },
        "id": "pTiWOLQT0RBN",
        "outputId": "2e1c5785-5628-44ff-93bb-d313ecfc16c8"
      },
      "source": [
        "trans_car.set_index('행정도시')"
      ],
      "execution_count": null,
      "outputs": [
        {
          "output_type": "execute_result",
          "data": {
            "text/html": [
              "<div>\n",
              "<style scoped>\n",
              "    .dataframe tbody tr th:only-of-type {\n",
              "        vertical-align: middle;\n",
              "    }\n",
              "\n",
              "    .dataframe tbody tr th {\n",
              "        vertical-align: top;\n",
              "    }\n",
              "\n",
              "    .dataframe thead th {\n",
              "        text-align: right;\n",
              "    }\n",
              "</style>\n",
              "<table border=\"1\" class=\"dataframe\">\n",
              "  <thead>\n",
              "    <tr style=\"text-align: right;\">\n",
              "      <th>기준일</th>\n",
              "      <th>2018-12-31</th>\n",
              "      <th>2019-12-31</th>\n",
              "      <th>2020-08-31</th>\n",
              "    </tr>\n",
              "    <tr>\n",
              "      <th>행정도시</th>\n",
              "      <th></th>\n",
              "      <th></th>\n",
              "      <th></th>\n",
              "    </tr>\n",
              "  </thead>\n",
              "  <tbody>\n",
              "    <tr>\n",
              "      <th>부산광역시</th>\n",
              "      <td>1567.0</td>\n",
              "      <td>3216.0</td>\n",
              "      <td>4320.0</td>\n",
              "    </tr>\n",
              "    <tr>\n",
              "      <th>대구광역시</th>\n",
              "      <td>6605.0</td>\n",
              "      <td>11313.0</td>\n",
              "      <td>12468.0</td>\n",
              "    </tr>\n",
              "    <tr>\n",
              "      <th>대전광역시</th>\n",
              "      <td>1334.0</td>\n",
              "      <td>2555.0</td>\n",
              "      <td>3338.0</td>\n",
              "    </tr>\n",
              "    <tr>\n",
              "      <th>광주광역시</th>\n",
              "      <td>1447.0</td>\n",
              "      <td>2464.0</td>\n",
              "      <td>3046.0</td>\n",
              "    </tr>\n",
              "    <tr>\n",
              "      <th>경기도</th>\n",
              "      <td>6383.0</td>\n",
              "      <td>11750.0</td>\n",
              "      <td>17197.0</td>\n",
              "    </tr>\n",
              "    <tr>\n",
              "      <th>강원도</th>\n",
              "      <td>1377.0</td>\n",
              "      <td>2445.0</td>\n",
              "      <td>3091.0</td>\n",
              "    </tr>\n",
              "    <tr>\n",
              "      <th>경상북도</th>\n",
              "      <td>2001.0</td>\n",
              "      <td>4051.0</td>\n",
              "      <td>5400.0</td>\n",
              "    </tr>\n",
              "    <tr>\n",
              "      <th>경상남도</th>\n",
              "      <td>2107.0</td>\n",
              "      <td>3626.0</td>\n",
              "      <td>5003.0</td>\n",
              "    </tr>\n",
              "    <tr>\n",
              "      <th>충청북도</th>\n",
              "      <td>1199.0</td>\n",
              "      <td>2412.0</td>\n",
              "      <td>3319.0</td>\n",
              "    </tr>\n",
              "    <tr>\n",
              "      <th>충청남도</th>\n",
              "      <td>1127.0</td>\n",
              "      <td>2841.0</td>\n",
              "      <td>4252.0</td>\n",
              "    </tr>\n",
              "    <tr>\n",
              "      <th>전라북도</th>\n",
              "      <td>997.0</td>\n",
              "      <td>1841.0</td>\n",
              "      <td>2906.0</td>\n",
              "    </tr>\n",
              "    <tr>\n",
              "      <th>전라남도</th>\n",
              "      <td>1974.0</td>\n",
              "      <td>3326.0</td>\n",
              "      <td>4576.0</td>\n",
              "    </tr>\n",
              "    <tr>\n",
              "      <th>세종특별자치시</th>\n",
              "      <td>394.0</td>\n",
              "      <td>903.0</td>\n",
              "      <td>1076.0</td>\n",
              "    </tr>\n",
              "    <tr>\n",
              "      <th>서울특별시</th>\n",
              "      <td>9564.0</td>\n",
              "      <td>14952.0</td>\n",
              "      <td>20997.0</td>\n",
              "    </tr>\n",
              "    <tr>\n",
              "      <th>인천광역시</th>\n",
              "      <td>1284.0</td>\n",
              "      <td>2598.0</td>\n",
              "      <td>4204.0</td>\n",
              "    </tr>\n",
              "    <tr>\n",
              "      <th>울산광역시</th>\n",
              "      <td>847.0</td>\n",
              "      <td>1447.0</td>\n",
              "      <td>2142.0</td>\n",
              "    </tr>\n",
              "    <tr>\n",
              "      <th>제주특별자치도</th>\n",
              "      <td>15549.0</td>\n",
              "      <td>18178.0</td>\n",
              "      <td>20699.0</td>\n",
              "    </tr>\n",
              "  </tbody>\n",
              "</table>\n",
              "</div>"
            ],
            "text/plain": [
              "기준일      2018-12-31  2019-12-31  2020-08-31\n",
              "행정도시                                       \n",
              "부산광역시        1567.0      3216.0      4320.0\n",
              "대구광역시        6605.0     11313.0     12468.0\n",
              "대전광역시        1334.0      2555.0      3338.0\n",
              "광주광역시        1447.0      2464.0      3046.0\n",
              "경기도          6383.0     11750.0     17197.0\n",
              "강원도          1377.0      2445.0      3091.0\n",
              "경상북도         2001.0      4051.0      5400.0\n",
              "경상남도         2107.0      3626.0      5003.0\n",
              "충청북도         1199.0      2412.0      3319.0\n",
              "충청남도         1127.0      2841.0      4252.0\n",
              "전라북도          997.0      1841.0      2906.0\n",
              "전라남도         1974.0      3326.0      4576.0\n",
              "세종특별자치시       394.0       903.0      1076.0\n",
              "서울특별시        9564.0     14952.0     20997.0\n",
              "인천광역시        1284.0      2598.0      4204.0\n",
              "울산광역시         847.0      1447.0      2142.0\n",
              "제주특별자치도     15549.0     18178.0     20699.0"
            ]
          },
          "metadata": {
            "tags": []
          },
          "execution_count": 198
        }
      ]
    },
    {
      "cell_type": "code",
      "metadata": {
        "colab": {
          "base_uri": "https://localhost:8080/",
          "height": 607
        },
        "id": "f_0yKWopbsiS",
        "outputId": "557129fc-f5fc-476c-8d67-fcad897be62b"
      },
      "source": [
        "Aug= pd.pivot_table(trans_car, index = '행정도시', values = '2020-08-31', aggfunc = 'sum') \n",
        "Aug"
      ],
      "execution_count": null,
      "outputs": [
        {
          "output_type": "execute_result",
          "data": {
            "text/html": [
              "<div>\n",
              "<style scoped>\n",
              "    .dataframe tbody tr th:only-of-type {\n",
              "        vertical-align: middle;\n",
              "    }\n",
              "\n",
              "    .dataframe tbody tr th {\n",
              "        vertical-align: top;\n",
              "    }\n",
              "\n",
              "    .dataframe thead th {\n",
              "        text-align: right;\n",
              "    }\n",
              "</style>\n",
              "<table border=\"1\" class=\"dataframe\">\n",
              "  <thead>\n",
              "    <tr style=\"text-align: right;\">\n",
              "      <th>기준일</th>\n",
              "      <th>2020-08-31</th>\n",
              "    </tr>\n",
              "    <tr>\n",
              "      <th>행정도시</th>\n",
              "      <th></th>\n",
              "    </tr>\n",
              "  </thead>\n",
              "  <tbody>\n",
              "    <tr>\n",
              "      <th>강원도</th>\n",
              "      <td>3091.0</td>\n",
              "    </tr>\n",
              "    <tr>\n",
              "      <th>경기도</th>\n",
              "      <td>17197.0</td>\n",
              "    </tr>\n",
              "    <tr>\n",
              "      <th>경상남도</th>\n",
              "      <td>5003.0</td>\n",
              "    </tr>\n",
              "    <tr>\n",
              "      <th>경상북도</th>\n",
              "      <td>5400.0</td>\n",
              "    </tr>\n",
              "    <tr>\n",
              "      <th>광주광역시</th>\n",
              "      <td>3046.0</td>\n",
              "    </tr>\n",
              "    <tr>\n",
              "      <th>대구광역시</th>\n",
              "      <td>12468.0</td>\n",
              "    </tr>\n",
              "    <tr>\n",
              "      <th>대전광역시</th>\n",
              "      <td>3338.0</td>\n",
              "    </tr>\n",
              "    <tr>\n",
              "      <th>부산광역시</th>\n",
              "      <td>4320.0</td>\n",
              "    </tr>\n",
              "    <tr>\n",
              "      <th>서울특별시</th>\n",
              "      <td>20997.0</td>\n",
              "    </tr>\n",
              "    <tr>\n",
              "      <th>세종특별자치시</th>\n",
              "      <td>1076.0</td>\n",
              "    </tr>\n",
              "    <tr>\n",
              "      <th>울산광역시</th>\n",
              "      <td>2142.0</td>\n",
              "    </tr>\n",
              "    <tr>\n",
              "      <th>인천광역시</th>\n",
              "      <td>4204.0</td>\n",
              "    </tr>\n",
              "    <tr>\n",
              "      <th>전라남도</th>\n",
              "      <td>4576.0</td>\n",
              "    </tr>\n",
              "    <tr>\n",
              "      <th>전라북도</th>\n",
              "      <td>2906.0</td>\n",
              "    </tr>\n",
              "    <tr>\n",
              "      <th>제주특별자치도</th>\n",
              "      <td>20699.0</td>\n",
              "    </tr>\n",
              "    <tr>\n",
              "      <th>충청남도</th>\n",
              "      <td>4252.0</td>\n",
              "    </tr>\n",
              "    <tr>\n",
              "      <th>충청북도</th>\n",
              "      <td>3319.0</td>\n",
              "    </tr>\n",
              "  </tbody>\n",
              "</table>\n",
              "</div>"
            ],
            "text/plain": [
              "기준일      2020-08-31\n",
              "행정도시               \n",
              "강원도          3091.0\n",
              "경기도         17197.0\n",
              "경상남도         5003.0\n",
              "경상북도         5400.0\n",
              "광주광역시        3046.0\n",
              "대구광역시       12468.0\n",
              "대전광역시        3338.0\n",
              "부산광역시        4320.0\n",
              "서울특별시       20997.0\n",
              "세종특별자치시      1076.0\n",
              "울산광역시        2142.0\n",
              "인천광역시        4204.0\n",
              "전라남도         4576.0\n",
              "전라북도         2906.0\n",
              "제주특별자치도     20699.0\n",
              "충청남도         4252.0\n",
              "충청북도         3319.0"
            ]
          },
          "metadata": {
            "tags": []
          },
          "execution_count": 199
        }
      ]
    },
    {
      "cell_type": "code",
      "metadata": {
        "colab": {
          "base_uri": "https://localhost:8080/",
          "height": 607
        },
        "id": "v1W-jFFUcGLL",
        "outputId": "cdd9d67a-67d1-4567-d9c9-98fc85f98f24"
      },
      "source": [
        "Aug_charger = pd.merge(Aug, charger, on = '행정도시')\n",
        "Aug_charger"
      ],
      "execution_count": null,
      "outputs": [
        {
          "output_type": "execute_result",
          "data": {
            "text/html": [
              "<div>\n",
              "<style scoped>\n",
              "    .dataframe tbody tr th:only-of-type {\n",
              "        vertical-align: middle;\n",
              "    }\n",
              "\n",
              "    .dataframe tbody tr th {\n",
              "        vertical-align: top;\n",
              "    }\n",
              "\n",
              "    .dataframe thead th {\n",
              "        text-align: right;\n",
              "    }\n",
              "</style>\n",
              "<table border=\"1\" class=\"dataframe\">\n",
              "  <thead>\n",
              "    <tr style=\"text-align: right;\">\n",
              "      <th></th>\n",
              "      <th>2020-08-31</th>\n",
              "      <th>충전기합계</th>\n",
              "    </tr>\n",
              "    <tr>\n",
              "      <th>행정도시</th>\n",
              "      <th></th>\n",
              "      <th></th>\n",
              "    </tr>\n",
              "  </thead>\n",
              "  <tbody>\n",
              "    <tr>\n",
              "      <th>강원도</th>\n",
              "      <td>3091.0</td>\n",
              "      <td>322</td>\n",
              "    </tr>\n",
              "    <tr>\n",
              "      <th>경기도</th>\n",
              "      <td>17197.0</td>\n",
              "      <td>2149</td>\n",
              "    </tr>\n",
              "    <tr>\n",
              "      <th>경상남도</th>\n",
              "      <td>5003.0</td>\n",
              "      <td>596</td>\n",
              "    </tr>\n",
              "    <tr>\n",
              "      <th>경상북도</th>\n",
              "      <td>5400.0</td>\n",
              "      <td>426</td>\n",
              "    </tr>\n",
              "    <tr>\n",
              "      <th>광주광역시</th>\n",
              "      <td>3046.0</td>\n",
              "      <td>203</td>\n",
              "    </tr>\n",
              "    <tr>\n",
              "      <th>대구광역시</th>\n",
              "      <td>12468.0</td>\n",
              "      <td>616</td>\n",
              "    </tr>\n",
              "    <tr>\n",
              "      <th>대전광역시</th>\n",
              "      <td>3338.0</td>\n",
              "      <td>299</td>\n",
              "    </tr>\n",
              "    <tr>\n",
              "      <th>부산광역시</th>\n",
              "      <td>4320.0</td>\n",
              "      <td>336</td>\n",
              "    </tr>\n",
              "    <tr>\n",
              "      <th>서울특별시</th>\n",
              "      <td>20997.0</td>\n",
              "      <td>1375</td>\n",
              "    </tr>\n",
              "    <tr>\n",
              "      <th>세종특별자치시</th>\n",
              "      <td>1076.0</td>\n",
              "      <td>193</td>\n",
              "    </tr>\n",
              "    <tr>\n",
              "      <th>울산광역시</th>\n",
              "      <td>2142.0</td>\n",
              "      <td>115</td>\n",
              "    </tr>\n",
              "    <tr>\n",
              "      <th>인천광역시</th>\n",
              "      <td>4204.0</td>\n",
              "      <td>446</td>\n",
              "    </tr>\n",
              "    <tr>\n",
              "      <th>전라남도</th>\n",
              "      <td>4576.0</td>\n",
              "      <td>407</td>\n",
              "    </tr>\n",
              "    <tr>\n",
              "      <th>전라북도</th>\n",
              "      <td>2906.0</td>\n",
              "      <td>341</td>\n",
              "    </tr>\n",
              "    <tr>\n",
              "      <th>제주특별자치도</th>\n",
              "      <td>20699.0</td>\n",
              "      <td>427</td>\n",
              "    </tr>\n",
              "    <tr>\n",
              "      <th>충청남도</th>\n",
              "      <td>4252.0</td>\n",
              "      <td>278</td>\n",
              "    </tr>\n",
              "    <tr>\n",
              "      <th>충청북도</th>\n",
              "      <td>3319.0</td>\n",
              "      <td>399</td>\n",
              "    </tr>\n",
              "  </tbody>\n",
              "</table>\n",
              "</div>"
            ],
            "text/plain": [
              "         2020-08-31  충전기합계\n",
              "행정도시                      \n",
              "강원도          3091.0    322\n",
              "경기도         17197.0   2149\n",
              "경상남도         5003.0    596\n",
              "경상북도         5400.0    426\n",
              "광주광역시        3046.0    203\n",
              "대구광역시       12468.0    616\n",
              "대전광역시        3338.0    299\n",
              "부산광역시        4320.0    336\n",
              "서울특별시       20997.0   1375\n",
              "세종특별자치시      1076.0    193\n",
              "울산광역시        2142.0    115\n",
              "인천광역시        4204.0    446\n",
              "전라남도         4576.0    407\n",
              "전라북도         2906.0    341\n",
              "제주특별자치도     20699.0    427\n",
              "충청남도         4252.0    278\n",
              "충청북도         3319.0    399"
            ]
          },
          "metadata": {
            "tags": []
          },
          "execution_count": 200
        }
      ]
    },
    {
      "cell_type": "code",
      "metadata": {
        "colab": {
          "base_uri": "https://localhost:8080/",
          "height": 1000
        },
        "id": "c8SasOMfcy0K",
        "outputId": "86572da3-d5fb-46ee-a89b-e150a77103ce"
      },
      "source": [
        "Aug_charger.plot(kind='bar')\n",
        "plt.show()\n",
        "# 2020년 신규등록 차 대수만 가지고도 현재 충전기 개수와 비교해보면 터무니없이 충전기가 차보다 부족함을 볼 수 있음."
      ],
      "execution_count": null,
      "outputs": [
        {
          "output_type": "stream",
          "text": [
            "/usr/local/lib/python3.6/dist-packages/matplotlib/backends/backend_agg.py:214: RuntimeWarning: Glyph 44053 missing from current font.\n",
            "  font.set_text(s, 0.0, flags=flags)\n",
            "/usr/local/lib/python3.6/dist-packages/matplotlib/backends/backend_agg.py:214: RuntimeWarning: Glyph 50896 missing from current font.\n",
            "  font.set_text(s, 0.0, flags=flags)\n",
            "/usr/local/lib/python3.6/dist-packages/matplotlib/backends/backend_agg.py:214: RuntimeWarning: Glyph 46020 missing from current font.\n",
            "  font.set_text(s, 0.0, flags=flags)\n",
            "/usr/local/lib/python3.6/dist-packages/matplotlib/backends/backend_agg.py:214: RuntimeWarning: Glyph 44221 missing from current font.\n",
            "  font.set_text(s, 0.0, flags=flags)\n",
            "/usr/local/lib/python3.6/dist-packages/matplotlib/backends/backend_agg.py:214: RuntimeWarning: Glyph 44592 missing from current font.\n",
            "  font.set_text(s, 0.0, flags=flags)\n",
            "/usr/local/lib/python3.6/dist-packages/matplotlib/backends/backend_agg.py:214: RuntimeWarning: Glyph 49345 missing from current font.\n",
            "  font.set_text(s, 0.0, flags=flags)\n",
            "/usr/local/lib/python3.6/dist-packages/matplotlib/backends/backend_agg.py:214: RuntimeWarning: Glyph 45224 missing from current font.\n",
            "  font.set_text(s, 0.0, flags=flags)\n",
            "/usr/local/lib/python3.6/dist-packages/matplotlib/backends/backend_agg.py:214: RuntimeWarning: Glyph 48513 missing from current font.\n",
            "  font.set_text(s, 0.0, flags=flags)\n",
            "/usr/local/lib/python3.6/dist-packages/matplotlib/backends/backend_agg.py:214: RuntimeWarning: Glyph 44305 missing from current font.\n",
            "  font.set_text(s, 0.0, flags=flags)\n",
            "/usr/local/lib/python3.6/dist-packages/matplotlib/backends/backend_agg.py:214: RuntimeWarning: Glyph 51452 missing from current font.\n",
            "  font.set_text(s, 0.0, flags=flags)\n",
            "/usr/local/lib/python3.6/dist-packages/matplotlib/backends/backend_agg.py:214: RuntimeWarning: Glyph 50669 missing from current font.\n",
            "  font.set_text(s, 0.0, flags=flags)\n",
            "/usr/local/lib/python3.6/dist-packages/matplotlib/backends/backend_agg.py:214: RuntimeWarning: Glyph 49884 missing from current font.\n",
            "  font.set_text(s, 0.0, flags=flags)\n",
            "/usr/local/lib/python3.6/dist-packages/matplotlib/backends/backend_agg.py:214: RuntimeWarning: Glyph 45824 missing from current font.\n",
            "  font.set_text(s, 0.0, flags=flags)\n",
            "/usr/local/lib/python3.6/dist-packages/matplotlib/backends/backend_agg.py:214: RuntimeWarning: Glyph 44396 missing from current font.\n",
            "  font.set_text(s, 0.0, flags=flags)\n",
            "/usr/local/lib/python3.6/dist-packages/matplotlib/backends/backend_agg.py:214: RuntimeWarning: Glyph 51204 missing from current font.\n",
            "  font.set_text(s, 0.0, flags=flags)\n",
            "/usr/local/lib/python3.6/dist-packages/matplotlib/backends/backend_agg.py:214: RuntimeWarning: Glyph 48512 missing from current font.\n",
            "  font.set_text(s, 0.0, flags=flags)\n",
            "/usr/local/lib/python3.6/dist-packages/matplotlib/backends/backend_agg.py:214: RuntimeWarning: Glyph 49328 missing from current font.\n",
            "  font.set_text(s, 0.0, flags=flags)\n",
            "/usr/local/lib/python3.6/dist-packages/matplotlib/backends/backend_agg.py:214: RuntimeWarning: Glyph 49436 missing from current font.\n",
            "  font.set_text(s, 0.0, flags=flags)\n",
            "/usr/local/lib/python3.6/dist-packages/matplotlib/backends/backend_agg.py:214: RuntimeWarning: Glyph 50872 missing from current font.\n",
            "  font.set_text(s, 0.0, flags=flags)\n",
            "/usr/local/lib/python3.6/dist-packages/matplotlib/backends/backend_agg.py:214: RuntimeWarning: Glyph 53945 missing from current font.\n",
            "  font.set_text(s, 0.0, flags=flags)\n",
            "/usr/local/lib/python3.6/dist-packages/matplotlib/backends/backend_agg.py:214: RuntimeWarning: Glyph 48324 missing from current font.\n",
            "  font.set_text(s, 0.0, flags=flags)\n",
            "/usr/local/lib/python3.6/dist-packages/matplotlib/backends/backend_agg.py:214: RuntimeWarning: Glyph 49464 missing from current font.\n",
            "  font.set_text(s, 0.0, flags=flags)\n",
            "/usr/local/lib/python3.6/dist-packages/matplotlib/backends/backend_agg.py:214: RuntimeWarning: Glyph 51333 missing from current font.\n",
            "  font.set_text(s, 0.0, flags=flags)\n",
            "/usr/local/lib/python3.6/dist-packages/matplotlib/backends/backend_agg.py:214: RuntimeWarning: Glyph 51088 missing from current font.\n",
            "  font.set_text(s, 0.0, flags=flags)\n",
            "/usr/local/lib/python3.6/dist-packages/matplotlib/backends/backend_agg.py:214: RuntimeWarning: Glyph 52824 missing from current font.\n",
            "  font.set_text(s, 0.0, flags=flags)\n",
            "/usr/local/lib/python3.6/dist-packages/matplotlib/backends/backend_agg.py:214: RuntimeWarning: Glyph 51064 missing from current font.\n",
            "  font.set_text(s, 0.0, flags=flags)\n",
            "/usr/local/lib/python3.6/dist-packages/matplotlib/backends/backend_agg.py:214: RuntimeWarning: Glyph 52380 missing from current font.\n",
            "  font.set_text(s, 0.0, flags=flags)\n",
            "/usr/local/lib/python3.6/dist-packages/matplotlib/backends/backend_agg.py:214: RuntimeWarning: Glyph 46972 missing from current font.\n",
            "  font.set_text(s, 0.0, flags=flags)\n",
            "/usr/local/lib/python3.6/dist-packages/matplotlib/backends/backend_agg.py:214: RuntimeWarning: Glyph 51228 missing from current font.\n",
            "  font.set_text(s, 0.0, flags=flags)\n",
            "/usr/local/lib/python3.6/dist-packages/matplotlib/backends/backend_agg.py:214: RuntimeWarning: Glyph 52649 missing from current font.\n",
            "  font.set_text(s, 0.0, flags=flags)\n",
            "/usr/local/lib/python3.6/dist-packages/matplotlib/backends/backend_agg.py:214: RuntimeWarning: Glyph 52397 missing from current font.\n",
            "  font.set_text(s, 0.0, flags=flags)\n",
            "/usr/local/lib/python3.6/dist-packages/matplotlib/backends/backend_agg.py:214: RuntimeWarning: Glyph 54665 missing from current font.\n",
            "  font.set_text(s, 0.0, flags=flags)\n",
            "/usr/local/lib/python3.6/dist-packages/matplotlib/backends/backend_agg.py:214: RuntimeWarning: Glyph 51221 missing from current font.\n",
            "  font.set_text(s, 0.0, flags=flags)\n",
            "/usr/local/lib/python3.6/dist-packages/matplotlib/backends/backend_agg.py:214: RuntimeWarning: Glyph 54633 missing from current font.\n",
            "  font.set_text(s, 0.0, flags=flags)\n",
            "/usr/local/lib/python3.6/dist-packages/matplotlib/backends/backend_agg.py:214: RuntimeWarning: Glyph 44228 missing from current font.\n",
            "  font.set_text(s, 0.0, flags=flags)\n",
            "/usr/local/lib/python3.6/dist-packages/matplotlib/backends/backend_agg.py:183: RuntimeWarning: Glyph 44053 missing from current font.\n",
            "  font.set_text(s, 0, flags=flags)\n",
            "/usr/local/lib/python3.6/dist-packages/matplotlib/backends/backend_agg.py:183: RuntimeWarning: Glyph 50896 missing from current font.\n",
            "  font.set_text(s, 0, flags=flags)\n",
            "/usr/local/lib/python3.6/dist-packages/matplotlib/backends/backend_agg.py:183: RuntimeWarning: Glyph 46020 missing from current font.\n",
            "  font.set_text(s, 0, flags=flags)\n",
            "/usr/local/lib/python3.6/dist-packages/matplotlib/backends/backend_agg.py:183: RuntimeWarning: Glyph 44221 missing from current font.\n",
            "  font.set_text(s, 0, flags=flags)\n",
            "/usr/local/lib/python3.6/dist-packages/matplotlib/backends/backend_agg.py:183: RuntimeWarning: Glyph 44592 missing from current font.\n",
            "  font.set_text(s, 0, flags=flags)\n",
            "/usr/local/lib/python3.6/dist-packages/matplotlib/backends/backend_agg.py:183: RuntimeWarning: Glyph 49345 missing from current font.\n",
            "  font.set_text(s, 0, flags=flags)\n",
            "/usr/local/lib/python3.6/dist-packages/matplotlib/backends/backend_agg.py:183: RuntimeWarning: Glyph 45224 missing from current font.\n",
            "  font.set_text(s, 0, flags=flags)\n",
            "/usr/local/lib/python3.6/dist-packages/matplotlib/backends/backend_agg.py:183: RuntimeWarning: Glyph 48513 missing from current font.\n",
            "  font.set_text(s, 0, flags=flags)\n",
            "/usr/local/lib/python3.6/dist-packages/matplotlib/backends/backend_agg.py:183: RuntimeWarning: Glyph 44305 missing from current font.\n",
            "  font.set_text(s, 0, flags=flags)\n",
            "/usr/local/lib/python3.6/dist-packages/matplotlib/backends/backend_agg.py:183: RuntimeWarning: Glyph 51452 missing from current font.\n",
            "  font.set_text(s, 0, flags=flags)\n",
            "/usr/local/lib/python3.6/dist-packages/matplotlib/backends/backend_agg.py:183: RuntimeWarning: Glyph 50669 missing from current font.\n",
            "  font.set_text(s, 0, flags=flags)\n",
            "/usr/local/lib/python3.6/dist-packages/matplotlib/backends/backend_agg.py:183: RuntimeWarning: Glyph 49884 missing from current font.\n",
            "  font.set_text(s, 0, flags=flags)\n",
            "/usr/local/lib/python3.6/dist-packages/matplotlib/backends/backend_agg.py:183: RuntimeWarning: Glyph 45824 missing from current font.\n",
            "  font.set_text(s, 0, flags=flags)\n",
            "/usr/local/lib/python3.6/dist-packages/matplotlib/backends/backend_agg.py:183: RuntimeWarning: Glyph 44396 missing from current font.\n",
            "  font.set_text(s, 0, flags=flags)\n",
            "/usr/local/lib/python3.6/dist-packages/matplotlib/backends/backend_agg.py:183: RuntimeWarning: Glyph 51204 missing from current font.\n",
            "  font.set_text(s, 0, flags=flags)\n",
            "/usr/local/lib/python3.6/dist-packages/matplotlib/backends/backend_agg.py:183: RuntimeWarning: Glyph 48512 missing from current font.\n",
            "  font.set_text(s, 0, flags=flags)\n",
            "/usr/local/lib/python3.6/dist-packages/matplotlib/backends/backend_agg.py:183: RuntimeWarning: Glyph 49328 missing from current font.\n",
            "  font.set_text(s, 0, flags=flags)\n",
            "/usr/local/lib/python3.6/dist-packages/matplotlib/backends/backend_agg.py:183: RuntimeWarning: Glyph 49436 missing from current font.\n",
            "  font.set_text(s, 0, flags=flags)\n",
            "/usr/local/lib/python3.6/dist-packages/matplotlib/backends/backend_agg.py:183: RuntimeWarning: Glyph 50872 missing from current font.\n",
            "  font.set_text(s, 0, flags=flags)\n",
            "/usr/local/lib/python3.6/dist-packages/matplotlib/backends/backend_agg.py:183: RuntimeWarning: Glyph 53945 missing from current font.\n",
            "  font.set_text(s, 0, flags=flags)\n",
            "/usr/local/lib/python3.6/dist-packages/matplotlib/backends/backend_agg.py:183: RuntimeWarning: Glyph 48324 missing from current font.\n",
            "  font.set_text(s, 0, flags=flags)\n",
            "/usr/local/lib/python3.6/dist-packages/matplotlib/backends/backend_agg.py:183: RuntimeWarning: Glyph 49464 missing from current font.\n",
            "  font.set_text(s, 0, flags=flags)\n",
            "/usr/local/lib/python3.6/dist-packages/matplotlib/backends/backend_agg.py:183: RuntimeWarning: Glyph 51333 missing from current font.\n",
            "  font.set_text(s, 0, flags=flags)\n",
            "/usr/local/lib/python3.6/dist-packages/matplotlib/backends/backend_agg.py:183: RuntimeWarning: Glyph 51088 missing from current font.\n",
            "  font.set_text(s, 0, flags=flags)\n",
            "/usr/local/lib/python3.6/dist-packages/matplotlib/backends/backend_agg.py:183: RuntimeWarning: Glyph 52824 missing from current font.\n",
            "  font.set_text(s, 0, flags=flags)\n",
            "/usr/local/lib/python3.6/dist-packages/matplotlib/backends/backend_agg.py:183: RuntimeWarning: Glyph 51064 missing from current font.\n",
            "  font.set_text(s, 0, flags=flags)\n",
            "/usr/local/lib/python3.6/dist-packages/matplotlib/backends/backend_agg.py:183: RuntimeWarning: Glyph 52380 missing from current font.\n",
            "  font.set_text(s, 0, flags=flags)\n",
            "/usr/local/lib/python3.6/dist-packages/matplotlib/backends/backend_agg.py:183: RuntimeWarning: Glyph 46972 missing from current font.\n",
            "  font.set_text(s, 0, flags=flags)\n",
            "/usr/local/lib/python3.6/dist-packages/matplotlib/backends/backend_agg.py:183: RuntimeWarning: Glyph 51228 missing from current font.\n",
            "  font.set_text(s, 0, flags=flags)\n",
            "/usr/local/lib/python3.6/dist-packages/matplotlib/backends/backend_agg.py:183: RuntimeWarning: Glyph 52649 missing from current font.\n",
            "  font.set_text(s, 0, flags=flags)\n",
            "/usr/local/lib/python3.6/dist-packages/matplotlib/backends/backend_agg.py:183: RuntimeWarning: Glyph 52397 missing from current font.\n",
            "  font.set_text(s, 0, flags=flags)\n",
            "/usr/local/lib/python3.6/dist-packages/matplotlib/backends/backend_agg.py:183: RuntimeWarning: Glyph 54665 missing from current font.\n",
            "  font.set_text(s, 0, flags=flags)\n",
            "/usr/local/lib/python3.6/dist-packages/matplotlib/backends/backend_agg.py:183: RuntimeWarning: Glyph 51221 missing from current font.\n",
            "  font.set_text(s, 0, flags=flags)\n",
            "/usr/local/lib/python3.6/dist-packages/matplotlib/backends/backend_agg.py:183: RuntimeWarning: Glyph 54633 missing from current font.\n",
            "  font.set_text(s, 0, flags=flags)\n",
            "/usr/local/lib/python3.6/dist-packages/matplotlib/backends/backend_agg.py:183: RuntimeWarning: Glyph 44228 missing from current font.\n",
            "  font.set_text(s, 0, flags=flags)\n"
          ],
          "name": "stderr"
        },
        {
          "output_type": "display_data",
          "data": {
            "image/png": "[encoded data removed]",
            "text/plain": [
              "<Figure size 432x288 with 1 Axes>"
            ]
          },
          "metadata": {
            "tags": [],
            "needs_background": "light"
          }
        }
      ]
    },
    {
      "cell_type": "code",
      "metadata": {
        "colab": {
          "base_uri": "https://localhost:8080/",
          "height": 607
        },
        "id": "rOIFeVQFf2tS",
        "outputId": "43c30004-98d9-4473-fbb2-e0501e209e09"
      },
      "source": [
        "Aug_charger['비율'] = Aug_charger['충전기합계']/Aug_charger['2020-08-31']*100\n",
        "Aug_charger"
      ],
      "execution_count": null,
      "outputs": [
        {
          "output_type": "execute_result",
          "data": {
            "text/html": [
              "<div>\n",
              "<style scoped>\n",
              "    .dataframe tbody tr th:only-of-type {\n",
              "        vertical-align: middle;\n",
              "    }\n",
              "\n",
              "    .dataframe tbody tr th {\n",
              "        vertical-align: top;\n",
              "    }\n",
              "\n",
              "    .dataframe thead th {\n",
              "        text-align: right;\n",
              "    }\n",
              "</style>\n",
              "<table border=\"1\" class=\"dataframe\">\n",
              "  <thead>\n",
              "    <tr style=\"text-align: right;\">\n",
              "      <th></th>\n",
              "      <th>2020-08-31</th>\n",
              "      <th>충전기합계</th>\n",
              "      <th>비율</th>\n",
              "    </tr>\n",
              "    <tr>\n",
              "      <th>행정도시</th>\n",
              "      <th></th>\n",
              "      <th></th>\n",
              "      <th></th>\n",
              "    </tr>\n",
              "  </thead>\n",
              "  <tbody>\n",
              "    <tr>\n",
              "      <th>강원도</th>\n",
              "      <td>3091.0</td>\n",
              "      <td>322</td>\n",
              "      <td>10.417341</td>\n",
              "    </tr>\n",
              "    <tr>\n",
              "      <th>경기도</th>\n",
              "      <td>17197.0</td>\n",
              "      <td>2149</td>\n",
              "      <td>12.496366</td>\n",
              "    </tr>\n",
              "    <tr>\n",
              "      <th>경상남도</th>\n",
              "      <td>5003.0</td>\n",
              "      <td>596</td>\n",
              "      <td>11.912852</td>\n",
              "    </tr>\n",
              "    <tr>\n",
              "      <th>경상북도</th>\n",
              "      <td>5400.0</td>\n",
              "      <td>426</td>\n",
              "      <td>7.888889</td>\n",
              "    </tr>\n",
              "    <tr>\n",
              "      <th>광주광역시</th>\n",
              "      <td>3046.0</td>\n",
              "      <td>203</td>\n",
              "      <td>6.664478</td>\n",
              "    </tr>\n",
              "    <tr>\n",
              "      <th>대구광역시</th>\n",
              "      <td>12468.0</td>\n",
              "      <td>616</td>\n",
              "      <td>4.940648</td>\n",
              "    </tr>\n",
              "    <tr>\n",
              "      <th>대전광역시</th>\n",
              "      <td>3338.0</td>\n",
              "      <td>299</td>\n",
              "      <td>8.957460</td>\n",
              "    </tr>\n",
              "    <tr>\n",
              "      <th>부산광역시</th>\n",
              "      <td>4320.0</td>\n",
              "      <td>336</td>\n",
              "      <td>7.777778</td>\n",
              "    </tr>\n",
              "    <tr>\n",
              "      <th>서울특별시</th>\n",
              "      <td>20997.0</td>\n",
              "      <td>1375</td>\n",
              "      <td>6.548555</td>\n",
              "    </tr>\n",
              "    <tr>\n",
              "      <th>세종특별자치시</th>\n",
              "      <td>1076.0</td>\n",
              "      <td>193</td>\n",
              "      <td>17.936803</td>\n",
              "    </tr>\n",
              "    <tr>\n",
              "      <th>울산광역시</th>\n",
              "      <td>2142.0</td>\n",
              "      <td>115</td>\n",
              "      <td>5.368814</td>\n",
              "    </tr>\n",
              "    <tr>\n",
              "      <th>인천광역시</th>\n",
              "      <td>4204.0</td>\n",
              "      <td>446</td>\n",
              "      <td>10.608944</td>\n",
              "    </tr>\n",
              "    <tr>\n",
              "      <th>전라남도</th>\n",
              "      <td>4576.0</td>\n",
              "      <td>407</td>\n",
              "      <td>8.894231</td>\n",
              "    </tr>\n",
              "    <tr>\n",
              "      <th>전라북도</th>\n",
              "      <td>2906.0</td>\n",
              "      <td>341</td>\n",
              "      <td>11.734343</td>\n",
              "    </tr>\n",
              "    <tr>\n",
              "      <th>제주특별자치도</th>\n",
              "      <td>20699.0</td>\n",
              "      <td>427</td>\n",
              "      <td>2.062902</td>\n",
              "    </tr>\n",
              "    <tr>\n",
              "      <th>충청남도</th>\n",
              "      <td>4252.0</td>\n",
              "      <td>278</td>\n",
              "      <td>6.538100</td>\n",
              "    </tr>\n",
              "    <tr>\n",
              "      <th>충청북도</th>\n",
              "      <td>3319.0</td>\n",
              "      <td>399</td>\n",
              "      <td>12.021693</td>\n",
              "    </tr>\n",
              "  </tbody>\n",
              "</table>\n",
              "</div>"
            ],
            "text/plain": [
              "         2020-08-31  충전기합계         비율\n",
              "행정도시                                 \n",
              "강원도          3091.0    322  10.417341\n",
              "경기도         17197.0   2149  12.496366\n",
              "경상남도         5003.0    596  11.912852\n",
              "경상북도         5400.0    426   7.888889\n",
              "광주광역시        3046.0    203   6.664478\n",
              "대구광역시       12468.0    616   4.940648\n",
              "대전광역시        3338.0    299   8.957460\n",
              "부산광역시        4320.0    336   7.777778\n",
              "서울특별시       20997.0   1375   6.548555\n",
              "세종특별자치시      1076.0    193  17.936803\n",
              "울산광역시        2142.0    115   5.368814\n",
              "인천광역시        4204.0    446  10.608944\n",
              "전라남도         4576.0    407   8.894231\n",
              "전라북도         2906.0    341  11.734343\n",
              "제주특별자치도     20699.0    427   2.062902\n",
              "충청남도         4252.0    278   6.538100\n",
              "충청북도         3319.0    399  12.021693"
            ]
          },
          "metadata": {
            "tags": []
          },
          "execution_count": 202
        }
      ]
    },
    {
      "cell_type": "code",
      "metadata": {
        "colab": {
          "base_uri": "https://localhost:8080/",
          "height": 607
        },
        "id": "MERGB_M0gWIJ",
        "outputId": "628a28e9-66cd-449f-bba0-a5a8f0250e77"
      },
      "source": [
        "ratio = pd.pivot_table(Aug_charger, index = '행정도시', values = '비율', aggfunc = 'sum') \n",
        "ratio"
      ],
      "execution_count": null,
      "outputs": [
        {
          "output_type": "execute_result",
          "data": {
            "text/html": [
              "<div>\n",
              "<style scoped>\n",
              "    .dataframe tbody tr th:only-of-type {\n",
              "        vertical-align: middle;\n",
              "    }\n",
              "\n",
              "    .dataframe tbody tr th {\n",
              "        vertical-align: top;\n",
              "    }\n",
              "\n",
              "    .dataframe thead th {\n",
              "        text-align: right;\n",
              "    }\n",
              "</style>\n",
              "<table border=\"1\" class=\"dataframe\">\n",
              "  <thead>\n",
              "    <tr style=\"text-align: right;\">\n",
              "      <th></th>\n",
              "      <th>비율</th>\n",
              "    </tr>\n",
              "    <tr>\n",
              "      <th>행정도시</th>\n",
              "      <th></th>\n",
              "    </tr>\n",
              "  </thead>\n",
              "  <tbody>\n",
              "    <tr>\n",
              "      <th>강원도</th>\n",
              "      <td>10.417341</td>\n",
              "    </tr>\n",
              "    <tr>\n",
              "      <th>경기도</th>\n",
              "      <td>12.496366</td>\n",
              "    </tr>\n",
              "    <tr>\n",
              "      <th>경상남도</th>\n",
              "      <td>11.912852</td>\n",
              "    </tr>\n",
              "    <tr>\n",
              "      <th>경상북도</th>\n",
              "      <td>7.888889</td>\n",
              "    </tr>\n",
              "    <tr>\n",
              "      <th>광주광역시</th>\n",
              "      <td>6.664478</td>\n",
              "    </tr>\n",
              "    <tr>\n",
              "      <th>대구광역시</th>\n",
              "      <td>4.940648</td>\n",
              "    </tr>\n",
              "    <tr>\n",
              "      <th>대전광역시</th>\n",
              "      <td>8.957460</td>\n",
              "    </tr>\n",
              "    <tr>\n",
              "      <th>부산광역시</th>\n",
              "      <td>7.777778</td>\n",
              "    </tr>\n",
              "    <tr>\n",
              "      <th>서울특별시</th>\n",
              "      <td>6.548555</td>\n",
              "    </tr>\n",
              "    <tr>\n",
              "      <th>세종특별자치시</th>\n",
              "      <td>17.936803</td>\n",
              "    </tr>\n",
              "    <tr>\n",
              "      <th>울산광역시</th>\n",
              "      <td>5.368814</td>\n",
              "    </tr>\n",
              "    <tr>\n",
              "      <th>인천광역시</th>\n",
              "      <td>10.608944</td>\n",
              "    </tr>\n",
              "    <tr>\n",
              "      <th>전라남도</th>\n",
              "      <td>8.894231</td>\n",
              "    </tr>\n",
              "    <tr>\n",
              "      <th>전라북도</th>\n",
              "      <td>11.734343</td>\n",
              "    </tr>\n",
              "    <tr>\n",
              "      <th>제주특별자치도</th>\n",
              "      <td>2.062902</td>\n",
              "    </tr>\n",
              "    <tr>\n",
              "      <th>충청남도</th>\n",
              "      <td>6.538100</td>\n",
              "    </tr>\n",
              "    <tr>\n",
              "      <th>충청북도</th>\n",
              "      <td>12.021693</td>\n",
              "    </tr>\n",
              "  </tbody>\n",
              "</table>\n",
              "</div>"
            ],
            "text/plain": [
              "                비율\n",
              "행정도시              \n",
              "강원도      10.417341\n",
              "경기도      12.496366\n",
              "경상남도     11.912852\n",
              "경상북도      7.888889\n",
              "광주광역시     6.664478\n",
              "대구광역시     4.940648\n",
              "대전광역시     8.957460\n",
              "부산광역시     7.777778\n",
              "서울특별시     6.548555\n",
              "세종특별자치시  17.936803\n",
              "울산광역시     5.368814\n",
              "인천광역시    10.608944\n",
              "전라남도      8.894231\n",
              "전라북도     11.734343\n",
              "제주특별자치도   2.062902\n",
              "충청남도      6.538100\n",
              "충청북도     12.021693"
            ]
          },
          "metadata": {
            "tags": []
          },
          "execution_count": 203
        }
      ]
    },
    {
      "cell_type": "code",
      "metadata": {
        "colab": {
          "base_uri": "https://localhost:8080/",
          "height": 1000
        },
        "id": "stJwBhc7g98y",
        "outputId": "35592c0c-0696-4b27-ab48-06273ea046de"
      },
      "source": [
        "plt.rcParams[\"figure.figsize\"] = (18,4)\n",
        "sns.lineplot(data=ratio, x='행정도시', y=\"비율\")\n",
        "plt.axis([0, 16, 0, 100])"
      ],
      "execution_count": null,
      "outputs": [
        {
          "output_type": "execute_result",
          "data": {
            "text/plain": [
              "(0.0, 16.0, 0.0, 100.0)"
            ]
          },
          "metadata": {
            "tags": []
          },
          "execution_count": 204
        },
        {
          "output_type": "stream",
          "text": [
            "/usr/local/lib/python3.6/dist-packages/matplotlib/backends/backend_agg.py:214: RuntimeWarning: Glyph 44053 missing from current font.\n",
            "  font.set_text(s, 0.0, flags=flags)\n",
            "/usr/local/lib/python3.6/dist-packages/matplotlib/backends/backend_agg.py:214: RuntimeWarning: Glyph 50896 missing from current font.\n",
            "  font.set_text(s, 0.0, flags=flags)\n",
            "/usr/local/lib/python3.6/dist-packages/matplotlib/backends/backend_agg.py:214: RuntimeWarning: Glyph 46020 missing from current font.\n",
            "  font.set_text(s, 0.0, flags=flags)\n",
            "/usr/local/lib/python3.6/dist-packages/matplotlib/backends/backend_agg.py:214: RuntimeWarning: Glyph 44221 missing from current font.\n",
            "  font.set_text(s, 0.0, flags=flags)\n",
            "/usr/local/lib/python3.6/dist-packages/matplotlib/backends/backend_agg.py:214: RuntimeWarning: Glyph 44592 missing from current font.\n",
            "  font.set_text(s, 0.0, flags=flags)\n",
            "/usr/local/lib/python3.6/dist-packages/matplotlib/backends/backend_agg.py:214: RuntimeWarning: Glyph 49345 missing from current font.\n",
            "  font.set_text(s, 0.0, flags=flags)\n",
            "/usr/local/lib/python3.6/dist-packages/matplotlib/backends/backend_agg.py:214: RuntimeWarning: Glyph 45224 missing from current font.\n",
            "  font.set_text(s, 0.0, flags=flags)\n",
            "/usr/local/lib/python3.6/dist-packages/matplotlib/backends/backend_agg.py:214: RuntimeWarning: Glyph 48513 missing from current font.\n",
            "  font.set_text(s, 0.0, flags=flags)\n",
            "/usr/local/lib/python3.6/dist-packages/matplotlib/backends/backend_agg.py:214: RuntimeWarning: Glyph 44305 missing from current font.\n",
            "  font.set_text(s, 0.0, flags=flags)\n",
            "/usr/local/lib/python3.6/dist-packages/matplotlib/backends/backend_agg.py:214: RuntimeWarning: Glyph 51452 missing from current font.\n",
            "  font.set_text(s, 0.0, flags=flags)\n",
            "/usr/local/lib/python3.6/dist-packages/matplotlib/backends/backend_agg.py:214: RuntimeWarning: Glyph 50669 missing from current font.\n",
            "  font.set_text(s, 0.0, flags=flags)\n",
            "/usr/local/lib/python3.6/dist-packages/matplotlib/backends/backend_agg.py:214: RuntimeWarning: Glyph 49884 missing from current font.\n",
            "  font.set_text(s, 0.0, flags=flags)\n",
            "/usr/local/lib/python3.6/dist-packages/matplotlib/backends/backend_agg.py:214: RuntimeWarning: Glyph 45824 missing from current font.\n",
            "  font.set_text(s, 0.0, flags=flags)\n",
            "/usr/local/lib/python3.6/dist-packages/matplotlib/backends/backend_agg.py:214: RuntimeWarning: Glyph 44396 missing from current font.\n",
            "  font.set_text(s, 0.0, flags=flags)\n",
            "/usr/local/lib/python3.6/dist-packages/matplotlib/backends/backend_agg.py:214: RuntimeWarning: Glyph 51204 missing from current font.\n",
            "  font.set_text(s, 0.0, flags=flags)\n",
            "/usr/local/lib/python3.6/dist-packages/matplotlib/backends/backend_agg.py:214: RuntimeWarning: Glyph 48512 missing from current font.\n",
            "  font.set_text(s, 0.0, flags=flags)\n",
            "/usr/local/lib/python3.6/dist-packages/matplotlib/backends/backend_agg.py:214: RuntimeWarning: Glyph 49328 missing from current font.\n",
            "  font.set_text(s, 0.0, flags=flags)\n",
            "/usr/local/lib/python3.6/dist-packages/matplotlib/backends/backend_agg.py:214: RuntimeWarning: Glyph 49436 missing from current font.\n",
            "  font.set_text(s, 0.0, flags=flags)\n",
            "/usr/local/lib/python3.6/dist-packages/matplotlib/backends/backend_agg.py:214: RuntimeWarning: Glyph 50872 missing from current font.\n",
            "  font.set_text(s, 0.0, flags=flags)\n",
            "/usr/local/lib/python3.6/dist-packages/matplotlib/backends/backend_agg.py:214: RuntimeWarning: Glyph 53945 missing from current font.\n",
            "  font.set_text(s, 0.0, flags=flags)\n",
            "/usr/local/lib/python3.6/dist-packages/matplotlib/backends/backend_agg.py:214: RuntimeWarning: Glyph 48324 missing from current font.\n",
            "  font.set_text(s, 0.0, flags=flags)\n",
            "/usr/local/lib/python3.6/dist-packages/matplotlib/backends/backend_agg.py:214: RuntimeWarning: Glyph 49464 missing from current font.\n",
            "  font.set_text(s, 0.0, flags=flags)\n",
            "/usr/local/lib/python3.6/dist-packages/matplotlib/backends/backend_agg.py:214: RuntimeWarning: Glyph 51333 missing from current font.\n",
            "  font.set_text(s, 0.0, flags=flags)\n",
            "/usr/local/lib/python3.6/dist-packages/matplotlib/backends/backend_agg.py:214: RuntimeWarning: Glyph 51088 missing from current font.\n",
            "  font.set_text(s, 0.0, flags=flags)\n",
            "/usr/local/lib/python3.6/dist-packages/matplotlib/backends/backend_agg.py:214: RuntimeWarning: Glyph 52824 missing from current font.\n",
            "  font.set_text(s, 0.0, flags=flags)\n",
            "/usr/local/lib/python3.6/dist-packages/matplotlib/backends/backend_agg.py:214: RuntimeWarning: Glyph 51064 missing from current font.\n",
            "  font.set_text(s, 0.0, flags=flags)\n",
            "/usr/local/lib/python3.6/dist-packages/matplotlib/backends/backend_agg.py:214: RuntimeWarning: Glyph 52380 missing from current font.\n",
            "  font.set_text(s, 0.0, flags=flags)\n",
            "/usr/local/lib/python3.6/dist-packages/matplotlib/backends/backend_agg.py:214: RuntimeWarning: Glyph 46972 missing from current font.\n",
            "  font.set_text(s, 0.0, flags=flags)\n",
            "/usr/local/lib/python3.6/dist-packages/matplotlib/backends/backend_agg.py:214: RuntimeWarning: Glyph 51228 missing from current font.\n",
            "  font.set_text(s, 0.0, flags=flags)\n",
            "/usr/local/lib/python3.6/dist-packages/matplotlib/backends/backend_agg.py:214: RuntimeWarning: Glyph 52649 missing from current font.\n",
            "  font.set_text(s, 0.0, flags=flags)\n",
            "/usr/local/lib/python3.6/dist-packages/matplotlib/backends/backend_agg.py:214: RuntimeWarning: Glyph 52397 missing from current font.\n",
            "  font.set_text(s, 0.0, flags=flags)\n",
            "/usr/local/lib/python3.6/dist-packages/matplotlib/backends/backend_agg.py:214: RuntimeWarning: Glyph 54665 missing from current font.\n",
            "  font.set_text(s, 0.0, flags=flags)\n",
            "/usr/local/lib/python3.6/dist-packages/matplotlib/backends/backend_agg.py:214: RuntimeWarning: Glyph 51221 missing from current font.\n",
            "  font.set_text(s, 0.0, flags=flags)\n",
            "/usr/local/lib/python3.6/dist-packages/matplotlib/backends/backend_agg.py:183: RuntimeWarning: Glyph 44053 missing from current font.\n",
            "  font.set_text(s, 0, flags=flags)\n",
            "/usr/local/lib/python3.6/dist-packages/matplotlib/backends/backend_agg.py:183: RuntimeWarning: Glyph 50896 missing from current font.\n",
            "  font.set_text(s, 0, flags=flags)\n",
            "/usr/local/lib/python3.6/dist-packages/matplotlib/backends/backend_agg.py:183: RuntimeWarning: Glyph 46020 missing from current font.\n",
            "  font.set_text(s, 0, flags=flags)\n",
            "/usr/local/lib/python3.6/dist-packages/matplotlib/backends/backend_agg.py:183: RuntimeWarning: Glyph 44221 missing from current font.\n",
            "  font.set_text(s, 0, flags=flags)\n",
            "/usr/local/lib/python3.6/dist-packages/matplotlib/backends/backend_agg.py:183: RuntimeWarning: Glyph 44592 missing from current font.\n",
            "  font.set_text(s, 0, flags=flags)\n",
            "/usr/local/lib/python3.6/dist-packages/matplotlib/backends/backend_agg.py:183: RuntimeWarning: Glyph 49345 missing from current font.\n",
            "  font.set_text(s, 0, flags=flags)\n",
            "/usr/local/lib/python3.6/dist-packages/matplotlib/backends/backend_agg.py:183: RuntimeWarning: Glyph 45224 missing from current font.\n",
            "  font.set_text(s, 0, flags=flags)\n",
            "/usr/local/lib/python3.6/dist-packages/matplotlib/backends/backend_agg.py:183: RuntimeWarning: Glyph 48513 missing from current font.\n",
            "  font.set_text(s, 0, flags=flags)\n",
            "/usr/local/lib/python3.6/dist-packages/matplotlib/backends/backend_agg.py:183: RuntimeWarning: Glyph 44305 missing from current font.\n",
            "  font.set_text(s, 0, flags=flags)\n",
            "/usr/local/lib/python3.6/dist-packages/matplotlib/backends/backend_agg.py:183: RuntimeWarning: Glyph 51452 missing from current font.\n",
            "  font.set_text(s, 0, flags=flags)\n",
            "/usr/local/lib/python3.6/dist-packages/matplotlib/backends/backend_agg.py:183: RuntimeWarning: Glyph 50669 missing from current font.\n",
            "  font.set_text(s, 0, flags=flags)\n",
            "/usr/local/lib/python3.6/dist-packages/matplotlib/backends/backend_agg.py:183: RuntimeWarning: Glyph 49884 missing from current font.\n",
            "  font.set_text(s, 0, flags=flags)\n",
            "/usr/local/lib/python3.6/dist-packages/matplotlib/backends/backend_agg.py:183: RuntimeWarning: Glyph 45824 missing from current font.\n",
            "  font.set_text(s, 0, flags=flags)\n",
            "/usr/local/lib/python3.6/dist-packages/matplotlib/backends/backend_agg.py:183: RuntimeWarning: Glyph 44396 missing from current font.\n",
            "  font.set_text(s, 0, flags=flags)\n",
            "/usr/local/lib/python3.6/dist-packages/matplotlib/backends/backend_agg.py:183: RuntimeWarning: Glyph 51204 missing from current font.\n",
            "  font.set_text(s, 0, flags=flags)\n",
            "/usr/local/lib/python3.6/dist-packages/matplotlib/backends/backend_agg.py:183: RuntimeWarning: Glyph 48512 missing from current font.\n",
            "  font.set_text(s, 0, flags=flags)\n",
            "/usr/local/lib/python3.6/dist-packages/matplotlib/backends/backend_agg.py:183: RuntimeWarning: Glyph 49328 missing from current font.\n",
            "  font.set_text(s, 0, flags=flags)\n",
            "/usr/local/lib/python3.6/dist-packages/matplotlib/backends/backend_agg.py:183: RuntimeWarning: Glyph 49436 missing from current font.\n",
            "  font.set_text(s, 0, flags=flags)\n",
            "/usr/local/lib/python3.6/dist-packages/matplotlib/backends/backend_agg.py:183: RuntimeWarning: Glyph 50872 missing from current font.\n",
            "  font.set_text(s, 0, flags=flags)\n",
            "/usr/local/lib/python3.6/dist-packages/matplotlib/backends/backend_agg.py:183: RuntimeWarning: Glyph 53945 missing from current font.\n",
            "  font.set_text(s, 0, flags=flags)\n",
            "/usr/local/lib/python3.6/dist-packages/matplotlib/backends/backend_agg.py:183: RuntimeWarning: Glyph 48324 missing from current font.\n",
            "  font.set_text(s, 0, flags=flags)\n",
            "/usr/local/lib/python3.6/dist-packages/matplotlib/backends/backend_agg.py:183: RuntimeWarning: Glyph 49464 missing from current font.\n",
            "  font.set_text(s, 0, flags=flags)\n",
            "/usr/local/lib/python3.6/dist-packages/matplotlib/backends/backend_agg.py:183: RuntimeWarning: Glyph 51333 missing from current font.\n",
            "  font.set_text(s, 0, flags=flags)\n",
            "/usr/local/lib/python3.6/dist-packages/matplotlib/backends/backend_agg.py:183: RuntimeWarning: Glyph 51088 missing from current font.\n",
            "  font.set_text(s, 0, flags=flags)\n",
            "/usr/local/lib/python3.6/dist-packages/matplotlib/backends/backend_agg.py:183: RuntimeWarning: Glyph 52824 missing from current font.\n",
            "  font.set_text(s, 0, flags=flags)\n",
            "/usr/local/lib/python3.6/dist-packages/matplotlib/backends/backend_agg.py:183: RuntimeWarning: Glyph 51064 missing from current font.\n",
            "  font.set_text(s, 0, flags=flags)\n",
            "/usr/local/lib/python3.6/dist-packages/matplotlib/backends/backend_agg.py:183: RuntimeWarning: Glyph 52380 missing from current font.\n",
            "  font.set_text(s, 0, flags=flags)\n",
            "/usr/local/lib/python3.6/dist-packages/matplotlib/backends/backend_agg.py:183: RuntimeWarning: Glyph 46972 missing from current font.\n",
            "  font.set_text(s, 0, flags=flags)\n",
            "/usr/local/lib/python3.6/dist-packages/matplotlib/backends/backend_agg.py:183: RuntimeWarning: Glyph 51228 missing from current font.\n",
            "  font.set_text(s, 0, flags=flags)\n",
            "/usr/local/lib/python3.6/dist-packages/matplotlib/backends/backend_agg.py:183: RuntimeWarning: Glyph 52649 missing from current font.\n",
            "  font.set_text(s, 0, flags=flags)\n",
            "/usr/local/lib/python3.6/dist-packages/matplotlib/backends/backend_agg.py:183: RuntimeWarning: Glyph 52397 missing from current font.\n",
            "  font.set_text(s, 0, flags=flags)\n",
            "/usr/local/lib/python3.6/dist-packages/matplotlib/backends/backend_agg.py:183: RuntimeWarning: Glyph 54665 missing from current font.\n",
            "  font.set_text(s, 0, flags=flags)\n",
            "/usr/local/lib/python3.6/dist-packages/matplotlib/backends/backend_agg.py:183: RuntimeWarning: Glyph 51221 missing from current font.\n",
            "  font.set_text(s, 0, flags=flags)\n",
            "/usr/local/lib/python3.6/dist-packages/matplotlib/backends/backend_agg.py:214: RuntimeWarning: Glyph 48708 missing from current font.\n",
            "  font.set_text(s, 0.0, flags=flags)\n",
            "/usr/local/lib/python3.6/dist-packages/matplotlib/backends/backend_agg.py:214: RuntimeWarning: Glyph 50984 missing from current font.\n",
            "  font.set_text(s, 0.0, flags=flags)\n",
            "/usr/local/lib/python3.6/dist-packages/matplotlib/backends/backend_agg.py:183: RuntimeWarning: Glyph 48708 missing from current font.\n",
            "  font.set_text(s, 0, flags=flags)\n",
            "/usr/local/lib/python3.6/dist-packages/matplotlib/backends/backend_agg.py:183: RuntimeWarning: Glyph 50984 missing from current font.\n",
            "  font.set_text(s, 0, flags=flags)\n"
          ],
          "name": "stderr"
        },
        {
          "output_type": "display_data",
          "data": {
            "image/png": "[encoded data removed]",
            "text/plain": [
              "<Figure size 1296x288 with 1 Axes>"
            ]
          },
          "metadata": {
            "tags": [],
            "needs_background": "light"
          }
        }
      ]
    },
    {
      "cell_type": "code",
      "metadata": {
        "colab": {
          "base_uri": "https://localhost:8080/",
          "height": 1000
        },
        "id": "695CvHhXagg7",
        "outputId": "d90b0398-ceb3-4a3b-91e3-6f75b279598b"
      },
      "source": [
        "sns.lineplot(data=trans_car, x='행정도시', y=\"2018-12-31\")\n",
        "sns.lineplot(data=trans_car, x='행정도시', y=\"2019-12-31\")\n",
        "sns.lineplot(data=trans_car, x='행정도시', y=\"2020-08-31\")\n",
        "\n",
        "plt.ylabel('차량대수', fontsize=14)\n",
        "plt.xlabel('행정도시', fontsize=14)\n",
        "\n",
        "plt.rcParams[\"figure.figsize\"] = (20,4)\n",
        "# 밑에서 위로 2018, 2019, 2020.\n",
        "# 전기차 대수가 연도가 지날 수록 수가 많아짐을 알 수 있음.\n",
        "\n",
        "plt.legend(bbox_to_anchor=(1.05, 1), loc=2, borderaxespad=0.)"
      ],
      "execution_count": null,
      "outputs": [
        {
          "output_type": "stream",
          "text": [
            "No handles with labels found to put in legend.\n"
          ],
          "name": "stderr"
        },
        {
          "output_type": "execute_result",
          "data": {
            "text/plain": [
              "<matplotlib.legend.Legend at 0x7f1c42f5cc50>"
            ]
          },
          "metadata": {
            "tags": []
          },
          "execution_count": 205
        },
        {
          "output_type": "stream",
          "text": [
            "/usr/local/lib/python3.6/dist-packages/matplotlib/backends/backend_agg.py:214: RuntimeWarning: Glyph 48512 missing from current font.\n",
            "  font.set_text(s, 0.0, flags=flags)\n",
            "/usr/local/lib/python3.6/dist-packages/matplotlib/backends/backend_agg.py:214: RuntimeWarning: Glyph 49328 missing from current font.\n",
            "  font.set_text(s, 0.0, flags=flags)\n",
            "/usr/local/lib/python3.6/dist-packages/matplotlib/backends/backend_agg.py:214: RuntimeWarning: Glyph 44305 missing from current font.\n",
            "  font.set_text(s, 0.0, flags=flags)\n",
            "/usr/local/lib/python3.6/dist-packages/matplotlib/backends/backend_agg.py:214: RuntimeWarning: Glyph 50669 missing from current font.\n",
            "  font.set_text(s, 0.0, flags=flags)\n",
            "/usr/local/lib/python3.6/dist-packages/matplotlib/backends/backend_agg.py:214: RuntimeWarning: Glyph 49884 missing from current font.\n",
            "  font.set_text(s, 0.0, flags=flags)\n",
            "/usr/local/lib/python3.6/dist-packages/matplotlib/backends/backend_agg.py:214: RuntimeWarning: Glyph 45824 missing from current font.\n",
            "  font.set_text(s, 0.0, flags=flags)\n",
            "/usr/local/lib/python3.6/dist-packages/matplotlib/backends/backend_agg.py:214: RuntimeWarning: Glyph 44396 missing from current font.\n",
            "  font.set_text(s, 0.0, flags=flags)\n",
            "/usr/local/lib/python3.6/dist-packages/matplotlib/backends/backend_agg.py:214: RuntimeWarning: Glyph 51204 missing from current font.\n",
            "  font.set_text(s, 0.0, flags=flags)\n",
            "/usr/local/lib/python3.6/dist-packages/matplotlib/backends/backend_agg.py:214: RuntimeWarning: Glyph 51452 missing from current font.\n",
            "  font.set_text(s, 0.0, flags=flags)\n",
            "/usr/local/lib/python3.6/dist-packages/matplotlib/backends/backend_agg.py:214: RuntimeWarning: Glyph 44221 missing from current font.\n",
            "  font.set_text(s, 0.0, flags=flags)\n",
            "/usr/local/lib/python3.6/dist-packages/matplotlib/backends/backend_agg.py:214: RuntimeWarning: Glyph 44592 missing from current font.\n",
            "  font.set_text(s, 0.0, flags=flags)\n",
            "/usr/local/lib/python3.6/dist-packages/matplotlib/backends/backend_agg.py:214: RuntimeWarning: Glyph 46020 missing from current font.\n",
            "  font.set_text(s, 0.0, flags=flags)\n",
            "/usr/local/lib/python3.6/dist-packages/matplotlib/backends/backend_agg.py:214: RuntimeWarning: Glyph 44053 missing from current font.\n",
            "  font.set_text(s, 0.0, flags=flags)\n",
            "/usr/local/lib/python3.6/dist-packages/matplotlib/backends/backend_agg.py:214: RuntimeWarning: Glyph 50896 missing from current font.\n",
            "  font.set_text(s, 0.0, flags=flags)\n",
            "/usr/local/lib/python3.6/dist-packages/matplotlib/backends/backend_agg.py:214: RuntimeWarning: Glyph 49345 missing from current font.\n",
            "  font.set_text(s, 0.0, flags=flags)\n",
            "/usr/local/lib/python3.6/dist-packages/matplotlib/backends/backend_agg.py:214: RuntimeWarning: Glyph 48513 missing from current font.\n",
            "  font.set_text(s, 0.0, flags=flags)\n",
            "/usr/local/lib/python3.6/dist-packages/matplotlib/backends/backend_agg.py:214: RuntimeWarning: Glyph 45224 missing from current font.\n",
            "  font.set_text(s, 0.0, flags=flags)\n",
            "/usr/local/lib/python3.6/dist-packages/matplotlib/backends/backend_agg.py:214: RuntimeWarning: Glyph 52649 missing from current font.\n",
            "  font.set_text(s, 0.0, flags=flags)\n",
            "/usr/local/lib/python3.6/dist-packages/matplotlib/backends/backend_agg.py:214: RuntimeWarning: Glyph 52397 missing from current font.\n",
            "  font.set_text(s, 0.0, flags=flags)\n",
            "/usr/local/lib/python3.6/dist-packages/matplotlib/backends/backend_agg.py:214: RuntimeWarning: Glyph 46972 missing from current font.\n",
            "  font.set_text(s, 0.0, flags=flags)\n",
            "/usr/local/lib/python3.6/dist-packages/matplotlib/backends/backend_agg.py:214: RuntimeWarning: Glyph 49464 missing from current font.\n",
            "  font.set_text(s, 0.0, flags=flags)\n",
            "/usr/local/lib/python3.6/dist-packages/matplotlib/backends/backend_agg.py:214: RuntimeWarning: Glyph 51333 missing from current font.\n",
            "  font.set_text(s, 0.0, flags=flags)\n",
            "/usr/local/lib/python3.6/dist-packages/matplotlib/backends/backend_agg.py:214: RuntimeWarning: Glyph 53945 missing from current font.\n",
            "  font.set_text(s, 0.0, flags=flags)\n",
            "/usr/local/lib/python3.6/dist-packages/matplotlib/backends/backend_agg.py:214: RuntimeWarning: Glyph 48324 missing from current font.\n",
            "  font.set_text(s, 0.0, flags=flags)\n",
            "/usr/local/lib/python3.6/dist-packages/matplotlib/backends/backend_agg.py:214: RuntimeWarning: Glyph 51088 missing from current font.\n",
            "  font.set_text(s, 0.0, flags=flags)\n",
            "/usr/local/lib/python3.6/dist-packages/matplotlib/backends/backend_agg.py:214: RuntimeWarning: Glyph 52824 missing from current font.\n",
            "  font.set_text(s, 0.0, flags=flags)\n",
            "/usr/local/lib/python3.6/dist-packages/matplotlib/backends/backend_agg.py:214: RuntimeWarning: Glyph 49436 missing from current font.\n",
            "  font.set_text(s, 0.0, flags=flags)\n",
            "/usr/local/lib/python3.6/dist-packages/matplotlib/backends/backend_agg.py:214: RuntimeWarning: Glyph 50872 missing from current font.\n",
            "  font.set_text(s, 0.0, flags=flags)\n",
            "/usr/local/lib/python3.6/dist-packages/matplotlib/backends/backend_agg.py:214: RuntimeWarning: Glyph 51064 missing from current font.\n",
            "  font.set_text(s, 0.0, flags=flags)\n",
            "/usr/local/lib/python3.6/dist-packages/matplotlib/backends/backend_agg.py:214: RuntimeWarning: Glyph 52380 missing from current font.\n",
            "  font.set_text(s, 0.0, flags=flags)\n",
            "/usr/local/lib/python3.6/dist-packages/matplotlib/backends/backend_agg.py:214: RuntimeWarning: Glyph 51228 missing from current font.\n",
            "  font.set_text(s, 0.0, flags=flags)\n",
            "findfont: Font family ['NanumGothic'] not found. Falling back to DejaVu Sans.\n",
            "/usr/local/lib/python3.6/dist-packages/matplotlib/backends/backend_agg.py:214: RuntimeWarning: Glyph 54665 missing from current font.\n",
            "  font.set_text(s, 0.0, flags=flags)\n",
            "/usr/local/lib/python3.6/dist-packages/matplotlib/backends/backend_agg.py:214: RuntimeWarning: Glyph 51221 missing from current font.\n",
            "  font.set_text(s, 0.0, flags=flags)\n",
            "/usr/local/lib/python3.6/dist-packages/matplotlib/backends/backend_agg.py:183: RuntimeWarning: Glyph 48512 missing from current font.\n",
            "  font.set_text(s, 0, flags=flags)\n",
            "/usr/local/lib/python3.6/dist-packages/matplotlib/backends/backend_agg.py:183: RuntimeWarning: Glyph 49328 missing from current font.\n",
            "  font.set_text(s, 0, flags=flags)\n",
            "/usr/local/lib/python3.6/dist-packages/matplotlib/backends/backend_agg.py:183: RuntimeWarning: Glyph 44305 missing from current font.\n",
            "  font.set_text(s, 0, flags=flags)\n",
            "/usr/local/lib/python3.6/dist-packages/matplotlib/backends/backend_agg.py:183: RuntimeWarning: Glyph 50669 missing from current font.\n",
            "  font.set_text(s, 0, flags=flags)\n",
            "/usr/local/lib/python3.6/dist-packages/matplotlib/backends/backend_agg.py:183: RuntimeWarning: Glyph 49884 missing from current font.\n",
            "  font.set_text(s, 0, flags=flags)\n",
            "/usr/local/lib/python3.6/dist-packages/matplotlib/backends/backend_agg.py:183: RuntimeWarning: Glyph 45824 missing from current font.\n",
            "  font.set_text(s, 0, flags=flags)\n",
            "/usr/local/lib/python3.6/dist-packages/matplotlib/backends/backend_agg.py:183: RuntimeWarning: Glyph 44396 missing from current font.\n",
            "  font.set_text(s, 0, flags=flags)\n",
            "/usr/local/lib/python3.6/dist-packages/matplotlib/backends/backend_agg.py:183: RuntimeWarning: Glyph 51204 missing from current font.\n",
            "  font.set_text(s, 0, flags=flags)\n",
            "/usr/local/lib/python3.6/dist-packages/matplotlib/backends/backend_agg.py:183: RuntimeWarning: Glyph 51452 missing from current font.\n",
            "  font.set_text(s, 0, flags=flags)\n",
            "/usr/local/lib/python3.6/dist-packages/matplotlib/backends/backend_agg.py:183: RuntimeWarning: Glyph 44221 missing from current font.\n",
            "  font.set_text(s, 0, flags=flags)\n",
            "/usr/local/lib/python3.6/dist-packages/matplotlib/backends/backend_agg.py:183: RuntimeWarning: Glyph 44592 missing from current font.\n",
            "  font.set_text(s, 0, flags=flags)\n",
            "/usr/local/lib/python3.6/dist-packages/matplotlib/backends/backend_agg.py:183: RuntimeWarning: Glyph 46020 missing from current font.\n",
            "  font.set_text(s, 0, flags=flags)\n",
            "/usr/local/lib/python3.6/dist-packages/matplotlib/backends/backend_agg.py:183: RuntimeWarning: Glyph 44053 missing from current font.\n",
            "  font.set_text(s, 0, flags=flags)\n",
            "/usr/local/lib/python3.6/dist-packages/matplotlib/backends/backend_agg.py:183: RuntimeWarning: Glyph 50896 missing from current font.\n",
            "  font.set_text(s, 0, flags=flags)\n",
            "/usr/local/lib/python3.6/dist-packages/matplotlib/backends/backend_agg.py:183: RuntimeWarning: Glyph 49345 missing from current font.\n",
            "  font.set_text(s, 0, flags=flags)\n",
            "/usr/local/lib/python3.6/dist-packages/matplotlib/backends/backend_agg.py:183: RuntimeWarning: Glyph 48513 missing from current font.\n",
            "  font.set_text(s, 0, flags=flags)\n",
            "/usr/local/lib/python3.6/dist-packages/matplotlib/backends/backend_agg.py:183: RuntimeWarning: Glyph 45224 missing from current font.\n",
            "  font.set_text(s, 0, flags=flags)\n",
            "/usr/local/lib/python3.6/dist-packages/matplotlib/backends/backend_agg.py:183: RuntimeWarning: Glyph 52649 missing from current font.\n",
            "  font.set_text(s, 0, flags=flags)\n",
            "/usr/local/lib/python3.6/dist-packages/matplotlib/backends/backend_agg.py:183: RuntimeWarning: Glyph 52397 missing from current font.\n",
            "  font.set_text(s, 0, flags=flags)\n",
            "/usr/local/lib/python3.6/dist-packages/matplotlib/backends/backend_agg.py:183: RuntimeWarning: Glyph 46972 missing from current font.\n",
            "  font.set_text(s, 0, flags=flags)\n",
            "/usr/local/lib/python3.6/dist-packages/matplotlib/backends/backend_agg.py:183: RuntimeWarning: Glyph 49464 missing from current font.\n",
            "  font.set_text(s, 0, flags=flags)\n",
            "/usr/local/lib/python3.6/dist-packages/matplotlib/backends/backend_agg.py:183: RuntimeWarning: Glyph 51333 missing from current font.\n",
            "  font.set_text(s, 0, flags=flags)\n",
            "/usr/local/lib/python3.6/dist-packages/matplotlib/backends/backend_agg.py:183: RuntimeWarning: Glyph 53945 missing from current font.\n",
            "  font.set_text(s, 0, flags=flags)\n",
            "/usr/local/lib/python3.6/dist-packages/matplotlib/backends/backend_agg.py:183: RuntimeWarning: Glyph 48324 missing from current font.\n",
            "  font.set_text(s, 0, flags=flags)\n",
            "/usr/local/lib/python3.6/dist-packages/matplotlib/backends/backend_agg.py:183: RuntimeWarning: Glyph 51088 missing from current font.\n",
            "  font.set_text(s, 0, flags=flags)\n",
            "/usr/local/lib/python3.6/dist-packages/matplotlib/backends/backend_agg.py:183: RuntimeWarning: Glyph 52824 missing from current font.\n",
            "  font.set_text(s, 0, flags=flags)\n",
            "/usr/local/lib/python3.6/dist-packages/matplotlib/backends/backend_agg.py:183: RuntimeWarning: Glyph 49436 missing from current font.\n",
            "  font.set_text(s, 0, flags=flags)\n",
            "/usr/local/lib/python3.6/dist-packages/matplotlib/backends/backend_agg.py:183: RuntimeWarning: Glyph 50872 missing from current font.\n",
            "  font.set_text(s, 0, flags=flags)\n",
            "/usr/local/lib/python3.6/dist-packages/matplotlib/backends/backend_agg.py:183: RuntimeWarning: Glyph 51064 missing from current font.\n",
            "  font.set_text(s, 0, flags=flags)\n",
            "/usr/local/lib/python3.6/dist-packages/matplotlib/backends/backend_agg.py:183: RuntimeWarning: Glyph 52380 missing from current font.\n",
            "  font.set_text(s, 0, flags=flags)\n",
            "/usr/local/lib/python3.6/dist-packages/matplotlib/backends/backend_agg.py:183: RuntimeWarning: Glyph 51228 missing from current font.\n",
            "  font.set_text(s, 0, flags=flags)\n",
            "/usr/local/lib/python3.6/dist-packages/matplotlib/backends/backend_agg.py:183: RuntimeWarning: Glyph 54665 missing from current font.\n",
            "  font.set_text(s, 0, flags=flags)\n",
            "/usr/local/lib/python3.6/dist-packages/matplotlib/backends/backend_agg.py:183: RuntimeWarning: Glyph 51221 missing from current font.\n",
            "  font.set_text(s, 0, flags=flags)\n",
            "/usr/local/lib/python3.6/dist-packages/matplotlib/backends/backend_agg.py:214: RuntimeWarning: Glyph 52264 missing from current font.\n",
            "  font.set_text(s, 0.0, flags=flags)\n",
            "/usr/local/lib/python3.6/dist-packages/matplotlib/backends/backend_agg.py:214: RuntimeWarning: Glyph 47049 missing from current font.\n",
            "  font.set_text(s, 0.0, flags=flags)\n",
            "/usr/local/lib/python3.6/dist-packages/matplotlib/backends/backend_agg.py:214: RuntimeWarning: Glyph 49688 missing from current font.\n",
            "  font.set_text(s, 0.0, flags=flags)\n",
            "/usr/local/lib/python3.6/dist-packages/matplotlib/backends/backend_agg.py:183: RuntimeWarning: Glyph 52264 missing from current font.\n",
            "  font.set_text(s, 0, flags=flags)\n",
            "/usr/local/lib/python3.6/dist-packages/matplotlib/backends/backend_agg.py:183: RuntimeWarning: Glyph 47049 missing from current font.\n",
            "  font.set_text(s, 0, flags=flags)\n",
            "/usr/local/lib/python3.6/dist-packages/matplotlib/backends/backend_agg.py:183: RuntimeWarning: Glyph 49688 missing from current font.\n",
            "  font.set_text(s, 0, flags=flags)\n"
          ],
          "name": "stderr"
        },
        {
          "output_type": "display_data",
          "data": {
            "image/png": "[encoded data removed]",
            "text/plain": [
              "<Figure size 1296x288 with 1 Axes>"
            ]
          },
          "metadata": {
            "tags": [],
            "needs_background": "light"
          }
        }
      ]
    },
    {
      "cell_type": "code",
      "metadata": {
        "id": "OAkKswmpaLxf"
      },
      "source": [
        ""
      ],
      "execution_count": null,
      "outputs": []
    }
  ]
}